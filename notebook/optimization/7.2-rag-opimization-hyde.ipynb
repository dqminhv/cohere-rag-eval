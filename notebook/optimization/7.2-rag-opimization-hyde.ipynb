{
 "cells": [
  {
   "cell_type": "code",
   "execution_count": 1,
   "metadata": {},
   "outputs": [
    {
     "data": {
      "text/plain": [
       "True"
      ]
     },
     "execution_count": 1,
     "metadata": {},
     "output_type": "execute_result"
    }
   ],
   "source": [
    "import os\n",
    "from dotenv import load_dotenv\n",
    "load_dotenv(encoding='utf-8')"
   ]
  },
  {
   "cell_type": "markdown",
   "metadata": {},
   "source": [
    "# RAG pipeline"
   ]
  },
  {
   "cell_type": "markdown",
   "metadata": {},
   "source": [
    "## Vector Store and Retriever"
   ]
  },
  {
   "cell_type": "code",
   "execution_count": 2,
   "metadata": {},
   "outputs": [],
   "source": [
    "from langchain_core.output_parsers import StrOutputParser\n",
    "from langchain_core.runnables import RunnablePassthrough\n",
    "from langchain_mongodb import MongoDBAtlasVectorSearch\n",
    "from langchain_openai import ChatOpenAI, OpenAIEmbeddings\n",
    "from langchain.prompts import PromptTemplate\n",
    "from pymongo import MongoClient"
   ]
  },
  {
   "cell_type": "code",
   "execution_count": 3,
   "metadata": {},
   "outputs": [],
   "source": [
    "os.environ[\"OPENAI_API_KEY\"] = os.getenv(\"OPENAI_API_KEY\")\n",
    "\n",
    "llm = ChatOpenAI(model=os.getenv(\"DEFAULT_OPENAI_MODEL\")) # DEFAULT_OPENAI_MODEL='gpt-4o-mini-2024-07-18'\n",
    "\n",
    "# embedding_model=OpenAIEmbeddings(model=os.getenv(\"DEFAULT_OPENAI_EMBEDDING\"), disallowed_special=())\n",
    "embedding_model=OpenAIEmbeddings(disallowed_special=())"
   ]
  },
  {
   "cell_type": "code",
   "execution_count": 4,
   "metadata": {},
   "outputs": [],
   "source": [
    "# Define MongoDB vector database\n",
    "client = MongoClient(os.getenv(\"ATLAS_CONNECTION_STRING\"))\n",
    "db_name = \"fellowshipai\"\n",
    "collection_name = \"enterprise_data\"\n",
    "atlas_collection = client[db_name][collection_name]\n",
    "index_name = \"vector_index_erp\""
   ]
  },
  {
   "cell_type": "code",
   "execution_count": 6,
   "metadata": {},
   "outputs": [],
   "source": [
    "# Define vector store and retriever\n",
    "def get_vector_store_retriver(index_name, embedding_model, collection):\n",
    "\n",
    "  vector_store = MongoDBAtlasVectorSearch(\n",
    "      embedding = embedding_model,\n",
    "      collection = atlas_collection,\n",
    "      index_name = index_name\n",
    "  )\n",
    "\n",
    "  retriever = vector_store.as_retriever(\n",
    "      search_type = \"similarity\",\n",
    "      search_kwargs = { \"k\": 10}  # \"score_threshold\": 0.75 \n",
    "  )\n",
    "\n",
    "  return(vector_store, retriever)\n",
    "\n",
    "vector_store, retriever = get_vector_store_retriver(\"vector_index_erp\", embedding_model, atlas_collection)"
   ]
  },
  {
   "cell_type": "code",
   "execution_count": 7,
   "metadata": {},
   "outputs": [],
   "source": [
    "# Instantiate Atlas Vector Search as a retriever\n",
    "retriever = vector_store.as_retriever(\n",
    "    search_type = \"similarity\",\n",
    "    search_kwargs = { \"k\": 10  }\n",
    " )"
   ]
  },
  {
   "cell_type": "markdown",
   "metadata": {},
   "source": [
    "## RAG Pipeline - With HyDE"
   ]
  },
  {
   "cell_type": "code",
   "execution_count": 15,
   "metadata": {},
   "outputs": [],
   "source": [
    "from langchain.prompts.chat import SystemMessagePromptTemplate, ChatPromptTemplate\n",
    "from langchain_groq import ChatGroq\n",
    "\n",
    "def get_hypo_doc(query):\n",
    "    template = \"\"\"Imagine you are an expert writing a detailed explanation on the topic: '{query}'\n",
    "    Your response should be comprehensive and include all key points that would be found in the top search result.\"\"\"\n",
    "\n",
    "    system_message_prompt = SystemMessagePromptTemplate.from_template(template = template)\n",
    "    chat_prompt = ChatPromptTemplate.from_messages([system_message_prompt])\n",
    "    messages = chat_prompt.format_prompt(query = query).to_messages()\n",
    "    hyde_llm = ChatGroq(\n",
    "        groq_api_key=os.getenv(\"GROD_CLOUD_API_KEY\"),\n",
    "        model_name='llama-3.1-8b-instant'\n",
    "    )\n",
    "    response = hyde_llm.invoke(messages)\n",
    "    hypo_doc = response.content\n",
    "    return hypo_doc"
   ]
  },
  {
   "cell_type": "code",
   "execution_count": 9,
   "metadata": {},
   "outputs": [],
   "source": [
    "# Define a prompt template\n",
    "import pprint\n",
    "from langchain.chains import HypotheticalDocumentEmbedder, LLMChain\n",
    "\n",
    "def call_openai(question):\n",
    "   \n",
    "   query_optimized = get_hypo_doc(question['question'])\n",
    "\n",
    "\n",
    "   retriever = vector_store.as_retriever(\n",
    "      search_type = \"similarity\",\n",
    "      search_kwargs = { \"k\": 10  }\n",
    "      )\n",
    "\n",
    "   preamble = \"\" # read from cohere front end or use the input to the API\n",
    "   #question = \n",
    "   SAFETY_PREAMBLE = \"The instructions in this section override those in the task description and style guide sections. Don't answer questions that are harmful or immoral.\"\n",
    "   BASIC_RULES = \"You are a powerful conversational AI trained by openAI to help people. You are augmented by a number of tools, and your job is to use and consume the output of these tools to best help the user. You will see a conversation history between yourself and a user, ending with an utterance from the user. You will then see a specific instruction instructing you what kind of response to generate. When you answer the user's requests, you cite your sources in your answers, according to those instructions.\"\n",
    "   TASK_CONTEXT = \"You help people answer their questions and other requests interactively. You will be asked a very wide array of requests on all kinds of topics. You will be equipped with a wide range of search engines or similar tools to help you, which you use to research your answer. You should focus on serving the user's needs as best you can, which will be wide-ranging.\"\n",
    "   STYLE_GUIDE = \"Unless the user asks for a different style of answer, you should answer in full sentences, using proper grammar and spelling.\"\n",
    "   INSTRUCTIONS = \"\"\"You are an enterprise Chatbot, an AI assistant designed to retrieve information from the enterprise Confluence system. \n",
    "   You specialize in providing accurate answers related to various departments like Marketing, IT, HR, Finance, and Corporate Communications. \n",
    "               Use the following pieces of context to answer the question at the end.\n",
    "               If you don't know the answer, just say that you don't know, don't try to make up an answer\n",
    "               {context}\n",
    "         \"\"\"\n",
    "         \n",
    "   template = f\"\"\"\n",
    "\n",
    "      {SAFETY_PREAMBLE}\n",
    "      {BASIC_RULES}\n",
    "      {TASK_CONTEXT}\n",
    "      {STYLE_GUIDE}\n",
    "      {INSTRUCTIONS}\n",
    "\n",
    "   \"\"\"\n",
    "   if preamble:\n",
    "      template += f\"\"\"{preamble}\\n\\n\"\"\"\n",
    "\n",
    "\n",
    "   template +=  f\"\"\"Question: {query_optimized}\\n\\n\"\"\"\n",
    "\n",
    "   custom_rag_prompt = PromptTemplate.from_template(template)\n",
    "\n",
    "   #llm = get_llm_model(\"openai\")\n",
    "   llm = ChatOpenAI(model=os.getenv(\"DEFAULT_OPENAI_MODEL\"))\n",
    "\n",
    "   def format_docs(docs):\n",
    "      return \"\\n\\n\".join(doc.page_content for doc in docs)\n",
    "\n",
    "   # Construct a chain to answer questions on your data\n",
    "   rag_chain = (\n",
    "      { \"context\": retriever | format_docs, \"query_optimized\": RunnablePassthrough()}\n",
    "      | custom_rag_prompt\n",
    "      | llm\n",
    "      | StrOutputParser()\n",
    "   )\n",
    "\n",
    "   # Prompt the chain\n",
    "   answer = rag_chain.invoke(query_optimized)\n",
    "   similar = retriever.invoke(query_optimized)\n",
    "\n",
    "\n",
    "   return{\n",
    "      'answer': answer,\n",
    "      'contexts': [str(doc) for doc in similar]\n",
    "      }"
   ]
  },
  {
   "cell_type": "markdown",
   "metadata": {},
   "source": [
    "### Test the RAG pipeline"
   ]
  },
  {
   "cell_type": "code",
   "execution_count": 25,
   "metadata": {},
   "outputs": [
    {
     "name": "stdout",
     "output_type": "stream",
     "text": [
      "**The Impact of Supportive Culture on Employee Engagement: Aligning with Tech Innovators Inc.'s Approach**\n",
      "\n",
      "A supportive culture is crucial for any or\n"
     ]
    }
   ],
   "source": [
    "# Test sample\n",
    "question = {'question': \"How does a supportive culture impact employee engagement and align with Tech Innovators Inc.'s approach to employment relations and engagement?\"}\n",
    "answer = call_openai(question)\n",
    "print(answer['answer'][:150])"
   ]
  },
  {
   "cell_type": "code",
   "execution_count": 29,
   "metadata": {},
   "outputs": [
    {
     "name": "stdout",
     "output_type": "stream",
     "text": [
      "**The Impact of Supportive Culture on Employee Engagement: Aligning with Tech Innovators Inc.'s Approach**\n",
      "\n",
      "A supportive culture is crucial for any organization's success, including Tech Innovators Inc. This review will explore how a supportive culture enhances employee engagement and how Tech Innovators Inc. can effectively implement this approach to cultivate a positive work environment that promotes innovation, productivity, and job satisfaction.\n",
      "\n",
      "### What is a Supportive Culture?\n",
      "\n",
      "A supportive culture is an environment that promotes collaboration, open communication, and mutual respect among employees. Key characteristics include:\n",
      "\n",
      "1. **Trust**: Employees feel valued and trusted to make decisions and take ownership of their work.\n",
      "2. **Communication**: Transparent and honest communication flows frequently between employees, managers, and leadership.\n",
      "3. **Autonomy**: Employees are empowered to make choices and take initiative, fostering innovation and growth.\n",
      "4. **Feedback**: Regular, constructive feedback encourages personal and professional growth.\n",
      "5. **Recognition**: Contributions and achievements of employees are acknowledged and rewarded.\n",
      "\n",
      "### The Impact of a Supportive Culture on Employee Engagement\n",
      "\n",
      "A supportive culture significantly influences employee engagement, resulting in:\n",
      "\n",
      "1. **Increased Job Satisfaction**: Employees experience happiness and fulfillment in their roles.\n",
      "2. **Improved Productivity**: Focus and efficiency among employees lead to higher productivity levels.\n",
      "3. **Enhanced Creativity**: Innovation and experimentation are encouraged in a supportive environment.\n",
      "4. **Reduced Turnover**: A positive culture increases employee retention, lowering turnover costs.\n",
      "5. **Better Collaboration**: Enhanced teamwork and sharing of knowledge and resources among employees.\n",
      "\n",
      "### How Tech Innovators Inc. Can Leverage a Supportive Culture\n",
      "\n",
      "To cultivate a supportive culture, Tech Innovators Inc. can:\n",
      "\n",
      "1. **Encourage Open Communication**: Implement regular town hall meetings, maintain open-door policies, and foster transparent communication channels.\n",
      "2. **Empower Employees**: Provide employees with autonomy and decision-making authority to encourage ownership.\n",
      "3. **Recognize and Reward Employees**: Celebrate achievements and contributions through various recognition mechanisms.\n",
      "4. **Foster a Culture of Feedback**: Encourage regular, constructive feedback to promote growth and improvement.\n",
      "5. **Support Work-Life Balance**: Promote flexibility and well-being initiatives to enhance employee satisfaction and engagement.\n",
      "\n",
      "### Best Practices for Implementing a Supportive Culture\n",
      "\n",
      "Tech Innovators Inc. can adopt the following best practices:\n",
      "\n",
      "1. **Conduct Regular Surveys**: Use surveys to evaluate employee engagement and satisfaction, and address any concerns.\n",
      "2. **Establish Clear Expectations**: Clearly communicate organizational goals, expectations, and values to employees.\n",
      "3. **Provide Training and Development**: Offer opportunities for skills enhancement through training and mentorship.\n",
      "4. **Monitor and Evaluate**: Continuously assess the effectiveness of the supportive culture and make necessary adjustments.\n",
      "5. **Lead by Example**: Leaders and managers should exemplify the behaviors and values expected from employees.\n",
      "\n",
      "### Conclusion\n",
      "\n",
      "A supportive culture is a powerful catalyst for employee engagement, innovation, and productivity. By fully embracing and implementing a supportive culture, Tech Innovators Inc. can create a positive work environment that attracts and retains top talent, while motivating employees. Through the outlined best practices, the organization can build a culture grounded in trust, autonomy, communication, feedback, and recognition, ultimately supporting the growth and success of both its employees and the organization.\n"
     ]
    }
   ],
   "source": [
    "print(answer['answer'])"
   ]
  },
  {
   "cell_type": "code",
   "execution_count": 28,
   "metadata": {},
   "outputs": [
    {
     "name": "stdout",
     "output_type": "stream",
     "text": [
      "[\"page_content='employees and management.Employee Involvement: Involving employees in decision-making processes and seeking their input on matters that affect them.Supportive Culture: Creating a supportive culture' metadata={'_id': '66d8163d0533e009aa2d4b0f', 'pageid': '491566', 'department': 'HR', 'title': 'Employee Relations and Engagement at Tech Innovators Inc.'}\", \"page_content='employees and management.Employee Involvement: Involving employees in decision-making processes and seeking their input on matters that affect them.Supportive Culture: Creating a supportive culture' metadata={'_id': '66d816590533e009aa2d4d34', 'pageid': '491566', 'department': 'HR', 'title': 'Employee Relations and Engagement at Tech Innovators Inc.'}\", \"page_content='employees and management.Employee Involvement: Involving employees in decision-making processes and seeking their input on matters that affect them.Supportive Culture: Creating a supportive culture' metadata={'_id': '66d816750533e009aa2d4f59', 'pageid': '491566', 'department': 'HR', 'title': 'Employee Relations and Engagement at Tech Innovators Inc.'}\", \"page_content='employees and management.Employee Involvement: Involving employees in decision-making processes and seeking their input on matters that affect them.Supportive Culture: Creating a supportive culture' metadata={'_id': '66d816900533e009aa2d517e', 'pageid': '491566', 'department': 'HR', 'title': 'Employee Relations and Engagement at Tech Innovators Inc.'}\", \"page_content='concept that requires a holistic approach. At Tech Innovators Inc., we are committed to fostering an engaging work environment through open communication, recognition, and support. By understanding' metadata={'_id': '66d8163d0533e009aa2d4b1c', 'pageid': '491566', 'department': 'HR', 'title': 'Employee Relations and Engagement at Tech Innovators Inc.'}\", \"page_content='concept that requires a holistic approach. At Tech Innovators Inc., we are committed to fostering an engaging work environment through open communication, recognition, and support. By understanding' metadata={'_id': '66d816590533e009aa2d4d41', 'pageid': '491566', 'department': 'HR', 'title': 'Employee Relations and Engagement at Tech Innovators Inc.'}\", \"page_content='concept that requires a holistic approach. At Tech Innovators Inc., we are committed to fostering an engaging work environment through open communication, recognition, and support. By understanding' metadata={'_id': '66d816750533e009aa2d4f66', 'pageid': '491566', 'department': 'HR', 'title': 'Employee Relations and Engagement at Tech Innovators Inc.'}\", \"page_content='concept that requires a holistic approach. At Tech Innovators Inc., we are committed to fostering an engaging work environment through open communication, recognition, and support. By understanding' metadata={'_id': '66d816900533e009aa2d518b', 'pageid': '491566', 'department': 'HR', 'title': 'Employee Relations and Engagement at Tech Innovators Inc.'}\", \"page_content='supportive culture where employees feel valued and respected.\\xa0Engagement and DisengagementEngagement and disengagement are two sides of the same coin. While engaged employees are motivated and' metadata={'_id': '66d8163d0533e009aa2d4b10', 'pageid': '491566', 'department': 'HR', 'title': 'Employee Relations and Engagement at Tech Innovators Inc.'}\", \"page_content='supportive culture where employees feel valued and respected.\\xa0Engagement and DisengagementEngagement and disengagement are two sides of the same coin. While engaged employees are motivated and' metadata={'_id': '66d816590533e009aa2d4d35', 'pageid': '491566', 'department': 'HR', 'title': 'Employee Relations and Engagement at Tech Innovators Inc.'}\"]\n"
     ]
    }
   ],
   "source": [
    "print(answer.get('contexts'))"
   ]
  },
  {
   "cell_type": "markdown",
   "metadata": {},
   "source": [
    "# RAG pipeline evaluation"
   ]
  },
  {
   "cell_type": "markdown",
   "metadata": {},
   "source": [
    "## Test data set prep"
   ]
  },
  {
   "cell_type": "code",
   "execution_count": 19,
   "metadata": {},
   "outputs": [],
   "source": [
    "import pandas as pd\n",
    "import json\n",
    "\n",
    "def json_to_dataframe(json_file_path):\n",
    "  \"\"\"Reads a JSON file and converts it to a pandas DataFrame.\n",
    "\n",
    "  Args:\n",
    "    json_file_path (str): The path to the JSON file.\n",
    "\n",
    "  Returns:\n",
    "    pandas.DataFrame: The DataFrame created from the JSON data.\n",
    "  \"\"\"\n",
    "\n",
    "  with open(json_file_path, 'r') as f:\n",
    "    data = json.load(f)\n",
    "\n",
    "  # Handle different JSON structures\n",
    "  if isinstance(data, list):\n",
    "    # If the JSON data is a list of dictionaries, create a DataFrame directly\n",
    "    df = pd.DataFrame(data)\n",
    "  elif isinstance(data, dict):\n",
    "    # If the JSON data is a single dictionary, convert it to a list of dictionaries\n",
    "    df = pd.DataFrame([data])\n",
    "  else:\n",
    "    raise ValueError(\"Unsupported JSON structure\")\n",
    "\n",
    "  return df"
   ]
  },
  {
   "cell_type": "code",
   "execution_count": 20,
   "metadata": {},
   "outputs": [],
   "source": [
    "# Example usage:\n",
    "from from_root import from_root\n",
    "import os\n",
    "folder = \"data-test/test_dataset/test_dataset_it.json\"\n",
    "json_file_path = os.path.join(from_root(), folder)\n",
    "data_to_upload = json_to_dataframe(json_file_path)"
   ]
  },
  {
   "cell_type": "code",
   "execution_count": 21,
   "metadata": {},
   "outputs": [
    {
     "data": {
      "text/html": [
       "<div>\n",
       "<style scoped>\n",
       "    .dataframe tbody tr th:only-of-type {\n",
       "        vertical-align: middle;\n",
       "    }\n",
       "\n",
       "    .dataframe tbody tr th {\n",
       "        vertical-align: top;\n",
       "    }\n",
       "\n",
       "    .dataframe thead th {\n",
       "        text-align: right;\n",
       "    }\n",
       "</style>\n",
       "<table border=\"1\" class=\"dataframe\">\n",
       "  <thead>\n",
       "    <tr style=\"text-align: right;\">\n",
       "      <th></th>\n",
       "      <th>question</th>\n",
       "      <th>contexts</th>\n",
       "      <th>ground_truth</th>\n",
       "    </tr>\n",
       "  </thead>\n",
       "  <tbody>\n",
       "    <tr>\n",
       "      <th>0</th>\n",
       "      <td>How does the role of the Senior Director respo...</td>\n",
       "      <td>[Introduction\\nWelcome to Tech Innovators Inc....</td>\n",
       "      <td>The role of the Senior Director responsible fo...</td>\n",
       "    </tr>\n",
       "    <tr>\n",
       "      <th>1</th>\n",
       "      <td>What is the importance of identifying and addr...</td>\n",
       "      <td>[ Self-assessment\\nStart by thinking through y...</td>\n",
       "      <td>Identifying and addressing growth areas in sel...</td>\n",
       "    </tr>\n",
       "    <tr>\n",
       "      <th>2</th>\n",
       "      <td>What forms of unethical behavior are strictly ...</td>\n",
       "      <td>[ Inc. upholds the highest ethical standards i...</td>\n",
       "      <td>Favoritism or nepotism</td>\n",
       "    </tr>\n",
       "    <tr>\n",
       "      <th>3</th>\n",
       "      <td>What is the significance of emotional and aest...</td>\n",
       "      <td>[Introduction\\nAt Tech Innovators Inc., we bel...</td>\n",
       "      <td>Emotional and aesthetic labor in the workplace...</td>\n",
       "    </tr>\n",
       "    <tr>\n",
       "      <th>4</th>\n",
       "      <td>What is the purpose of the orientation session...</td>\n",
       "      <td>[Welcome to Tech Innovators Inc.\\n \\nWe are th...</td>\n",
       "      <td>The purpose of the orientation session at Tech...</td>\n",
       "    </tr>\n",
       "    <tr>\n",
       "      <th>5</th>\n",
       "      <td>What mechanisms are in place for reporting vio...</td>\n",
       "      <td>[5.2 Monitoring and Auditing\\nInternal Audits\\...</td>\n",
       "      <td>Employees can report violations of labor laws ...</td>\n",
       "    </tr>\n",
       "    <tr>\n",
       "      <th>6</th>\n",
       "      <td>How do employee engagement and disengagement d...</td>\n",
       "      <td>[Introduction\\nAt Tech Innovators Inc., we bel...</td>\n",
       "      <td>Employee engagement and disengagement differ i...</td>\n",
       "    </tr>\n",
       "    <tr>\n",
       "      <th>7</th>\n",
       "      <td>What steps are needed to extract data from Con...</td>\n",
       "      <td>[Introduction\\nThis guide provides a step-by-s...</td>\n",
       "      <td>To extract data from Confluence and create a R...</td>\n",
       "    </tr>\n",
       "    <tr>\n",
       "      <th>8</th>\n",
       "      <td>How does Tech Innovators Inc. promote employee...</td>\n",
       "      <td>[Introduction\\nAt Tech Innovators Inc., we bel...</td>\n",
       "      <td>Tech Innovators Inc. promotes employee engagem...</td>\n",
       "    </tr>\n",
       "  </tbody>\n",
       "</table>\n",
       "</div>"
      ],
      "text/plain": [
       "                                            question  \\\n",
       "0  How does the role of the Senior Director respo...   \n",
       "1  What is the importance of identifying and addr...   \n",
       "2  What forms of unethical behavior are strictly ...   \n",
       "3  What is the significance of emotional and aest...   \n",
       "4  What is the purpose of the orientation session...   \n",
       "5  What mechanisms are in place for reporting vio...   \n",
       "6  How do employee engagement and disengagement d...   \n",
       "7  What steps are needed to extract data from Con...   \n",
       "8  How does Tech Innovators Inc. promote employee...   \n",
       "\n",
       "                                            contexts  \\\n",
       "0  [Introduction\\nWelcome to Tech Innovators Inc....   \n",
       "1  [ Self-assessment\\nStart by thinking through y...   \n",
       "2  [ Inc. upholds the highest ethical standards i...   \n",
       "3  [Introduction\\nAt Tech Innovators Inc., we bel...   \n",
       "4  [Welcome to Tech Innovators Inc.\\n \\nWe are th...   \n",
       "5  [5.2 Monitoring and Auditing\\nInternal Audits\\...   \n",
       "6  [Introduction\\nAt Tech Innovators Inc., we bel...   \n",
       "7  [Introduction\\nThis guide provides a step-by-s...   \n",
       "8  [Introduction\\nAt Tech Innovators Inc., we bel...   \n",
       "\n",
       "                                        ground_truth  \n",
       "0  The role of the Senior Director responsible fo...  \n",
       "1  Identifying and addressing growth areas in sel...  \n",
       "2                             Favoritism or nepotism  \n",
       "3  Emotional and aesthetic labor in the workplace...  \n",
       "4  The purpose of the orientation session at Tech...  \n",
       "5  Employees can report violations of labor laws ...  \n",
       "6  Employee engagement and disengagement differ i...  \n",
       "7  To extract data from Confluence and create a R...  \n",
       "8  Tech Innovators Inc. promotes employee engagem...  "
      ]
     },
     "execution_count": 21,
     "metadata": {},
     "output_type": "execute_result"
    }
   ],
   "source": [
    "data_to_upload"
   ]
  },
  {
   "cell_type": "markdown",
   "metadata": {},
   "source": [
    "## RAGAS evaluation"
   ]
  },
  {
   "cell_type": "code",
   "execution_count": 30,
   "metadata": {},
   "outputs": [],
   "source": [
    "# Generate all the answers for the questions in the dataset\n",
    "# examples = client.list_examples(dataset_name=\"hr test\")\n",
    "answers = []\n",
    "for question in data_to_upload['question']:\n",
    "    question_dict = {'question': question}\n",
    "    answer = call_openai(question_dict)\n",
    "    answers.append(answer['answer'])"
   ]
  },
  {
   "cell_type": "code",
   "execution_count": 31,
   "metadata": {},
   "outputs": [],
   "source": [
    "# update the dataset with answers\n",
    "data_to_upload['answers'] = answers"
   ]
  },
  {
   "cell_type": "code",
   "execution_count": 32,
   "metadata": {},
   "outputs": [],
   "source": [
    "from datasets import Dataset\n",
    "\n",
    "question = list(data_to_upload['question'])\n",
    "answer = list(data_to_upload['answers'])\n",
    "contexts = list(data_to_upload['contexts'])\n",
    "ground_truth = list(data_to_upload['ground_truth'])\n",
    "\n",
    "data_samples = {\n",
    "    'question': question,\n",
    "    'answer': answer,\n",
    "    'contexts': contexts,\n",
    "    'ground_truth': ground_truth\n",
    "}\n",
    "\n",
    "dataset = Dataset.from_dict(data_samples)"
   ]
  },
  {
   "cell_type": "code",
   "execution_count": null,
   "metadata": {},
   "outputs": [],
   "source": [
    "# Optional, uncomment to trace runs with LangSmith. Sign up here: https://smith.langchain.com.\n",
    "# from langsmith import Client\n",
    "# os.environ[\"LANGCHAIN_ENDPOINT\"] = \"https://api.smith.langchain.com\"\n",
    "# os.environ[\"LANGCHAIN_TRACING_V2\"] = \"true\"\n",
    "# os.environ[\"LANGSMITH_API_KEY\"] = os.getenv(\"LANGSMITH_API_KEY\")\n",
    "# client = Client()"
   ]
  },
  {
   "cell_type": "code",
   "execution_count": 33,
   "metadata": {},
   "outputs": [
    {
     "data": {
      "application/vnd.jupyter.widget-view+json": {
       "model_id": "3bdacdefc4a546fe8eacf0b4d0526a99",
       "version_major": 2,
       "version_minor": 0
      },
      "text/plain": [
       "Evaluating:   0%|          | 0/36 [00:00<?, ?it/s]"
      ]
     },
     "metadata": {},
     "output_type": "display_data"
    },
    {
     "data": {
      "text/plain": [
       "{'answer_relevancy': 0.9631, 'faithfulness': 0.6012, 'context_recall': 0.9899, 'context_precision': 1.0000}"
      ]
     },
     "execution_count": 33,
     "metadata": {},
     "output_type": "execute_result"
    }
   ],
   "source": [
    "from ragas import evaluate\n",
    "# from ragas.integrations.langsmith import evaluate\n",
    "from ragas.metrics import (\n",
    "    answer_relevancy,\n",
    "    faithfulness,\n",
    "    context_recall,\n",
    "    context_precision,\n",
    ")\n",
    "result = evaluate(\n",
    "    dataset,\n",
    "    metrics=[\n",
    "        answer_relevancy,\n",
    "        faithfulness,\n",
    "        context_recall,\n",
    "        context_precision,\n",
    "    ],\n",
    ")\n",
    "\n",
    "result"
   ]
  },
  {
   "cell_type": "code",
   "execution_count": 34,
   "metadata": {},
   "outputs": [
    {
     "data": {
      "text/html": [
       "<div>\n",
       "<style scoped>\n",
       "    .dataframe tbody tr th:only-of-type {\n",
       "        vertical-align: middle;\n",
       "    }\n",
       "\n",
       "    .dataframe tbody tr th {\n",
       "        vertical-align: top;\n",
       "    }\n",
       "\n",
       "    .dataframe thead th {\n",
       "        text-align: right;\n",
       "    }\n",
       "</style>\n",
       "<table border=\"1\" class=\"dataframe\">\n",
       "  <thead>\n",
       "    <tr style=\"text-align: right;\">\n",
       "      <th></th>\n",
       "      <th>question</th>\n",
       "      <th>answer</th>\n",
       "      <th>contexts</th>\n",
       "      <th>ground_truth</th>\n",
       "      <th>answer_relevancy</th>\n",
       "      <th>faithfulness</th>\n",
       "      <th>context_recall</th>\n",
       "      <th>context_precision</th>\n",
       "    </tr>\n",
       "  </thead>\n",
       "  <tbody>\n",
       "    <tr>\n",
       "      <th>0</th>\n",
       "      <td>How does the role of the Senior Director respo...</td>\n",
       "      <td>The role of the Senior Director responsible fo...</td>\n",
       "      <td>[Introduction\\nWelcome to Tech Innovators Inc....</td>\n",
       "      <td>The role of the Senior Director responsible fo...</td>\n",
       "      <td>0.967898</td>\n",
       "      <td>1.000000</td>\n",
       "      <td>1.000000</td>\n",
       "      <td>1.0</td>\n",
       "    </tr>\n",
       "    <tr>\n",
       "      <th>1</th>\n",
       "      <td>What is the importance of identifying and addr...</td>\n",
       "      <td>Identifying and addressing growth areas in sel...</td>\n",
       "      <td>[ Self-assessment\\nStart by thinking through y...</td>\n",
       "      <td>Identifying and addressing growth areas in sel...</td>\n",
       "      <td>0.990183</td>\n",
       "      <td>0.714286</td>\n",
       "      <td>1.000000</td>\n",
       "      <td>1.0</td>\n",
       "    </tr>\n",
       "    <tr>\n",
       "      <th>2</th>\n",
       "      <td>What forms of unethical behavior are strictly ...</td>\n",
       "      <td>Inc. emphasizes maintaining the highest ethica...</td>\n",
       "      <td>[ Inc. upholds the highest ethical standards i...</td>\n",
       "      <td>Favoritism or nepotism</td>\n",
       "      <td>0.972342</td>\n",
       "      <td>0.481481</td>\n",
       "      <td>1.000000</td>\n",
       "      <td>1.0</td>\n",
       "    </tr>\n",
       "    <tr>\n",
       "      <th>3</th>\n",
       "      <td>What is the significance of emotional and aest...</td>\n",
       "      <td>**Significance of Emotional and Aesthetic Labo...</td>\n",
       "      <td>[Introduction\\nAt Tech Innovators Inc., we bel...</td>\n",
       "      <td>Emotional and aesthetic labor in the workplace...</td>\n",
       "      <td>1.000000</td>\n",
       "      <td>0.783333</td>\n",
       "      <td>1.000000</td>\n",
       "      <td>1.0</td>\n",
       "    </tr>\n",
       "    <tr>\n",
       "      <th>4</th>\n",
       "      <td>What is the purpose of the orientation session...</td>\n",
       "      <td>The orientation session at Tech Innovators Inc...</td>\n",
       "      <td>[Welcome to Tech Innovators Inc.\\n \\nWe are th...</td>\n",
       "      <td>The purpose of the orientation session at Tech...</td>\n",
       "      <td>0.975154</td>\n",
       "      <td>0.136364</td>\n",
       "      <td>1.000000</td>\n",
       "      <td>1.0</td>\n",
       "    </tr>\n",
       "    <tr>\n",
       "      <th>5</th>\n",
       "      <td>What mechanisms are in place for reporting vio...</td>\n",
       "      <td>At Tech Innovators Inc., the compliance report...</td>\n",
       "      <td>[5.2 Monitoring and Auditing\\nInternal Audits\\...</td>\n",
       "      <td>Employees can report violations of labor laws ...</td>\n",
       "      <td>0.954776</td>\n",
       "      <td>0.258065</td>\n",
       "      <td>1.000000</td>\n",
       "      <td>1.0</td>\n",
       "    </tr>\n",
       "    <tr>\n",
       "      <th>6</th>\n",
       "      <td>How do employee engagement and disengagement d...</td>\n",
       "      <td>Employee engagement and disengagement signific...</td>\n",
       "      <td>[Introduction\\nAt Tech Innovators Inc., we bel...</td>\n",
       "      <td>Employee engagement and disengagement differ i...</td>\n",
       "      <td>0.906388</td>\n",
       "      <td>0.887324</td>\n",
       "      <td>1.000000</td>\n",
       "      <td>1.0</td>\n",
       "    </tr>\n",
       "    <tr>\n",
       "      <th>7</th>\n",
       "      <td>What steps are needed to extract data from Con...</td>\n",
       "      <td>To create a Retrieval-Augmented Generation (RA...</td>\n",
       "      <td>[Introduction\\nThis guide provides a step-by-s...</td>\n",
       "      <td>To extract data from Confluence and create a R...</td>\n",
       "      <td>0.941360</td>\n",
       "      <td>0.500000</td>\n",
       "      <td>0.909091</td>\n",
       "      <td>1.0</td>\n",
       "    </tr>\n",
       "    <tr>\n",
       "      <th>8</th>\n",
       "      <td>How does Tech Innovators Inc. promote employee...</td>\n",
       "      <td>Tech Innovators Inc. promotes employee engagem...</td>\n",
       "      <td>[Introduction\\nAt Tech Innovators Inc., we bel...</td>\n",
       "      <td>Tech Innovators Inc. promotes employee engagem...</td>\n",
       "      <td>0.959625</td>\n",
       "      <td>0.650000</td>\n",
       "      <td>1.000000</td>\n",
       "      <td>1.0</td>\n",
       "    </tr>\n",
       "  </tbody>\n",
       "</table>\n",
       "</div>"
      ],
      "text/plain": [
       "                                            question  \\\n",
       "0  How does the role of the Senior Director respo...   \n",
       "1  What is the importance of identifying and addr...   \n",
       "2  What forms of unethical behavior are strictly ...   \n",
       "3  What is the significance of emotional and aest...   \n",
       "4  What is the purpose of the orientation session...   \n",
       "5  What mechanisms are in place for reporting vio...   \n",
       "6  How do employee engagement and disengagement d...   \n",
       "7  What steps are needed to extract data from Con...   \n",
       "8  How does Tech Innovators Inc. promote employee...   \n",
       "\n",
       "                                              answer  \\\n",
       "0  The role of the Senior Director responsible fo...   \n",
       "1  Identifying and addressing growth areas in sel...   \n",
       "2  Inc. emphasizes maintaining the highest ethica...   \n",
       "3  **Significance of Emotional and Aesthetic Labo...   \n",
       "4  The orientation session at Tech Innovators Inc...   \n",
       "5  At Tech Innovators Inc., the compliance report...   \n",
       "6  Employee engagement and disengagement signific...   \n",
       "7  To create a Retrieval-Augmented Generation (RA...   \n",
       "8  Tech Innovators Inc. promotes employee engagem...   \n",
       "\n",
       "                                            contexts  \\\n",
       "0  [Introduction\\nWelcome to Tech Innovators Inc....   \n",
       "1  [ Self-assessment\\nStart by thinking through y...   \n",
       "2  [ Inc. upholds the highest ethical standards i...   \n",
       "3  [Introduction\\nAt Tech Innovators Inc., we bel...   \n",
       "4  [Welcome to Tech Innovators Inc.\\n \\nWe are th...   \n",
       "5  [5.2 Monitoring and Auditing\\nInternal Audits\\...   \n",
       "6  [Introduction\\nAt Tech Innovators Inc., we bel...   \n",
       "7  [Introduction\\nThis guide provides a step-by-s...   \n",
       "8  [Introduction\\nAt Tech Innovators Inc., we bel...   \n",
       "\n",
       "                                        ground_truth  answer_relevancy  \\\n",
       "0  The role of the Senior Director responsible fo...          0.967898   \n",
       "1  Identifying and addressing growth areas in sel...          0.990183   \n",
       "2                             Favoritism or nepotism          0.972342   \n",
       "3  Emotional and aesthetic labor in the workplace...          1.000000   \n",
       "4  The purpose of the orientation session at Tech...          0.975154   \n",
       "5  Employees can report violations of labor laws ...          0.954776   \n",
       "6  Employee engagement and disengagement differ i...          0.906388   \n",
       "7  To extract data from Confluence and create a R...          0.941360   \n",
       "8  Tech Innovators Inc. promotes employee engagem...          0.959625   \n",
       "\n",
       "   faithfulness  context_recall  context_precision  \n",
       "0      1.000000        1.000000                1.0  \n",
       "1      0.714286        1.000000                1.0  \n",
       "2      0.481481        1.000000                1.0  \n",
       "3      0.783333        1.000000                1.0  \n",
       "4      0.136364        1.000000                1.0  \n",
       "5      0.258065        1.000000                1.0  \n",
       "6      0.887324        1.000000                1.0  \n",
       "7      0.500000        0.909091                1.0  \n",
       "8      0.650000        1.000000                1.0  "
      ]
     },
     "execution_count": 34,
     "metadata": {},
     "output_type": "execute_result"
    }
   ],
   "source": [
    "df = result.to_pandas()\n",
    "df"
   ]
  },
  {
   "cell_type": "code",
   "execution_count": 35,
   "metadata": {},
   "outputs": [],
   "source": [
    "folder = \"data-test/test_dataset/test_dataset_it_with_hyde.csv\"\n",
    "json_file_path = os.path.join(from_root(), folder)\n",
    "df.to_csv(json_file_path, index=False)"
   ]
  }
 ],
 "metadata": {
  "kernelspec": {
   "display_name": "venv",
   "language": "python",
   "name": "python3"
  },
  "language_info": {
   "codemirror_mode": {
    "name": "ipython",
    "version": 3
   },
   "file_extension": ".py",
   "mimetype": "text/x-python",
   "name": "python",
   "nbconvert_exporter": "python",
   "pygments_lexer": "ipython3",
   "version": "3.11.9"
  }
 },
 "nbformat": 4,
 "nbformat_minor": 2
}
