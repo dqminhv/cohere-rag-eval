{
 "cells": [
  {
   "cell_type": "code",
   "execution_count": 1,
   "metadata": {},
   "outputs": [
    {
     "data": {
      "text/plain": [
       "True"
      ]
     },
     "execution_count": 1,
     "metadata": {},
     "output_type": "execute_result"
    }
   ],
   "source": [
    "import os\n",
    "from dotenv import load_dotenv\n",
    "load_dotenv(encoding='utf-8')"
   ]
  },
  {
   "cell_type": "markdown",
   "metadata": {},
   "source": [
    "# RAG pipeline"
   ]
  },
  {
   "cell_type": "markdown",
   "metadata": {},
   "source": [
    "## Vector Store and Retriever"
   ]
  },
  {
   "cell_type": "code",
   "execution_count": 2,
   "metadata": {},
   "outputs": [],
   "source": [
    "from langchain_core.output_parsers import StrOutputParser\n",
    "from langchain_core.runnables import RunnablePassthrough\n",
    "from langchain_mongodb import MongoDBAtlasVectorSearch\n",
    "from langchain_openai import ChatOpenAI, OpenAIEmbeddings\n",
    "from langchain.prompts import PromptTemplate\n",
    "from pymongo import MongoClient"
   ]
  },
  {
   "cell_type": "code",
   "execution_count": 3,
   "metadata": {},
   "outputs": [],
   "source": [
    "os.environ[\"OPENAI_API_KEY\"] = os.getenv(\"OPENAI_API_KEY\")\n",
    "\n",
    "llm = ChatOpenAI(model=os.getenv(\"DEFAULT_OPENAI_MODEL\")) # DEFAULT_OPENAI_MODEL='gpt-4o-mini-2024-07-18'\n",
    "\n",
    "# embedding_model=OpenAIEmbeddings(model=os.getenv(\"DEFAULT_OPENAI_EMBEDDING\"), disallowed_special=())\n",
    "embedding_model=OpenAIEmbeddings(disallowed_special=())"
   ]
  },
  {
   "cell_type": "code",
   "execution_count": 4,
   "metadata": {},
   "outputs": [],
   "source": [
    "# Define MongoDB vector database\n",
    "client = MongoClient(os.getenv(\"ATLAS_CONNECTION_STRING\"))\n",
    "db_name = os.getenv(\"db_name\")"
   ]
  },
  {
   "cell_type": "markdown",
   "metadata": {},
   "source": [
    "### Chunking Strategy 0"
   ]
  },
  {
   "cell_type": "code",
   "execution_count": 6,
   "metadata": {},
   "outputs": [],
   "source": [
    "# Chunk size: 200\n",
    "# Overlap: 20\n",
    "\n",
    "vector_store_0 = MongoDBAtlasVectorSearch(\n",
    "    embedding = embedding_model,\n",
    "    collection = client[db_name][\"enterprise_data\"],\n",
    "    index_name = \"vector_index_erp\"\n",
    ")\n",
    "\n",
    "retriever_0 = vector_store_0.as_retriever(\n",
    "    search_type = \"similarity\",\n",
    "    search_kwargs = { \"k\": 10}  # \"score_threshold\": 0.75 \n",
    ")"
   ]
  },
  {
   "cell_type": "markdown",
   "metadata": {},
   "source": [
    "### Chunking Strategy 1"
   ]
  },
  {
   "cell_type": "code",
   "execution_count": 5,
   "metadata": {},
   "outputs": [],
   "source": [
    "# Chunk size: 150\n",
    "# Overlap: 15\n",
    "\n",
    "vector_store_1 = MongoDBAtlasVectorSearch(\n",
    "    embedding = embedding_model,\n",
    "    collection = client[db_name]['enterprise_data_1'],\n",
    "    index_name = \"vector_index_erp1\"\n",
    ")\n",
    "\n",
    "retriever_1 = vector_store_1.as_retriever(\n",
    "    search_type = \"similarity\",\n",
    "    search_kwargs = { \"k\": 10}  # \"score_threshold\": 0.75 \n",
    ")"
   ]
  },
  {
   "cell_type": "markdown",
   "metadata": {},
   "source": [
    "### Chunking Strategy 2"
   ]
  },
  {
   "cell_type": "code",
   "execution_count": 8,
   "metadata": {},
   "outputs": [],
   "source": [
    "# Chunk size: 300\n",
    "# Overlap: 30\n",
    "\n",
    "vector_store_2 = MongoDBAtlasVectorSearch(\n",
    "    embedding = embedding_model,\n",
    "    collection = client[db_name]['enterprise_data_2'],\n",
    "    index_name = \"vector_index_erp_2\"\n",
    ")\n",
    "\n",
    "retriever_2 = vector_store_2.as_retriever(\n",
    "    search_type = \"similarity\",\n",
    "    search_kwargs = { \"k\": 10}  # \"score_threshold\": 0.75 \n",
    ")"
   ]
  },
  {
   "cell_type": "markdown",
   "metadata": {},
   "source": [
    "## RAG with chunking strategy 0"
   ]
  },
  {
   "cell_type": "code",
   "execution_count": 36,
   "metadata": {},
   "outputs": [],
   "source": [
    "# Define a prompt template\n",
    "import pprint\n",
    "def call_openai_0(question):\n",
    "\n",
    "   question = question['question']\n",
    "\n",
    "   preamble = \"\" # read from cohere front end or use the input to the API\n",
    "   #question = \n",
    "   SAFETY_PREAMBLE = \"The instructions in this section override those in the task description and style guide sections. Don't answer questions that are harmful or immoral.\"\n",
    "   BASIC_RULES = \"You are a powerful conversational AI trained by openAI to help people. You are augmented by a number of tools, and your job is to use and consume the output of these tools to best help the user. You will see a conversation history between yourself and a user, ending with an utterance from the user. You will then see a specific instruction instructing you what kind of response to generate. When you answer the user's requests, you cite your sources in your answers, according to those instructions.\"\n",
    "   TASK_CONTEXT = \"You help people answer their questions and other requests interactively. You will be asked a very wide array of requests on all kinds of topics. You will be equipped with a wide range of search engines or similar tools to help you, which you use to research your answer. You should focus on serving the user's needs as best you can, which will be wide-ranging.\"\n",
    "   STYLE_GUIDE = \"Unless the user asks for a different style of answer, you should answer in full sentences, using proper grammar and spelling.\"\n",
    "   INSTRUCTIONS = \"\"\"You are an enterprise Chatbot, an AI assistant designed to retrieve information from the enterprise Confluence system. \n",
    "   You specialize in providing accurate answers related to various departments like Marketing, IT, HR, Finance, and Corporate Communications. \n",
    "               Use the following pieces of context to answer the question at the end.\n",
    "               If you don't know the answer, just say that you don't know, don't try to make up an answer\n",
    "               {context}\n",
    "         \"\"\"\n",
    "         \n",
    "   template = f\"\"\"\n",
    "\n",
    "      {SAFETY_PREAMBLE}\n",
    "      {BASIC_RULES}\n",
    "      {TASK_CONTEXT}\n",
    "      {STYLE_GUIDE}\n",
    "      {INSTRUCTIONS}\n",
    "\n",
    "   \"\"\"\n",
    "   if preamble:\n",
    "      template += f\"\"\"{preamble}\\n\\n\"\"\"\n",
    "\n",
    "\n",
    "   template +=  f\"\"\"Question: {question}\\n\\n\"\"\"\n",
    "\n",
    "   custom_rag_prompt = PromptTemplate.from_template(template)\n",
    "\n",
    "   #llm = get_llm_model(\"openai\")\n",
    "   llm = ChatOpenAI(model=os.getenv(\"DEFAULT_OPENAI_MODEL\"),max_tokens=200)\n",
    "\n",
    "   def format_docs(docs):\n",
    "      return \"\\n\\n\".join(doc.page_content for doc in docs)\n",
    "\n",
    "   # Construct a chain to answer questions on your data\n",
    "   rag_chain = (\n",
    "      { \"context\": retriever_0 | format_docs, \"question\": RunnablePassthrough()}\n",
    "      | custom_rag_prompt\n",
    "      | llm\n",
    "      | StrOutputParser()\n",
    "   )\n",
    "\n",
    "   # Prompt the chain\n",
    "   question = question\n",
    "   answer = rag_chain.invoke(question)\n",
    "   similar = retriever_0.invoke(question)\n",
    "\n",
    "\n",
    "   return{\n",
    "      'answer': answer,\n",
    "      'contexts': similar\n",
    "      # 'contexts': format_docs(similar)\n",
    "      }"
   ]
  },
  {
   "cell_type": "markdown",
   "metadata": {},
   "source": [
    "### Test the RAG pipeline"
   ]
  },
  {
   "cell_type": "code",
   "execution_count": 37,
   "metadata": {},
   "outputs": [],
   "source": [
    "# Test retriever 0\n",
    "question = {'question': \"What are the tickets created at Tech Innovator Inc?\"}\n",
    "answer = call_openai_0(question)"
   ]
  },
  {
   "cell_type": "code",
   "execution_count": 38,
   "metadata": {},
   "outputs": [
    {
     "name": "stdout",
     "output_type": "stream",
     "text": [
      "The ticket created at Tech Innovators Inc. is as follows:\n",
      "\n",
      "- **Ticket ID:** TI-67890\n",
      "- **Created Date:** July 20, 2024\n",
      "- **Priority:** High\n",
      "- **Status\n"
     ]
    },
    {
     "data": {
      "text/plain": [
       "[Document(metadata={'_id': '66d8164c0533e009aa2d4c3e', 'pageid': '688130', 'department': 'Marketing', 'title': 'Marketing Campaign Results'}, page_content='of times Tech Innovators Inc. was mentioned across social media platforms.2. Lead GenerationLeads Generated: 15,000Description: Total number of leads captured through landing pages and sign-up'),\n",
       " Document(metadata={'_id': '66d816680533e009aa2d4e63', 'pageid': '688130', 'department': 'Marketing', 'title': 'Marketing Campaign Results'}, page_content='of times Tech Innovators Inc. was mentioned across social media platforms.2. Lead GenerationLeads Generated: 15,000Description: Total number of leads captured through landing pages and sign-up'),\n",
       " Document(metadata={'_id': '66d816300533e009aa2d4a19', 'pageid': '688130', 'department': 'Marketing', 'title': 'Marketing Campaign Results'}, page_content='of times Tech Innovators Inc. was mentioned across social media platforms.2. Lead GenerationLeads Generated: 15,000Description: Total number of leads captured through landing pages and sign-up'),\n",
       " Document(metadata={'_id': '66d816840533e009aa2d5088', 'pageid': '688130', 'department': 'Marketing', 'title': 'Marketing Campaign Results'}, page_content='of times Tech Innovators Inc. was mentioned across social media platforms.2. Lead GenerationLeads Generated: 15,000Description: Total number of leads captured through landing pages and sign-up'),\n",
       " Document(metadata={'_id': '66d816390533e009aa2d4aa9', 'pageid': '786456', 'department': 'IT', 'title': 'IT Support Ticket – Tech-innovators-inc-2'}, page_content='Ticket ID: TI-67890Created Date: July 20, 2024Priority: HighStatus: OpenRequester InformationName: Emily ClarkDepartment: SalesLocation: United StatesEmail: emily.clark@techinnovators.comPhone: (555)'),\n",
       " Document(metadata={'_id': '66d816550533e009aa2d4cce', 'pageid': '786456', 'department': 'IT', 'title': 'IT Support Ticket – Tech-innovators-inc-2'}, page_content='Ticket ID: TI-67890Created Date: July 20, 2024Priority: HighStatus: OpenRequester InformationName: Emily ClarkDepartment: SalesLocation: United StatesEmail: emily.clark@techinnovators.comPhone: (555)'),\n",
       " Document(metadata={'_id': '66d816700533e009aa2d4ef3', 'pageid': '786456', 'department': 'IT', 'title': 'IT Support Ticket – Tech-innovators-inc-2'}, page_content='Ticket ID: TI-67890Created Date: July 20, 2024Priority: HighStatus: OpenRequester InformationName: Emily ClarkDepartment: SalesLocation: United StatesEmail: emily.clark@techinnovators.comPhone: (555)'),\n",
       " Document(metadata={'_id': '66d8168c0533e009aa2d5118', 'pageid': '786456', 'department': 'IT', 'title': 'IT Support Ticket – Tech-innovators-inc-2'}, page_content='Ticket ID: TI-67890Created Date: July 20, 2024Priority: HighStatus: OpenRequester InformationName: Emily ClarkDepartment: SalesLocation: United StatesEmail: emily.clark@techinnovators.comPhone: (555)'),\n",
       " Document(metadata={'_id': '66d816310533e009aa2d4a43', 'pageid': '688140', 'department': 'Marketing', 'title': 'Customer Personas'}, page_content='ReddyHead of MarketingTech Innovators Inc.'),\n",
       " Document(metadata={'_id': '66d816690533e009aa2d4e8d', 'pageid': '688140', 'department': 'Marketing', 'title': 'Customer Personas'}, page_content='ReddyHead of MarketingTech Innovators Inc.')]"
      ]
     },
     "execution_count": 38,
     "metadata": {},
     "output_type": "execute_result"
    }
   ],
   "source": [
    "print(answer['answer'][:150])\n",
    "answer['contexts']"
   ]
  },
  {
   "cell_type": "code",
   "execution_count": 40,
   "metadata": {},
   "outputs": [
    {
     "data": {
      "text/plain": [
       "'of times Tech Innovators Inc. was mentioned across social media platforms.2. Lead GenerationLeads Generated: 15,000Description: Total number of leads captured through landing pages and sign-up'"
      ]
     },
     "execution_count": 40,
     "metadata": {},
     "output_type": "execute_result"
    }
   ],
   "source": [
    "answer['contexts'][0].page_content"
   ]
  },
  {
   "cell_type": "markdown",
   "metadata": {},
   "source": [
    "## RAG with chunking strategy 1"
   ]
  },
  {
   "cell_type": "code",
   "execution_count": 6,
   "metadata": {},
   "outputs": [],
   "source": [
    "# Define a prompt template\n",
    "import pprint\n",
    "def call_openai_1(question):\n",
    "\n",
    "   question = question['question']\n",
    "\n",
    "   preamble = \"\" # read from cohere front end or use the input to the API\n",
    "   #question = \n",
    "   SAFETY_PREAMBLE = \"The instructions in this section override those in the task description and style guide sections. Don't answer questions that are harmful or immoral.\"\n",
    "   BASIC_RULES = \"You are a powerful conversational AI trained by openAI to help people. You are augmented by a number of tools, and your job is to use and consume the output of these tools to best help the user. You will see a conversation history between yourself and a user, ending with an utterance from the user. You will then see a specific instruction instructing you what kind of response to generate. When you answer the user's requests, you cite your sources in your answers, according to those instructions.\"\n",
    "   TASK_CONTEXT = \"You help people answer their questions and other requests interactively. You will be asked a very wide array of requests on all kinds of topics. You will be equipped with a wide range of search engines or similar tools to help you, which you use to research your answer. You should focus on serving the user's needs as best you can, which will be wide-ranging.\"\n",
    "   STYLE_GUIDE = \"Unless the user asks for a different style of answer, you should answer in full sentences, using proper grammar and spelling.\"\n",
    "   INSTRUCTIONS = \"\"\"You are an enterprise Chatbot, an AI assistant designed to retrieve information from the enterprise Confluence system. \n",
    "   You specialize in providing accurate answers related to various departments like Marketing, IT, HR, Finance, and Corporate Communications. \n",
    "               Use the following pieces of context to answer the question at the end.\n",
    "               If you don't know the answer, just say that you don't know, don't try to make up an answer\n",
    "               {context}\n",
    "         \"\"\"\n",
    "         \n",
    "   template = f\"\"\"\n",
    "\n",
    "      {SAFETY_PREAMBLE}\n",
    "      {BASIC_RULES}\n",
    "      {TASK_CONTEXT}\n",
    "      {STYLE_GUIDE}\n",
    "      {INSTRUCTIONS}\n",
    "\n",
    "   \"\"\"\n",
    "   if preamble:\n",
    "      template += f\"\"\"{preamble}\\n\\n\"\"\"\n",
    "\n",
    "\n",
    "   template +=  f\"\"\"Question: {question}\\n\\n\"\"\"\n",
    "\n",
    "   custom_rag_prompt = PromptTemplate.from_template(template)\n",
    "\n",
    "   #llm = get_llm_model(\"openai\")\n",
    "   llm = ChatOpenAI(model=os.getenv(\"DEFAULT_OPENAI_MODEL\"),max_tokens=200)\n",
    "\n",
    "   def format_docs(docs):\n",
    "      return \"\\n\\n\".join(doc.page_content for doc in docs)\n",
    "\n",
    "   # Construct a chain to answer questions on your data\n",
    "   rag_chain = (\n",
    "      { \"context\": retriever_1 | format_docs, \"question\": RunnablePassthrough()}\n",
    "      | custom_rag_prompt\n",
    "      | llm\n",
    "      | StrOutputParser()\n",
    "   )\n",
    "\n",
    "   # Prompt the chain\n",
    "   question = question\n",
    "   answer = rag_chain.invoke(question)\n",
    "   similar = retriever_1.invoke(question)\n",
    "\n",
    "\n",
    "   return{\n",
    "      'answer': answer,\n",
    "      'contexts': similar\n",
    "      }"
   ]
  },
  {
   "cell_type": "code",
   "execution_count": 7,
   "metadata": {},
   "outputs": [],
   "source": [
    "# Test retriever 1\n",
    "question = {'question': \"What are the tickets created at Tech Innovator Inc?\"}\n",
    "answer = call_openai_1(question)"
   ]
  },
  {
   "cell_type": "code",
   "execution_count": 8,
   "metadata": {},
   "outputs": [
    {
     "name": "stdout",
     "output_type": "stream",
     "text": [
      "At Tech Innovators Inc., there are currently two open tickets:\n",
      "\n",
      "1. **Ticket ID:** IT-12345  \n",
      "   - **Created Date:** July 20, 2024  \n",
      "   - **Priority:**\n"
     ]
    },
    {
     "data": {
      "text/plain": [
       "[Document(metadata={'_id': '66dffb6cdee1cfdeccbec93c', 'pageid': '491546', 'department': 'IT', 'title': 'Tech Innovators Inc. On-Premise System Security Policy'}, page_content='Innovators Inc.#12, IT parkTech city, Tech state'),\n",
       " Document(metadata={'_id': '66dffb7adee1cfdeccbec9c1', 'pageid': '851993', 'department': 'IT', 'title': 'Tech Innovators Inc. Azure Cloud Services Security Policy'}, page_content='Innovators Inc.#12, IT parkTech city, Tech state'),\n",
       " Document(metadata={'_id': '66dffb69dee1cfdeccbec912', 'pageid': '459050', 'department': 'IT', 'title': 'IT Support Ticket – Tech-innovators-inc-1'}, page_content='Ticket ID: IT-12345Created Date: July 20, 2024Priority: HighStatus: OpenRequester InformationName: John DoeDepartment: MarketingEmail:'),\n",
       " Document(metadata={'_id': '66dffb6cdee1cfdeccbec93b', 'pageid': '491546', 'department': 'IT', 'title': 'Tech Innovators Inc. On-Premise System Security Policy'}, page_content='and changes in the business environment.Approved by:Jhon Watch, Chief Information Security Officer20/07/2024Effective Date:20/07/2024Tech Innovators'),\n",
       " Document(metadata={'_id': '66dffb7adee1cfdeccbec9c0', 'pageid': '851993', 'department': 'IT', 'title': 'Tech Innovators Inc. Azure Cloud Services Security Policy'}, page_content='Security Officer:[Name][Email][Phone]Approved by:Jhon Watch, Chief Information Security Officer20/07/2024Effective Date:20/07/2024Tech Innovators'),\n",
       " Document(metadata={'_id': '66dffb7adee1cfdeccbec99e', 'pageid': '851993', 'department': 'IT', 'title': 'Tech Innovators Inc. Azure Cloud Services Security Policy'}, page_content='IntroductionTech Innovators Inc. is committed to protecting the confidentiality, integrity, and availability of its data and resources hosted on'),\n",
       " Document(metadata={'_id': '66dffb6cdee1cfdeccbec921', 'pageid': '491546', 'department': 'IT', 'title': 'Tech Innovators Inc. On-Premise System Security Policy'}, page_content='IntroductionTech Innovators Inc. is committed to ensuring the security and integrity of its on-premise systems. This security policy outlines the'),\n",
       " Document(metadata={'_id': '66dffb78dee1cfdeccbec99c', 'pageid': '819215', 'department': 'IT', 'title': 'Tech Innovator Vector Database Installation Guide'}, page_content='installed and configured the Tech Innovator Vector Database. You can now start using it for your applications.For more information, visit the'),\n",
       " Document(metadata={'_id': '66dffb76dee1cfdeccbec97f', 'pageid': '786456', 'department': 'IT', 'title': 'IT Support Ticket – Tech-innovators-inc-2'}, page_content='Ticket ID: TI-67890Created Date: July 20, 2024Priority: HighStatus: OpenRequester InformationName: Emily ClarkDepartment: SalesLocation: United'),\n",
       " Document(metadata={'_id': '66dffb6cdee1cfdeccbec923', 'pageid': '491546', 'department': 'IT', 'title': 'Tech Innovators Inc. On-Premise System Security Policy'}, page_content=\"This policy applies to all employees, contractors, and third-party vendors who interact with Tech Innovators Inc.'s on-premise systems.ScopeThis\")]"
      ]
     },
     "execution_count": 8,
     "metadata": {},
     "output_type": "execute_result"
    }
   ],
   "source": [
    "print(answer['answer'][:150])\n",
    "answer['contexts']"
   ]
  },
  {
   "cell_type": "markdown",
   "metadata": {},
   "source": [
    "## RAG with chunking strategy 2"
   ]
  },
  {
   "cell_type": "code",
   "execution_count": 20,
   "metadata": {},
   "outputs": [],
   "source": [
    "# Define a prompt template\n",
    "import pprint\n",
    "def call_openai_2(question):\n",
    "\n",
    "   question = question['question']\n",
    "\n",
    "   preamble = \"\" # read from cohere front end or use the input to the API\n",
    "   #question = \n",
    "   SAFETY_PREAMBLE = \"The instructions in this section override those in the task description and style guide sections. Don't answer questions that are harmful or immoral.\"\n",
    "   BASIC_RULES = \"You are a powerful conversational AI trained by openAI to help people. You are augmented by a number of tools, and your job is to use and consume the output of these tools to best help the user. You will see a conversation history between yourself and a user, ending with an utterance from the user. You will then see a specific instruction instructing you what kind of response to generate. When you answer the user's requests, you cite your sources in your answers, according to those instructions.\"\n",
    "   TASK_CONTEXT = \"You help people answer their questions and other requests interactively. You will be asked a very wide array of requests on all kinds of topics. You will be equipped with a wide range of search engines or similar tools to help you, which you use to research your answer. You should focus on serving the user's needs as best you can, which will be wide-ranging.\"\n",
    "   STYLE_GUIDE = \"Unless the user asks for a different style of answer, you should answer in full sentences, using proper grammar and spelling.\"\n",
    "   INSTRUCTIONS = \"\"\"You are an enterprise Chatbot, an AI assistant designed to retrieve information from the enterprise Confluence system. \n",
    "   You specialize in providing accurate answers related to various departments like Marketing, IT, HR, Finance, and Corporate Communications. \n",
    "               Use the following pieces of context to answer the question at the end.\n",
    "               If you don't know the answer, just say that you don't know, don't try to make up an answer\n",
    "               {context}\n",
    "         \"\"\"\n",
    "         \n",
    "   template = f\"\"\"\n",
    "\n",
    "      {SAFETY_PREAMBLE}\n",
    "      {BASIC_RULES}\n",
    "      {TASK_CONTEXT}\n",
    "      {STYLE_GUIDE}\n",
    "      {INSTRUCTIONS}\n",
    "\n",
    "   \"\"\"\n",
    "   if preamble:\n",
    "      template += f\"\"\"{preamble}\\n\\n\"\"\"\n",
    "\n",
    "\n",
    "   template +=  f\"\"\"Question: {question}\\n\\n\"\"\"\n",
    "\n",
    "   custom_rag_prompt = PromptTemplate.from_template(template)\n",
    "\n",
    "   #llm = get_llm_model(\"openai\")\n",
    "   llm = ChatOpenAI(model=os.getenv(\"DEFAULT_OPENAI_MODEL\"),max_tokens=200)\n",
    "\n",
    "   def format_docs(docs):\n",
    "      return \"\\n\\n\".join(doc.page_content for doc in docs)\n",
    "\n",
    "   # Construct a chain to answer questions on your data\n",
    "   rag_chain = (\n",
    "      { \"context\": retriever_2 | format_docs, \"question\": RunnablePassthrough()}\n",
    "      | custom_rag_prompt\n",
    "      | llm\n",
    "      | StrOutputParser()\n",
    "   )\n",
    "\n",
    "   # Prompt the chain\n",
    "   question = question\n",
    "   answer = rag_chain.invoke(question)\n",
    "   similar = retriever_2.invoke(question)\n",
    "\n",
    "\n",
    "   return{\n",
    "      'answer': answer,\n",
    "      'contexts': similar\n",
    "      }"
   ]
  },
  {
   "cell_type": "code",
   "execution_count": 21,
   "metadata": {},
   "outputs": [],
   "source": [
    "# Test retriever 2\n",
    "question = {'question': \"What are the tickets created at Tech Innovator Inc?\"}\n",
    "answer = call_openai_2(question)"
   ]
  },
  {
   "cell_type": "code",
   "execution_count": 22,
   "metadata": {},
   "outputs": [
    {
     "name": "stdout",
     "output_type": "stream",
     "text": [
      "I'm sorry, but I don't have information on the specific types of tickets created at Tech Innovators Inc. If you have a particular context or departmen\n"
     ]
    },
    {
     "data": {
      "text/plain": [
       "[\"page_content='individuals with disabilities, we strive to build a dynamic and innovative team. Continuous improvement and adherence to ethical standards are at the core of our recruitment practices, ensuring Tech Innovators Inc. remains a leader in the industry.' metadata={'_id': '66eb06d8378ec16fc5706113', 'pageid': '655683', 'department': 'HR', 'title': 'Tech Innovators Inc. Recruitment Policies Guidelines'}\",\n",
       " \"page_content='individuals with disabilities, we strive to build a dynamic and innovative team. Continuous improvement and adherence to ethical standards are at the core of our recruitment practices, ensuring Tech Innovators Inc. remains a leader in the industry.' metadata={'_id': '66eb0672378ec16fc5705ffd', 'pageid': '655683', 'department': 'HR', 'title': 'Tech Innovators Inc. Recruitment Policies Guidelines'}\",\n",
       " \"page_content='code policy?Training and DevelopmentQ1: How does Tech Innovators Inc. support employee training and development?A1: Tech Innovators Inc. is committed to continuous learning and development. We offer a range of training programs, workshops, and seminars to help employees enhance their skills.' metadata={'_id': '66eb0677378ec16fc5706043', 'pageid': '884753', 'department': 'HR', 'title': 'Tech Innovators Inc. Employee Frequently Asked Questions (FAQs)'}\",\n",
       " \"page_content='code policy?Training and DevelopmentQ1: How does Tech Innovators Inc. support employee training and development?A1: Tech Innovators Inc. is committed to continuous learning and development. We offer a range of training programs, workshops, and seminars to help employees enhance their skills.' metadata={'_id': '66eb06dd378ec16fc5706159', 'pageid': '884753', 'department': 'HR', 'title': 'Tech Innovators Inc. Employee Frequently Asked Questions (FAQs)'}\",\n",
       " \"page_content='IntroductionTech Innovators Inc. is committed to ensuring the security and integrity of its on-premise systems. This security policy outlines the measures and procedures to protect these systems from unauthorized access, data breaches, and other security threats. This policy applies to all' metadata={'_id': '66eb0665378ec16fc5705f51', 'pageid': '491546', 'department': 'IT', 'title': 'Tech Innovators Inc. On-Premise System Security Policy'}\",\n",
       " \"page_content='IntroductionTech Innovators Inc. is committed to ensuring the security and integrity of its on-premise systems. This security policy outlines the measures and procedures to protect these systems from unauthorized access, data breaches, and other security threats. This policy applies to all' metadata={'_id': '66eb067a378ec16fc5706067', 'pageid': '491546', 'department': 'IT', 'title': 'Tech Innovators Inc. On-Premise System Security Policy'}\",\n",
       " \"page_content='IntroductionTech Innovators Inc. is committed to fostering a diverse and inclusive workplace. Our recruitment policies are designed to ensure equal opportunities for all candidates, including those who have taken career breaks, women returning to tech, individuals with disabilities, and other' metadata={'_id': '66eb06d8378ec16fc57060fa', 'pageid': '655683', 'department': 'HR', 'title': 'Tech Innovators Inc. Recruitment Policies Guidelines'}\",\n",
       " \"page_content='IntroductionTech Innovators Inc. is committed to fostering a diverse and inclusive workplace. Our recruitment policies are designed to ensure equal opportunities for all candidates, including those who have taken career breaks, women returning to tech, individuals with disabilities, and other' metadata={'_id': '66eb0672378ec16fc5705fe4', 'pageid': '655683', 'department': 'HR', 'title': 'Tech Innovators Inc. Recruitment Policies Guidelines'}\",\n",
       " \"page_content='Welcome to Tech Innovators Inc.\\xa0We are thrilled to have you join our team! This document will guide you through the onboarding process and provide essential information to help you get started.\\xa0Company OverviewTech Innovators Inc. specializes in software development, IT consulting, and digital' metadata={'_id': '66eb06de378ec16fc570616e', 'pageid': '884763', 'department': 'HR', 'title': 'Tech Innovators Inc. Employee Onboarding Document'}\",\n",
       " \"page_content='Welcome to Tech Innovators Inc.\\xa0We are thrilled to have you join our team! This document will guide you through the onboarding process and provide essential information to help you get started.\\xa0Company OverviewTech Innovators Inc. specializes in software development, IT consulting, and digital' metadata={'_id': '66eb0678378ec16fc5706058', 'pageid': '884763', 'department': 'HR', 'title': 'Tech Innovators Inc. Employee Onboarding Document'}\"]"
      ]
     },
     "execution_count": 22,
     "metadata": {},
     "output_type": "execute_result"
    }
   ],
   "source": [
    "print(answer['answer'][:150])\n",
    "answer['contexts']"
   ]
  },
  {
   "cell_type": "markdown",
   "metadata": {},
   "source": [
    "# RAG pipeline evaluation"
   ]
  },
  {
   "cell_type": "markdown",
   "metadata": {},
   "source": [
    "## Test data set prep"
   ]
  },
  {
   "cell_type": "code",
   "execution_count": 9,
   "metadata": {},
   "outputs": [],
   "source": [
    "import pandas as pd\n",
    "import json\n",
    "\n",
    "def json_to_dataframe(json_file_path):\n",
    "  \"\"\"Reads a JSON file and converts it to a pandas DataFrame.\n",
    "\n",
    "  Args:\n",
    "    json_file_path (str): The path to the JSON file.\n",
    "\n",
    "  Returns:\n",
    "    pandas.DataFrame: The DataFrame created from the JSON data.\n",
    "  \"\"\"\n",
    "\n",
    "  with open(json_file_path, 'r') as f:\n",
    "    data = json.load(f)\n",
    "\n",
    "  # Handle different JSON structures\n",
    "  if isinstance(data, list):\n",
    "    # If the JSON data is a list of dictionaries, create a DataFrame directly\n",
    "    df = pd.DataFrame(data)\n",
    "  elif isinstance(data, dict):\n",
    "    # If the JSON data is a single dictionary, convert it to a list of dictionaries\n",
    "    df = pd.DataFrame([data])\n",
    "  else:\n",
    "    raise ValueError(\"Unsupported JSON structure\")\n",
    "\n",
    "  return df"
   ]
  },
  {
   "cell_type": "code",
   "execution_count": 10,
   "metadata": {},
   "outputs": [],
   "source": [
    "# Example usage:\n",
    "from from_root import from_root\n",
    "import os\n",
    "file_name = \"test_dataset_it.json\"\n",
    "json_file_path = os.path.join(from_root(), \"data-test/test_dataset/\", file_name)\n",
    "data_to_test = json_to_dataframe(json_file_path)"
   ]
  },
  {
   "cell_type": "markdown",
   "metadata": {},
   "source": [
    "## RAGAS evaluation"
   ]
  },
  {
   "cell_type": "code",
   "execution_count": 21,
   "metadata": {},
   "outputs": [],
   "source": [
    "import json\n",
    "import pandas as pd\n",
    "\n",
    "def serialize_list(value):\n",
    "    \"\"\"Serializes a list to a JSON string.\"\"\"\n",
    "    return json.dumps(value)\n",
    "\n",
    "def deserialize_list(value):\n",
    "    \"\"\"Deserializes a JSON string back into a list.\"\"\"\n",
    "    return json.loads(value)"
   ]
  },
  {
   "cell_type": "code",
   "execution_count": 22,
   "metadata": {},
   "outputs": [],
   "source": [
    "def extract_page_content(documents):\n",
    "    return [doc.page_content for doc in documents]"
   ]
  },
  {
   "cell_type": "markdown",
   "metadata": {},
   "source": [
    "### Chunking Strategy 0"
   ]
  },
  {
   "cell_type": "code",
   "execution_count": 44,
   "metadata": {},
   "outputs": [],
   "source": [
    "# Generate all the answers for the questions in the dataset\n",
    "# examples = client.list_examples(dataset_name=\"hr test\")\n",
    "answers_0 = []\n",
    "contexts_0 = []\n",
    "# retrieved_contexts = []\n",
    "for question in data_to_test['question']:\n",
    "    question_dict = {'question': question}\n",
    "    answer = call_openai_0(question_dict)\n",
    "    contexts_0.append(answer['contexts'])\n",
    "    answers_0.append(answer['answer'])"
   ]
  },
  {
   "cell_type": "code",
   "execution_count": 45,
   "metadata": {},
   "outputs": [],
   "source": [
    "# update the dataset with answers and contexts\n",
    "data_to_test['answers'] = answers_0\n",
    "data_to_test['contexts'] = contexts_0"
   ]
  },
  {
   "cell_type": "code",
   "execution_count": null,
   "metadata": {},
   "outputs": [],
   "source": [
    "# Replace empty list context with ['No context'] if there are any\n",
    "def is_empty_list(lst):\n",
    "    return len(lst) == 0\n",
    "data_to_test['contexts'] = data_to_test['contexts'].apply(lambda x: ['No context'] if is_empty_list(x) else x)"
   ]
  },
  {
   "cell_type": "code",
   "execution_count": 56,
   "metadata": {},
   "outputs": [],
   "source": [
    "from datasets import Dataset\n",
    "\n",
    "question = list(data_to_test['question'])\n",
    "answer = list(data_to_test['answers'])\n",
    "contexts = list(data_to_test['contexts'].apply(extract_page_content))\n",
    "ground_truth = list(data_to_test['ground_truth'])\n",
    "\n",
    "data_samples_0 = {\n",
    "    'question': question,\n",
    "    'answer': answer,\n",
    "    'contexts': contexts,\n",
    "    'ground_truth': ground_truth\n",
    "}\n",
    "\n",
    "dataset_0 = Dataset.from_dict(data_samples_0)"
   ]
  },
  {
   "cell_type": "code",
   "execution_count": null,
   "metadata": {},
   "outputs": [],
   "source": [
    "# Optional, uncomment to trace runs with LangSmith. Sign up here: https://smith.langchain.com.\n",
    "# from langsmith import Client\n",
    "# os.environ[\"LANGCHAIN_ENDPOINT\"] = \"https://api.smith.langchain.com\"\n",
    "# os.environ[\"LANGCHAIN_PROJECT\"] = \"Cohere_RAG_Online_Eval\"\n",
    "# os.environ[\"LANGCHAIN_TRACING_V2\"] = \"true\"\n",
    "# os.environ[\"LANGSMITH_API_KEY\"] = os.getenv(\"LANGSMITH_API_KEY\")\n",
    "# client = Client()"
   ]
  },
  {
   "cell_type": "code",
   "execution_count": null,
   "metadata": {},
   "outputs": [],
   "source": [
    "from ragas import evaluate\n",
    "# from ragas.integrations.langsmith import evaluate\n",
    "from ragas.metrics import (\n",
    "    answer_relevancy,\n",
    "    faithfulness,\n",
    "    context_recall,\n",
    "    context_precision,\n",
    ")\n",
    "result_0 = evaluate(\n",
    "    dataset_0,\n",
    "    metrics=[\n",
    "        answer_relevancy,\n",
    "        faithfulness,\n",
    "        context_recall,\n",
    "        context_precision,\n",
    "    ],\n",
    ")"
   ]
  },
  {
   "cell_type": "code",
   "execution_count": 59,
   "metadata": {},
   "outputs": [
    {
     "data": {
      "text/plain": [
       "{'answer_relevancy': 0.9552, 'faithfulness': 0.4109, 'context_recall': 0.3813, 'context_precision': 0.6624}"
      ]
     },
     "execution_count": 59,
     "metadata": {},
     "output_type": "execute_result"
    }
   ],
   "source": [
    "result_0"
   ]
  },
  {
   "cell_type": "code",
   "execution_count": 60,
   "metadata": {},
   "outputs": [
    {
     "data": {
      "text/html": [
       "<div>\n",
       "<style scoped>\n",
       "    .dataframe tbody tr th:only-of-type {\n",
       "        vertical-align: middle;\n",
       "    }\n",
       "\n",
       "    .dataframe tbody tr th {\n",
       "        vertical-align: top;\n",
       "    }\n",
       "\n",
       "    .dataframe thead th {\n",
       "        text-align: right;\n",
       "    }\n",
       "</style>\n",
       "<table border=\"1\" class=\"dataframe\">\n",
       "  <thead>\n",
       "    <tr style=\"text-align: right;\">\n",
       "      <th></th>\n",
       "      <th>question</th>\n",
       "      <th>answer</th>\n",
       "      <th>contexts</th>\n",
       "      <th>ground_truth</th>\n",
       "      <th>answer_relevancy</th>\n",
       "      <th>faithfulness</th>\n",
       "      <th>context_recall</th>\n",
       "      <th>context_precision</th>\n",
       "    </tr>\n",
       "  </thead>\n",
       "  <tbody>\n",
       "    <tr>\n",
       "      <th>0</th>\n",
       "      <td>How does the role of the Senior Director respo...</td>\n",
       "      <td>The Senior Director responsible for Analytics ...</td>\n",
       "      <td>[the Senior Director responsible for Analytics...</td>\n",
       "      <td>The role of the Senior Director responsible fo...</td>\n",
       "      <td>0.925206</td>\n",
       "      <td>0.307692</td>\n",
       "      <td>1.000000</td>\n",
       "      <td>1.000000</td>\n",
       "    </tr>\n",
       "    <tr>\n",
       "      <th>1</th>\n",
       "      <td>What is the importance of identifying and addr...</td>\n",
       "      <td>Identifying and addressing growth areas in sel...</td>\n",
       "      <td>[to identify strengths and areas for improveme...</td>\n",
       "      <td>Identifying and addressing growth areas in sel...</td>\n",
       "      <td>0.990183</td>\n",
       "      <td>0.187500</td>\n",
       "      <td>0.333333</td>\n",
       "      <td>0.000000</td>\n",
       "    </tr>\n",
       "    <tr>\n",
       "      <th>2</th>\n",
       "      <td>What forms of unethical behavior are strictly ...</td>\n",
       "      <td>In the recruitment process of Inc., any form o...</td>\n",
       "      <td>[Inc. upholds the highest ethical standards in...</td>\n",
       "      <td>Favoritism or nepotism</td>\n",
       "      <td>0.920672</td>\n",
       "      <td>0.875000</td>\n",
       "      <td>0.000000</td>\n",
       "      <td>0.961735</td>\n",
       "    </tr>\n",
       "    <tr>\n",
       "      <th>3</th>\n",
       "      <td>What is the significance of emotional and aest...</td>\n",
       "      <td>Emotional and aesthetic labor plays a signific...</td>\n",
       "      <td>[LabourEmotional and aesthetic labor involves ...</td>\n",
       "      <td>Emotional and aesthetic labor in the workplace...</td>\n",
       "      <td>0.974615</td>\n",
       "      <td>0.565217</td>\n",
       "      <td>0.666667</td>\n",
       "      <td>1.000000</td>\n",
       "    </tr>\n",
       "    <tr>\n",
       "      <th>4</th>\n",
       "      <td>What is the purpose of the orientation session...</td>\n",
       "      <td>The purpose of the orientation session at Tech...</td>\n",
       "      <td>[see you thrive at Tech Innovators Inc. Welcom...</td>\n",
       "      <td>The purpose of the orientation session at Tech...</td>\n",
       "      <td>1.000000</td>\n",
       "      <td>0.222222</td>\n",
       "      <td>0.000000</td>\n",
       "      <td>0.000000</td>\n",
       "    </tr>\n",
       "    <tr>\n",
       "      <th>5</th>\n",
       "      <td>What mechanisms are in place for reporting vio...</td>\n",
       "      <td>At Tech Innovators Inc., employees can report ...</td>\n",
       "      <td>[and identify areas for improvement.5.3 Report...</td>\n",
       "      <td>Employees can report violations of labor laws ...</td>\n",
       "      <td>0.962563</td>\n",
       "      <td>0.400000</td>\n",
       "      <td>0.250000</td>\n",
       "      <td>1.000000</td>\n",
       "    </tr>\n",
       "    <tr>\n",
       "      <th>6</th>\n",
       "      <td>How do employee engagement and disengagement d...</td>\n",
       "      <td>Employee engagement and disengagement differ s...</td>\n",
       "      <td>[are motivated and committed, disengaged emplo...</td>\n",
       "      <td>Employee engagement and disengagement differ i...</td>\n",
       "      <td>0.920337</td>\n",
       "      <td>0.529412</td>\n",
       "      <td>1.000000</td>\n",
       "      <td>1.000000</td>\n",
       "    </tr>\n",
       "    <tr>\n",
       "      <th>7</th>\n",
       "      <td>What steps are needed to extract data from Con...</td>\n",
       "      <td>To extract data from Confluence and create a R...</td>\n",
       "      <td>[IntroductionThis guide provides a step-by-ste...</td>\n",
       "      <td>To extract data from Confluence and create a R...</td>\n",
       "      <td>0.921967</td>\n",
       "      <td>0.571429</td>\n",
       "      <td>0.181818</td>\n",
       "      <td>1.000000</td>\n",
       "    </tr>\n",
       "    <tr>\n",
       "      <th>8</th>\n",
       "      <td>How does Tech Innovators Inc. promote employee...</td>\n",
       "      <td>Tech Innovators Inc. promotes employee engagem...</td>\n",
       "      <td>[IntroductionTech Innovators Inc. is committed...</td>\n",
       "      <td>Tech Innovators Inc. promotes employee engagem...</td>\n",
       "      <td>0.980843</td>\n",
       "      <td>0.040000</td>\n",
       "      <td>0.000000</td>\n",
       "      <td>0.000000</td>\n",
       "    </tr>\n",
       "  </tbody>\n",
       "</table>\n",
       "</div>"
      ],
      "text/plain": [
       "                                            question  \\\n",
       "0  How does the role of the Senior Director respo...   \n",
       "1  What is the importance of identifying and addr...   \n",
       "2  What forms of unethical behavior are strictly ...   \n",
       "3  What is the significance of emotional and aest...   \n",
       "4  What is the purpose of the orientation session...   \n",
       "5  What mechanisms are in place for reporting vio...   \n",
       "6  How do employee engagement and disengagement d...   \n",
       "7  What steps are needed to extract data from Con...   \n",
       "8  How does Tech Innovators Inc. promote employee...   \n",
       "\n",
       "                                              answer  \\\n",
       "0  The Senior Director responsible for Analytics ...   \n",
       "1  Identifying and addressing growth areas in sel...   \n",
       "2  In the recruitment process of Inc., any form o...   \n",
       "3  Emotional and aesthetic labor plays a signific...   \n",
       "4  The purpose of the orientation session at Tech...   \n",
       "5  At Tech Innovators Inc., employees can report ...   \n",
       "6  Employee engagement and disengagement differ s...   \n",
       "7  To extract data from Confluence and create a R...   \n",
       "8  Tech Innovators Inc. promotes employee engagem...   \n",
       "\n",
       "                                            contexts  \\\n",
       "0  [the Senior Director responsible for Analytics...   \n",
       "1  [to identify strengths and areas for improveme...   \n",
       "2  [Inc. upholds the highest ethical standards in...   \n",
       "3  [LabourEmotional and aesthetic labor involves ...   \n",
       "4  [see you thrive at Tech Innovators Inc. Welcom...   \n",
       "5  [and identify areas for improvement.5.3 Report...   \n",
       "6  [are motivated and committed, disengaged emplo...   \n",
       "7  [IntroductionThis guide provides a step-by-ste...   \n",
       "8  [IntroductionTech Innovators Inc. is committed...   \n",
       "\n",
       "                                        ground_truth  answer_relevancy  \\\n",
       "0  The role of the Senior Director responsible fo...          0.925206   \n",
       "1  Identifying and addressing growth areas in sel...          0.990183   \n",
       "2                             Favoritism or nepotism          0.920672   \n",
       "3  Emotional and aesthetic labor in the workplace...          0.974615   \n",
       "4  The purpose of the orientation session at Tech...          1.000000   \n",
       "5  Employees can report violations of labor laws ...          0.962563   \n",
       "6  Employee engagement and disengagement differ i...          0.920337   \n",
       "7  To extract data from Confluence and create a R...          0.921967   \n",
       "8  Tech Innovators Inc. promotes employee engagem...          0.980843   \n",
       "\n",
       "   faithfulness  context_recall  context_precision  \n",
       "0      0.307692        1.000000           1.000000  \n",
       "1      0.187500        0.333333           0.000000  \n",
       "2      0.875000        0.000000           0.961735  \n",
       "3      0.565217        0.666667           1.000000  \n",
       "4      0.222222        0.000000           0.000000  \n",
       "5      0.400000        0.250000           1.000000  \n",
       "6      0.529412        1.000000           1.000000  \n",
       "7      0.571429        0.181818           1.000000  \n",
       "8      0.040000        0.000000           0.000000  "
      ]
     },
     "execution_count": 60,
     "metadata": {},
     "output_type": "execute_result"
    }
   ],
   "source": [
    "result_0.to_pandas()"
   ]
  },
  {
   "cell_type": "code",
   "execution_count": 62,
   "metadata": {},
   "outputs": [],
   "source": [
    "file_name = \"test_dataset_it_chunking_0.csv\"\n",
    "json_file_path = os.path.join(from_root(), \"data-test/test_dataset/\", file_name)\n",
    "result_0.to_pandas().to_csv(json_file_path, index=False)"
   ]
  },
  {
   "cell_type": "markdown",
   "metadata": {},
   "source": [
    "### Chunking Strategy 1"
   ]
  },
  {
   "cell_type": "code",
   "execution_count": 12,
   "metadata": {},
   "outputs": [],
   "source": [
    "from from_root import from_root\n",
    "import os\n",
    "file_name = \"test_dataset_it.json\"\n",
    "json_file_path = os.path.join(from_root(), \"data-test/test_dataset/\", file_name)\n",
    "data_to_test_1 = json_to_dataframe(json_file_path)"
   ]
  },
  {
   "cell_type": "code",
   "execution_count": 13,
   "metadata": {},
   "outputs": [],
   "source": [
    "# Generate all the answers for the questions in the dataset\n",
    "# examples = client.list_examples(dataset_name=\"hr test\")\n",
    "answers_1 = []\n",
    "contexts_1 = []\n",
    "# retrieved_contexts = []\n",
    "for question in data_to_test_1['question']:\n",
    "    question_dict = {'question': question}\n",
    "    answer = call_openai_1(question_dict)\n",
    "    contexts_1.append(answer['contexts'])\n",
    "    answers_1.append(answer['answer'])"
   ]
  },
  {
   "cell_type": "code",
   "execution_count": 14,
   "metadata": {},
   "outputs": [],
   "source": [
    "# update the dataset with answers\n",
    "data_to_test_1['answers'] = answers_1\n",
    "data_to_test_1['contexts'] = contexts_1"
   ]
  },
  {
   "cell_type": "code",
   "execution_count": 15,
   "metadata": {},
   "outputs": [],
   "source": [
    "# Replace empty list context with ['No context'] if there are any\n",
    "def is_empty_list(lst):\n",
    "    return len(lst) == 0\n",
    "data_to_test_1['contexts'] = data_to_test_1['contexts'].apply(lambda x: ['No context'] if is_empty_list(x) else x)"
   ]
  },
  {
   "cell_type": "code",
   "execution_count": 23,
   "metadata": {},
   "outputs": [],
   "source": [
    "from datasets import Dataset\n",
    "\n",
    "question = list(data_to_test_1['question'])\n",
    "answer = list(data_to_test_1['answers'])\n",
    "contexts = list(data_to_test_1['contexts'].apply(extract_page_content))\n",
    "ground_truth = list(data_to_test_1['ground_truth'])\n",
    "\n",
    "data_samples_1 = {\n",
    "    'question': question,\n",
    "    'answer': answer,\n",
    "    'contexts': contexts,\n",
    "    'ground_truth': ground_truth\n",
    "}\n",
    "\n",
    "dataset_1 = Dataset.from_dict(data_samples_1)"
   ]
  },
  {
   "cell_type": "code",
   "execution_count": null,
   "metadata": {},
   "outputs": [],
   "source": [
    "# Optional, uncomment to trace runs with LangSmith. Sign up here: https://smith.langchain.com.\n",
    "# from langsmith import Client\n",
    "# os.environ[\"LANGCHAIN_ENDPOINT\"] = \"https://api.smith.langchain.com\"\n",
    "# os.environ[\"LANGCHAIN_PROJECT\"] = \"Cohere_RAG_Online_Eval\"\n",
    "# os.environ[\"LANGCHAIN_TRACING_V2\"] = \"true\"\n",
    "# os.environ[\"LANGSMITH_API_KEY\"] = os.getenv(\"LANGSMITH_API_KEY\")\n",
    "# client = Client()"
   ]
  },
  {
   "cell_type": "code",
   "execution_count": 26,
   "metadata": {},
   "outputs": [
    {
     "data": {
      "application/vnd.jupyter.widget-view+json": {
       "model_id": "c3ab1597c5fc417d8eb5dbc3864d6f81",
       "version_major": 2,
       "version_minor": 0
      },
      "text/plain": [
       "Evaluating:   0%|          | 0/36 [00:00<?, ?it/s]"
      ]
     },
     "metadata": {},
     "output_type": "display_data"
    }
   ],
   "source": [
    "from ragas import evaluate\n",
    "# from ragas.integrations.langsmith import evaluate\n",
    "from ragas.metrics import (\n",
    "    answer_relevancy,\n",
    "    faithfulness,\n",
    "    context_recall,\n",
    "    context_precision,\n",
    ")\n",
    "result_1 = evaluate(\n",
    "    dataset_1,\n",
    "    metrics=[\n",
    "        answer_relevancy,\n",
    "        faithfulness,\n",
    "        context_recall,\n",
    "        context_precision,\n",
    "    ],\n",
    ")"
   ]
  },
  {
   "cell_type": "code",
   "execution_count": 27,
   "metadata": {},
   "outputs": [
    {
     "data": {
      "text/plain": [
       "{'answer_relevancy': 0.6372, 'faithfulness': 0.2407, 'context_recall': 0.0000, 'context_precision': 0.0000}"
      ]
     },
     "execution_count": 27,
     "metadata": {},
     "output_type": "execute_result"
    }
   ],
   "source": [
    "result_1"
   ]
  },
  {
   "cell_type": "code",
   "execution_count": 28,
   "metadata": {},
   "outputs": [
    {
     "data": {
      "text/html": [
       "<div>\n",
       "<style scoped>\n",
       "    .dataframe tbody tr th:only-of-type {\n",
       "        vertical-align: middle;\n",
       "    }\n",
       "\n",
       "    .dataframe tbody tr th {\n",
       "        vertical-align: top;\n",
       "    }\n",
       "\n",
       "    .dataframe thead th {\n",
       "        text-align: right;\n",
       "    }\n",
       "</style>\n",
       "<table border=\"1\" class=\"dataframe\">\n",
       "  <thead>\n",
       "    <tr style=\"text-align: right;\">\n",
       "      <th></th>\n",
       "      <th>question</th>\n",
       "      <th>answer</th>\n",
       "      <th>contexts</th>\n",
       "      <th>ground_truth</th>\n",
       "      <th>answer_relevancy</th>\n",
       "      <th>faithfulness</th>\n",
       "      <th>context_recall</th>\n",
       "      <th>context_precision</th>\n",
       "    </tr>\n",
       "  </thead>\n",
       "  <tbody>\n",
       "    <tr>\n",
       "      <th>0</th>\n",
       "      <td>How does the role of the Senior Director respo...</td>\n",
       "      <td>The Senior Director responsible for Analytics ...</td>\n",
       "      <td>[immediate attention to avoid delays in custom...</td>\n",
       "      <td>The role of the Senior Director responsible fo...</td>\n",
       "      <td>0.983052</td>\n",
       "      <td>0.000000</td>\n",
       "      <td>0.0</td>\n",
       "      <td>0.0</td>\n",
       "    </tr>\n",
       "    <tr>\n",
       "      <th>1</th>\n",
       "      <td>What is the importance of identifying and addr...</td>\n",
       "      <td>Identifying and addressing growth areas in sel...</td>\n",
       "      <td>[must receive regular training on Azure securi...</td>\n",
       "      <td>Identifying and addressing growth areas in sel...</td>\n",
       "      <td>0.908362</td>\n",
       "      <td>0.000000</td>\n",
       "      <td>0.0</td>\n",
       "      <td>0.0</td>\n",
       "    </tr>\n",
       "    <tr>\n",
       "      <th>2</th>\n",
       "      <td>What forms of unethical behavior are strictly ...</td>\n",
       "      <td>The recruitment process at Tech Innovators Inc...</td>\n",
       "      <td>[promptly.9.2 PenaltiesEmployees found in viol...</td>\n",
       "      <td>Favoritism or nepotism</td>\n",
       "      <td>0.934730</td>\n",
       "      <td>0.000000</td>\n",
       "      <td>0.0</td>\n",
       "      <td>0.0</td>\n",
       "    </tr>\n",
       "    <tr>\n",
       "      <th>3</th>\n",
       "      <td>What is the significance of emotional and aest...</td>\n",
       "      <td>Emotional and aesthetic labor in the workplace...</td>\n",
       "      <td>[promptly.9.2 PenaltiesEmployees found in viol...</td>\n",
       "      <td>Emotional and aesthetic labor in the workplace...</td>\n",
       "      <td>0.979084</td>\n",
       "      <td>0.000000</td>\n",
       "      <td>0.0</td>\n",
       "      <td>0.0</td>\n",
       "    </tr>\n",
       "    <tr>\n",
       "      <th>4</th>\n",
       "      <td>What is the purpose of the orientation session...</td>\n",
       "      <td>I'm sorry, but I don't have information regard...</td>\n",
       "      <td>[Innovators Inc.#12, IT parkTech city, Tech st...</td>\n",
       "      <td>The purpose of the orientation session at Tech...</td>\n",
       "      <td>0.000000</td>\n",
       "      <td>1.000000</td>\n",
       "      <td>0.0</td>\n",
       "      <td>0.0</td>\n",
       "    </tr>\n",
       "    <tr>\n",
       "      <th>5</th>\n",
       "      <td>What mechanisms are in place for reporting vio...</td>\n",
       "      <td>I don't have specific information regarding th...</td>\n",
       "      <td>[automated tools.Any violations of this policy...</td>\n",
       "      <td>Employees can report violations of labor laws ...</td>\n",
       "      <td>0.000000</td>\n",
       "      <td>0.333333</td>\n",
       "      <td>0.0</td>\n",
       "      <td>0.0</td>\n",
       "    </tr>\n",
       "    <tr>\n",
       "      <th>6</th>\n",
       "      <td>How do employee engagement and disengagement d...</td>\n",
       "      <td>Employee engagement and disengagement differ s...</td>\n",
       "      <td>[promptly.9.2 PenaltiesEmployees found in viol...</td>\n",
       "      <td>Employee engagement and disengagement differ i...</td>\n",
       "      <td>0.933077</td>\n",
       "      <td>0.000000</td>\n",
       "      <td>0.0</td>\n",
       "      <td>0.0</td>\n",
       "    </tr>\n",
       "    <tr>\n",
       "      <th>7</th>\n",
       "      <td>What steps are needed to extract data from Con...</td>\n",
       "      <td>To extract data from Confluence and create a R...</td>\n",
       "      <td>[com.atlassian.confluence.project-linker\\nproj...</td>\n",
       "      <td>To extract data from Confluence and create a R...</td>\n",
       "      <td>0.996660</td>\n",
       "      <td>0.500000</td>\n",
       "      <td>0.0</td>\n",
       "      <td>0.0</td>\n",
       "    </tr>\n",
       "    <tr>\n",
       "      <th>8</th>\n",
       "      <td>How does Tech Innovators Inc. promote employee...</td>\n",
       "      <td>I'm sorry, but I don't have information on how...</td>\n",
       "      <td>[Innovators Inc.#12, IT parkTech city, Tech st...</td>\n",
       "      <td>Tech Innovators Inc. promotes employee engagem...</td>\n",
       "      <td>0.000000</td>\n",
       "      <td>0.333333</td>\n",
       "      <td>0.0</td>\n",
       "      <td>0.0</td>\n",
       "    </tr>\n",
       "  </tbody>\n",
       "</table>\n",
       "</div>"
      ],
      "text/plain": [
       "                                            question  \\\n",
       "0  How does the role of the Senior Director respo...   \n",
       "1  What is the importance of identifying and addr...   \n",
       "2  What forms of unethical behavior are strictly ...   \n",
       "3  What is the significance of emotional and aest...   \n",
       "4  What is the purpose of the orientation session...   \n",
       "5  What mechanisms are in place for reporting vio...   \n",
       "6  How do employee engagement and disengagement d...   \n",
       "7  What steps are needed to extract data from Con...   \n",
       "8  How does Tech Innovators Inc. promote employee...   \n",
       "\n",
       "                                              answer  \\\n",
       "0  The Senior Director responsible for Analytics ...   \n",
       "1  Identifying and addressing growth areas in sel...   \n",
       "2  The recruitment process at Tech Innovators Inc...   \n",
       "3  Emotional and aesthetic labor in the workplace...   \n",
       "4  I'm sorry, but I don't have information regard...   \n",
       "5  I don't have specific information regarding th...   \n",
       "6  Employee engagement and disengagement differ s...   \n",
       "7  To extract data from Confluence and create a R...   \n",
       "8  I'm sorry, but I don't have information on how...   \n",
       "\n",
       "                                            contexts  \\\n",
       "0  [immediate attention to avoid delays in custom...   \n",
       "1  [must receive regular training on Azure securi...   \n",
       "2  [promptly.9.2 PenaltiesEmployees found in viol...   \n",
       "3  [promptly.9.2 PenaltiesEmployees found in viol...   \n",
       "4  [Innovators Inc.#12, IT parkTech city, Tech st...   \n",
       "5  [automated tools.Any violations of this policy...   \n",
       "6  [promptly.9.2 PenaltiesEmployees found in viol...   \n",
       "7  [com.atlassian.confluence.project-linker\\nproj...   \n",
       "8  [Innovators Inc.#12, IT parkTech city, Tech st...   \n",
       "\n",
       "                                        ground_truth  answer_relevancy  \\\n",
       "0  The role of the Senior Director responsible fo...          0.983052   \n",
       "1  Identifying and addressing growth areas in sel...          0.908362   \n",
       "2                             Favoritism or nepotism          0.934730   \n",
       "3  Emotional and aesthetic labor in the workplace...          0.979084   \n",
       "4  The purpose of the orientation session at Tech...          0.000000   \n",
       "5  Employees can report violations of labor laws ...          0.000000   \n",
       "6  Employee engagement and disengagement differ i...          0.933077   \n",
       "7  To extract data from Confluence and create a R...          0.996660   \n",
       "8  Tech Innovators Inc. promotes employee engagem...          0.000000   \n",
       "\n",
       "   faithfulness  context_recall  context_precision  \n",
       "0      0.000000             0.0                0.0  \n",
       "1      0.000000             0.0                0.0  \n",
       "2      0.000000             0.0                0.0  \n",
       "3      0.000000             0.0                0.0  \n",
       "4      1.000000             0.0                0.0  \n",
       "5      0.333333             0.0                0.0  \n",
       "6      0.000000             0.0                0.0  \n",
       "7      0.500000             0.0                0.0  \n",
       "8      0.333333             0.0                0.0  "
      ]
     },
     "execution_count": 28,
     "metadata": {},
     "output_type": "execute_result"
    }
   ],
   "source": [
    "result_1.to_pandas()"
   ]
  },
  {
   "cell_type": "code",
   "execution_count": 29,
   "metadata": {},
   "outputs": [],
   "source": [
    "# Save the extracted data for evaluation use\n",
    "file_name = \"eval_result_dataset_hr_chunking1.csv\"\n",
    "result_1.to_pandas().to_csv(os.path.join(from_root(), \"data-test/test_dataset/\", file_name), index=False)"
   ]
  },
  {
   "cell_type": "markdown",
   "metadata": {},
   "source": [
    "### Chunking Strategy 2"
   ]
  },
  {
   "cell_type": "code",
   "execution_count": 79,
   "metadata": {},
   "outputs": [],
   "source": [
    "from from_root import from_root\n",
    "import os\n",
    "file_name = \"test_dataset_it.json\"\n",
    "json_file_path = os.path.join(from_root(), \"data-test/test_dataset/\", file_name)\n",
    "data_to_test_2 = json_to_dataframe(json_file_path)"
   ]
  },
  {
   "cell_type": "code",
   "execution_count": 81,
   "metadata": {},
   "outputs": [],
   "source": [
    "# Generate all the answers for the questions in the dataset\n",
    "# examples = client.list_examples(dataset_name=\"hr test\")\n",
    "answers_2 = []\n",
    "contexts_2 = []\n",
    "# retrieved_contexts = []\n",
    "for question in data_to_test_2['question']:\n",
    "    question_dict = {'question': question}\n",
    "    answer = call_openai_2(question_dict)\n",
    "    contexts_2.append(answer['contexts'])\n",
    "    answers_2.append(answer['answer'])"
   ]
  },
  {
   "cell_type": "code",
   "execution_count": 83,
   "metadata": {},
   "outputs": [],
   "source": [
    "# update the dataset with answers and contexts\n",
    "data_to_test_2['answers'] = answers_2\n",
    "data_to_test_2['contexts'] = contexts_2"
   ]
  },
  {
   "cell_type": "code",
   "execution_count": null,
   "metadata": {},
   "outputs": [],
   "source": [
    "# Replace empty list context with ['No context'] if there are any \n",
    "def is_empty_list(lst):\n",
    "    return len(lst) == 0\n",
    "data_to_test_2['contexts'] = data_to_test_2['contexts'].apply(lambda x: ['No context'] if is_empty_list(x) else x)"
   ]
  },
  {
   "cell_type": "code",
   "execution_count": 88,
   "metadata": {},
   "outputs": [],
   "source": [
    "from datasets import Dataset\n",
    "\n",
    "question = list(data_to_test_2['question'])\n",
    "answer = list(data_to_test_2['answers'])\n",
    "contexts = list(data_to_test_2['contexts'])\n",
    "ground_truth = list(data_to_test_2['ground_truth'])\n",
    "\n",
    "data_samples_2 = {\n",
    "    'question': question,\n",
    "    'answer': answer,\n",
    "    'contexts': contexts,\n",
    "    'ground_truth': ground_truth\n",
    "}\n",
    "\n",
    "dataset_2 = Dataset.from_dict(data_samples_2)"
   ]
  },
  {
   "cell_type": "code",
   "execution_count": null,
   "metadata": {},
   "outputs": [],
   "source": [
    "# Optional, uncomment to trace runs with LangSmith. Sign up here: https://smith.langchain.com.\n",
    "# from langsmith import Client\n",
    "# os.environ[\"LANGCHAIN_ENDPOINT\"] = \"https://api.smith.langchain.com\"\n",
    "# os.environ[\"LANGCHAIN_PROJECT\"] = \"Cohere_RAG_Online_Eval\"\n",
    "# os.environ[\"LANGCHAIN_TRACING_V2\"] = \"true\"\n",
    "# os.environ[\"LANGSMITH_API_KEY\"] = os.getenv(\"LANGSMITH_API_KEY\")\n",
    "# client = Client()"
   ]
  },
  {
   "cell_type": "code",
   "execution_count": 90,
   "metadata": {},
   "outputs": [
    {
     "data": {
      "application/vnd.jupyter.widget-view+json": {
       "model_id": "f4bf4fbf500c40a6846ee2f0bbebfa54",
       "version_major": 2,
       "version_minor": 0
      },
      "text/plain": [
       "Evaluating:   0%|          | 0/36 [00:00<?, ?it/s]"
      ]
     },
     "metadata": {},
     "output_type": "display_data"
    }
   ],
   "source": [
    "from ragas import evaluate\n",
    "# from ragas.integrations.langsmith import evaluate\n",
    "from ragas.metrics import (\n",
    "    answer_relevancy,\n",
    "    faithfulness,\n",
    "    context_recall,\n",
    "    context_precision,\n",
    ")\n",
    "result_2 = evaluate(\n",
    "    dataset_2,\n",
    "    metrics=[\n",
    "        answer_relevancy,\n",
    "        faithfulness,\n",
    "        context_recall,\n",
    "        context_precision,\n",
    "    ],\n",
    ")"
   ]
  },
  {
   "cell_type": "code",
   "execution_count": 91,
   "metadata": {},
   "outputs": [
    {
     "data": {
      "text/plain": [
       "{'answer_relevancy': 0.9585, 'faithfulness': 0.5833, 'context_recall': 0.5242, 'context_precision': 0.6198}"
      ]
     },
     "execution_count": 91,
     "metadata": {},
     "output_type": "execute_result"
    }
   ],
   "source": [
    "result_2"
   ]
  },
  {
   "cell_type": "code",
   "execution_count": 92,
   "metadata": {},
   "outputs": [
    {
     "data": {
      "text/html": [
       "<div>\n",
       "<style scoped>\n",
       "    .dataframe tbody tr th:only-of-type {\n",
       "        vertical-align: middle;\n",
       "    }\n",
       "\n",
       "    .dataframe tbody tr th {\n",
       "        vertical-align: top;\n",
       "    }\n",
       "\n",
       "    .dataframe thead th {\n",
       "        text-align: right;\n",
       "    }\n",
       "</style>\n",
       "<table border=\"1\" class=\"dataframe\">\n",
       "  <thead>\n",
       "    <tr style=\"text-align: right;\">\n",
       "      <th></th>\n",
       "      <th>question</th>\n",
       "      <th>answer</th>\n",
       "      <th>contexts</th>\n",
       "      <th>ground_truth</th>\n",
       "      <th>answer_relevancy</th>\n",
       "      <th>faithfulness</th>\n",
       "      <th>context_recall</th>\n",
       "      <th>context_precision</th>\n",
       "    </tr>\n",
       "  </thead>\n",
       "  <tbody>\n",
       "    <tr>\n",
       "      <th>0</th>\n",
       "      <td>How does the role of the Senior Director respo...</td>\n",
       "      <td>The Senior Director responsible for Analytics ...</td>\n",
       "      <td>[page_content='initiatives.Feedback Loop: Impl...</td>\n",
       "      <td>The role of the Senior Director responsible fo...</td>\n",
       "      <td>0.921495</td>\n",
       "      <td>0.500000</td>\n",
       "      <td>0.545455</td>\n",
       "      <td>0.785670</td>\n",
       "    </tr>\n",
       "    <tr>\n",
       "      <th>1</th>\n",
       "      <td>What is the importance of identifying and addr...</td>\n",
       "      <td>Identifying and addressing growth areas in sel...</td>\n",
       "      <td>[page_content='assessments are used to ensure ...</td>\n",
       "      <td>Identifying and addressing growth areas in sel...</td>\n",
       "      <td>0.990183</td>\n",
       "      <td>0.400000</td>\n",
       "      <td>0.000000</td>\n",
       "      <td>0.000000</td>\n",
       "    </tr>\n",
       "    <tr>\n",
       "      <th>2</th>\n",
       "      <td>What forms of unethical behavior are strictly ...</td>\n",
       "      <td>In the recruitment process at Tech Innovators ...</td>\n",
       "      <td>[page_content='standards in all recruitment ac...</td>\n",
       "      <td>Favoritism or nepotism</td>\n",
       "      <td>0.886105</td>\n",
       "      <td>0.857143</td>\n",
       "      <td>1.000000</td>\n",
       "      <td>0.683333</td>\n",
       "    </tr>\n",
       "    <tr>\n",
       "      <th>3</th>\n",
       "      <td>What is the significance of emotional and aest...</td>\n",
       "      <td>Emotional and aesthetic labor are significant ...</td>\n",
       "      <td>[page_content='healthy work-life balance and p...</td>\n",
       "      <td>Emotional and aesthetic labor in the workplace...</td>\n",
       "      <td>0.976493</td>\n",
       "      <td>0.750000</td>\n",
       "      <td>1.000000</td>\n",
       "      <td>1.000000</td>\n",
       "    </tr>\n",
       "    <tr>\n",
       "      <th>4</th>\n",
       "      <td>What is the purpose of the orientation session...</td>\n",
       "      <td>The purpose of the orientation session at Tech...</td>\n",
       "      <td>[page_content='Welcome to Tech Innovators Inc....</td>\n",
       "      <td>The purpose of the orientation session at Tech...</td>\n",
       "      <td>0.999999</td>\n",
       "      <td>0.181818</td>\n",
       "      <td>0.000000</td>\n",
       "      <td>0.250000</td>\n",
       "    </tr>\n",
       "    <tr>\n",
       "      <th>5</th>\n",
       "      <td>What mechanisms are in place for reporting vio...</td>\n",
       "      <td>At Tech Innovators Inc., employees can report ...</td>\n",
       "      <td>[page_content='IntroductionTech Innovators Inc...</td>\n",
       "      <td>Employees can report violations of labor laws ...</td>\n",
       "      <td>0.962563</td>\n",
       "      <td>0.666667</td>\n",
       "      <td>0.500000</td>\n",
       "      <td>0.281548</td>\n",
       "    </tr>\n",
       "    <tr>\n",
       "      <th>6</th>\n",
       "      <td>How do employee engagement and disengagement d...</td>\n",
       "      <td>Employee engagement and disengagement differ s...</td>\n",
       "      <td>[page_content='Employee Engagement?Employee en...</td>\n",
       "      <td>Employee engagement and disengagement differ i...</td>\n",
       "      <td>0.960525</td>\n",
       "      <td>0.782609</td>\n",
       "      <td>1.000000</td>\n",
       "      <td>0.864435</td>\n",
       "    </tr>\n",
       "    <tr>\n",
       "      <th>7</th>\n",
       "      <td>What steps are needed to extract data from Con...</td>\n",
       "      <td>To extract data from Confluence and create a R...</td>\n",
       "      <td>[page_content='IntroductionThis guide provides...</td>\n",
       "      <td>To extract data from Confluence and create a R...</td>\n",
       "      <td>0.948293</td>\n",
       "      <td>0.666667</td>\n",
       "      <td>0.272727</td>\n",
       "      <td>0.880258</td>\n",
       "    </tr>\n",
       "    <tr>\n",
       "      <th>8</th>\n",
       "      <td>How does Tech Innovators Inc. promote employee...</td>\n",
       "      <td>Tech Innovators Inc. promotes employee engagem...</td>\n",
       "      <td>[page_content='opportunities. Employment Relat...</td>\n",
       "      <td>Tech Innovators Inc. promotes employee engagem...</td>\n",
       "      <td>0.980843</td>\n",
       "      <td>0.444444</td>\n",
       "      <td>0.400000</td>\n",
       "      <td>0.833333</td>\n",
       "    </tr>\n",
       "  </tbody>\n",
       "</table>\n",
       "</div>"
      ],
      "text/plain": [
       "                                            question  \\\n",
       "0  How does the role of the Senior Director respo...   \n",
       "1  What is the importance of identifying and addr...   \n",
       "2  What forms of unethical behavior are strictly ...   \n",
       "3  What is the significance of emotional and aest...   \n",
       "4  What is the purpose of the orientation session...   \n",
       "5  What mechanisms are in place for reporting vio...   \n",
       "6  How do employee engagement and disengagement d...   \n",
       "7  What steps are needed to extract data from Con...   \n",
       "8  How does Tech Innovators Inc. promote employee...   \n",
       "\n",
       "                                              answer  \\\n",
       "0  The Senior Director responsible for Analytics ...   \n",
       "1  Identifying and addressing growth areas in sel...   \n",
       "2  In the recruitment process at Tech Innovators ...   \n",
       "3  Emotional and aesthetic labor are significant ...   \n",
       "4  The purpose of the orientation session at Tech...   \n",
       "5  At Tech Innovators Inc., employees can report ...   \n",
       "6  Employee engagement and disengagement differ s...   \n",
       "7  To extract data from Confluence and create a R...   \n",
       "8  Tech Innovators Inc. promotes employee engagem...   \n",
       "\n",
       "                                            contexts  \\\n",
       "0  [page_content='initiatives.Feedback Loop: Impl...   \n",
       "1  [page_content='assessments are used to ensure ...   \n",
       "2  [page_content='standards in all recruitment ac...   \n",
       "3  [page_content='healthy work-life balance and p...   \n",
       "4  [page_content='Welcome to Tech Innovators Inc....   \n",
       "5  [page_content='IntroductionTech Innovators Inc...   \n",
       "6  [page_content='Employee Engagement?Employee en...   \n",
       "7  [page_content='IntroductionThis guide provides...   \n",
       "8  [page_content='opportunities. Employment Relat...   \n",
       "\n",
       "                                        ground_truth  answer_relevancy  \\\n",
       "0  The role of the Senior Director responsible fo...          0.921495   \n",
       "1  Identifying and addressing growth areas in sel...          0.990183   \n",
       "2                             Favoritism or nepotism          0.886105   \n",
       "3  Emotional and aesthetic labor in the workplace...          0.976493   \n",
       "4  The purpose of the orientation session at Tech...          0.999999   \n",
       "5  Employees can report violations of labor laws ...          0.962563   \n",
       "6  Employee engagement and disengagement differ i...          0.960525   \n",
       "7  To extract data from Confluence and create a R...          0.948293   \n",
       "8  Tech Innovators Inc. promotes employee engagem...          0.980843   \n",
       "\n",
       "   faithfulness  context_recall  context_precision  \n",
       "0      0.500000        0.545455           0.785670  \n",
       "1      0.400000        0.000000           0.000000  \n",
       "2      0.857143        1.000000           0.683333  \n",
       "3      0.750000        1.000000           1.000000  \n",
       "4      0.181818        0.000000           0.250000  \n",
       "5      0.666667        0.500000           0.281548  \n",
       "6      0.782609        1.000000           0.864435  \n",
       "7      0.666667        0.272727           0.880258  \n",
       "8      0.444444        0.400000           0.833333  "
      ]
     },
     "execution_count": 92,
     "metadata": {},
     "output_type": "execute_result"
    }
   ],
   "source": [
    "result_2.to_pandas()"
   ]
  },
  {
   "cell_type": "code",
   "execution_count": 93,
   "metadata": {},
   "outputs": [],
   "source": [
    "# Save the extracted data for evaluation use\n",
    "file_name = \"eval_result_dataset_hr_chunking2.csv\"\n",
    "result_2.to_pandas().to_csv(os.path.join(from_root(), \"data-test/test_dataset/\", file_name), index=False)"
   ]
  }
 ],
 "metadata": {
  "kernelspec": {
   "display_name": "venv",
   "language": "python",
   "name": "python3"
  },
  "language_info": {
   "codemirror_mode": {
    "name": "ipython",
    "version": 3
   },
   "file_extension": ".py",
   "mimetype": "text/x-python",
   "name": "python",
   "nbconvert_exporter": "python",
   "pygments_lexer": "ipython3",
   "version": "3.11.9"
  }
 },
 "nbformat": 4,
 "nbformat_minor": 2
}
