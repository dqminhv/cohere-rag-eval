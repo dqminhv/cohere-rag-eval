{
 "cells": [
  {
   "cell_type": "code",
   "execution_count": 2,
   "metadata": {},
   "outputs": [
    {
     "data": {
      "text/plain": [
       "True"
      ]
     },
     "execution_count": 2,
     "metadata": {},
     "output_type": "execute_result"
    }
   ],
   "source": [
    "import os\n",
    "from dotenv import load_dotenv\n",
    "load_dotenv(encoding='utf-8')"
   ]
  },
  {
   "cell_type": "markdown",
   "metadata": {},
   "source": [
    "# RAG pipeline"
   ]
  },
  {
   "cell_type": "markdown",
   "metadata": {},
   "source": [
    "## Vector Store and Retriever"
   ]
  },
  {
   "cell_type": "code",
   "execution_count": 3,
   "metadata": {},
   "outputs": [],
   "source": [
    "from langchain_core.output_parsers import StrOutputParser\n",
    "from langchain_core.runnables import RunnablePassthrough\n",
    "from langchain_mongodb import MongoDBAtlasVectorSearch\n",
    "from langchain_openai import ChatOpenAI, OpenAIEmbeddings\n",
    "from langchain.prompts import PromptTemplate\n",
    "from pymongo import MongoClient"
   ]
  },
  {
   "cell_type": "code",
   "execution_count": 4,
   "metadata": {},
   "outputs": [],
   "source": [
    "os.environ[\"OPENAI_API_KEY\"] = os.getenv(\"OPENAI_API_KEY\")\n",
    "llm = ChatOpenAI(model=os.getenv(\"DEFAULT_OPENAI_MODEL\"))\n",
    "# embedding_model=OpenAIEmbeddings(model=os.getenv(\"DEFAULT_OPENAI_EMBEDDING\"), disallowed_special=())\n",
    "embedding_model=OpenAIEmbeddings(disallowed_special=())"
   ]
  },
  {
   "cell_type": "code",
   "execution_count": 5,
   "metadata": {},
   "outputs": [],
   "source": [
    "# Define MongoDB vector database\n",
    "client = MongoClient(os.getenv(\"ATLAS_CONNECTION_STRING\"))\n",
    "db_name = os.getenv(\"db_name\")\n",
    "collection_name = os.getenv(\"collection_name\")\n",
    "atlas_collection = client[db_name][collection_name]\n",
    "index_name = os.getenv(\"index_name\")\n",
    "\n",
    "vector_store = MongoDBAtlasVectorSearch(\n",
    "    embedding = embedding_model,\n",
    "    collection = atlas_collection,\n",
    "    index_name = index_name\n",
    ")\n",
    "\n",
    "retriever = vector_store.as_retriever(\n",
    "    search_type = \"similarity\",\n",
    "    search_kwargs = { \"k\": 10}  # \"score_threshold\": 0.75 \n",
    ")"
   ]
  },
  {
   "cell_type": "markdown",
   "metadata": {},
   "source": [
    "## RAG with different prompt templates"
   ]
  },
  {
   "cell_type": "markdown",
   "metadata": {},
   "source": [
    "### Base Template"
   ]
  },
  {
   "cell_type": "code",
   "execution_count": 8,
   "metadata": {},
   "outputs": [],
   "source": [
    "# Define a prompt template\n",
    "import pprint\n",
    "def call_openai_template_1(question):\n",
    "\n",
    "   question = question['question']\n",
    "\n",
    "   base_template = \"\"\"\n",
    "   Use the following pieces of context to answer the question at the end.\n",
    "   If you don't know the answer, just say that you don't know, don't try to make up an answer.\n",
    "\n",
    "   {context}\n",
    "\n",
    "   Question: {question}\n",
    "   \"\"\"\n",
    "   custom_rag_prompt = PromptTemplate.from_template(base_template)\n",
    "\n",
    "   #llm = get_llm_model(\"openai\")\n",
    "   llm = ChatOpenAI(model=os.getenv(\"DEFAULT_OPENAI_MODEL\"))\n",
    "\n",
    "   def format_docs(docs):\n",
    "      return \"\\n\\n\".join(doc.page_content for doc in docs)\n",
    "\n",
    "   # Construct a chain to answer questions on your data\n",
    "   rag_chain = (\n",
    "      { \"context\": retriever | format_docs, \"question\": RunnablePassthrough()}\n",
    "      | custom_rag_prompt\n",
    "      | llm\n",
    "      | StrOutputParser()\n",
    "   )\n",
    "\n",
    "   # Prompt the chain\n",
    "   question = question\n",
    "   answer = rag_chain.invoke(question)\n",
    "   similar = retriever.invoke(question)\n",
    "\n",
    "\n",
    "   return{\n",
    "      'answer': answer,\n",
    "      'contexts': [str(doc) for doc in similar]\n",
    "      }"
   ]
  },
  {
   "cell_type": "code",
   "execution_count": 9,
   "metadata": {},
   "outputs": [
    {
     "name": "stdout",
     "output_type": "stream",
     "text": [
      "A supportive culture positively impacts employee engagement by fostering an environment where employees feel valued, heard, and empowered. When employ\n"
     ]
    }
   ],
   "source": [
    "# Test sample\n",
    "question = {'question': \"How does a supportive culture impact employee engagement and align with Tech Innovators Inc.'s approach to employment relations and engagement?\"}\n",
    "answer = call_openai_template_1(question)\n",
    "print(answer['answer'][:150])"
   ]
  },
  {
   "cell_type": "code",
   "execution_count": 10,
   "metadata": {},
   "outputs": [
    {
     "name": "stdout",
     "output_type": "stream",
     "text": [
      "[\"page_content='employees and management.Employee Involvement: Involving employees in decision-making processes and seeking their input on matters that affect them.Supportive Culture: Creating a supportive culture' metadata={'_id': '66d8163d0533e009aa2d4b0f', 'pageid': '491566', 'department': 'HR', 'title': 'Employee Relations and Engagement at Tech Innovators Inc.'}\", \"page_content='employees and management.Employee Involvement: Involving employees in decision-making processes and seeking their input on matters that affect them.Supportive Culture: Creating a supportive culture' metadata={'_id': '66d816590533e009aa2d4d34', 'pageid': '491566', 'department': 'HR', 'title': 'Employee Relations and Engagement at Tech Innovators Inc.'}\", \"page_content='employees and management.Employee Involvement: Involving employees in decision-making processes and seeking their input on matters that affect them.Supportive Culture: Creating a supportive culture' metadata={'_id': '66d816750533e009aa2d4f59', 'pageid': '491566', 'department': 'HR', 'title': 'Employee Relations and Engagement at Tech Innovators Inc.'}\", \"page_content='employees and management.Employee Involvement: Involving employees in decision-making processes and seeking their input on matters that affect them.Supportive Culture: Creating a supportive culture' metadata={'_id': '66d816900533e009aa2d517e', 'pageid': '491566', 'department': 'HR', 'title': 'Employee Relations and Engagement at Tech Innovators Inc.'}\", \"page_content='IntroductionAt Tech Innovators Inc., we believe that employee engagement is crucial to our success. This document provides a comprehensive overview of employee engagement, its critical aspects, and' metadata={'_id': '66d8163d0533e009aa2d4b06', 'pageid': '491566', 'department': 'HR', 'title': 'Employee Relations and Engagement at Tech Innovators Inc.'}\", \"page_content='IntroductionAt Tech Innovators Inc., we believe that employee engagement is crucial to our success. This document provides a comprehensive overview of employee engagement, its critical aspects, and' metadata={'_id': '66d816750533e009aa2d4f50', 'pageid': '491566', 'department': 'HR', 'title': 'Employee Relations and Engagement at Tech Innovators Inc.'}\", \"page_content='IntroductionAt Tech Innovators Inc., we believe that employee engagement is crucial to our success. This document provides a comprehensive overview of employee engagement, its critical aspects, and' metadata={'_id': '66d816590533e009aa2d4d2b', 'pageid': '491566', 'department': 'HR', 'title': 'Employee Relations and Engagement at Tech Innovators Inc.'}\", \"page_content='IntroductionAt Tech Innovators Inc., we believe that employee engagement is crucial to our success. This document provides a comprehensive overview of employee engagement, its critical aspects, and' metadata={'_id': '66d816900533e009aa2d5175', 'pageid': '491566', 'department': 'HR', 'title': 'Employee Relations and Engagement at Tech Innovators Inc.'}\", \"page_content='engagement is critical. This involves:Clear Communication: Providing clear and consistent communication about changes and their impact.Support Systems: Offering support systems to help employees' metadata={'_id': '66d8163d0533e009aa2d4b1a', 'pageid': '491566', 'department': 'HR', 'title': 'Employee Relations and Engagement at Tech Innovators Inc.'}\", \"page_content='engagement is critical. This involves:Clear Communication: Providing clear and consistent communication about changes and their impact.Support Systems: Offering support systems to help employees' metadata={'_id': '66d816900533e009aa2d5189', 'pageid': '491566', 'department': 'HR', 'title': 'Employee Relations and Engagement at Tech Innovators Inc.'}\"]\n"
     ]
    }
   ],
   "source": [
    "print(answer['contexts'])"
   ]
  },
  {
   "cell_type": "markdown",
   "metadata": {},
   "source": [
    "### Prompt Template 2: Who are you template"
   ]
  },
  {
   "cell_type": "code",
   "execution_count": 43,
   "metadata": {},
   "outputs": [],
   "source": [
    "# Define a prompt template\n",
    "import pprint\n",
    "def call_openai_template_2(question):\n",
    "\n",
    "   question = question['question']\n",
    "\n",
    "   template_2 = \"\"\"\n",
    "    \"You are an enterprise Chatbot, an AI assistant designed to retrieve information from the enterprise Confluence system. \n",
    "    You specialize in providing accurate answers related to various departments like Marketing, IT, HR, Finance, and Corporate Communications. \n",
    "\n",
    "    Use the following pieces of context to answer the question at the end.\n",
    "    If you don't know the answer, just say that you don't know, don't try to make up an answer.\n",
    "\n",
    "    {context}\n",
    "\n",
    "    Question: {question}\n",
    "   \"\"\"\n",
    "\n",
    "   custom_rag_prompt = PromptTemplate.from_template(template_2)\n",
    "\n",
    "   llm = ChatOpenAI(model=os.getenv(\"DEFAULT_OPENAI_MODEL\"))\n",
    "\n",
    "   def format_docs(docs):\n",
    "      return \"\\n\\n\".join(doc.page_content for doc in docs)\n",
    "\n",
    "   # Construct a chain to answer questions on your data\n",
    "   rag_chain = (\n",
    "      { \"context\": retriever | format_docs, \"question\": RunnablePassthrough()}\n",
    "      | custom_rag_prompt\n",
    "      | llm\n",
    "      | StrOutputParser()\n",
    "   )\n",
    "\n",
    "   # Prompt the chain\n",
    "   question = question\n",
    "   answer = rag_chain.invoke(question)\n",
    "   similar = retriever.invoke(question)\n",
    "\n",
    "\n",
    "   return{\n",
    "      'answer': answer,\n",
    "      'contexts': [str(doc) for doc in similar]\n",
    "      }"
   ]
  },
  {
   "cell_type": "code",
   "execution_count": 87,
   "metadata": {},
   "outputs": [
    {
     "name": "stdout",
     "output_type": "stream",
     "text": [
      "I don't know.\n"
     ]
    }
   ],
   "source": [
    "# Test sample\n",
    "question = {'question': \"How does a supportive culture impact employee engagement and align with Tech Innovators Inc.'s approach to employment relations and engagement?\"}\n",
    "answer = call_openai_template_2(question)\n",
    "print(answer['answer'][:150])"
   ]
  },
  {
   "cell_type": "code",
   "execution_count": 88,
   "metadata": {},
   "outputs": [
    {
     "name": "stdout",
     "output_type": "stream",
     "text": [
      "[\"page_content='incidents and vulnerabilities.Automated playbooks in Azure Sentinel must be used for incident response and remediation.7.2 Incident ManagementA cloud-specific incident response plan must be developed' metadata={'_id': '66d8163b0533e009aa2d4ad1', 'pageid': '851993', 'department': 'IT', 'title': 'Tech Innovators Inc. Azure Cloud Services Security Policy'}\", \"page_content='incidents and vulnerabilities.Automated playbooks in Azure Sentinel must be used for incident response and remediation.7.2 Incident ManagementA cloud-specific incident response plan must be developed' metadata={'_id': '66d816560533e009aa2d4cf6', 'pageid': '851993', 'department': 'IT', 'title': 'Tech Innovators Inc. Azure Cloud Services Security Policy'}\", \"page_content='incidents and vulnerabilities.Automated playbooks in Azure Sentinel must be used for incident response and remediation.7.2 Incident ManagementA cloud-specific incident response plan must be developed' metadata={'_id': '66d816720533e009aa2d4f1b', 'pageid': '851993', 'department': 'IT', 'title': 'Tech Innovators Inc. Azure Cloud Services Security Policy'}\", \"page_content='incidents and vulnerabilities.Automated playbooks in Azure Sentinel must be used for incident response and remediation.7.2 Incident ManagementA cloud-specific incident response plan must be developed' metadata={'_id': '66d8168e0533e009aa2d5140', 'pageid': '851993', 'department': 'IT', 'title': 'Tech Innovators Inc. Azure Cloud Services Security Policy'}\", \"page_content='on the CV Parser Software link.Choose the version compatible with your operating system.Click Download.\\xa0Installing the SoftwareLocate the downloaded installer file in your Downloads' metadata={'_id': '66d8168b0533e009aa2d5110', 'pageid': '655380', 'department': 'IT', 'title': 'Tech Innovator CV Parser Installation Guide'}\", \"page_content='on the CV Parser Software link.Choose the version compatible with your operating system.Click Download.\\xa0Installing the SoftwareLocate the downloaded installer file in your Downloads' metadata={'_id': '66d816380533e009aa2d4aa1', 'pageid': '655380', 'department': 'IT', 'title': 'Tech Innovator CV Parser Installation Guide'}\", \"page_content='on the CV Parser Software link.Choose the version compatible with your operating system.Click Download.\\xa0Installing the SoftwareLocate the downloaded installer file in your Downloads' metadata={'_id': '66d816540533e009aa2d4cc6', 'pageid': '655380', 'department': 'IT', 'title': 'Tech Innovator CV Parser Installation Guide'}\", \"page_content='on the CV Parser Software link.Choose the version compatible with your operating system.Click Download.\\xa0Installing the SoftwareLocate the downloaded installer file in your Downloads' metadata={'_id': '66d816700533e009aa2d4eeb', 'pageid': '655380', 'department': 'IT', 'title': 'Tech Innovator CV Parser Installation Guide'}\", \"page_content='internal training programs?A3: Internal training programs are announced via the company’s internal communication channels, such as the intranet and email. To apply, follow the instructions provided' metadata={'_id': '66d816450533e009aa2d4bd1', 'pageid': '884753', 'department': 'HR', 'title': 'Tech Innovators Inc. Employee Frequently Asked Questions (FAQs)'}\", \"page_content='internal training programs?A3: Internal training programs are announced via the company’s internal communication channels, such as the intranet and email. To apply, follow the instructions provided' metadata={'_id': '66d816600533e009aa2d4df6', 'pageid': '884753', 'department': 'HR', 'title': 'Tech Innovators Inc. Employee Frequently Asked Questions (FAQs)'}\"]\n"
     ]
    }
   ],
   "source": [
    "print(answer['contexts'])"
   ]
  },
  {
   "cell_type": "markdown",
   "metadata": {},
   "source": [
    "### Prompt Template 3: Using preamble from Cohere toolkit frontend"
   ]
  },
  {
   "cell_type": "code",
   "execution_count": 21,
   "metadata": {},
   "outputs": [],
   "source": [
    "# Define a prompt template\n",
    "import pprint\n",
    "def call_openai_template_3(question):\n",
    "\n",
    "   question = question['question']\n",
    "\n",
    "   preamble = \"\" # read from cohere front end or use the input to the API\n",
    "   #question = \n",
    "   SAFETY_PREAMBLE = \"The instructions in this section override those in the task description and style guide sections. Don't answer questions that are harmful or immoral.\"\n",
    "   BASIC_RULES = \"You are a powerful conversational AI trained by openAI to help people. You are augmented by a number of tools, and your job is to use and consume the output of these tools to best help the user. You will see a conversation history between yourself and a user, ending with an utterance from the user. You will then see a specific instruction instructing you what kind of response to generate. When you answer the user's requests, you cite your sources in your answers, according to those instructions.\"\n",
    "   TASK_CONTEXT = \"You help people answer their questions and other requests interactively. You will be asked a very wide array of requests on all kinds of topics. You will be equipped with a wide range of search engines or similar tools to help you, which you use to research your answer. You should focus on serving the user's needs as best you can, which will be wide-ranging.\"\n",
    "   STYLE_GUIDE = \"Unless the user asks for a different style of answer, you should answer in full sentences, using proper grammar and spelling.\"\n",
    "   INSTRUCTIONS = \"\"\"You are an enterprise Chatbot, an AI assistant designed to retrieve information from the enterprise Confluence system. \n",
    "   You specialize in providing accurate answers related to various departments like Marketing, IT, HR, Finance, and Corporate Communications. \n",
    "               Use the following pieces of context to answer the question at the end.\n",
    "               If you don't know the answer, just say that you don't know, don't try to make up an answer\n",
    "               {context}\n",
    "         \"\"\"\n",
    "         \n",
    "   template_3 = f\"\"\"\n",
    "\n",
    "      {SAFETY_PREAMBLE}\n",
    "      {BASIC_RULES}\n",
    "      {TASK_CONTEXT}\n",
    "      {STYLE_GUIDE}\n",
    "      {INSTRUCTIONS}\n",
    "\n",
    "   \"\"\"\n",
    "   if preamble:\n",
    "      template_3 += f\"\"\"{preamble}\\n\\n\"\"\"\n",
    "\n",
    "\n",
    "   template_3 +=  f\"\"\"Question: {question}\\n\\n\"\"\"\n",
    "\n",
    "   custom_rag_prompt = PromptTemplate.from_template(template_3)\n",
    "\n",
    "   #llm = get_llm_model(\"openai\")\n",
    "   llm = ChatOpenAI(model=os.getenv(\"DEFAULT_OPENAI_MODEL\"))\n",
    "\n",
    "   def format_docs(docs):\n",
    "      return \"\\n\\n\".join(doc.page_content for doc in docs)\n",
    "\n",
    "   # Construct a chain to answer questions on your data\n",
    "   rag_chain = (\n",
    "      { \"context\": retriever | format_docs, \"question\": RunnablePassthrough()}\n",
    "      | custom_rag_prompt\n",
    "      | llm\n",
    "      | StrOutputParser()\n",
    "   )\n",
    "\n",
    "   # Prompt the chain\n",
    "   question = question\n",
    "   answer = rag_chain.invoke(question)\n",
    "   similar = retriever.invoke(question)\n",
    "\n",
    "\n",
    "   return{\n",
    "      'answer': answer,\n",
    "      'contexts': [str(doc) for doc in similar]\n",
    "      }"
   ]
  },
  {
   "cell_type": "code",
   "execution_count": 89,
   "metadata": {},
   "outputs": [
    {
     "name": "stdout",
     "output_type": "stream",
     "text": [
      "I don't know.\n"
     ]
    }
   ],
   "source": [
    "# Test sample\n",
    "question = {'question': \"How does a supportive culture impact employee engagement and align with Tech Innovators Inc.'s approach to employment relations and engagement?\"}\n",
    "answer = call_openai_template_3(question)\n",
    "print(answer['answer'][:150])"
   ]
  },
  {
   "cell_type": "code",
   "execution_count": 90,
   "metadata": {},
   "outputs": [
    {
     "name": "stdout",
     "output_type": "stream",
     "text": [
      "[\"page_content='incidents and vulnerabilities.Automated playbooks in Azure Sentinel must be used for incident response and remediation.7.2 Incident ManagementA cloud-specific incident response plan must be developed' metadata={'_id': '66d8163b0533e009aa2d4ad1', 'pageid': '851993', 'department': 'IT', 'title': 'Tech Innovators Inc. Azure Cloud Services Security Policy'}\", \"page_content='incidents and vulnerabilities.Automated playbooks in Azure Sentinel must be used for incident response and remediation.7.2 Incident ManagementA cloud-specific incident response plan must be developed' metadata={'_id': '66d816560533e009aa2d4cf6', 'pageid': '851993', 'department': 'IT', 'title': 'Tech Innovators Inc. Azure Cloud Services Security Policy'}\", \"page_content='incidents and vulnerabilities.Automated playbooks in Azure Sentinel must be used for incident response and remediation.7.2 Incident ManagementA cloud-specific incident response plan must be developed' metadata={'_id': '66d816720533e009aa2d4f1b', 'pageid': '851993', 'department': 'IT', 'title': 'Tech Innovators Inc. Azure Cloud Services Security Policy'}\", \"page_content='incidents and vulnerabilities.Automated playbooks in Azure Sentinel must be used for incident response and remediation.7.2 Incident ManagementA cloud-specific incident response plan must be developed' metadata={'_id': '66d8168e0533e009aa2d5140', 'pageid': '851993', 'department': 'IT', 'title': 'Tech Innovators Inc. Azure Cloud Services Security Policy'}\", \"page_content='on the CV Parser Software link.Choose the version compatible with your operating system.Click Download.\\xa0Installing the SoftwareLocate the downloaded installer file in your Downloads' metadata={'_id': '66d8168b0533e009aa2d5110', 'pageid': '655380', 'department': 'IT', 'title': 'Tech Innovator CV Parser Installation Guide'}\", \"page_content='on the CV Parser Software link.Choose the version compatible with your operating system.Click Download.\\xa0Installing the SoftwareLocate the downloaded installer file in your Downloads' metadata={'_id': '66d816380533e009aa2d4aa1', 'pageid': '655380', 'department': 'IT', 'title': 'Tech Innovator CV Parser Installation Guide'}\", \"page_content='on the CV Parser Software link.Choose the version compatible with your operating system.Click Download.\\xa0Installing the SoftwareLocate the downloaded installer file in your Downloads' metadata={'_id': '66d816540533e009aa2d4cc6', 'pageid': '655380', 'department': 'IT', 'title': 'Tech Innovator CV Parser Installation Guide'}\", \"page_content='on the CV Parser Software link.Choose the version compatible with your operating system.Click Download.\\xa0Installing the SoftwareLocate the downloaded installer file in your Downloads' metadata={'_id': '66d816700533e009aa2d4eeb', 'pageid': '655380', 'department': 'IT', 'title': 'Tech Innovator CV Parser Installation Guide'}\", \"page_content='internal training programs?A3: Internal training programs are announced via the company’s internal communication channels, such as the intranet and email. To apply, follow the instructions provided' metadata={'_id': '66d816450533e009aa2d4bd1', 'pageid': '884753', 'department': 'HR', 'title': 'Tech Innovators Inc. Employee Frequently Asked Questions (FAQs)'}\", \"page_content='internal training programs?A3: Internal training programs are announced via the company’s internal communication channels, such as the intranet and email. To apply, follow the instructions provided' metadata={'_id': '66d816600533e009aa2d4df6', 'pageid': '884753', 'department': 'HR', 'title': 'Tech Innovators Inc. Employee Frequently Asked Questions (FAQs)'}\"]\n"
     ]
    }
   ],
   "source": [
    "print(answer['contexts'])"
   ]
  },
  {
   "cell_type": "markdown",
   "metadata": {},
   "source": [
    "### Prompt Template 4: Few shots template"
   ]
  },
  {
   "cell_type": "code",
   "execution_count": 22,
   "metadata": {},
   "outputs": [],
   "source": [
    "# Define a prompt template\n",
    "import pprint\n",
    "def call_openai_template_4(question):\n",
    "\n",
    "   question = question['question']\n",
    "\n",
    "   template_4 = \"\"\"\n",
    "      You are InfoBot, an AI assistant designed to retrieve information from the enterprise Confluence system. You specialize in providing accurate answers related to various departments like Marketing, IT, HR, Finance, and Corporate Communications. Given this, please answer the following questions based on the knowledge stored in the system:\n",
    "      \n",
    "      Example 1:\n",
    "      Question: What are business simulations and how do they provide practical experience in business decision-making and problem-solving?\n",
    "      Answer: Business simulations are interactive simulations that provide practical experience in business decision-making and problem-solving. \n",
    "      They allow participants to engage in realistic scenarios and make decisions that impact the simulated business. \n",
    "      By simulating real-world challenges and consequences, participants can develop their skills and knowledge in a risk-free environment. This hands-on experience helps them understand the complexities of business operations and improve their decision-making abilities.\n",
    "\n",
    "      Example 2:\n",
    "      Question: What is the process for conducting a thorough investigation in cases of workplace harassment at Tech Innovators Inc.?\n",
    "      Answer: The company will conduct a thorough investigation in cases of workplace harassment at Tech Innovators Inc. \n",
    "      If you experience or witness harassment, report it immediately to HR or your manager. \n",
    "      The company will take appropriate action to ensure a safe and respectful workplace.\n",
    "\n",
    "      {context}\n",
    "      New Question:\n",
    "      {question}\n",
    "    \n",
    "   \"\"\"\n",
    "\n",
    "   custom_rag_prompt = PromptTemplate.from_template(template_4)\n",
    "\n",
    "   #llm = get_llm_model(\"openai\")\n",
    "   llm = ChatOpenAI(model=os.getenv(\"DEFAULT_OPENAI_MODEL\"))\n",
    "\n",
    "   def format_docs(docs):\n",
    "      return \"\\n\\n\".join(doc.page_content for doc in docs)\n",
    "\n",
    "   # Construct a chain to answer questions on your data\n",
    "   rag_chain = (\n",
    "      { \"context\": retriever | format_docs, \"question\": RunnablePassthrough()}\n",
    "      | custom_rag_prompt\n",
    "      | llm\n",
    "      | StrOutputParser()\n",
    "   )\n",
    "\n",
    "   # Prompt the chain\n",
    "   question = question\n",
    "   answer = rag_chain.invoke(question)\n",
    "   similar = retriever.invoke(question)\n",
    "\n",
    "\n",
    "   return{\n",
    "      'answer': answer,\n",
    "      'contexts': [str(doc) for doc in similar]\n",
    "      }"
   ]
  },
  {
   "cell_type": "code",
   "execution_count": 91,
   "metadata": {},
   "outputs": [
    {
     "name": "stdout",
     "output_type": "stream",
     "text": [
      "A supportive culture significantly impacts employee engagement at Tech Innovators Inc. by fostering an environment where employees feel valued, respec\n"
     ]
    }
   ],
   "source": [
    "# Test sample\n",
    "question = {'question': \"How does a supportive culture impact employee engagement and align with Tech Innovators Inc.'s approach to employment relations and engagement?\"}\n",
    "answer = call_openai_template_4(question)\n",
    "print(answer['answer'][:150])"
   ]
  },
  {
   "cell_type": "code",
   "execution_count": 92,
   "metadata": {},
   "outputs": [
    {
     "name": "stdout",
     "output_type": "stream",
     "text": [
      "[\"page_content='incidents and vulnerabilities.Automated playbooks in Azure Sentinel must be used for incident response and remediation.7.2 Incident ManagementA cloud-specific incident response plan must be developed' metadata={'_id': '66d8163b0533e009aa2d4ad1', 'pageid': '851993', 'department': 'IT', 'title': 'Tech Innovators Inc. Azure Cloud Services Security Policy'}\", \"page_content='incidents and vulnerabilities.Automated playbooks in Azure Sentinel must be used for incident response and remediation.7.2 Incident ManagementA cloud-specific incident response plan must be developed' metadata={'_id': '66d816560533e009aa2d4cf6', 'pageid': '851993', 'department': 'IT', 'title': 'Tech Innovators Inc. Azure Cloud Services Security Policy'}\", \"page_content='incidents and vulnerabilities.Automated playbooks in Azure Sentinel must be used for incident response and remediation.7.2 Incident ManagementA cloud-specific incident response plan must be developed' metadata={'_id': '66d816720533e009aa2d4f1b', 'pageid': '851993', 'department': 'IT', 'title': 'Tech Innovators Inc. Azure Cloud Services Security Policy'}\", \"page_content='incidents and vulnerabilities.Automated playbooks in Azure Sentinel must be used for incident response and remediation.7.2 Incident ManagementA cloud-specific incident response plan must be developed' metadata={'_id': '66d8168e0533e009aa2d5140', 'pageid': '851993', 'department': 'IT', 'title': 'Tech Innovators Inc. Azure Cloud Services Security Policy'}\", \"page_content='on the CV Parser Software link.Choose the version compatible with your operating system.Click Download.\\xa0Installing the SoftwareLocate the downloaded installer file in your Downloads' metadata={'_id': '66d8168b0533e009aa2d5110', 'pageid': '655380', 'department': 'IT', 'title': 'Tech Innovator CV Parser Installation Guide'}\", \"page_content='on the CV Parser Software link.Choose the version compatible with your operating system.Click Download.\\xa0Installing the SoftwareLocate the downloaded installer file in your Downloads' metadata={'_id': '66d816380533e009aa2d4aa1', 'pageid': '655380', 'department': 'IT', 'title': 'Tech Innovator CV Parser Installation Guide'}\", \"page_content='on the CV Parser Software link.Choose the version compatible with your operating system.Click Download.\\xa0Installing the SoftwareLocate the downloaded installer file in your Downloads' metadata={'_id': '66d816540533e009aa2d4cc6', 'pageid': '655380', 'department': 'IT', 'title': 'Tech Innovator CV Parser Installation Guide'}\", \"page_content='on the CV Parser Software link.Choose the version compatible with your operating system.Click Download.\\xa0Installing the SoftwareLocate the downloaded installer file in your Downloads' metadata={'_id': '66d816700533e009aa2d4eeb', 'pageid': '655380', 'department': 'IT', 'title': 'Tech Innovator CV Parser Installation Guide'}\", \"page_content='internal training programs?A3: Internal training programs are announced via the company’s internal communication channels, such as the intranet and email. To apply, follow the instructions provided' metadata={'_id': '66d816450533e009aa2d4bd1', 'pageid': '884753', 'department': 'HR', 'title': 'Tech Innovators Inc. Employee Frequently Asked Questions (FAQs)'}\", \"page_content='internal training programs?A3: Internal training programs are announced via the company’s internal communication channels, such as the intranet and email. To apply, follow the instructions provided' metadata={'_id': '66d816600533e009aa2d4df6', 'pageid': '884753', 'department': 'HR', 'title': 'Tech Innovators Inc. Employee Frequently Asked Questions (FAQs)'}\"]\n"
     ]
    }
   ],
   "source": [
    "print(answer['contexts'])"
   ]
  },
  {
   "cell_type": "markdown",
   "metadata": {},
   "source": [
    "### Prompt Template 5: Short answer template"
   ]
  },
  {
   "cell_type": "code",
   "execution_count": 36,
   "metadata": {},
   "outputs": [],
   "source": [
    "# Define a prompt template\n",
    "import pprint\n",
    "def call_openai_template_5(question):\n",
    "\n",
    "   question = question['question']\n",
    "\n",
    "   template_5 = \"\"\"\n",
    "    \"You are an enterprise Chatbot, an AI assistant designed to retrieve information from the enterprise Confluence system. \n",
    "    You specialize in providing accurate answers related to various departments like Marketing, IT, HR, Finance, Corporate Communications, etc. \n",
    "\n",
    "    Use the following pieces of context to answer the question at the end. Provide answer within 150 words\n",
    "    If you don't know the answer, just say that you don't know, don't try to make up an answer.\n",
    "\n",
    "    {context}\n",
    "\n",
    "    Question: {question}\n",
    "    \n",
    "   \"\"\"\n",
    "\n",
    "   custom_rag_prompt = PromptTemplate.from_template(template_5)\n",
    "\n",
    "   #llm = get_llm_model(\"openai\")\n",
    "   llm = ChatOpenAI(model=os.getenv(\"DEFAULT_OPENAI_MODEL\"))\n",
    "\n",
    "   def format_docs(docs):\n",
    "      return \"\\n\\n\".join(doc.page_content for doc in docs)\n",
    "\n",
    "   # Construct a chain to answer questions on your data\n",
    "   rag_chain = (\n",
    "      { \"context\": retriever | format_docs, \"question\": RunnablePassthrough()}\n",
    "      | custom_rag_prompt\n",
    "      | llm\n",
    "      | StrOutputParser()\n",
    "   )\n",
    "\n",
    "   # Prompt the chain\n",
    "   question = question\n",
    "   answer = rag_chain.invoke(question)\n",
    "   similar = retriever.invoke(question)\n",
    "\n",
    "\n",
    "   return{\n",
    "      'answer': answer,\n",
    "      'contexts': [str(doc) for doc in similar]\n",
    "      }"
   ]
  },
  {
   "cell_type": "code",
   "execution_count": 93,
   "metadata": {},
   "outputs": [
    {
     "name": "stdout",
     "output_type": "stream",
     "text": [
      "I don't know.\n"
     ]
    }
   ],
   "source": [
    "# Test sample\n",
    "question = {'question': \"How does a supportive culture impact employee engagement and align with Tech Innovators Inc.'s approach to employment relations and engagement?\"}\n",
    "answer = call_openai_template_5(question)\n",
    "print(answer['answer'][:150])"
   ]
  },
  {
   "cell_type": "code",
   "execution_count": 94,
   "metadata": {},
   "outputs": [
    {
     "name": "stdout",
     "output_type": "stream",
     "text": [
      "[\"page_content='incidents and vulnerabilities.Automated playbooks in Azure Sentinel must be used for incident response and remediation.7.2 Incident ManagementA cloud-specific incident response plan must be developed' metadata={'_id': '66d8163b0533e009aa2d4ad1', 'pageid': '851993', 'department': 'IT', 'title': 'Tech Innovators Inc. Azure Cloud Services Security Policy'}\", \"page_content='incidents and vulnerabilities.Automated playbooks in Azure Sentinel must be used for incident response and remediation.7.2 Incident ManagementA cloud-specific incident response plan must be developed' metadata={'_id': '66d816560533e009aa2d4cf6', 'pageid': '851993', 'department': 'IT', 'title': 'Tech Innovators Inc. Azure Cloud Services Security Policy'}\", \"page_content='incidents and vulnerabilities.Automated playbooks in Azure Sentinel must be used for incident response and remediation.7.2 Incident ManagementA cloud-specific incident response plan must be developed' metadata={'_id': '66d816720533e009aa2d4f1b', 'pageid': '851993', 'department': 'IT', 'title': 'Tech Innovators Inc. Azure Cloud Services Security Policy'}\", \"page_content='incidents and vulnerabilities.Automated playbooks in Azure Sentinel must be used for incident response and remediation.7.2 Incident ManagementA cloud-specific incident response plan must be developed' metadata={'_id': '66d8168e0533e009aa2d5140', 'pageid': '851993', 'department': 'IT', 'title': 'Tech Innovators Inc. Azure Cloud Services Security Policy'}\", \"page_content='on the CV Parser Software link.Choose the version compatible with your operating system.Click Download.\\xa0Installing the SoftwareLocate the downloaded installer file in your Downloads' metadata={'_id': '66d8168b0533e009aa2d5110', 'pageid': '655380', 'department': 'IT', 'title': 'Tech Innovator CV Parser Installation Guide'}\", \"page_content='on the CV Parser Software link.Choose the version compatible with your operating system.Click Download.\\xa0Installing the SoftwareLocate the downloaded installer file in your Downloads' metadata={'_id': '66d816380533e009aa2d4aa1', 'pageid': '655380', 'department': 'IT', 'title': 'Tech Innovator CV Parser Installation Guide'}\", \"page_content='on the CV Parser Software link.Choose the version compatible with your operating system.Click Download.\\xa0Installing the SoftwareLocate the downloaded installer file in your Downloads' metadata={'_id': '66d816540533e009aa2d4cc6', 'pageid': '655380', 'department': 'IT', 'title': 'Tech Innovator CV Parser Installation Guide'}\", \"page_content='on the CV Parser Software link.Choose the version compatible with your operating system.Click Download.\\xa0Installing the SoftwareLocate the downloaded installer file in your Downloads' metadata={'_id': '66d816700533e009aa2d4eeb', 'pageid': '655380', 'department': 'IT', 'title': 'Tech Innovator CV Parser Installation Guide'}\", \"page_content='internal training programs?A3: Internal training programs are announced via the company’s internal communication channels, such as the intranet and email. To apply, follow the instructions provided' metadata={'_id': '66d816450533e009aa2d4bd1', 'pageid': '884753', 'department': 'HR', 'title': 'Tech Innovators Inc. Employee Frequently Asked Questions (FAQs)'}\", \"page_content='internal training programs?A3: Internal training programs are announced via the company’s internal communication channels, such as the intranet and email. To apply, follow the instructions provided' metadata={'_id': '66d816600533e009aa2d4df6', 'pageid': '884753', 'department': 'HR', 'title': 'Tech Innovators Inc. Employee Frequently Asked Questions (FAQs)'}\"]\n"
     ]
    }
   ],
   "source": [
    "print(answer['contexts'])"
   ]
  },
  {
   "cell_type": "markdown",
   "metadata": {},
   "source": [
    "# RAG pipeline evaluation with different prompt templates"
   ]
  },
  {
   "cell_type": "markdown",
   "metadata": {},
   "source": [
    "## Test data set prep"
   ]
  },
  {
   "cell_type": "code",
   "execution_count": 11,
   "metadata": {},
   "outputs": [],
   "source": [
    "import pandas as pd\n",
    "import json\n",
    "\n",
    "def json_to_dataframe(json_file_path):\n",
    "  \"\"\"Reads a JSON file and converts it to a pandas DataFrame.\n",
    "\n",
    "  Args:\n",
    "    json_file_path (str): The path to the JSON file.\n",
    "\n",
    "  Returns:\n",
    "    pandas.DataFrame: The DataFrame created from the JSON data.\n",
    "  \"\"\"\n",
    "\n",
    "  with open(json_file_path, 'r') as f:\n",
    "    data = json.load(f)\n",
    "\n",
    "  # Handle different JSON structures\n",
    "  if isinstance(data, list):\n",
    "    # If the JSON data is a list of dictionaries, create a DataFrame directly\n",
    "    df = pd.DataFrame(data)\n",
    "  elif isinstance(data, dict):\n",
    "    # If the JSON data is a single dictionary, convert it to a list of dictionaries\n",
    "    df = pd.DataFrame([data])\n",
    "  else:\n",
    "    raise ValueError(\"Unsupported JSON structure\")\n",
    "\n",
    "  return df"
   ]
  },
  {
   "cell_type": "code",
   "execution_count": 12,
   "metadata": {},
   "outputs": [],
   "source": [
    "# Example usage:\n",
    "from from_root import from_root\n",
    "import os\n",
    "folder = \"data-test/test_dataset/test_dataset_hr.json\"\n",
    "json_file_path = os.path.join(from_root(), folder)\n",
    "data_to_upload = json_to_dataframe(json_file_path)"
   ]
  },
  {
   "cell_type": "markdown",
   "metadata": {},
   "source": [
    "## Base template evaluation"
   ]
  },
  {
   "cell_type": "code",
   "execution_count": 13,
   "metadata": {},
   "outputs": [],
   "source": [
    "# Generate all the answers for the questions in the dataset\n",
    "# examples = client.list_examples(dataset_name=\"hr test\")\n",
    "answers = []\n",
    "for question in data_to_upload['question']:\n",
    "    question_dict = {'question': question}\n",
    "    answer = call_openai_template_1(question_dict)\n",
    "    answers.append(answer['answer'])"
   ]
  },
  {
   "cell_type": "code",
   "execution_count": 14,
   "metadata": {},
   "outputs": [],
   "source": [
    "# update the dataset with answers\n",
    "data_to_upload['answer_base_template'] = answers"
   ]
  },
  {
   "cell_type": "code",
   "execution_count": 15,
   "metadata": {},
   "outputs": [
    {
     "data": {
      "text/html": [
       "<div>\n",
       "<style scoped>\n",
       "    .dataframe tbody tr th:only-of-type {\n",
       "        vertical-align: middle;\n",
       "    }\n",
       "\n",
       "    .dataframe tbody tr th {\n",
       "        vertical-align: top;\n",
       "    }\n",
       "\n",
       "    .dataframe thead th {\n",
       "        text-align: right;\n",
       "    }\n",
       "</style>\n",
       "<table border=\"1\" class=\"dataframe\">\n",
       "  <thead>\n",
       "    <tr style=\"text-align: right;\">\n",
       "      <th></th>\n",
       "      <th>question</th>\n",
       "      <th>contexts</th>\n",
       "      <th>ground_truth</th>\n",
       "      <th>response</th>\n",
       "      <th>answer_base_template</th>\n",
       "    </tr>\n",
       "  </thead>\n",
       "  <tbody>\n",
       "    <tr>\n",
       "      <th>0</th>\n",
       "      <td>What is Tech Innovators Inc.'s approach to wor...</td>\n",
       "      <td>[Q12: What is the process for handling workpla...</td>\n",
       "      <td>Tech Innovators Inc. has a zero-tolerance poli...</td>\n",
       "      <td>Tech Innovators Inc. has a zero-tolerance poli...</td>\n",
       "      <td>Tech Innovators Inc. has a zero-tolerance poli...</td>\n",
       "    </tr>\n",
       "    <tr>\n",
       "      <th>1</th>\n",
       "      <td>What resources should be added for new hires i...</td>\n",
       "      <td>[:check_mark:\\natlassian-check_mark\\n#FFFAE6\\n...</td>\n",
       "      <td>Add resources for new hires in the onboarding ...</td>\n",
       "      <td>Onboarding new hires is a critical process in ...</td>\n",
       "      <td>Resources that should be added for new hires i...</td>\n",
       "    </tr>\n",
       "    <tr>\n",
       "      <th>2</th>\n",
       "      <td>What training programs are offered in data sci...</td>\n",
       "      <td>[ learn about SEO, social media marketing, and...</td>\n",
       "      <td>Courses covering financial analysis, budgeting...</td>\n",
       "      <td>Tech Innovators Inc. offers several training p...</td>\n",
       "      <td>I don't know.</td>\n",
       "    </tr>\n",
       "    <tr>\n",
       "      <th>3</th>\n",
       "      <td>What services does the Employee Assistance Pro...</td>\n",
       "      <td>[Q12: What is the process for handling workpla...</td>\n",
       "      <td>Employees can contact the Employee Assistance ...</td>\n",
       "      <td>The Employee Assistance Program (EAP) provides...</td>\n",
       "      <td>The Employee Assistance Program (EAP) provides...</td>\n",
       "    </tr>\n",
       "    <tr>\n",
       "      <th>4</th>\n",
       "      <td>What is the significance of identifying growth...</td>\n",
       "      <td>[ Self-assessment\\nStart by thinking through y...</td>\n",
       "      <td>Identifying growth areas in self-assessment is...</td>\n",
       "      <td>Identifying growth areas through self-assessme...</td>\n",
       "      <td>The significance of identifying growth areas i...</td>\n",
       "    </tr>\n",
       "    <tr>\n",
       "      <th>5</th>\n",
       "      <td>How do employee engagement and disengagement d...</td>\n",
       "      <td>[Introduction\\nAt Tech Innovators Inc., we bel...</td>\n",
       "      <td>Employee engagement and disengagement differ i...</td>\n",
       "      <td>Employee engagement and disengagement represen...</td>\n",
       "      <td>I don't know.</td>\n",
       "    </tr>\n",
       "    <tr>\n",
       "      <th>6</th>\n",
       "      <td>What is the purpose of adding a header image t...</td>\n",
       "      <td>[Create a stellar overview\\nThe overview is th...</td>\n",
       "      <td>Adding a header image to a Confluence space en...</td>\n",
       "      <td>Adding a header image to a Confluence space se...</td>\n",
       "      <td>The purpose of adding a header image to a Conf...</td>\n",
       "    </tr>\n",
       "  </tbody>\n",
       "</table>\n",
       "</div>"
      ],
      "text/plain": [
       "                                            question  \\\n",
       "0  What is Tech Innovators Inc.'s approach to wor...   \n",
       "1  What resources should be added for new hires i...   \n",
       "2  What training programs are offered in data sci...   \n",
       "3  What services does the Employee Assistance Pro...   \n",
       "4  What is the significance of identifying growth...   \n",
       "5  How do employee engagement and disengagement d...   \n",
       "6  What is the purpose of adding a header image t...   \n",
       "\n",
       "                                            contexts  \\\n",
       "0  [Q12: What is the process for handling workpla...   \n",
       "1  [:check_mark:\\natlassian-check_mark\\n#FFFAE6\\n...   \n",
       "2  [ learn about SEO, social media marketing, and...   \n",
       "3  [Q12: What is the process for handling workpla...   \n",
       "4  [ Self-assessment\\nStart by thinking through y...   \n",
       "5  [Introduction\\nAt Tech Innovators Inc., we bel...   \n",
       "6  [Create a stellar overview\\nThe overview is th...   \n",
       "\n",
       "                                        ground_truth  \\\n",
       "0  Tech Innovators Inc. has a zero-tolerance poli...   \n",
       "1  Add resources for new hires in the onboarding ...   \n",
       "2  Courses covering financial analysis, budgeting...   \n",
       "3  Employees can contact the Employee Assistance ...   \n",
       "4  Identifying growth areas in self-assessment is...   \n",
       "5  Employee engagement and disengagement differ i...   \n",
       "6  Adding a header image to a Confluence space en...   \n",
       "\n",
       "                                            response  \\\n",
       "0  Tech Innovators Inc. has a zero-tolerance poli...   \n",
       "1  Onboarding new hires is a critical process in ...   \n",
       "2  Tech Innovators Inc. offers several training p...   \n",
       "3  The Employee Assistance Program (EAP) provides...   \n",
       "4  Identifying growth areas through self-assessme...   \n",
       "5  Employee engagement and disengagement represen...   \n",
       "6  Adding a header image to a Confluence space se...   \n",
       "\n",
       "                                answer_base_template  \n",
       "0  Tech Innovators Inc. has a zero-tolerance poli...  \n",
       "1  Resources that should be added for new hires i...  \n",
       "2                                      I don't know.  \n",
       "3  The Employee Assistance Program (EAP) provides...  \n",
       "4  The significance of identifying growth areas i...  \n",
       "5                                      I don't know.  \n",
       "6  The purpose of adding a header image to a Conf...  "
      ]
     },
     "execution_count": 15,
     "metadata": {},
     "output_type": "execute_result"
    }
   ],
   "source": [
    "data_to_upload"
   ]
  },
  {
   "cell_type": "code",
   "execution_count": 16,
   "metadata": {},
   "outputs": [],
   "source": [
    "from datasets import Dataset\n",
    "\n",
    "question = list(data_to_upload['question'])\n",
    "answer = list(data_to_upload['answer_base_template'])\n",
    "contexts = list(data_to_upload['contexts'])\n",
    "ground_truth = list(data_to_upload['ground_truth'])\n",
    "\n",
    "data_samples = {\n",
    "    'question': question,\n",
    "    'answer': answer,\n",
    "    'contexts': contexts,\n",
    "    'ground_truth': ground_truth\n",
    "}\n",
    "\n",
    "dataset = Dataset.from_dict(data_samples)"
   ]
  },
  {
   "cell_type": "code",
   "execution_count": 17,
   "metadata": {},
   "outputs": [
    {
     "data": {
      "application/vnd.jupyter.widget-view+json": {
       "model_id": "eeb8365c821b447091f1481dc230db40",
       "version_major": 2,
       "version_minor": 0
      },
      "text/plain": [
       "Evaluating:   0%|          | 0/28 [00:00<?, ?it/s]"
      ]
     },
     "metadata": {},
     "output_type": "display_data"
    },
    {
     "data": {
      "text/plain": [
       "{'answer_relevancy': 0.7043, 'faithfulness': 0.4108, 'context_recall': 0.7619, 'context_precision': 0.8571}"
      ]
     },
     "execution_count": 17,
     "metadata": {},
     "output_type": "execute_result"
    }
   ],
   "source": [
    "from ragas import evaluate\n",
    "# from ragas.integrations.langsmith import evaluate\n",
    "from ragas.metrics import (\n",
    "    answer_relevancy,\n",
    "    faithfulness,\n",
    "    context_recall,\n",
    "    context_precision,\n",
    ")\n",
    "result_prompt_1 = evaluate(\n",
    "    dataset,\n",
    "    metrics=[\n",
    "        answer_relevancy,\n",
    "        faithfulness,\n",
    "        context_recall,\n",
    "        context_precision,\n",
    "    ],\n",
    ")\n",
    "\n",
    "result_prompt_1"
   ]
  },
  {
   "cell_type": "code",
   "execution_count": 19,
   "metadata": {},
   "outputs": [
    {
     "data": {
      "text/html": [
       "<div>\n",
       "<style scoped>\n",
       "    .dataframe tbody tr th:only-of-type {\n",
       "        vertical-align: middle;\n",
       "    }\n",
       "\n",
       "    .dataframe tbody tr th {\n",
       "        vertical-align: top;\n",
       "    }\n",
       "\n",
       "    .dataframe thead th {\n",
       "        text-align: right;\n",
       "    }\n",
       "</style>\n",
       "<table border=\"1\" class=\"dataframe\">\n",
       "  <thead>\n",
       "    <tr style=\"text-align: right;\">\n",
       "      <th></th>\n",
       "      <th>question</th>\n",
       "      <th>answer</th>\n",
       "      <th>contexts</th>\n",
       "      <th>ground_truth</th>\n",
       "      <th>answer_relevancy</th>\n",
       "      <th>faithfulness</th>\n",
       "      <th>context_recall</th>\n",
       "      <th>context_precision</th>\n",
       "    </tr>\n",
       "  </thead>\n",
       "  <tbody>\n",
       "    <tr>\n",
       "      <th>0</th>\n",
       "      <td>What is Tech Innovators Inc.'s approach to wor...</td>\n",
       "      <td>Tech Innovators Inc. has a zero-tolerance poli...</td>\n",
       "      <td>[Q12: What is the process for handling workpla...</td>\n",
       "      <td>Tech Innovators Inc. has a zero-tolerance poli...</td>\n",
       "      <td>0.974083</td>\n",
       "      <td>0.200000</td>\n",
       "      <td>1.000000</td>\n",
       "      <td>1.0</td>\n",
       "    </tr>\n",
       "    <tr>\n",
       "      <th>1</th>\n",
       "      <td>What resources should be added for new hires i...</td>\n",
       "      <td>Resources that should be added for new hires i...</td>\n",
       "      <td>[:check_mark:\\natlassian-check_mark\\n#FFFAE6\\n...</td>\n",
       "      <td>Add resources for new hires in the onboarding ...</td>\n",
       "      <td>1.000000</td>\n",
       "      <td>0.285714</td>\n",
       "      <td>1.000000</td>\n",
       "      <td>1.0</td>\n",
       "    </tr>\n",
       "    <tr>\n",
       "      <th>2</th>\n",
       "      <td>What training programs are offered in data sci...</td>\n",
       "      <td>I don't know.</td>\n",
       "      <td>[ learn about SEO, social media marketing, and...</td>\n",
       "      <td>Courses covering financial analysis, budgeting...</td>\n",
       "      <td>0.000000</td>\n",
       "      <td>0.000000</td>\n",
       "      <td>0.000000</td>\n",
       "      <td>0.0</td>\n",
       "    </tr>\n",
       "    <tr>\n",
       "      <th>3</th>\n",
       "      <td>What services does the Employee Assistance Pro...</td>\n",
       "      <td>The Employee Assistance Program (EAP) provides...</td>\n",
       "      <td>[Q12: What is the process for handling workpla...</td>\n",
       "      <td>Employees can contact the Employee Assistance ...</td>\n",
       "      <td>0.994299</td>\n",
       "      <td>1.000000</td>\n",
       "      <td>1.000000</td>\n",
       "      <td>1.0</td>\n",
       "    </tr>\n",
       "    <tr>\n",
       "      <th>4</th>\n",
       "      <td>What is the significance of identifying growth...</td>\n",
       "      <td>The significance of identifying growth areas i...</td>\n",
       "      <td>[ Self-assessment\\nStart by thinking through y...</td>\n",
       "      <td>Identifying growth areas in self-assessment is...</td>\n",
       "      <td>1.000000</td>\n",
       "      <td>0.818182</td>\n",
       "      <td>1.000000</td>\n",
       "      <td>1.0</td>\n",
       "    </tr>\n",
       "    <tr>\n",
       "      <th>5</th>\n",
       "      <td>How do employee engagement and disengagement d...</td>\n",
       "      <td>I don't know.</td>\n",
       "      <td>[Introduction\\nAt Tech Innovators Inc., we bel...</td>\n",
       "      <td>Employee engagement and disengagement differ i...</td>\n",
       "      <td>0.000000</td>\n",
       "      <td>0.000000</td>\n",
       "      <td>1.000000</td>\n",
       "      <td>1.0</td>\n",
       "    </tr>\n",
       "    <tr>\n",
       "      <th>6</th>\n",
       "      <td>What is the purpose of adding a header image t...</td>\n",
       "      <td>The purpose of adding a header image to a Conf...</td>\n",
       "      <td>[Create a stellar overview\\nThe overview is th...</td>\n",
       "      <td>Adding a header image to a Confluence space en...</td>\n",
       "      <td>0.961716</td>\n",
       "      <td>0.571429</td>\n",
       "      <td>0.333333</td>\n",
       "      <td>1.0</td>\n",
       "    </tr>\n",
       "  </tbody>\n",
       "</table>\n",
       "</div>"
      ],
      "text/plain": [
       "                                            question  \\\n",
       "0  What is Tech Innovators Inc.'s approach to wor...   \n",
       "1  What resources should be added for new hires i...   \n",
       "2  What training programs are offered in data sci...   \n",
       "3  What services does the Employee Assistance Pro...   \n",
       "4  What is the significance of identifying growth...   \n",
       "5  How do employee engagement and disengagement d...   \n",
       "6  What is the purpose of adding a header image t...   \n",
       "\n",
       "                                              answer  \\\n",
       "0  Tech Innovators Inc. has a zero-tolerance poli...   \n",
       "1  Resources that should be added for new hires i...   \n",
       "2                                      I don't know.   \n",
       "3  The Employee Assistance Program (EAP) provides...   \n",
       "4  The significance of identifying growth areas i...   \n",
       "5                                      I don't know.   \n",
       "6  The purpose of adding a header image to a Conf...   \n",
       "\n",
       "                                            contexts  \\\n",
       "0  [Q12: What is the process for handling workpla...   \n",
       "1  [:check_mark:\\natlassian-check_mark\\n#FFFAE6\\n...   \n",
       "2  [ learn about SEO, social media marketing, and...   \n",
       "3  [Q12: What is the process for handling workpla...   \n",
       "4  [ Self-assessment\\nStart by thinking through y...   \n",
       "5  [Introduction\\nAt Tech Innovators Inc., we bel...   \n",
       "6  [Create a stellar overview\\nThe overview is th...   \n",
       "\n",
       "                                        ground_truth  answer_relevancy  \\\n",
       "0  Tech Innovators Inc. has a zero-tolerance poli...          0.974083   \n",
       "1  Add resources for new hires in the onboarding ...          1.000000   \n",
       "2  Courses covering financial analysis, budgeting...          0.000000   \n",
       "3  Employees can contact the Employee Assistance ...          0.994299   \n",
       "4  Identifying growth areas in self-assessment is...          1.000000   \n",
       "5  Employee engagement and disengagement differ i...          0.000000   \n",
       "6  Adding a header image to a Confluence space en...          0.961716   \n",
       "\n",
       "   faithfulness  context_recall  context_precision  \n",
       "0      0.200000        1.000000                1.0  \n",
       "1      0.285714        1.000000                1.0  \n",
       "2      0.000000        0.000000                0.0  \n",
       "3      1.000000        1.000000                1.0  \n",
       "4      0.818182        1.000000                1.0  \n",
       "5      0.000000        1.000000                1.0  \n",
       "6      0.571429        0.333333                1.0  "
      ]
     },
     "execution_count": 19,
     "metadata": {},
     "output_type": "execute_result"
    }
   ],
   "source": [
    "df = result_prompt_1.to_pandas()\n",
    "df"
   ]
  },
  {
   "cell_type": "markdown",
   "metadata": {},
   "source": [
    "## Template 2 evaluation"
   ]
  },
  {
   "cell_type": "code",
   "execution_count": 44,
   "metadata": {},
   "outputs": [],
   "source": [
    "# Generate all the answers for the questions in the dataset\n",
    "# examples = client.list_examples(dataset_name=\"hr test\")\n",
    "answers_2 = []\n",
    "for question in data_to_upload['question']:\n",
    "    question_dict = {'question': question}\n",
    "    answers = call_openai_template_2(question_dict)\n",
    "    answers_2.append(answers['answer'])"
   ]
  },
  {
   "cell_type": "code",
   "execution_count": 45,
   "metadata": {},
   "outputs": [],
   "source": [
    "# update the dataset with answers\n",
    "data_to_upload['answer_template_2'] = answers_2"
   ]
  },
  {
   "cell_type": "code",
   "execution_count": 46,
   "metadata": {},
   "outputs": [],
   "source": [
    "from datasets import Dataset\n",
    "\n",
    "question = list(data_to_upload['question'])\n",
    "answer = list(data_to_upload['answer_template_2'])\n",
    "contexts = list(data_to_upload['contexts'])\n",
    "ground_truth = list(data_to_upload['ground_truth'])\n",
    "\n",
    "data_samples = {\n",
    "    'question': question,\n",
    "    'answer': answer,\n",
    "    'contexts': contexts,\n",
    "    'ground_truth': ground_truth\n",
    "}\n",
    "\n",
    "dataset_2 = Dataset.from_dict(data_samples)"
   ]
  },
  {
   "cell_type": "code",
   "execution_count": 47,
   "metadata": {},
   "outputs": [
    {
     "data": {
      "text/html": [
       "<div>\n",
       "<style scoped>\n",
       "    .dataframe tbody tr th:only-of-type {\n",
       "        vertical-align: middle;\n",
       "    }\n",
       "\n",
       "    .dataframe tbody tr th {\n",
       "        vertical-align: top;\n",
       "    }\n",
       "\n",
       "    .dataframe thead th {\n",
       "        text-align: right;\n",
       "    }\n",
       "</style>\n",
       "<table border=\"1\" class=\"dataframe\">\n",
       "  <thead>\n",
       "    <tr style=\"text-align: right;\">\n",
       "      <th></th>\n",
       "      <th>question</th>\n",
       "      <th>answer</th>\n",
       "      <th>contexts</th>\n",
       "      <th>ground_truth</th>\n",
       "    </tr>\n",
       "  </thead>\n",
       "  <tbody>\n",
       "    <tr>\n",
       "      <th>0</th>\n",
       "      <td>What is Tech Innovators Inc.'s approach to wor...</td>\n",
       "      <td>Tech Innovators Inc. has a zero-tolerance poli...</td>\n",
       "      <td>[Q12: What is the process for handling workpla...</td>\n",
       "      <td>Tech Innovators Inc. has a zero-tolerance poli...</td>\n",
       "    </tr>\n",
       "    <tr>\n",
       "      <th>1</th>\n",
       "      <td>What resources should be added for new hires i...</td>\n",
       "      <td>The resources that should be added for new hir...</td>\n",
       "      <td>[:check_mark:\\natlassian-check_mark\\n#FFFAE6\\n...</td>\n",
       "      <td>Add resources for new hires in the onboarding ...</td>\n",
       "    </tr>\n",
       "    <tr>\n",
       "      <th>2</th>\n",
       "      <td>What training programs are offered in data sci...</td>\n",
       "      <td>I don't know.</td>\n",
       "      <td>[ learn about SEO, social media marketing, and...</td>\n",
       "      <td>Courses covering financial analysis, budgeting...</td>\n",
       "    </tr>\n",
       "    <tr>\n",
       "      <th>3</th>\n",
       "      <td>What services does the Employee Assistance Pro...</td>\n",
       "      <td>The Employee Assistance Program (EAP) provides...</td>\n",
       "      <td>[Q12: What is the process for handling workpla...</td>\n",
       "      <td>Employees can contact the Employee Assistance ...</td>\n",
       "    </tr>\n",
       "    <tr>\n",
       "      <th>4</th>\n",
       "      <td>What is the significance of identifying growth...</td>\n",
       "      <td>The significance of identifying growth areas i...</td>\n",
       "      <td>[ Self-assessment\\nStart by thinking through y...</td>\n",
       "      <td>Identifying growth areas in self-assessment is...</td>\n",
       "    </tr>\n",
       "    <tr>\n",
       "      <th>5</th>\n",
       "      <td>How do employee engagement and disengagement d...</td>\n",
       "      <td>Employee engagement and disengagement primaril...</td>\n",
       "      <td>[Introduction\\nAt Tech Innovators Inc., we bel...</td>\n",
       "      <td>Employee engagement and disengagement differ i...</td>\n",
       "    </tr>\n",
       "    <tr>\n",
       "      <th>6</th>\n",
       "      <td>What is the purpose of adding a header image t...</td>\n",
       "      <td>The purpose of adding a header image to a Conf...</td>\n",
       "      <td>[Create a stellar overview\\nThe overview is th...</td>\n",
       "      <td>Adding a header image to a Confluence space en...</td>\n",
       "    </tr>\n",
       "  </tbody>\n",
       "</table>\n",
       "</div>"
      ],
      "text/plain": [
       "                                            question  \\\n",
       "0  What is Tech Innovators Inc.'s approach to wor...   \n",
       "1  What resources should be added for new hires i...   \n",
       "2  What training programs are offered in data sci...   \n",
       "3  What services does the Employee Assistance Pro...   \n",
       "4  What is the significance of identifying growth...   \n",
       "5  How do employee engagement and disengagement d...   \n",
       "6  What is the purpose of adding a header image t...   \n",
       "\n",
       "                                              answer  \\\n",
       "0  Tech Innovators Inc. has a zero-tolerance poli...   \n",
       "1  The resources that should be added for new hir...   \n",
       "2                                      I don't know.   \n",
       "3  The Employee Assistance Program (EAP) provides...   \n",
       "4  The significance of identifying growth areas i...   \n",
       "5  Employee engagement and disengagement primaril...   \n",
       "6  The purpose of adding a header image to a Conf...   \n",
       "\n",
       "                                            contexts  \\\n",
       "0  [Q12: What is the process for handling workpla...   \n",
       "1  [:check_mark:\\natlassian-check_mark\\n#FFFAE6\\n...   \n",
       "2  [ learn about SEO, social media marketing, and...   \n",
       "3  [Q12: What is the process for handling workpla...   \n",
       "4  [ Self-assessment\\nStart by thinking through y...   \n",
       "5  [Introduction\\nAt Tech Innovators Inc., we bel...   \n",
       "6  [Create a stellar overview\\nThe overview is th...   \n",
       "\n",
       "                                        ground_truth  \n",
       "0  Tech Innovators Inc. has a zero-tolerance poli...  \n",
       "1  Add resources for new hires in the onboarding ...  \n",
       "2  Courses covering financial analysis, budgeting...  \n",
       "3  Employees can contact the Employee Assistance ...  \n",
       "4  Identifying growth areas in self-assessment is...  \n",
       "5  Employee engagement and disengagement differ i...  \n",
       "6  Adding a header image to a Confluence space en...  "
      ]
     },
     "execution_count": 47,
     "metadata": {},
     "output_type": "execute_result"
    }
   ],
   "source": [
    "dataset_2.to_pandas()"
   ]
  },
  {
   "cell_type": "code",
   "execution_count": 48,
   "metadata": {},
   "outputs": [
    {
     "data": {
      "application/vnd.jupyter.widget-view+json": {
       "model_id": "d7d7c39d577b465eb078fa63fc71bc18",
       "version_major": 2,
       "version_minor": 0
      },
      "text/plain": [
       "Evaluating:   0%|          | 0/28 [00:00<?, ?it/s]"
      ]
     },
     "metadata": {},
     "output_type": "display_data"
    },
    {
     "data": {
      "text/plain": [
       "{'answer_relevancy': 0.7043, 'faithfulness': 0.5549, 'context_recall': 0.7619, 'context_precision': 0.8571}"
      ]
     },
     "execution_count": 48,
     "metadata": {},
     "output_type": "execute_result"
    }
   ],
   "source": [
    "from ragas import evaluate\n",
    "# from ragas.integrations.langsmith import evaluate\n",
    "from ragas.metrics import (\n",
    "    answer_relevancy,\n",
    "    faithfulness,\n",
    "    context_recall,\n",
    "    context_precision,\n",
    ")\n",
    "result_prompt_2 = evaluate(\n",
    "    dataset_2,\n",
    "    metrics=[\n",
    "        answer_relevancy,\n",
    "        faithfulness,\n",
    "        context_recall,\n",
    "        context_precision,\n",
    "    ],\n",
    ")\n",
    "\n",
    "result_prompt_2"
   ]
  },
  {
   "cell_type": "code",
   "execution_count": 49,
   "metadata": {},
   "outputs": [
    {
     "data": {
      "text/html": [
       "<div>\n",
       "<style scoped>\n",
       "    .dataframe tbody tr th:only-of-type {\n",
       "        vertical-align: middle;\n",
       "    }\n",
       "\n",
       "    .dataframe tbody tr th {\n",
       "        vertical-align: top;\n",
       "    }\n",
       "\n",
       "    .dataframe thead th {\n",
       "        text-align: right;\n",
       "    }\n",
       "</style>\n",
       "<table border=\"1\" class=\"dataframe\">\n",
       "  <thead>\n",
       "    <tr style=\"text-align: right;\">\n",
       "      <th></th>\n",
       "      <th>question</th>\n",
       "      <th>answer</th>\n",
       "      <th>contexts</th>\n",
       "      <th>ground_truth</th>\n",
       "      <th>answer_relevancy</th>\n",
       "      <th>faithfulness</th>\n",
       "      <th>context_recall</th>\n",
       "      <th>context_precision</th>\n",
       "    </tr>\n",
       "  </thead>\n",
       "  <tbody>\n",
       "    <tr>\n",
       "      <th>0</th>\n",
       "      <td>What is Tech Innovators Inc.'s approach to wor...</td>\n",
       "      <td>Tech Innovators Inc. has a zero-tolerance poli...</td>\n",
       "      <td>[Q12: What is the process for handling workpla...</td>\n",
       "      <td>Tech Innovators Inc. has a zero-tolerance poli...</td>\n",
       "      <td>0.974083</td>\n",
       "      <td>0.200000</td>\n",
       "      <td>1.000000</td>\n",
       "      <td>1.0</td>\n",
       "    </tr>\n",
       "    <tr>\n",
       "      <th>1</th>\n",
       "      <td>What resources should be added for new hires i...</td>\n",
       "      <td>The resources that should be added for new hir...</td>\n",
       "      <td>[:check_mark:\\natlassian-check_mark\\n#FFFAE6\\n...</td>\n",
       "      <td>Add resources for new hires in the onboarding ...</td>\n",
       "      <td>1.000000</td>\n",
       "      <td>0.750000</td>\n",
       "      <td>1.000000</td>\n",
       "      <td>1.0</td>\n",
       "    </tr>\n",
       "    <tr>\n",
       "      <th>2</th>\n",
       "      <td>What training programs are offered in data sci...</td>\n",
       "      <td>I don't know.</td>\n",
       "      <td>[ learn about SEO, social media marketing, and...</td>\n",
       "      <td>Courses covering financial analysis, budgeting...</td>\n",
       "      <td>0.000000</td>\n",
       "      <td>0.000000</td>\n",
       "      <td>0.000000</td>\n",
       "      <td>0.0</td>\n",
       "    </tr>\n",
       "    <tr>\n",
       "      <th>3</th>\n",
       "      <td>What services does the Employee Assistance Pro...</td>\n",
       "      <td>The Employee Assistance Program (EAP) provides...</td>\n",
       "      <td>[Q12: What is the process for handling workpla...</td>\n",
       "      <td>Employees can contact the Employee Assistance ...</td>\n",
       "      <td>0.994299</td>\n",
       "      <td>1.000000</td>\n",
       "      <td>1.000000</td>\n",
       "      <td>1.0</td>\n",
       "    </tr>\n",
       "    <tr>\n",
       "      <th>4</th>\n",
       "      <td>What is the significance of identifying growth...</td>\n",
       "      <td>The significance of identifying growth areas i...</td>\n",
       "      <td>[ Self-assessment\\nStart by thinking through y...</td>\n",
       "      <td>Identifying growth areas in self-assessment is...</td>\n",
       "      <td>1.000000</td>\n",
       "      <td>0.777778</td>\n",
       "      <td>1.000000</td>\n",
       "      <td>1.0</td>\n",
       "    </tr>\n",
       "    <tr>\n",
       "      <th>5</th>\n",
       "      <td>How do employee engagement and disengagement d...</td>\n",
       "      <td>Employee engagement and disengagement primaril...</td>\n",
       "      <td>[Introduction\\nAt Tech Innovators Inc., we bel...</td>\n",
       "      <td>Employee engagement and disengagement differ i...</td>\n",
       "      <td>0.000000</td>\n",
       "      <td>0.823529</td>\n",
       "      <td>1.000000</td>\n",
       "      <td>1.0</td>\n",
       "    </tr>\n",
       "    <tr>\n",
       "      <th>6</th>\n",
       "      <td>What is the purpose of adding a header image t...</td>\n",
       "      <td>The purpose of adding a header image to a Conf...</td>\n",
       "      <td>[Create a stellar overview\\nThe overview is th...</td>\n",
       "      <td>Adding a header image to a Confluence space en...</td>\n",
       "      <td>0.961685</td>\n",
       "      <td>0.333333</td>\n",
       "      <td>0.333333</td>\n",
       "      <td>1.0</td>\n",
       "    </tr>\n",
       "  </tbody>\n",
       "</table>\n",
       "</div>"
      ],
      "text/plain": [
       "                                            question  \\\n",
       "0  What is Tech Innovators Inc.'s approach to wor...   \n",
       "1  What resources should be added for new hires i...   \n",
       "2  What training programs are offered in data sci...   \n",
       "3  What services does the Employee Assistance Pro...   \n",
       "4  What is the significance of identifying growth...   \n",
       "5  How do employee engagement and disengagement d...   \n",
       "6  What is the purpose of adding a header image t...   \n",
       "\n",
       "                                              answer  \\\n",
       "0  Tech Innovators Inc. has a zero-tolerance poli...   \n",
       "1  The resources that should be added for new hir...   \n",
       "2                                      I don't know.   \n",
       "3  The Employee Assistance Program (EAP) provides...   \n",
       "4  The significance of identifying growth areas i...   \n",
       "5  Employee engagement and disengagement primaril...   \n",
       "6  The purpose of adding a header image to a Conf...   \n",
       "\n",
       "                                            contexts  \\\n",
       "0  [Q12: What is the process for handling workpla...   \n",
       "1  [:check_mark:\\natlassian-check_mark\\n#FFFAE6\\n...   \n",
       "2  [ learn about SEO, social media marketing, and...   \n",
       "3  [Q12: What is the process for handling workpla...   \n",
       "4  [ Self-assessment\\nStart by thinking through y...   \n",
       "5  [Introduction\\nAt Tech Innovators Inc., we bel...   \n",
       "6  [Create a stellar overview\\nThe overview is th...   \n",
       "\n",
       "                                        ground_truth  answer_relevancy  \\\n",
       "0  Tech Innovators Inc. has a zero-tolerance poli...          0.974083   \n",
       "1  Add resources for new hires in the onboarding ...          1.000000   \n",
       "2  Courses covering financial analysis, budgeting...          0.000000   \n",
       "3  Employees can contact the Employee Assistance ...          0.994299   \n",
       "4  Identifying growth areas in self-assessment is...          1.000000   \n",
       "5  Employee engagement and disengagement differ i...          0.000000   \n",
       "6  Adding a header image to a Confluence space en...          0.961685   \n",
       "\n",
       "   faithfulness  context_recall  context_precision  \n",
       "0      0.200000        1.000000                1.0  \n",
       "1      0.750000        1.000000                1.0  \n",
       "2      0.000000        0.000000                0.0  \n",
       "3      1.000000        1.000000                1.0  \n",
       "4      0.777778        1.000000                1.0  \n",
       "5      0.823529        1.000000                1.0  \n",
       "6      0.333333        0.333333                1.0  "
      ]
     },
     "execution_count": 49,
     "metadata": {},
     "output_type": "execute_result"
    }
   ],
   "source": [
    "df = result_prompt_2.to_pandas()\n",
    "df"
   ]
  },
  {
   "cell_type": "markdown",
   "metadata": {},
   "source": [
    "## Template 3 evaluation"
   ]
  },
  {
   "cell_type": "code",
   "execution_count": 31,
   "metadata": {},
   "outputs": [],
   "source": [
    "# Generate all the answers for the questions in the dataset\n",
    "# examples = client.list_examples(dataset_name=\"hr test\")\n",
    "answers_3 = []\n",
    "for question in data_to_upload['question']:\n",
    "    question_dict = {'question': question}\n",
    "    answers = call_openai_template_3(question_dict)\n",
    "    answers_3.append(answers['answer'])"
   ]
  },
  {
   "cell_type": "code",
   "execution_count": 32,
   "metadata": {},
   "outputs": [],
   "source": [
    "# update the dataset with answers\n",
    "data_to_upload['answer_template_3'] = answers_3"
   ]
  },
  {
   "cell_type": "code",
   "execution_count": 33,
   "metadata": {},
   "outputs": [],
   "source": [
    "from datasets import Dataset\n",
    "\n",
    "question = list(data_to_upload['question'])\n",
    "answer = list(data_to_upload['answer_template_3'])\n",
    "contexts = list(data_to_upload['contexts'])\n",
    "ground_truth = list(data_to_upload['ground_truth'])\n",
    "\n",
    "data_samples = {\n",
    "    'question': question,\n",
    "    'answer': answer,\n",
    "    'contexts': contexts,\n",
    "    'ground_truth': ground_truth\n",
    "}\n",
    "\n",
    "dataset_3 = Dataset.from_dict(data_samples)"
   ]
  },
  {
   "cell_type": "code",
   "execution_count": 34,
   "metadata": {},
   "outputs": [
    {
     "data": {
      "application/vnd.jupyter.widget-view+json": {
       "model_id": "024476d616d241f09be770177e3cb5f5",
       "version_major": 2,
       "version_minor": 0
      },
      "text/plain": [
       "Evaluating:   0%|          | 0/28 [00:00<?, ?it/s]"
      ]
     },
     "metadata": {},
     "output_type": "display_data"
    },
    {
     "data": {
      "text/plain": [
       "{'answer_relevancy': 0.9782, 'faithfulness': 0.6875, 'context_recall': 0.7619, 'context_precision': 0.8571}"
      ]
     },
     "execution_count": 34,
     "metadata": {},
     "output_type": "execute_result"
    }
   ],
   "source": [
    "from ragas import evaluate\n",
    "# from ragas.integrations.langsmith import evaluate\n",
    "from ragas.metrics import (\n",
    "    answer_relevancy,\n",
    "    faithfulness,\n",
    "    context_recall,\n",
    "    context_precision,\n",
    ")\n",
    "result_prompt_3 = evaluate(\n",
    "    dataset_3,\n",
    "    metrics=[\n",
    "        answer_relevancy,\n",
    "        faithfulness,\n",
    "        context_recall,\n",
    "        context_precision,\n",
    "    ],\n",
    ")\n",
    "\n",
    "result_prompt_3"
   ]
  },
  {
   "cell_type": "code",
   "execution_count": 35,
   "metadata": {},
   "outputs": [
    {
     "data": {
      "text/html": [
       "<div>\n",
       "<style scoped>\n",
       "    .dataframe tbody tr th:only-of-type {\n",
       "        vertical-align: middle;\n",
       "    }\n",
       "\n",
       "    .dataframe tbody tr th {\n",
       "        vertical-align: top;\n",
       "    }\n",
       "\n",
       "    .dataframe thead th {\n",
       "        text-align: right;\n",
       "    }\n",
       "</style>\n",
       "<table border=\"1\" class=\"dataframe\">\n",
       "  <thead>\n",
       "    <tr style=\"text-align: right;\">\n",
       "      <th></th>\n",
       "      <th>question</th>\n",
       "      <th>answer</th>\n",
       "      <th>contexts</th>\n",
       "      <th>ground_truth</th>\n",
       "      <th>answer_relevancy</th>\n",
       "      <th>faithfulness</th>\n",
       "      <th>context_recall</th>\n",
       "      <th>context_precision</th>\n",
       "    </tr>\n",
       "  </thead>\n",
       "  <tbody>\n",
       "    <tr>\n",
       "      <th>0</th>\n",
       "      <td>What is Tech Innovators Inc.'s approach to wor...</td>\n",
       "      <td>Tech Innovators Inc. has a zero-tolerance poli...</td>\n",
       "      <td>[Q12: What is the process for handling workpla...</td>\n",
       "      <td>Tech Innovators Inc. has a zero-tolerance poli...</td>\n",
       "      <td>0.974083</td>\n",
       "      <td>0.625000</td>\n",
       "      <td>1.000000</td>\n",
       "      <td>1.0</td>\n",
       "    </tr>\n",
       "    <tr>\n",
       "      <th>1</th>\n",
       "      <td>What resources should be added for new hires i...</td>\n",
       "      <td>For new hires in the onboarding process, it wo...</td>\n",
       "      <td>[:check_mark:\\natlassian-check_mark\\n#FFFAE6\\n...</td>\n",
       "      <td>Add resources for new hires in the onboarding ...</td>\n",
       "      <td>0.988161</td>\n",
       "      <td>0.600000</td>\n",
       "      <td>1.000000</td>\n",
       "      <td>1.0</td>\n",
       "    </tr>\n",
       "    <tr>\n",
       "      <th>2</th>\n",
       "      <td>What training programs are offered in data sci...</td>\n",
       "      <td>Tech Innovators Inc. offers a range of trainin...</td>\n",
       "      <td>[ learn about SEO, social media marketing, and...</td>\n",
       "      <td>Courses covering financial analysis, budgeting...</td>\n",
       "      <td>0.989099</td>\n",
       "      <td>0.333333</td>\n",
       "      <td>0.000000</td>\n",
       "      <td>0.0</td>\n",
       "    </tr>\n",
       "    <tr>\n",
       "      <th>3</th>\n",
       "      <td>What services does the Employee Assistance Pro...</td>\n",
       "      <td>The Employee Assistance Program (EAP) provides...</td>\n",
       "      <td>[Q12: What is the process for handling workpla...</td>\n",
       "      <td>Employees can contact the Employee Assistance ...</td>\n",
       "      <td>0.984724</td>\n",
       "      <td>1.000000</td>\n",
       "      <td>1.000000</td>\n",
       "      <td>1.0</td>\n",
       "    </tr>\n",
       "    <tr>\n",
       "      <th>4</th>\n",
       "      <td>What is the significance of identifying growth...</td>\n",
       "      <td>Identifying growth areas in self-assessment is...</td>\n",
       "      <td>[ Self-assessment\\nStart by thinking through y...</td>\n",
       "      <td>Identifying growth areas in self-assessment is...</td>\n",
       "      <td>0.988894</td>\n",
       "      <td>0.611111</td>\n",
       "      <td>1.000000</td>\n",
       "      <td>1.0</td>\n",
       "    </tr>\n",
       "    <tr>\n",
       "      <th>5</th>\n",
       "      <td>How do employee engagement and disengagement d...</td>\n",
       "      <td>Employee engagement and disengagement differ s...</td>\n",
       "      <td>[Introduction\\nAt Tech Innovators Inc., we bel...</td>\n",
       "      <td>Employee engagement and disengagement differ i...</td>\n",
       "      <td>0.960525</td>\n",
       "      <td>0.892857</td>\n",
       "      <td>1.000000</td>\n",
       "      <td>1.0</td>\n",
       "    </tr>\n",
       "    <tr>\n",
       "      <th>6</th>\n",
       "      <td>What is the purpose of adding a header image t...</td>\n",
       "      <td>The purpose of adding a header image to a Conf...</td>\n",
       "      <td>[Create a stellar overview\\nThe overview is th...</td>\n",
       "      <td>Adding a header image to a Confluence space en...</td>\n",
       "      <td>0.961716</td>\n",
       "      <td>0.750000</td>\n",
       "      <td>0.333333</td>\n",
       "      <td>1.0</td>\n",
       "    </tr>\n",
       "  </tbody>\n",
       "</table>\n",
       "</div>"
      ],
      "text/plain": [
       "                                            question  \\\n",
       "0  What is Tech Innovators Inc.'s approach to wor...   \n",
       "1  What resources should be added for new hires i...   \n",
       "2  What training programs are offered in data sci...   \n",
       "3  What services does the Employee Assistance Pro...   \n",
       "4  What is the significance of identifying growth...   \n",
       "5  How do employee engagement and disengagement d...   \n",
       "6  What is the purpose of adding a header image t...   \n",
       "\n",
       "                                              answer  \\\n",
       "0  Tech Innovators Inc. has a zero-tolerance poli...   \n",
       "1  For new hires in the onboarding process, it wo...   \n",
       "2  Tech Innovators Inc. offers a range of trainin...   \n",
       "3  The Employee Assistance Program (EAP) provides...   \n",
       "4  Identifying growth areas in self-assessment is...   \n",
       "5  Employee engagement and disengagement differ s...   \n",
       "6  The purpose of adding a header image to a Conf...   \n",
       "\n",
       "                                            contexts  \\\n",
       "0  [Q12: What is the process for handling workpla...   \n",
       "1  [:check_mark:\\natlassian-check_mark\\n#FFFAE6\\n...   \n",
       "2  [ learn about SEO, social media marketing, and...   \n",
       "3  [Q12: What is the process for handling workpla...   \n",
       "4  [ Self-assessment\\nStart by thinking through y...   \n",
       "5  [Introduction\\nAt Tech Innovators Inc., we bel...   \n",
       "6  [Create a stellar overview\\nThe overview is th...   \n",
       "\n",
       "                                        ground_truth  answer_relevancy  \\\n",
       "0  Tech Innovators Inc. has a zero-tolerance poli...          0.974083   \n",
       "1  Add resources for new hires in the onboarding ...          0.988161   \n",
       "2  Courses covering financial analysis, budgeting...          0.989099   \n",
       "3  Employees can contact the Employee Assistance ...          0.984724   \n",
       "4  Identifying growth areas in self-assessment is...          0.988894   \n",
       "5  Employee engagement and disengagement differ i...          0.960525   \n",
       "6  Adding a header image to a Confluence space en...          0.961716   \n",
       "\n",
       "   faithfulness  context_recall  context_precision  \n",
       "0      0.625000        1.000000                1.0  \n",
       "1      0.600000        1.000000                1.0  \n",
       "2      0.333333        0.000000                0.0  \n",
       "3      1.000000        1.000000                1.0  \n",
       "4      0.611111        1.000000                1.0  \n",
       "5      0.892857        1.000000                1.0  \n",
       "6      0.750000        0.333333                1.0  "
      ]
     },
     "execution_count": 35,
     "metadata": {},
     "output_type": "execute_result"
    }
   ],
   "source": [
    "df = result_prompt_3.to_pandas()\n",
    "df"
   ]
  },
  {
   "cell_type": "markdown",
   "metadata": {},
   "source": [
    "## Template 4 evaluation"
   ]
  },
  {
   "cell_type": "code",
   "execution_count": 95,
   "metadata": {},
   "outputs": [],
   "source": [
    "# Generate all the answers for the questions in the dataset\n",
    "# examples = client.list_examples(dataset_name=\"hr test\")\n",
    "answers_4 = []\n",
    "for question in data_to_upload['question']:\n",
    "    question_dict = {'question': question}\n",
    "    answers = call_openai_template_4(question_dict)\n",
    "    answers_4.append(answers['answer'])"
   ]
  },
  {
   "cell_type": "code",
   "execution_count": 96,
   "metadata": {},
   "outputs": [],
   "source": [
    "# update the dataset with answers\n",
    "data_to_upload['answer_template_4'] = answers_4"
   ]
  },
  {
   "cell_type": "code",
   "execution_count": 97,
   "metadata": {},
   "outputs": [],
   "source": [
    "from datasets import Dataset\n",
    "\n",
    "question = list(data_to_upload['question'])\n",
    "answer = list(data_to_upload['answer_template_4'])\n",
    "contexts = list(data_to_upload['contexts'])\n",
    "ground_truth = list(data_to_upload['ground_truth'])\n",
    "\n",
    "data_samples = {\n",
    "    'question': question,\n",
    "    'answer': answer,\n",
    "    'contexts': contexts,\n",
    "    'ground_truth': ground_truth\n",
    "}\n",
    "\n",
    "dataset_4 = Dataset.from_dict(data_samples)"
   ]
  },
  {
   "cell_type": "code",
   "execution_count": 98,
   "metadata": {},
   "outputs": [
    {
     "data": {
      "application/vnd.jupyter.widget-view+json": {
       "model_id": "96fc6f3dfd7b48aaa1a8c1d5202571f7",
       "version_major": 2,
       "version_minor": 0
      },
      "text/plain": [
       "Evaluating:   0%|          | 0/28 [00:00<?, ?it/s]"
      ]
     },
     "metadata": {},
     "output_type": "display_data"
    },
    {
     "data": {
      "text/plain": [
       "{'answer_relevancy': 0.9756, 'faithfulness': 0.4053, 'context_recall': 0.7619, 'context_precision': 0.8571}"
      ]
     },
     "execution_count": 98,
     "metadata": {},
     "output_type": "execute_result"
    }
   ],
   "source": [
    "from ragas import evaluate\n",
    "# from ragas.integrations.langsmith import evaluate\n",
    "from ragas.metrics import (\n",
    "    answer_relevancy,\n",
    "    faithfulness,\n",
    "    context_recall,\n",
    "    context_precision,\n",
    ")\n",
    "result_prompt_4 = evaluate(\n",
    "    dataset_4,\n",
    "    metrics=[\n",
    "        answer_relevancy,\n",
    "        faithfulness,\n",
    "        context_recall,\n",
    "        context_precision,\n",
    "    ],\n",
    ")\n",
    "\n",
    "result_prompt_4"
   ]
  },
  {
   "cell_type": "code",
   "execution_count": 100,
   "metadata": {},
   "outputs": [
    {
     "data": {
      "text/html": [
       "<div>\n",
       "<style scoped>\n",
       "    .dataframe tbody tr th:only-of-type {\n",
       "        vertical-align: middle;\n",
       "    }\n",
       "\n",
       "    .dataframe tbody tr th {\n",
       "        vertical-align: top;\n",
       "    }\n",
       "\n",
       "    .dataframe thead th {\n",
       "        text-align: right;\n",
       "    }\n",
       "</style>\n",
       "<table border=\"1\" class=\"dataframe\">\n",
       "  <thead>\n",
       "    <tr style=\"text-align: right;\">\n",
       "      <th></th>\n",
       "      <th>question</th>\n",
       "      <th>answer</th>\n",
       "      <th>contexts</th>\n",
       "      <th>ground_truth</th>\n",
       "      <th>answer_relevancy</th>\n",
       "      <th>faithfulness</th>\n",
       "      <th>context_recall</th>\n",
       "      <th>context_precision</th>\n",
       "    </tr>\n",
       "  </thead>\n",
       "  <tbody>\n",
       "    <tr>\n",
       "      <th>0</th>\n",
       "      <td>What is Tech Innovators Inc.'s approach to wor...</td>\n",
       "      <td>Tech Innovators Inc. takes a proactive approac...</td>\n",
       "      <td>[Q12: What is the process for handling workpla...</td>\n",
       "      <td>Tech Innovators Inc. has a zero-tolerance poli...</td>\n",
       "      <td>0.999999</td>\n",
       "      <td>0.777778</td>\n",
       "      <td>1.000000</td>\n",
       "      <td>1.0</td>\n",
       "    </tr>\n",
       "    <tr>\n",
       "      <th>1</th>\n",
       "      <td>What resources should be added for new hires i...</td>\n",
       "      <td>Answer: For new hires in the onboarding proces...</td>\n",
       "      <td>[:check_mark:\\natlassian-check_mark\\n#FFFAE6\\n...</td>\n",
       "      <td>Add resources for new hires in the onboarding ...</td>\n",
       "      <td>0.974871</td>\n",
       "      <td>0.000000</td>\n",
       "      <td>1.000000</td>\n",
       "      <td>1.0</td>\n",
       "    </tr>\n",
       "    <tr>\n",
       "      <th>2</th>\n",
       "      <td>What training programs are offered in data sci...</td>\n",
       "      <td>Tech Innovators Inc. offers a range of trainin...</td>\n",
       "      <td>[ learn about SEO, social media marketing, and...</td>\n",
       "      <td>Courses covering financial analysis, budgeting...</td>\n",
       "      <td>0.989385</td>\n",
       "      <td>0.225806</td>\n",
       "      <td>0.000000</td>\n",
       "      <td>0.0</td>\n",
       "    </tr>\n",
       "    <tr>\n",
       "      <th>3</th>\n",
       "      <td>What services does the Employee Assistance Pro...</td>\n",
       "      <td>The Employee Assistance Program (EAP) provides...</td>\n",
       "      <td>[Q12: What is the process for handling workpla...</td>\n",
       "      <td>Employees can contact the Employee Assistance ...</td>\n",
       "      <td>0.994299</td>\n",
       "      <td>0.450000</td>\n",
       "      <td>1.000000</td>\n",
       "      <td>1.0</td>\n",
       "    </tr>\n",
       "    <tr>\n",
       "      <th>4</th>\n",
       "      <td>What is the significance of identifying growth...</td>\n",
       "      <td>Identifying growth areas in self-assessment is...</td>\n",
       "      <td>[ Self-assessment\\nStart by thinking through y...</td>\n",
       "      <td>Identifying growth areas in self-assessment is...</td>\n",
       "      <td>0.988894</td>\n",
       "      <td>0.533333</td>\n",
       "      <td>1.000000</td>\n",
       "      <td>1.0</td>\n",
       "    </tr>\n",
       "    <tr>\n",
       "      <th>5</th>\n",
       "      <td>How do employee engagement and disengagement d...</td>\n",
       "      <td>Employee engagement and disengagement differ s...</td>\n",
       "      <td>[Introduction\\nAt Tech Innovators Inc., we bel...</td>\n",
       "      <td>Employee engagement and disengagement differ i...</td>\n",
       "      <td>0.920337</td>\n",
       "      <td>0.433333</td>\n",
       "      <td>1.000000</td>\n",
       "      <td>1.0</td>\n",
       "    </tr>\n",
       "    <tr>\n",
       "      <th>6</th>\n",
       "      <td>What is the purpose of adding a header image t...</td>\n",
       "      <td>Adding a header image to a Confluence space se...</td>\n",
       "      <td>[Create a stellar overview\\nThe overview is th...</td>\n",
       "      <td>Adding a header image to a Confluence space en...</td>\n",
       "      <td>0.961312</td>\n",
       "      <td>0.416667</td>\n",
       "      <td>0.333333</td>\n",
       "      <td>1.0</td>\n",
       "    </tr>\n",
       "  </tbody>\n",
       "</table>\n",
       "</div>"
      ],
      "text/plain": [
       "                                            question  \\\n",
       "0  What is Tech Innovators Inc.'s approach to wor...   \n",
       "1  What resources should be added for new hires i...   \n",
       "2  What training programs are offered in data sci...   \n",
       "3  What services does the Employee Assistance Pro...   \n",
       "4  What is the significance of identifying growth...   \n",
       "5  How do employee engagement and disengagement d...   \n",
       "6  What is the purpose of adding a header image t...   \n",
       "\n",
       "                                              answer  \\\n",
       "0  Tech Innovators Inc. takes a proactive approac...   \n",
       "1  Answer: For new hires in the onboarding proces...   \n",
       "2  Tech Innovators Inc. offers a range of trainin...   \n",
       "3  The Employee Assistance Program (EAP) provides...   \n",
       "4  Identifying growth areas in self-assessment is...   \n",
       "5  Employee engagement and disengagement differ s...   \n",
       "6  Adding a header image to a Confluence space se...   \n",
       "\n",
       "                                            contexts  \\\n",
       "0  [Q12: What is the process for handling workpla...   \n",
       "1  [:check_mark:\\natlassian-check_mark\\n#FFFAE6\\n...   \n",
       "2  [ learn about SEO, social media marketing, and...   \n",
       "3  [Q12: What is the process for handling workpla...   \n",
       "4  [ Self-assessment\\nStart by thinking through y...   \n",
       "5  [Introduction\\nAt Tech Innovators Inc., we bel...   \n",
       "6  [Create a stellar overview\\nThe overview is th...   \n",
       "\n",
       "                                        ground_truth  answer_relevancy  \\\n",
       "0  Tech Innovators Inc. has a zero-tolerance poli...          0.999999   \n",
       "1  Add resources for new hires in the onboarding ...          0.974871   \n",
       "2  Courses covering financial analysis, budgeting...          0.989385   \n",
       "3  Employees can contact the Employee Assistance ...          0.994299   \n",
       "4  Identifying growth areas in self-assessment is...          0.988894   \n",
       "5  Employee engagement and disengagement differ i...          0.920337   \n",
       "6  Adding a header image to a Confluence space en...          0.961312   \n",
       "\n",
       "   faithfulness  context_recall  context_precision  \n",
       "0      0.777778        1.000000                1.0  \n",
       "1      0.000000        1.000000                1.0  \n",
       "2      0.225806        0.000000                0.0  \n",
       "3      0.450000        1.000000                1.0  \n",
       "4      0.533333        1.000000                1.0  \n",
       "5      0.433333        1.000000                1.0  \n",
       "6      0.416667        0.333333                1.0  "
      ]
     },
     "execution_count": 100,
     "metadata": {},
     "output_type": "execute_result"
    }
   ],
   "source": [
    "df = result_prompt_4.to_pandas()\n",
    "df"
   ]
  },
  {
   "cell_type": "markdown",
   "metadata": {},
   "source": [
    "## Template 5 evaluation"
   ]
  },
  {
   "cell_type": "code",
   "execution_count": 37,
   "metadata": {},
   "outputs": [],
   "source": [
    "# Generate all the answers for the questions in the dataset\n",
    "# examples = client.list_examples(dataset_name=\"hr test\")\n",
    "answers_5 = []\n",
    "for question in data_to_upload['question']:\n",
    "    question_dict = {'question': question}\n",
    "    answers = call_openai_template_5(question_dict)\n",
    "    answers_5.append(answers['answer'])"
   ]
  },
  {
   "cell_type": "code",
   "execution_count": 38,
   "metadata": {},
   "outputs": [],
   "source": [
    "# update the dataset with answers\n",
    "data_to_upload['answer_template_5'] = answers_5"
   ]
  },
  {
   "cell_type": "code",
   "execution_count": 39,
   "metadata": {},
   "outputs": [],
   "source": [
    "from datasets import Dataset\n",
    "\n",
    "question = list(data_to_upload['question'])\n",
    "answer = list(data_to_upload['answer_template_5'])\n",
    "contexts = list(data_to_upload['contexts'])\n",
    "ground_truth = list(data_to_upload['ground_truth'])\n",
    "\n",
    "data_samples = {\n",
    "    'question': question,\n",
    "    'answer': answer,\n",
    "    'contexts': contexts,\n",
    "    'ground_truth': ground_truth\n",
    "}\n",
    "\n",
    "dataset_5 = Dataset.from_dict(data_samples)"
   ]
  },
  {
   "cell_type": "code",
   "execution_count": 41,
   "metadata": {},
   "outputs": [
    {
     "data": {
      "application/vnd.jupyter.widget-view+json": {
       "model_id": "4f75c64646b14744816e507ed5b326ab",
       "version_major": 2,
       "version_minor": 0
      },
      "text/plain": [
       "Evaluating:   0%|          | 0/28 [00:00<?, ?it/s]"
      ]
     },
     "metadata": {},
     "output_type": "display_data"
    },
    {
     "data": {
      "text/plain": [
       "{'answer_relevancy': 0.9758, 'faithfulness': 0.5406, 'context_recall': 0.7619, 'context_precision': 0.8571}"
      ]
     },
     "execution_count": 41,
     "metadata": {},
     "output_type": "execute_result"
    }
   ],
   "source": [
    "from ragas import evaluate\n",
    "# from ragas.integrations.langsmith import evaluate\n",
    "from ragas.metrics import (\n",
    "    answer_relevancy,\n",
    "    faithfulness,\n",
    "    context_recall,\n",
    "    context_precision,\n",
    ")\n",
    "result_prompt_5 = evaluate(\n",
    "    dataset_5,\n",
    "    metrics=[\n",
    "        answer_relevancy,\n",
    "        faithfulness,\n",
    "        context_recall,\n",
    "        context_precision,\n",
    "    ],\n",
    ")\n",
    "\n",
    "result_prompt_5"
   ]
  },
  {
   "cell_type": "code",
   "execution_count": 42,
   "metadata": {},
   "outputs": [
    {
     "data": {
      "text/html": [
       "<div>\n",
       "<style scoped>\n",
       "    .dataframe tbody tr th:only-of-type {\n",
       "        vertical-align: middle;\n",
       "    }\n",
       "\n",
       "    .dataframe tbody tr th {\n",
       "        vertical-align: top;\n",
       "    }\n",
       "\n",
       "    .dataframe thead th {\n",
       "        text-align: right;\n",
       "    }\n",
       "</style>\n",
       "<table border=\"1\" class=\"dataframe\">\n",
       "  <thead>\n",
       "    <tr style=\"text-align: right;\">\n",
       "      <th></th>\n",
       "      <th>question</th>\n",
       "      <th>answer</th>\n",
       "      <th>contexts</th>\n",
       "      <th>ground_truth</th>\n",
       "      <th>answer_relevancy</th>\n",
       "      <th>faithfulness</th>\n",
       "      <th>context_recall</th>\n",
       "      <th>context_precision</th>\n",
       "    </tr>\n",
       "  </thead>\n",
       "  <tbody>\n",
       "    <tr>\n",
       "      <th>0</th>\n",
       "      <td>What is Tech Innovators Inc.'s approach to wor...</td>\n",
       "      <td>Tech Innovators Inc. has a strict zero-toleran...</td>\n",
       "      <td>[Q12: What is the process for handling workpla...</td>\n",
       "      <td>Tech Innovators Inc. has a zero-tolerance poli...</td>\n",
       "      <td>0.974083</td>\n",
       "      <td>0.222222</td>\n",
       "      <td>1.000000</td>\n",
       "      <td>1.0</td>\n",
       "    </tr>\n",
       "    <tr>\n",
       "      <th>1</th>\n",
       "      <td>What resources should be added for new hires i...</td>\n",
       "      <td>For new hires in the onboarding process, the f...</td>\n",
       "      <td>[:check_mark:\\natlassian-check_mark\\n#FFFAE6\\n...</td>\n",
       "      <td>Add resources for new hires in the onboarding ...</td>\n",
       "      <td>1.000000</td>\n",
       "      <td>0.666667</td>\n",
       "      <td>1.000000</td>\n",
       "      <td>1.0</td>\n",
       "    </tr>\n",
       "    <tr>\n",
       "      <th>2</th>\n",
       "      <td>What training programs are offered in data sci...</td>\n",
       "      <td>Tech Innovators Inc. offers a range of trainin...</td>\n",
       "      <td>[ learn about SEO, social media marketing, and...</td>\n",
       "      <td>Courses covering financial analysis, budgeting...</td>\n",
       "      <td>0.954112</td>\n",
       "      <td>0.333333</td>\n",
       "      <td>0.000000</td>\n",
       "      <td>0.0</td>\n",
       "    </tr>\n",
       "    <tr>\n",
       "      <th>3</th>\n",
       "      <td>What services does the Employee Assistance Pro...</td>\n",
       "      <td>The Employee Assistance Program (EAP) offers a...</td>\n",
       "      <td>[Q12: What is the process for handling workpla...</td>\n",
       "      <td>Employees can contact the Employee Assistance ...</td>\n",
       "      <td>0.990955</td>\n",
       "      <td>0.800000</td>\n",
       "      <td>1.000000</td>\n",
       "      <td>1.0</td>\n",
       "    </tr>\n",
       "    <tr>\n",
       "      <th>4</th>\n",
       "      <td>What is the significance of identifying growth...</td>\n",
       "      <td>Identifying growth areas in self-assessment is...</td>\n",
       "      <td>[ Self-assessment\\nStart by thinking through y...</td>\n",
       "      <td>Identifying growth areas in self-assessment is...</td>\n",
       "      <td>0.988882</td>\n",
       "      <td>0.388889</td>\n",
       "      <td>1.000000</td>\n",
       "      <td>1.0</td>\n",
       "    </tr>\n",
       "    <tr>\n",
       "      <th>5</th>\n",
       "      <td>How do employee engagement and disengagement d...</td>\n",
       "      <td>Employee engagement and disengagement differ s...</td>\n",
       "      <td>[Introduction\\nAt Tech Innovators Inc., we bel...</td>\n",
       "      <td>Employee engagement and disengagement differ i...</td>\n",
       "      <td>0.960525</td>\n",
       "      <td>0.944444</td>\n",
       "      <td>1.000000</td>\n",
       "      <td>1.0</td>\n",
       "    </tr>\n",
       "    <tr>\n",
       "      <th>6</th>\n",
       "      <td>What is the purpose of adding a header image t...</td>\n",
       "      <td>The purpose of adding a header image to a Conf...</td>\n",
       "      <td>[Create a stellar overview\\nThe overview is th...</td>\n",
       "      <td>Adding a header image to a Confluence space en...</td>\n",
       "      <td>0.961716</td>\n",
       "      <td>0.428571</td>\n",
       "      <td>0.333333</td>\n",
       "      <td>1.0</td>\n",
       "    </tr>\n",
       "  </tbody>\n",
       "</table>\n",
       "</div>"
      ],
      "text/plain": [
       "                                            question  \\\n",
       "0  What is Tech Innovators Inc.'s approach to wor...   \n",
       "1  What resources should be added for new hires i...   \n",
       "2  What training programs are offered in data sci...   \n",
       "3  What services does the Employee Assistance Pro...   \n",
       "4  What is the significance of identifying growth...   \n",
       "5  How do employee engagement and disengagement d...   \n",
       "6  What is the purpose of adding a header image t...   \n",
       "\n",
       "                                              answer  \\\n",
       "0  Tech Innovators Inc. has a strict zero-toleran...   \n",
       "1  For new hires in the onboarding process, the f...   \n",
       "2  Tech Innovators Inc. offers a range of trainin...   \n",
       "3  The Employee Assistance Program (EAP) offers a...   \n",
       "4  Identifying growth areas in self-assessment is...   \n",
       "5  Employee engagement and disengagement differ s...   \n",
       "6  The purpose of adding a header image to a Conf...   \n",
       "\n",
       "                                            contexts  \\\n",
       "0  [Q12: What is the process for handling workpla...   \n",
       "1  [:check_mark:\\natlassian-check_mark\\n#FFFAE6\\n...   \n",
       "2  [ learn about SEO, social media marketing, and...   \n",
       "3  [Q12: What is the process for handling workpla...   \n",
       "4  [ Self-assessment\\nStart by thinking through y...   \n",
       "5  [Introduction\\nAt Tech Innovators Inc., we bel...   \n",
       "6  [Create a stellar overview\\nThe overview is th...   \n",
       "\n",
       "                                        ground_truth  answer_relevancy  \\\n",
       "0  Tech Innovators Inc. has a zero-tolerance poli...          0.974083   \n",
       "1  Add resources for new hires in the onboarding ...          1.000000   \n",
       "2  Courses covering financial analysis, budgeting...          0.954112   \n",
       "3  Employees can contact the Employee Assistance ...          0.990955   \n",
       "4  Identifying growth areas in self-assessment is...          0.988882   \n",
       "5  Employee engagement and disengagement differ i...          0.960525   \n",
       "6  Adding a header image to a Confluence space en...          0.961716   \n",
       "\n",
       "   faithfulness  context_recall  context_precision  \n",
       "0      0.222222        1.000000                1.0  \n",
       "1      0.666667        1.000000                1.0  \n",
       "2      0.333333        0.000000                0.0  \n",
       "3      0.800000        1.000000                1.0  \n",
       "4      0.388889        1.000000                1.0  \n",
       "5      0.944444        1.000000                1.0  \n",
       "6      0.428571        0.333333                1.0  "
      ]
     },
     "execution_count": 42,
     "metadata": {},
     "output_type": "execute_result"
    }
   ],
   "source": [
    "df = result_prompt_5.to_pandas()\n",
    "df"
   ]
  }
 ],
 "metadata": {
  "kernelspec": {
   "display_name": "venv",
   "language": "python",
   "name": "python3"
  },
  "language_info": {
   "codemirror_mode": {
    "name": "ipython",
    "version": 3
   },
   "file_extension": ".py",
   "mimetype": "text/x-python",
   "name": "python",
   "nbconvert_exporter": "python",
   "pygments_lexer": "ipython3",
   "version": "3.11.9"
  }
 },
 "nbformat": 4,
 "nbformat_minor": 2
}
