{
 "cells": [
  {
   "cell_type": "code",
   "execution_count": 1,
   "metadata": {},
   "outputs": [
    {
     "data": {
      "text/plain": [
       "True"
      ]
     },
     "execution_count": 1,
     "metadata": {},
     "output_type": "execute_result"
    }
   ],
   "source": [
    "import os\n",
    "from dotenv import load_dotenv\n",
    "load_dotenv(encoding='utf-8')"
   ]
  },
  {
   "cell_type": "markdown",
   "metadata": {},
   "source": [
    "# RAG pipeline"
   ]
  },
  {
   "cell_type": "markdown",
   "metadata": {},
   "source": [
    "## Vector Store and Retriever"
   ]
  },
  {
   "cell_type": "code",
   "execution_count": 2,
   "metadata": {},
   "outputs": [],
   "source": [
    "from langchain_core.output_parsers import StrOutputParser\n",
    "from langchain_core.runnables import RunnablePassthrough\n",
    "from langchain_mongodb import MongoDBAtlasVectorSearch\n",
    "from langchain_openai import ChatOpenAI, OpenAIEmbeddings\n",
    "from langchain.prompts import PromptTemplate\n",
    "from pymongo import MongoClient"
   ]
  },
  {
   "cell_type": "code",
   "execution_count": 3,
   "metadata": {},
   "outputs": [],
   "source": [
    "os.environ[\"OPENAI_API_KEY\"] = os.getenv(\"OPENAI_API_KEY\")\n",
    "\n",
    "llm = ChatOpenAI(model=os.getenv(\"DEFAULT_OPENAI_MODEL\")) # DEFAULT_OPENAI_MODEL='gpt-4o-mini-2024-07-18'\n",
    "\n",
    "# embedding_model=OpenAIEmbeddings(model=os.getenv(\"DEFAULT_OPENAI_EMBEDDING\"), disallowed_special=())\n",
    "embedding_model=OpenAIEmbeddings(disallowed_special=())"
   ]
  },
  {
   "cell_type": "code",
   "execution_count": 4,
   "metadata": {},
   "outputs": [],
   "source": [
    "# Define MongoDB vector database\n",
    "client = MongoClient(os.getenv(\"ATLAS_CONNECTION_STRING\"))\n",
    "db_name = \"fellowshipai\"\n",
    "collection_name = \"enterprise_data\"\n",
    "atlas_collection = client[db_name][collection_name]\n",
    "index_name = \"vector_index_erp\""
   ]
  },
  {
   "cell_type": "code",
   "execution_count": 5,
   "metadata": {},
   "outputs": [],
   "source": [
    "# Define vector store and retriever\n",
    "def get_vector_store_retriver(index_name, embedding_model, collection):\n",
    "\n",
    "  vector_store = MongoDBAtlasVectorSearch(\n",
    "      embedding = embedding_model,\n",
    "      collection = atlas_collection,\n",
    "      index_name = index_name\n",
    "  )\n",
    "\n",
    "  retriever = vector_store.as_retriever(\n",
    "      search_type = \"similarity\",\n",
    "      search_kwargs = { \"k\": 10}  # \"score_threshold\": 0.75 \n",
    "  )\n",
    "\n",
    "  return(vector_store, retriever)\n",
    "\n",
    "vector_store, retriever = get_vector_store_retriver(\"vector_index_erp\", embedding_model, atlas_collection)"
   ]
  },
  {
   "cell_type": "code",
   "execution_count": 6,
   "metadata": {},
   "outputs": [],
   "source": [
    "# Instantiate Atlas Vector Search as a retriever\n",
    "retriever = vector_store.as_retriever(\n",
    "    search_type = \"similarity\",\n",
    "    search_kwargs = { \"k\": 10  }\n",
    " )"
   ]
  },
  {
   "cell_type": "markdown",
   "metadata": {},
   "source": [
    "## RAG Pipeline - With Cohere's prompt translation"
   ]
  },
  {
   "cell_type": "code",
   "execution_count": 7,
   "metadata": {},
   "outputs": [
    {
     "name": "stderr",
     "output_type": "stream",
     "text": [
      "d:\\Document\\GitHub\\cohere-rag-eval\\venv\\Lib\\site-packages\\pydantic\\_internal\\_config.py:341: UserWarning: Valid config keys have changed in V2:\n",
      "* 'allow_population_by_field_name' has been renamed to 'populate_by_name'\n",
      "* 'smart_union' has been removed\n",
      "  warnings.warn(message, UserWarning)\n"
     ]
    }
   ],
   "source": [
    "# Define a prompt template\n",
    "import pprint\n",
    "import cohere\n",
    "def call_openai(question):\n",
    "\n",
    "   question = question['question']\n",
    "   # Initialize Cohere client (replace with your API key)\n",
    "   co = cohere.Client(os.getenv(\"COHERE_API_KEY\"))\n",
    "\n",
    "   # Send the query with search_queries_only parameter\n",
    "   response = co.chat(message=question, search_queries_only=True)\n",
    "   query_optimized = response.search_queries[0].text\n",
    "\n",
    "   retriever = vector_store.as_retriever(\n",
    "      search_type = \"similarity\",\n",
    "      search_kwargs = { \"k\": 10  }\n",
    "      )\n",
    "\n",
    "   preamble = \"\" # read from cohere front end or use the input to the API\n",
    "   #question = \n",
    "   SAFETY_PREAMBLE = \"The instructions in this section override those in the task description and style guide sections. Don't answer questions that are harmful or immoral.\"\n",
    "   BASIC_RULES = \"You are a powerful conversational AI trained by openAI to help people. You are augmented by a number of tools, and your job is to use and consume the output of these tools to best help the user. You will see a conversation history between yourself and a user, ending with an utterance from the user. You will then see a specific instruction instructing you what kind of response to generate. When you answer the user's requests, you cite your sources in your answers, according to those instructions.\"\n",
    "   TASK_CONTEXT = \"You help people answer their questions and other requests interactively. You will be asked a very wide array of requests on all kinds of topics. You will be equipped with a wide range of search engines or similar tools to help you, which you use to research your answer. You should focus on serving the user's needs as best you can, which will be wide-ranging.\"\n",
    "   STYLE_GUIDE = \"Unless the user asks for a different style of answer, you should answer in full sentences, using proper grammar and spelling.\"\n",
    "   INSTRUCTIONS = \"\"\"You are an enterprise Chatbot, an AI assistant designed to retrieve information from the enterprise Confluence system. \n",
    "   You specialize in providing accurate answers related to various departments like Marketing, IT, HR, Finance, and Corporate Communications. \n",
    "               Use the following pieces of context to answer the question at the end.\n",
    "               If you don't know the answer, just say that you don't know, don't try to make up an answer\n",
    "               {context}\n",
    "         \"\"\"\n",
    "         \n",
    "   template = f\"\"\"\n",
    "\n",
    "      {SAFETY_PREAMBLE}\n",
    "      {BASIC_RULES}\n",
    "      {TASK_CONTEXT}\n",
    "      {STYLE_GUIDE}\n",
    "      {INSTRUCTIONS}\n",
    "\n",
    "   \"\"\"\n",
    "   if preamble:\n",
    "      template += f\"\"\"{preamble}\\n\\n\"\"\"\n",
    "\n",
    "\n",
    "   template +=  f\"\"\"Question: {query_optimized}\\n\\n\"\"\"\n",
    "\n",
    "   custom_rag_prompt = PromptTemplate.from_template(template)\n",
    "\n",
    "   #llm = get_llm_model(\"openai\")\n",
    "   llm = ChatOpenAI(model=os.getenv(\"DEFAULT_OPENAI_MODEL\"))\n",
    "\n",
    "   def format_docs(docs):\n",
    "      return \"\\n\\n\".join(doc.page_content for doc in docs)\n",
    "\n",
    "   # Construct a chain to answer questions on your data\n",
    "   rag_chain = (\n",
    "      { \"context\": retriever | format_docs, \"query_optimized\": RunnablePassthrough()}\n",
    "      | custom_rag_prompt\n",
    "      | llm\n",
    "      | StrOutputParser()\n",
    "   )\n",
    "\n",
    "   # Prompt the chain\n",
    "   answer = rag_chain.invoke(query_optimized)\n",
    "   similar = retriever.invoke(query_optimized)\n",
    "\n",
    "\n",
    "   return{\n",
    "      'answer': answer,\n",
    "      'contexts': [str(doc) for doc in similar]\n",
    "      }"
   ]
  },
  {
   "cell_type": "markdown",
   "metadata": {},
   "source": [
    "### Test the RAG pipeline"
   ]
  },
  {
   "cell_type": "code",
   "execution_count": 8,
   "metadata": {},
   "outputs": [
    {
     "name": "stdout",
     "output_type": "stream",
     "text": [
      "A supportive culture has a profound impact on employee engagement. When an organization fosters a supportive environment, it encourages employees to f\n"
     ]
    }
   ],
   "source": [
    "# Test sample\n",
    "question = {'question': \"How does a supportive culture impact employee engagement and align with Tech Innovators Inc.'s approach to employment relations and engagement?\"}\n",
    "answer = call_openai(question)\n",
    "print(answer['answer'][:150])"
   ]
  },
  {
   "cell_type": "code",
   "execution_count": 9,
   "metadata": {},
   "outputs": [
    {
     "name": "stdout",
     "output_type": "stream",
     "text": [
      "[\"page_content='employees and management.Employee Involvement: Involving employees in decision-making processes and seeking their input on matters that affect them.Supportive Culture: Creating a supportive culture' metadata={'_id': '66d8163d0533e009aa2d4b0f', 'pageid': '491566', 'department': 'HR', 'title': 'Employee Relations and Engagement at Tech Innovators Inc.'}\", \"page_content='employees and management.Employee Involvement: Involving employees in decision-making processes and seeking their input on matters that affect them.Supportive Culture: Creating a supportive culture' metadata={'_id': '66d816590533e009aa2d4d34', 'pageid': '491566', 'department': 'HR', 'title': 'Employee Relations and Engagement at Tech Innovators Inc.'}\", \"page_content='employees and management.Employee Involvement: Involving employees in decision-making processes and seeking their input on matters that affect them.Supportive Culture: Creating a supportive culture' metadata={'_id': '66d816750533e009aa2d4f59', 'pageid': '491566', 'department': 'HR', 'title': 'Employee Relations and Engagement at Tech Innovators Inc.'}\", \"page_content='employees and management.Employee Involvement: Involving employees in decision-making processes and seeking their input on matters that affect them.Supportive Culture: Creating a supportive culture' metadata={'_id': '66d816900533e009aa2d517e', 'pageid': '491566', 'department': 'HR', 'title': 'Employee Relations and Engagement at Tech Innovators Inc.'}\", \"page_content='engagement is critical. This involves:Clear Communication: Providing clear and consistent communication about changes and their impact.Support Systems: Offering support systems to help employees' metadata={'_id': '66d8163d0533e009aa2d4b1a', 'pageid': '491566', 'department': 'HR', 'title': 'Employee Relations and Engagement at Tech Innovators Inc.'}\", \"page_content='engagement is critical. This involves:Clear Communication: Providing clear and consistent communication about changes and their impact.Support Systems: Offering support systems to help employees' metadata={'_id': '66d816900533e009aa2d5189', 'pageid': '491566', 'department': 'HR', 'title': 'Employee Relations and Engagement at Tech Innovators Inc.'}\", \"page_content='engagement is critical. This involves:Clear Communication: Providing clear and consistent communication about changes and their impact.Support Systems: Offering support systems to help employees' metadata={'_id': '66d816590533e009aa2d4d3f', 'pageid': '491566', 'department': 'HR', 'title': 'Employee Relations and Engagement at Tech Innovators Inc.'}\", \"page_content='engagement is critical. This involves:Clear Communication: Providing clear and consistent communication about changes and their impact.Support Systems: Offering support systems to help employees' metadata={'_id': '66d816750533e009aa2d4f64', 'pageid': '491566', 'department': 'HR', 'title': 'Employee Relations and Engagement at Tech Innovators Inc.'}\", \"page_content='and Employee EngagementThe organizational climate significantly impacts employee engagement. A positive climate characterized by trust, respect, and support fosters higher engagement levels.' metadata={'_id': '66d8163d0533e009aa2d4b18', 'pageid': '491566', 'department': 'HR', 'title': 'Employee Relations and Engagement at Tech Innovators Inc.'}\", \"page_content='and Employee EngagementThe organizational climate significantly impacts employee engagement. A positive climate characterized by trust, respect, and support fosters higher engagement levels.' metadata={'_id': '66d816750533e009aa2d4f62', 'pageid': '491566', 'department': 'HR', 'title': 'Employee Relations and Engagement at Tech Innovators Inc.'}\"]\n"
     ]
    }
   ],
   "source": [
    "print(answer['contexts'])"
   ]
  },
  {
   "cell_type": "markdown",
   "metadata": {},
   "source": [
    "# RAG pipeline evaluation"
   ]
  },
  {
   "cell_type": "markdown",
   "metadata": {},
   "source": [
    "## Test data set prep"
   ]
  },
  {
   "cell_type": "code",
   "execution_count": 10,
   "metadata": {},
   "outputs": [],
   "source": [
    "import pandas as pd\n",
    "import json\n",
    "\n",
    "def json_to_dataframe(json_file_path):\n",
    "  \"\"\"Reads a JSON file and converts it to a pandas DataFrame.\n",
    "\n",
    "  Args:\n",
    "    json_file_path (str): The path to the JSON file.\n",
    "\n",
    "  Returns:\n",
    "    pandas.DataFrame: The DataFrame created from the JSON data.\n",
    "  \"\"\"\n",
    "\n",
    "  with open(json_file_path, 'r') as f:\n",
    "    data = json.load(f)\n",
    "\n",
    "  # Handle different JSON structures\n",
    "  if isinstance(data, list):\n",
    "    # If the JSON data is a list of dictionaries, create a DataFrame directly\n",
    "    df = pd.DataFrame(data)\n",
    "  elif isinstance(data, dict):\n",
    "    # If the JSON data is a single dictionary, convert it to a list of dictionaries\n",
    "    df = pd.DataFrame([data])\n",
    "  else:\n",
    "    raise ValueError(\"Unsupported JSON structure\")\n",
    "\n",
    "  return df"
   ]
  },
  {
   "cell_type": "code",
   "execution_count": 11,
   "metadata": {},
   "outputs": [],
   "source": [
    "# Example usage:\n",
    "from from_root import from_root\n",
    "import os\n",
    "folder = \"data-test/test_dataset/test_dataset_it.json\"\n",
    "json_file_path = os.path.join(from_root(), folder)\n",
    "data_to_upload = json_to_dataframe(json_file_path)"
   ]
  },
  {
   "cell_type": "markdown",
   "metadata": {},
   "source": [
    "## RAGAS evaluation"
   ]
  },
  {
   "cell_type": "code",
   "execution_count": 12,
   "metadata": {},
   "outputs": [],
   "source": [
    "# Generate all the answers for the questions in the dataset\n",
    "# examples = client.list_examples(dataset_name=\"hr test\")\n",
    "answers = []\n",
    "for question in data_to_upload['question']:\n",
    "    question_dict = {'question': question}\n",
    "    answer = call_openai(question_dict)\n",
    "    answers.append(answer['answer'])"
   ]
  },
  {
   "cell_type": "code",
   "execution_count": 13,
   "metadata": {},
   "outputs": [],
   "source": [
    "# update the dataset with answers\n",
    "data_to_upload['answers'] = answers"
   ]
  },
  {
   "cell_type": "code",
   "execution_count": 14,
   "metadata": {},
   "outputs": [],
   "source": [
    "from datasets import Dataset\n",
    "\n",
    "question = list(data_to_upload['question'])\n",
    "answer = list(data_to_upload['answers'])\n",
    "contexts = list(data_to_upload['contexts'])\n",
    "ground_truth = list(data_to_upload['ground_truth'])\n",
    "\n",
    "data_samples = {\n",
    "    'question': question,\n",
    "    'answer': answer,\n",
    "    'contexts': contexts,\n",
    "    'ground_truth': ground_truth\n",
    "}\n",
    "\n",
    "dataset = Dataset.from_dict(data_samples)"
   ]
  },
  {
   "cell_type": "code",
   "execution_count": null,
   "metadata": {},
   "outputs": [],
   "source": [
    "# Optional, uncomment to trace runs with LangSmith. Sign up here: https://smith.langchain.com.\n",
    "# from langsmith import Client\n",
    "# os.environ[\"LANGCHAIN_ENDPOINT\"] = \"https://api.smith.langchain.com\"\n",
    "# os.environ[\"LANGCHAIN_TRACING_V2\"] = \"true\"\n",
    "# os.environ[\"LANGSMITH_API_KEY\"] = os.getenv(\"LANGSMITH_API_KEY\")\n",
    "# client = Client()"
   ]
  },
  {
   "cell_type": "code",
   "execution_count": 15,
   "metadata": {},
   "outputs": [
    {
     "data": {
      "application/vnd.jupyter.widget-view+json": {
       "model_id": "c1af97d0aad64407b0660b61c30b436e",
       "version_major": 2,
       "version_minor": 0
      },
      "text/plain": [
       "Evaluating:   0%|          | 0/36 [00:00<?, ?it/s]"
      ]
     },
     "metadata": {},
     "output_type": "display_data"
    },
    {
     "data": {
      "text/plain": [
       "{'answer_relevancy': 0.9539, 'faithfulness': 0.7377, 'context_recall': 0.9899, 'context_precision': 1.0000}"
      ]
     },
     "execution_count": 15,
     "metadata": {},
     "output_type": "execute_result"
    }
   ],
   "source": [
    "from ragas import evaluate\n",
    "# from ragas.integrations.langsmith import evaluate\n",
    "from ragas.metrics import (\n",
    "    answer_relevancy,\n",
    "    faithfulness,\n",
    "    context_recall,\n",
    "    context_precision,\n",
    ")\n",
    "result = evaluate(\n",
    "    dataset,\n",
    "    metrics=[\n",
    "        answer_relevancy,\n",
    "        faithfulness,\n",
    "        context_recall,\n",
    "        context_precision,\n",
    "    ],\n",
    ")\n",
    "\n",
    "result"
   ]
  },
  {
   "cell_type": "code",
   "execution_count": 16,
   "metadata": {},
   "outputs": [
    {
     "data": {
      "text/html": [
       "<div>\n",
       "<style scoped>\n",
       "    .dataframe tbody tr th:only-of-type {\n",
       "        vertical-align: middle;\n",
       "    }\n",
       "\n",
       "    .dataframe tbody tr th {\n",
       "        vertical-align: top;\n",
       "    }\n",
       "\n",
       "    .dataframe thead th {\n",
       "        text-align: right;\n",
       "    }\n",
       "</style>\n",
       "<table border=\"1\" class=\"dataframe\">\n",
       "  <thead>\n",
       "    <tr style=\"text-align: right;\">\n",
       "      <th></th>\n",
       "      <th>question</th>\n",
       "      <th>answer</th>\n",
       "      <th>contexts</th>\n",
       "      <th>ground_truth</th>\n",
       "      <th>answer_relevancy</th>\n",
       "      <th>faithfulness</th>\n",
       "      <th>context_recall</th>\n",
       "      <th>context_precision</th>\n",
       "    </tr>\n",
       "  </thead>\n",
       "  <tbody>\n",
       "    <tr>\n",
       "      <th>0</th>\n",
       "      <td>How does the role of the Senior Director respo...</td>\n",
       "      <td>The Senior Director responsible for Analytics ...</td>\n",
       "      <td>[Introduction\\nWelcome to Tech Innovators Inc....</td>\n",
       "      <td>The role of the Senior Director responsible fo...</td>\n",
       "      <td>0.921495</td>\n",
       "      <td>0.777778</td>\n",
       "      <td>1.000000</td>\n",
       "      <td>1.0</td>\n",
       "    </tr>\n",
       "    <tr>\n",
       "      <th>1</th>\n",
       "      <td>What is the importance of identifying and addr...</td>\n",
       "      <td>Identifying and addressing growth areas in sel...</td>\n",
       "      <td>[ Self-assessment\\nStart by thinking through y...</td>\n",
       "      <td>Identifying and addressing growth areas in sel...</td>\n",
       "      <td>0.990183</td>\n",
       "      <td>0.636364</td>\n",
       "      <td>1.000000</td>\n",
       "      <td>1.0</td>\n",
       "    </tr>\n",
       "    <tr>\n",
       "      <th>2</th>\n",
       "      <td>What forms of unethical behavior are strictly ...</td>\n",
       "      <td>Unethical behavior prohibited in the recruitme...</td>\n",
       "      <td>[ Inc. upholds the highest ethical standards i...</td>\n",
       "      <td>Favoritism or nepotism</td>\n",
       "      <td>0.974102</td>\n",
       "      <td>1.000000</td>\n",
       "      <td>1.000000</td>\n",
       "      <td>1.0</td>\n",
       "    </tr>\n",
       "    <tr>\n",
       "      <th>3</th>\n",
       "      <td>What is the significance of emotional and aest...</td>\n",
       "      <td>Emotional and aesthetic labor hold significant...</td>\n",
       "      <td>[Introduction\\nAt Tech Innovators Inc., we bel...</td>\n",
       "      <td>Emotional and aesthetic labor in the workplace...</td>\n",
       "      <td>1.000000</td>\n",
       "      <td>1.000000</td>\n",
       "      <td>1.000000</td>\n",
       "      <td>1.0</td>\n",
       "    </tr>\n",
       "    <tr>\n",
       "      <th>4</th>\n",
       "      <td>What is the purpose of the orientation session...</td>\n",
       "      <td>The purpose of the orientation session at Tech...</td>\n",
       "      <td>[Welcome to Tech Innovators Inc.\\n \\nWe are th...</td>\n",
       "      <td>The purpose of the orientation session at Tech...</td>\n",
       "      <td>1.000000</td>\n",
       "      <td>0.444444</td>\n",
       "      <td>1.000000</td>\n",
       "      <td>1.0</td>\n",
       "    </tr>\n",
       "    <tr>\n",
       "      <th>5</th>\n",
       "      <td>What mechanisms are in place for reporting vio...</td>\n",
       "      <td>Employees are encouraged to report any violati...</td>\n",
       "      <td>[5.2 Monitoring and Auditing\\nInternal Audits\\...</td>\n",
       "      <td>Employees can report violations of labor laws ...</td>\n",
       "      <td>0.898811</td>\n",
       "      <td>0.450000</td>\n",
       "      <td>1.000000</td>\n",
       "      <td>1.0</td>\n",
       "    </tr>\n",
       "    <tr>\n",
       "      <th>6</th>\n",
       "      <td>How do employee engagement and disengagement d...</td>\n",
       "      <td>Employee engagement refers to the emotional co...</td>\n",
       "      <td>[Introduction\\nAt Tech Innovators Inc., we bel...</td>\n",
       "      <td>Employee engagement and disengagement differ i...</td>\n",
       "      <td>0.871751</td>\n",
       "      <td>0.785714</td>\n",
       "      <td>1.000000</td>\n",
       "      <td>1.0</td>\n",
       "    </tr>\n",
       "    <tr>\n",
       "      <th>7</th>\n",
       "      <td>What steps are needed to extract data from Con...</td>\n",
       "      <td>To extract data from Confluence and create a R...</td>\n",
       "      <td>[Introduction\\nThis guide provides a step-by-s...</td>\n",
       "      <td>To extract data from Confluence and create a R...</td>\n",
       "      <td>0.948293</td>\n",
       "      <td>0.619048</td>\n",
       "      <td>0.909091</td>\n",
       "      <td>1.0</td>\n",
       "    </tr>\n",
       "    <tr>\n",
       "      <th>8</th>\n",
       "      <td>How does Tech Innovators Inc. promote employee...</td>\n",
       "      <td>Tech Innovators Inc. promotes employee engagem...</td>\n",
       "      <td>[Introduction\\nAt Tech Innovators Inc., we bel...</td>\n",
       "      <td>Tech Innovators Inc. promotes employee engagem...</td>\n",
       "      <td>0.980843</td>\n",
       "      <td>0.925926</td>\n",
       "      <td>1.000000</td>\n",
       "      <td>1.0</td>\n",
       "    </tr>\n",
       "  </tbody>\n",
       "</table>\n",
       "</div>"
      ],
      "text/plain": [
       "                                            question  \\\n",
       "0  How does the role of the Senior Director respo...   \n",
       "1  What is the importance of identifying and addr...   \n",
       "2  What forms of unethical behavior are strictly ...   \n",
       "3  What is the significance of emotional and aest...   \n",
       "4  What is the purpose of the orientation session...   \n",
       "5  What mechanisms are in place for reporting vio...   \n",
       "6  How do employee engagement and disengagement d...   \n",
       "7  What steps are needed to extract data from Con...   \n",
       "8  How does Tech Innovators Inc. promote employee...   \n",
       "\n",
       "                                              answer  \\\n",
       "0  The Senior Director responsible for Analytics ...   \n",
       "1  Identifying and addressing growth areas in sel...   \n",
       "2  Unethical behavior prohibited in the recruitme...   \n",
       "3  Emotional and aesthetic labor hold significant...   \n",
       "4  The purpose of the orientation session at Tech...   \n",
       "5  Employees are encouraged to report any violati...   \n",
       "6  Employee engagement refers to the emotional co...   \n",
       "7  To extract data from Confluence and create a R...   \n",
       "8  Tech Innovators Inc. promotes employee engagem...   \n",
       "\n",
       "                                            contexts  \\\n",
       "0  [Introduction\\nWelcome to Tech Innovators Inc....   \n",
       "1  [ Self-assessment\\nStart by thinking through y...   \n",
       "2  [ Inc. upholds the highest ethical standards i...   \n",
       "3  [Introduction\\nAt Tech Innovators Inc., we bel...   \n",
       "4  [Welcome to Tech Innovators Inc.\\n \\nWe are th...   \n",
       "5  [5.2 Monitoring and Auditing\\nInternal Audits\\...   \n",
       "6  [Introduction\\nAt Tech Innovators Inc., we bel...   \n",
       "7  [Introduction\\nThis guide provides a step-by-s...   \n",
       "8  [Introduction\\nAt Tech Innovators Inc., we bel...   \n",
       "\n",
       "                                        ground_truth  answer_relevancy  \\\n",
       "0  The role of the Senior Director responsible fo...          0.921495   \n",
       "1  Identifying and addressing growth areas in sel...          0.990183   \n",
       "2                             Favoritism or nepotism          0.974102   \n",
       "3  Emotional and aesthetic labor in the workplace...          1.000000   \n",
       "4  The purpose of the orientation session at Tech...          1.000000   \n",
       "5  Employees can report violations of labor laws ...          0.898811   \n",
       "6  Employee engagement and disengagement differ i...          0.871751   \n",
       "7  To extract data from Confluence and create a R...          0.948293   \n",
       "8  Tech Innovators Inc. promotes employee engagem...          0.980843   \n",
       "\n",
       "   faithfulness  context_recall  context_precision  \n",
       "0      0.777778        1.000000                1.0  \n",
       "1      0.636364        1.000000                1.0  \n",
       "2      1.000000        1.000000                1.0  \n",
       "3      1.000000        1.000000                1.0  \n",
       "4      0.444444        1.000000                1.0  \n",
       "5      0.450000        1.000000                1.0  \n",
       "6      0.785714        1.000000                1.0  \n",
       "7      0.619048        0.909091                1.0  \n",
       "8      0.925926        1.000000                1.0  "
      ]
     },
     "execution_count": 16,
     "metadata": {},
     "output_type": "execute_result"
    }
   ],
   "source": [
    "df = result.to_pandas()\n",
    "df"
   ]
  },
  {
   "cell_type": "code",
   "execution_count": 17,
   "metadata": {},
   "outputs": [],
   "source": [
    "folder = \"data-test/test_dataset/test_dataset_it_with_cohere_query_translation.csv\"\n",
    "json_file_path = os.path.join(from_root(), folder)\n",
    "df.to_csv(json_file_path, index=False)"
   ]
  }
 ],
 "metadata": {
  "kernelspec": {
   "display_name": "venv",
   "language": "python",
   "name": "python3"
  },
  "language_info": {
   "codemirror_mode": {
    "name": "ipython",
    "version": 3
   },
   "file_extension": ".py",
   "mimetype": "text/x-python",
   "name": "python",
   "nbconvert_exporter": "python",
   "pygments_lexer": "ipython3",
   "version": "3.11.9"
  }
 },
 "nbformat": 4,
 "nbformat_minor": 2
}
