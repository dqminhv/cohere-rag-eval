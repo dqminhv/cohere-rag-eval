{
 "cells": [
  {
   "cell_type": "code",
   "execution_count": 3,
   "metadata": {},
   "outputs": [
    {
     "data": {
      "text/plain": [
       "True"
      ]
     },
     "execution_count": 3,
     "metadata": {},
     "output_type": "execute_result"
    }
   ],
   "source": [
    "import os\n",
    "from dotenv import load_dotenv\n",
    "load_dotenv(encoding='utf-8')"
   ]
  },
  {
   "cell_type": "markdown",
   "metadata": {},
   "source": [
    "# RAG pipeline"
   ]
  },
  {
   "cell_type": "markdown",
   "metadata": {},
   "source": [
    "## Vector Store and Retriever"
   ]
  },
  {
   "cell_type": "code",
   "execution_count": 4,
   "metadata": {},
   "outputs": [
    {
     "name": "stderr",
     "output_type": "stream",
     "text": [
      "d:\\Document\\GitHub\\cohere-rag-eval\\venv\\Lib\\site-packages\\pydantic\\_internal\\_config.py:341: UserWarning: Valid config keys have changed in V2:\n",
      "* 'allow_population_by_field_name' has been renamed to 'populate_by_name'\n",
      "* 'smart_union' has been removed\n",
      "  warnings.warn(message, UserWarning)\n"
     ]
    }
   ],
   "source": [
    "from langchain_core.output_parsers import StrOutputParser\n",
    "from langchain_core.runnables import RunnablePassthrough\n",
    "from langchain_mongodb import MongoDBAtlasVectorSearch\n",
    "from langchain_openai import ChatOpenAI, OpenAIEmbeddings\n",
    "from langchain.prompts import PromptTemplate\n",
    "from pymongo import MongoClient\n",
    "from langchain.retrievers.contextual_compression import ContextualCompressionRetriever\n",
    "from langchain_cohere import CohereRerank\n",
    "from langchain_community.llms import Cohere\n",
    "# from llama_index.postprocessor.flag_embedding_reranker import (\n",
    "#     FlagEmbeddingReranker,\n",
    "# )\n",
    "from langchain.retrievers.document_compressors import LLMChainExtractor\n",
    "from langchain.retrievers.document_compressors import CrossEncoderReranker\n",
    "from langchain_community.cross_encoders import HuggingFaceCrossEncoder\n"
   ]
  },
  {
   "cell_type": "code",
   "execution_count": 5,
   "metadata": {},
   "outputs": [],
   "source": [
    "os.environ[\"OPENAI_API_KEY\"] = os.getenv(\"OPENAI_API_KEY\")\n",
    "\n",
    "# llm = ChatOpenAI(model=os.getenv(\"DEFAULT_OPENAI_MODEL\")) # DEFAULT_OPENAI_MODEL='gpt-4o-mini-2024-07-18'\n",
    "llm = ChatOpenAI(model=\"gpt-4o-mini\") # DEFAULT_OPENAI_MODEL='gpt-4o-mini-2024-07-18'\n",
    "\n",
    "# embedding_model=OpenAIEmbeddings(model=os.getenv(\"DEFAULT_OPENAI_EMBEDDING\"), disallowed_special=())\n",
    "embedding_model=OpenAIEmbeddings(disallowed_special=())"
   ]
  },
  {
   "cell_type": "code",
   "execution_count": 6,
   "metadata": {},
   "outputs": [],
   "source": [
    "# Define MongoDB vector database\n",
    "client = MongoClient(os.getenv(\"ATLAS_CONNECTION_STRING\"))\n",
    "db_name = os.getenv(\"db_name\")\n",
    "collection_name=\"enterprise_data\"\n",
    "atlas_collection = client[db_name][collection_name]\n",
    "index_name = \"vector_index_erp\"\n",
    "compression_retriever_model = \"cohere\""
   ]
  },
  {
   "cell_type": "code",
   "execution_count": 7,
   "metadata": {},
   "outputs": [],
   "source": [
    "\n",
    "# Define MongoDB vector database\n",
    "client = MongoClient(os.getenv(\"ATLAS_CONNECTION_STRING\"))\n",
    "db_name = os.getenv(\"db_name\")\n",
    "collection_name=\"enterprise_data\"\n",
    "atlas_collection = client[db_name][collection_name]\n",
    "index_name = \"vector_index_erp\"\n",
    "\n",
    "# Define vector store and retriever\n",
    "vector_store = MongoDBAtlasVectorSearch(\n",
    "    embedding = embedding_model,\n",
    "    collection = atlas_collection,\n",
    "    index_name = index_name\n",
    ")\n",
    "\n",
    "retriever = vector_store.as_retriever(\n",
    "    search_type = \"similarity\",\n",
    "    search_kwargs = { \"k\": 20}  # default \"score_threshold\": 0.75 \n",
    ")"
   ]
  },
  {
   "cell_type": "code",
   "execution_count": 71,
   "metadata": {},
   "outputs": [],
   "source": [
    "# Helper function for printing docs\n",
    "def pretty_print_docs(docs):\n",
    "    print(\n",
    "        f\"\\n{'-' * 100}\\n\".join(\n",
    "            [f\"Document {i+1}:\\n\\n\" + d.page_content for i, d in enumerate(docs)]\n",
    "        )\n",
    "    )"
   ]
  },
  {
   "cell_type": "markdown",
   "metadata": {},
   "source": [
    "## Reranking Functions"
   ]
  },
  {
   "cell_type": "code",
   "execution_count": 8,
   "metadata": {},
   "outputs": [],
   "source": [
    "# Get the compressed retriever\n",
    "# from FlagEmbedding import FlagLLMReranker\n",
    "# from flashrank import Ranker, RerankRequest\n",
    "# from langchain_cohere import CohereRerank\n",
    "def get_compressed_retriever(model_name):\n",
    "    if model_name == \"cohere\":\n",
    "        compressor = CohereRerank(model=\"rerank-english-v3.0\")\n",
    "        compression_retriever = ContextualCompressionRetriever(\n",
    "        base_compressor=compressor, base_retriever=retriever\n",
    "        )\n",
    "    \n",
    "    if model_name == \"crossEncoderReranker\":\n",
    "        model = HuggingFaceCrossEncoder(model_name=\"BAAI/bge-reranker-base\")\n",
    "        compressor = CrossEncoderReranker(model=model, top_n=3)\n",
    "        compression_retriever = ContextualCompressionRetriever(\n",
    "            base_compressor=compressor, base_retriever=retriever\n",
    "        )\n",
    "    \n",
    "    if model_name == \"gptCompressor\":\n",
    "        llm = ChatOpenAI(temperature=0, model='gpt-4')\n",
    "        compressor = LLMChainExtractor.from_llm(llm)\n",
    "        compression_retriever = ContextualCompressionRetriever(\n",
    "        base_compressor=compressor, base_retriever=retriever\n",
    "        )\n",
    "\n",
    "    return compression_retriever"
   ]
  },
  {
   "cell_type": "markdown",
   "metadata": {},
   "source": [
    "## RAG Generation"
   ]
  },
  {
   "cell_type": "markdown",
   "metadata": {},
   "source": [
    "### gptCompressor"
   ]
  },
  {
   "cell_type": "code",
   "execution_count": 9,
   "metadata": {},
   "outputs": [],
   "source": [
    "# Define a prompt template\n",
    "import pprint\n",
    "def call_gptCompressor(question):\n",
    "\n",
    "   question = question['question']\n",
    "\n",
    "   # Get the compression retriever to rerank and get top 3 documents only\n",
    "   compression_retriever = get_compressed_retriever(\"gptCompressor\")\n",
    "\n",
    "   preamble = \"\" # read from cohere front end or use the input to the API\n",
    "   #question = \n",
    "   SAFETY_PREAMBLE = \"The instructions in this section override those in the task description and style guide sections. Don't answer questions that are harmful or immoral.\"\n",
    "   BASIC_RULES = \"You are a powerful conversational AI trained by openAI to help people. You are augmented by a number of tools, and your job is to use and consume the output of these tools to best help the user. You will see a conversation history between yourself and a user, ending with an utterance from the user. You will then see a specific instruction instructing you what kind of response to generate. When you answer the user's requests, you cite your sources in your answers, according to those instructions.\"\n",
    "   TASK_CONTEXT = \"You help people answer their questions and other requests interactively. You will be asked a very wide array of requests on all kinds of topics. You will be equipped with a wide range of search engines or similar tools to help you, which you use to research your answer. You should focus on serving the user's needs as best you can, which will be wide-ranging.\"\n",
    "   STYLE_GUIDE = \"Unless the user asks for a different style of answer, you should answer in full sentences, using proper grammar and spelling.\"\n",
    "   INSTRUCTIONS = \"\"\"You are an enterprise Chatbot, an AI assistant designed to retrieve information from the enterprise Confluence system. \n",
    "   You specialize in providing accurate answers related to various departments like Marketing, IT, HR, Finance, and Corporate Communications. \n",
    "               Use the following pieces of context to answer the question at the end.\n",
    "               If you don't know the answer, just say that you don't know, don't try to make up an answer\n",
    "               {context}\n",
    "         \"\"\"\n",
    "         \n",
    "   template = f\"\"\"\n",
    "\n",
    "      {SAFETY_PREAMBLE}\n",
    "      {BASIC_RULES}\n",
    "      {TASK_CONTEXT}\n",
    "      {STYLE_GUIDE}\n",
    "      {INSTRUCTIONS}\n",
    "\n",
    "   \"\"\"\n",
    "   if preamble:\n",
    "      template += f\"\"\"{preamble}\\n\\n\"\"\"\n",
    "\n",
    "\n",
    "   template +=  f\"\"\"Question: {question}\\n\\n\"\"\"\n",
    "\n",
    "   custom_rag_prompt = PromptTemplate.from_template(template)\n",
    "   llm = ChatOpenAI(model=\"gpt-4o-mini\")\n",
    "   \n",
    "   def remove_rep(docs):\n",
    "      retrieved_docs_content = []\n",
    "      contexts = []\n",
    "      for doc in docs:\n",
    "            if doc.page_content not in retrieved_docs_content:\n",
    "                  retrieved_docs_content.append(doc.page_content)\n",
    "                  contexts.append(doc)\n",
    "      return contexts\n",
    "   \n",
    "   def format_docs(docs):\n",
    "      contexts = remove_rep(docs)\n",
    "      return \"\\n\\n\".join(doc.page_content for doc in contexts)\n",
    "\n",
    "   # Construct a chain to answer questions on your data\n",
    "   rag_chain = (\n",
    "      { \"context\": compression_retriever | format_docs, \"question\": RunnablePassthrough()}  #Insted of retriever add compression_retriever here\n",
    "      | custom_rag_prompt\n",
    "      | llm\n",
    "      | StrOutputParser()\n",
    "   )\n",
    "\n",
    "   # Prompt the chain\n",
    "   question = question\n",
    "   answer = rag_chain.invoke(question)\n",
    "   retrieved_docs = remove_rep(retriever.invoke(question))\n",
    "\n",
    "\n",
    "   return{\n",
    "      'answer': answer,\n",
    "      'contexts': retrieved_docs\n",
    "      }"
   ]
  },
  {
   "cell_type": "code",
   "execution_count": 10,
   "metadata": {},
   "outputs": [
    {
     "name": "stdout",
     "output_type": "stream",
     "text": [
      "To install and configure the Tech Innovator Vector Database, follow these steps:\n",
      "\n",
      "### Step 1: Download the Installer\n",
      "1. Visit the Tech Innovator Vecto\n"
     ]
    }
   ],
   "source": [
    "# Test sample\n",
    "question = {'question': \"What are the steps to install and configure the Tech Innovator Vector Database?\"}\n",
    "answer = call_gptCompressor(question)\n",
    "print(answer['answer'][:150])"
   ]
  },
  {
   "cell_type": "code",
   "execution_count": 11,
   "metadata": {},
   "outputs": [
    {
     "data": {
      "text/plain": [
       "[Document(metadata={'_id': '66d8163a0533e009aa2d4ab6', 'pageid': '819215', 'department': 'IT', 'title': 'Tech Innovator Vector Database Installation Guide'}, page_content='the latest version of Java Development Kit (JDK).Step 1: Download the InstallerVisit the Tech Innovator Vector Database download page.Select the appropriate version for your operating system.Download'),\n",
       " Document(metadata={'_id': '66d816710533e009aa2d4f02', 'pageid': '819215', 'department': 'IT', 'title': 'Tech Innovator Vector Database Installation Guide'}, page_content='is located.Run the following command to start the installation:sudo ./install_vector_db.shFollow the on-screen instructions to complete the installation.Step 3: Configure the DatabaseOpen the'),\n",
       " Document(metadata={'_id': '66d8163a0533e009aa2d4abe', 'pageid': '819215', 'department': 'IT', 'title': 'Tech Innovator Vector Database Installation Guide'}, page_content='steps.Check the log files located in /var/log/vector_db/ for error messages.ConclusionYou have successfully installed and configured the Tech Innovator Vector Database. You can now start using it for'),\n",
       " Document(metadata={'_id': '66d816710533e009aa2d4f07', 'pageid': '819215', 'department': 'IT', 'title': 'Tech Innovator Vector Database Installation Guide'}, page_content='a client tool to ensure it is functioning correctly.TroubleshootingIf you encounter any issues, refer to the Tech Innovator Vector Database documentation for detailed troubleshooting steps.Check the'),\n",
       " Document(metadata={'_id': '66d8163a0533e009aa2d4aba', 'pageid': '819215', 'department': 'IT', 'title': 'Tech Innovator Vector Database Installation Guide'}, page_content='server.Data Directory: Specify the directory where data files will be stored.Log Level: Set the logging level (e.g., INFO, DEBUG).Save and close the configuration file.Step 4: Start the Database')]"
      ]
     },
     "execution_count": 11,
     "metadata": {},
     "output_type": "execute_result"
    }
   ],
   "source": [
    "answer['contexts']"
   ]
  },
  {
   "cell_type": "markdown",
   "metadata": {},
   "source": [
    "### Cohere rerank"
   ]
  },
  {
   "cell_type": "code",
   "execution_count": 27,
   "metadata": {},
   "outputs": [],
   "source": [
    "# Define a prompt template\n",
    "import pprint\n",
    "def call_co_rerank(question):\n",
    "\n",
    "   question = question['question']\n",
    "\n",
    "   # Get the compression retriever to rerank and get top 3 documents only\n",
    "   compression_retriever = get_compressed_retriever(\"cohere\")\n",
    "\n",
    "   preamble = \"\" # read from cohere front end or use the input to the API\n",
    "   #question = \n",
    "   SAFETY_PREAMBLE = \"The instructions in this section override those in the task description and style guide sections. Don't answer questions that are harmful or immoral.\"\n",
    "   BASIC_RULES = \"You are a powerful conversational AI trained by openAI to help people. You are augmented by a number of tools, and your job is to use and consume the output of these tools to best help the user. You will see a conversation history between yourself and a user, ending with an utterance from the user. You will then see a specific instruction instructing you what kind of response to generate. When you answer the user's requests, you cite your sources in your answers, according to those instructions.\"\n",
    "   TASK_CONTEXT = \"You help people answer their questions and other requests interactively. You will be asked a very wide array of requests on all kinds of topics. You will be equipped with a wide range of search engines or similar tools to help you, which you use to research your answer. You should focus on serving the user's needs as best you can, which will be wide-ranging.\"\n",
    "   STYLE_GUIDE = \"Unless the user asks for a different style of answer, you should answer in full sentences, using proper grammar and spelling.\"\n",
    "   INSTRUCTIONS = \"\"\"You are an enterprise Chatbot, an AI assistant designed to retrieve information from the enterprise Confluence system. \n",
    "   You specialize in providing accurate answers related to various departments like Marketing, IT, HR, Finance, and Corporate Communications. \n",
    "               Use the following pieces of context to answer the question at the end.\n",
    "               If you don't know the answer, just say that you don't know, don't try to make up an answer\n",
    "               {context}\n",
    "         \"\"\"\n",
    "         \n",
    "   template = f\"\"\"\n",
    "\n",
    "      {SAFETY_PREAMBLE}\n",
    "      {BASIC_RULES}\n",
    "      {TASK_CONTEXT}\n",
    "      {STYLE_GUIDE}\n",
    "      {INSTRUCTIONS}\n",
    "\n",
    "   \"\"\"\n",
    "   if preamble:\n",
    "      template += f\"\"\"{preamble}\\n\\n\"\"\"\n",
    "\n",
    "\n",
    "   template +=  f\"\"\"Question: {question}\\n\\n\"\"\"\n",
    "\n",
    "   custom_rag_prompt = PromptTemplate.from_template(template)\n",
    "\n",
    "   #llm = get_llm_model(\"openai\")\n",
    "   # llm = ChatOpenAI(model=os.getenv(\"DEFAULT_OPENAI_MODEL\"))\n",
    "   llm = ChatOpenAI(model=\"gpt-4o-mini\")\n",
    "   \n",
    "   def remove_rep(docs):\n",
    "      docs_content = []\n",
    "      unique_docs = []\n",
    "      for doc in docs:\n",
    "            if doc.page_content not in docs_content:\n",
    "                  docs_content.append(doc.page_content)\n",
    "                  unique_docs.append(doc)\n",
    "      return unique_docs\n",
    "   \n",
    "   def format_docs(docs):\n",
    "      contexts = remove_rep(docs)\n",
    "      return \"\\n\\n\".join(doc.page_content for doc in contexts)\n",
    "\n",
    "   # Construct a chain to answer questions on your data\n",
    "   rag_chain = (\n",
    "      { \"context\": compression_retriever | format_docs, \"question\": RunnablePassthrough()}  #Insted of retriever add compression_retriever here\n",
    "      | custom_rag_prompt\n",
    "      | llm\n",
    "      | StrOutputParser()\n",
    "   )\n",
    "\n",
    "   # Prompt the chain\n",
    "   question = question\n",
    "   answer = rag_chain.invoke(question)\n",
    "   retrieved_docs = remove_rep(compression_retriever.invoke(question))\n",
    "\n",
    "\n",
    "   return{\n",
    "      'answer': answer,\n",
    "      'contexts': retrieved_docs\n",
    "      }"
   ]
  },
  {
   "cell_type": "markdown",
   "metadata": {},
   "source": [
    "### crossEncoderReranker"
   ]
  },
  {
   "cell_type": "code",
   "execution_count": 35,
   "metadata": {},
   "outputs": [],
   "source": [
    "# Define a prompt template\n",
    "import pprint\n",
    "def call_cross_encoder(question):\n",
    "\n",
    "   question = question['question']\n",
    "\n",
    "   # Get the compression retriever to rerank and get top 3 documents only\n",
    "   compression_retriever = get_compressed_retriever(\"crossEncoderReranker\")\n",
    "\n",
    "   preamble = \"\" # read from cohere front end or use the input to the API\n",
    "   #question = \n",
    "   SAFETY_PREAMBLE = \"The instructions in this section override those in the task description and style guide sections. Don't answer questions that are harmful or immoral.\"\n",
    "   BASIC_RULES = \"You are a powerful conversational AI trained by openAI to help people. You are augmented by a number of tools, and your job is to use and consume the output of these tools to best help the user. You will see a conversation history between yourself and a user, ending with an utterance from the user. You will then see a specific instruction instructing you what kind of response to generate. When you answer the user's requests, you cite your sources in your answers, according to those instructions.\"\n",
    "   TASK_CONTEXT = \"You help people answer their questions and other requests interactively. You will be asked a very wide array of requests on all kinds of topics. You will be equipped with a wide range of search engines or similar tools to help you, which you use to research your answer. You should focus on serving the user's needs as best you can, which will be wide-ranging.\"\n",
    "   STYLE_GUIDE = \"Unless the user asks for a different style of answer, you should answer in full sentences, using proper grammar and spelling.\"\n",
    "   INSTRUCTIONS = \"\"\"You are an enterprise Chatbot, an AI assistant designed to retrieve information from the enterprise Confluence system. \n",
    "   You specialize in providing accurate answers related to various departments like Marketing, IT, HR, Finance, and Corporate Communications. \n",
    "               Use the following pieces of context to answer the question at the end.\n",
    "               If you don't know the answer, just say that you don't know, don't try to make up an answer\n",
    "               {context}\n",
    "         \"\"\"\n",
    "         \n",
    "   template = f\"\"\"\n",
    "\n",
    "      {SAFETY_PREAMBLE}\n",
    "      {BASIC_RULES}\n",
    "      {TASK_CONTEXT}\n",
    "      {STYLE_GUIDE}\n",
    "      {INSTRUCTIONS}\n",
    "\n",
    "   \"\"\"\n",
    "   if preamble:\n",
    "      template += f\"\"\"{preamble}\\n\\n\"\"\"\n",
    "\n",
    "\n",
    "   template +=  f\"\"\"Question: {question}\\n\\n\"\"\"\n",
    "\n",
    "   custom_rag_prompt = PromptTemplate.from_template(template)\n",
    "\n",
    "   #llm = get_llm_model(\"openai\")\n",
    "   # llm = ChatOpenAI(model=os.getenv(\"DEFAULT_OPENAI_MODEL\"))\n",
    "   llm = ChatOpenAI(model=\"gpt-4o-mini\")\n",
    "   \n",
    "   def remove_rep(docs):\n",
    "      retrieved_docs_content = []\n",
    "      contexts = []\n",
    "      for doc in docs:\n",
    "            if doc.page_content not in retrieved_docs_content:\n",
    "                  retrieved_docs_content.append(doc.page_content)\n",
    "                  contexts.append(doc)\n",
    "      return contexts\n",
    "   \n",
    "   def format_docs(docs):\n",
    "      contexts = remove_rep(docs)\n",
    "      return \"\\n\\n\".join(doc.page_content for doc in contexts)\n",
    "\n",
    "   # Construct a chain to answer questions on your data\n",
    "   rag_chain = (\n",
    "      { \"context\": compression_retriever | format_docs, \"question\": RunnablePassthrough()}  #Insted of retriever add compression_retriever here\n",
    "      | custom_rag_prompt\n",
    "      | llm\n",
    "      | StrOutputParser()\n",
    "   )\n",
    "\n",
    "   # Prompt the chain\n",
    "   question = question\n",
    "   answer = rag_chain.invoke(question)\n",
    "   retrieved_docs = remove_rep(compression_retriever.invoke(question))\n",
    "\n",
    "\n",
    "   return{\n",
    "      'answer': answer,\n",
    "      'contexts': retrieved_docs\n",
    "      }"
   ]
  },
  {
   "cell_type": "code",
   "execution_count": 37,
   "metadata": {},
   "outputs": [
    {
     "name": "stdout",
     "output_type": "stream",
     "text": [
      "To install and configure the Tech Innovator Vector Database, follow these steps:\n",
      "\n",
      "1. **Download the Installation Package**: Obtain the installation pa\n"
     ]
    }
   ],
   "source": [
    "# Test sample\n",
    "question = {'question': \"What are the steps to install and configure the Tech Innovator Vector Database?\"}\n",
    "answer = call_cross_encoder(question)\n",
    "print(answer['answer'][:150])"
   ]
  },
  {
   "cell_type": "code",
   "execution_count": 38,
   "metadata": {},
   "outputs": [
    {
     "data": {
      "text/plain": [
       "[Document(metadata={'_id': '66d8163a0533e009aa2d4abe', 'pageid': '819215', 'department': 'IT', 'title': 'Tech Innovator Vector Database Installation Guide'}, page_content='steps.Check the log files located in /var/log/vector_db/ for error messages.ConclusionYou have successfully installed and configured the Tech Innovator Vector Database. You can now start using it for')]"
      ]
     },
     "execution_count": 38,
     "metadata": {},
     "output_type": "execute_result"
    }
   ],
   "source": [
    "answer['contexts']"
   ]
  },
  {
   "cell_type": "markdown",
   "metadata": {},
   "source": [
    "# RAG pipeline evaluation"
   ]
  },
  {
   "cell_type": "markdown",
   "metadata": {},
   "source": [
    "## Test data set prep"
   ]
  },
  {
   "cell_type": "code",
   "execution_count": 12,
   "metadata": {},
   "outputs": [],
   "source": [
    "import pandas as pd\n",
    "import json\n",
    "\n",
    "def json_to_dataframe(json_file_path):\n",
    "  \"\"\"Reads a JSON file and converts it to a pandas DataFrame.\n",
    "\n",
    "  Args:\n",
    "    json_file_path (str): The path to the JSON file.\n",
    "\n",
    "  Returns:\n",
    "    pandas.DataFrame: The DataFrame created from the JSON data.\n",
    "  \"\"\"\n",
    "\n",
    "  with open(json_file_path, 'r') as f:\n",
    "    data = json.load(f)\n",
    "\n",
    "  # Handle different JSON structures\n",
    "  if isinstance(data, list):\n",
    "    # If the JSON data is a list of dictionaries, create a DataFrame directly\n",
    "    df = pd.DataFrame(data)\n",
    "  elif isinstance(data, dict):\n",
    "    # If the JSON data is a single dictionary, convert it to a list of dictionaries\n",
    "    df = pd.DataFrame([data])\n",
    "  else:\n",
    "    raise ValueError(\"Unsupported JSON structure\")\n",
    "\n",
    "  return df"
   ]
  },
  {
   "cell_type": "code",
   "execution_count": 13,
   "metadata": {},
   "outputs": [],
   "source": [
    "def extract_page_content(documents):\n",
    "    return [doc.page_content for doc in documents]"
   ]
  },
  {
   "cell_type": "code",
   "execution_count": 39,
   "metadata": {},
   "outputs": [],
   "source": [
    "from from_root import from_root\n",
    "import os\n",
    "file_name = \"test_dataset_it.json\"\n",
    "json_file_path = os.path.join(from_root(), \"data-test/test-dataset/\",file_name)\n",
    "data_to_test = json_to_dataframe(json_file_path)"
   ]
  },
  {
   "cell_type": "markdown",
   "metadata": {},
   "source": [
    "## RAGAS evaluation"
   ]
  },
  {
   "cell_type": "markdown",
   "metadata": {},
   "source": [
    "### gptCompressor"
   ]
  },
  {
   "cell_type": "code",
   "execution_count": 15,
   "metadata": {},
   "outputs": [],
   "source": [
    "# Generate all the answers for the questions in the dataset\n",
    "gpt_compressor_answers = []\n",
    "gpt_compressor_contexts = []\n",
    "for question in data_to_test['question']:\n",
    "    question_dict = {'question': question}\n",
    "    answer = call_gptCompressor(question_dict)\n",
    "    gpt_compressor_contexts.append(answer['contexts'])\n",
    "    gpt_compressor_answers.append(answer['answer'])"
   ]
  },
  {
   "cell_type": "code",
   "execution_count": 16,
   "metadata": {},
   "outputs": [],
   "source": [
    "# update the dataset with answers\n",
    "data_to_test['answers'] = gpt_compressor_answers\n",
    "data_to_test['contexts'] = gpt_compressor_contexts"
   ]
  },
  {
   "cell_type": "code",
   "execution_count": 17,
   "metadata": {},
   "outputs": [],
   "source": [
    "# Replace empty list context with ['No context'] if there are any\n",
    "def is_empty_list(lst):\n",
    "    return len(lst) == 0\n",
    "data_to_test['contexts'] = data_to_test['contexts'].apply(lambda x: ['No context'] if is_empty_list(x) else x)"
   ]
  },
  {
   "cell_type": "code",
   "execution_count": 18,
   "metadata": {},
   "outputs": [],
   "source": [
    "from datasets import Dataset\n",
    "\n",
    "question = list(data_to_test['question'])\n",
    "answer = list(data_to_test['answers'])\n",
    "contexts = list(data_to_test['contexts'].apply(extract_page_content))\n",
    "ground_truth = list(data_to_test['ground_truth'])\n",
    "\n",
    "data_gpt_compressor = {\n",
    "    'question': question,\n",
    "    'answer': answer,\n",
    "    'contexts': contexts,\n",
    "    'ground_truth': ground_truth\n",
    "}\n",
    "\n",
    "dataset_gpt_compressor = Dataset.from_dict(data_gpt_compressor)"
   ]
  },
  {
   "cell_type": "code",
   "execution_count": 52,
   "metadata": {},
   "outputs": [],
   "source": [
    "# # Convert the dictionary to a DataFrame\n",
    "# df = pd.DataFrame(data_gpt_compressor)\n",
    "\n",
    "# # Save the DataFrame to a CSV file\n",
    "# # df.to_csv('data_gpt_compressor_generation.csv', index=False)\n",
    "# save_dataframe_with_list_column(df, 'data_gpt_compressor_generation.csv')"
   ]
  },
  {
   "cell_type": "code",
   "execution_count": null,
   "metadata": {},
   "outputs": [],
   "source": [
    "# Optional, uncomment to trace runs with LangSmith. Sign up here: https://smith.langchain.com.\n",
    "# from langsmith import Client\n",
    "# os.environ[\"LANGCHAIN_ENDPOINT\"] = \"https://api.smith.langchain.com\"\n",
    "# os.environ[\"LANGCHAIN_TRACING_V2\"] = \"true\"\n",
    "# os.environ[\"LANGSMITH_API_KEY\"] = os.getenv(\"LANGSMITH_API_KEY\")\n",
    "# client = Client()"
   ]
  },
  {
   "cell_type": "code",
   "execution_count": 20,
   "metadata": {},
   "outputs": [
    {
     "data": {
      "application/vnd.jupyter.widget-view+json": {
       "model_id": "7b92daecc16645a7ac291552b2e6cecb",
       "version_major": 2,
       "version_minor": 0
      },
      "text/plain": [
       "Evaluating:   0%|          | 0/36 [00:00<?, ?it/s]"
      ]
     },
     "metadata": {},
     "output_type": "display_data"
    }
   ],
   "source": [
    "from ragas import evaluate\n",
    "# from ragas.integrations.langsmith import evaluate\n",
    "from ragas.metrics import (\n",
    "    answer_relevancy,\n",
    "    faithfulness,\n",
    "    context_recall,\n",
    "    context_precision,\n",
    ")\n",
    "result = evaluate(\n",
    "    dataset_gpt_compressor,\n",
    "    metrics=[\n",
    "        answer_relevancy,\n",
    "        faithfulness,\n",
    "        context_recall,\n",
    "        context_precision,\n",
    "    ],\n",
    ")"
   ]
  },
  {
   "cell_type": "code",
   "execution_count": 21,
   "metadata": {},
   "outputs": [
    {
     "data": {
      "text/html": [
       "<div>\n",
       "<style scoped>\n",
       "    .dataframe tbody tr th:only-of-type {\n",
       "        vertical-align: middle;\n",
       "    }\n",
       "\n",
       "    .dataframe tbody tr th {\n",
       "        vertical-align: top;\n",
       "    }\n",
       "\n",
       "    .dataframe thead th {\n",
       "        text-align: right;\n",
       "    }\n",
       "</style>\n",
       "<table border=\"1\" class=\"dataframe\">\n",
       "  <thead>\n",
       "    <tr style=\"text-align: right;\">\n",
       "      <th></th>\n",
       "      <th>question</th>\n",
       "      <th>answer</th>\n",
       "      <th>contexts</th>\n",
       "      <th>ground_truth</th>\n",
       "      <th>answer_relevancy</th>\n",
       "      <th>faithfulness</th>\n",
       "      <th>context_recall</th>\n",
       "      <th>context_precision</th>\n",
       "    </tr>\n",
       "  </thead>\n",
       "  <tbody>\n",
       "    <tr>\n",
       "      <th>0</th>\n",
       "      <td>How does the role of the Senior Director respo...</td>\n",
       "      <td>The role of the Senior Director responsible fo...</td>\n",
       "      <td>[the Senior Director responsible for Analytics...</td>\n",
       "      <td>The role of the Senior Director responsible fo...</td>\n",
       "      <td>0.925206</td>\n",
       "      <td>0.300000</td>\n",
       "      <td>0.272727</td>\n",
       "      <td>0.887500</td>\n",
       "    </tr>\n",
       "    <tr>\n",
       "      <th>1</th>\n",
       "      <td>What is the importance of identifying and addr...</td>\n",
       "      <td>Identifying and addressing growth areas in sel...</td>\n",
       "      <td>[to identify strengths and areas for improveme...</td>\n",
       "      <td>Identifying and addressing growth areas in sel...</td>\n",
       "      <td>0.990183</td>\n",
       "      <td>0.333333</td>\n",
       "      <td>0.333333</td>\n",
       "      <td>0.000000</td>\n",
       "    </tr>\n",
       "    <tr>\n",
       "      <th>2</th>\n",
       "      <td>What forms of unethical behavior are strictly ...</td>\n",
       "      <td>In the recruitment process at Tech Innovators ...</td>\n",
       "      <td>[Inc. upholds the highest ethical standards in...</td>\n",
       "      <td>Favoritism or nepotism</td>\n",
       "      <td>0.949537</td>\n",
       "      <td>1.000000</td>\n",
       "      <td>1.000000</td>\n",
       "      <td>0.750000</td>\n",
       "    </tr>\n",
       "    <tr>\n",
       "      <th>3</th>\n",
       "      <td>What is the significance of emotional and aest...</td>\n",
       "      <td>Emotional and aesthetic labor hold significant...</td>\n",
       "      <td>[LabourEmotional and aesthetic labor involves ...</td>\n",
       "      <td>Emotional and aesthetic labor in the workplace...</td>\n",
       "      <td>1.000000</td>\n",
       "      <td>0.772727</td>\n",
       "      <td>1.000000</td>\n",
       "      <td>1.000000</td>\n",
       "    </tr>\n",
       "    <tr>\n",
       "      <th>4</th>\n",
       "      <td>What is the purpose of the orientation session...</td>\n",
       "      <td>The purpose of the orientation session at Tech...</td>\n",
       "      <td>[see you thrive at Tech Innovators Inc. Welcom...</td>\n",
       "      <td>The purpose of the orientation session at Tech...</td>\n",
       "      <td>1.000000</td>\n",
       "      <td>0.666667</td>\n",
       "      <td>0.000000</td>\n",
       "      <td>0.000000</td>\n",
       "    </tr>\n",
       "    <tr>\n",
       "      <th>5</th>\n",
       "      <td>What mechanisms are in place for reporting vio...</td>\n",
       "      <td>At Tech Innovators Inc., employees can report ...</td>\n",
       "      <td>[and identify areas for improvement.5.3 Report...</td>\n",
       "      <td>Employees can report violations of labor laws ...</td>\n",
       "      <td>0.951613</td>\n",
       "      <td>0.111111</td>\n",
       "      <td>0.250000</td>\n",
       "      <td>1.000000</td>\n",
       "    </tr>\n",
       "    <tr>\n",
       "      <th>6</th>\n",
       "      <td>How do employee engagement and disengagement d...</td>\n",
       "      <td>Employee engagement and disengagement differ s...</td>\n",
       "      <td>[are motivated and committed, disengaged emplo...</td>\n",
       "      <td>Employee engagement and disengagement differ i...</td>\n",
       "      <td>0.960525</td>\n",
       "      <td>0.500000</td>\n",
       "      <td>1.000000</td>\n",
       "      <td>0.866667</td>\n",
       "    </tr>\n",
       "    <tr>\n",
       "      <th>7</th>\n",
       "      <td>What steps are needed to extract data from Con...</td>\n",
       "      <td>To extract data from Confluence and create a R...</td>\n",
       "      <td>[IntroductionThis guide provides a step-by-ste...</td>\n",
       "      <td>To extract data from Confluence and create a R...</td>\n",
       "      <td>0.989648</td>\n",
       "      <td>0.350000</td>\n",
       "      <td>0.181818</td>\n",
       "      <td>1.000000</td>\n",
       "    </tr>\n",
       "    <tr>\n",
       "      <th>8</th>\n",
       "      <td>How does Tech Innovators Inc. promote employee...</td>\n",
       "      <td>Tech Innovators Inc. promotes employee engagem...</td>\n",
       "      <td>[IntroductionTech Innovators Inc. is committed...</td>\n",
       "      <td>Tech Innovators Inc. promotes employee engagem...</td>\n",
       "      <td>0.980843</td>\n",
       "      <td>0.400000</td>\n",
       "      <td>0.800000</td>\n",
       "      <td>0.250000</td>\n",
       "    </tr>\n",
       "  </tbody>\n",
       "</table>\n",
       "</div>"
      ],
      "text/plain": [
       "                                            question  \\\n",
       "0  How does the role of the Senior Director respo...   \n",
       "1  What is the importance of identifying and addr...   \n",
       "2  What forms of unethical behavior are strictly ...   \n",
       "3  What is the significance of emotional and aest...   \n",
       "4  What is the purpose of the orientation session...   \n",
       "5  What mechanisms are in place for reporting vio...   \n",
       "6  How do employee engagement and disengagement d...   \n",
       "7  What steps are needed to extract data from Con...   \n",
       "8  How does Tech Innovators Inc. promote employee...   \n",
       "\n",
       "                                              answer  \\\n",
       "0  The role of the Senior Director responsible fo...   \n",
       "1  Identifying and addressing growth areas in sel...   \n",
       "2  In the recruitment process at Tech Innovators ...   \n",
       "3  Emotional and aesthetic labor hold significant...   \n",
       "4  The purpose of the orientation session at Tech...   \n",
       "5  At Tech Innovators Inc., employees can report ...   \n",
       "6  Employee engagement and disengagement differ s...   \n",
       "7  To extract data from Confluence and create a R...   \n",
       "8  Tech Innovators Inc. promotes employee engagem...   \n",
       "\n",
       "                                            contexts  \\\n",
       "0  [the Senior Director responsible for Analytics...   \n",
       "1  [to identify strengths and areas for improveme...   \n",
       "2  [Inc. upholds the highest ethical standards in...   \n",
       "3  [LabourEmotional and aesthetic labor involves ...   \n",
       "4  [see you thrive at Tech Innovators Inc. Welcom...   \n",
       "5  [and identify areas for improvement.5.3 Report...   \n",
       "6  [are motivated and committed, disengaged emplo...   \n",
       "7  [IntroductionThis guide provides a step-by-ste...   \n",
       "8  [IntroductionTech Innovators Inc. is committed...   \n",
       "\n",
       "                                        ground_truth  answer_relevancy  \\\n",
       "0  The role of the Senior Director responsible fo...          0.925206   \n",
       "1  Identifying and addressing growth areas in sel...          0.990183   \n",
       "2                             Favoritism or nepotism          0.949537   \n",
       "3  Emotional and aesthetic labor in the workplace...          1.000000   \n",
       "4  The purpose of the orientation session at Tech...          1.000000   \n",
       "5  Employees can report violations of labor laws ...          0.951613   \n",
       "6  Employee engagement and disengagement differ i...          0.960525   \n",
       "7  To extract data from Confluence and create a R...          0.989648   \n",
       "8  Tech Innovators Inc. promotes employee engagem...          0.980843   \n",
       "\n",
       "   faithfulness  context_recall  context_precision  \n",
       "0      0.300000        0.272727           0.887500  \n",
       "1      0.333333        0.333333           0.000000  \n",
       "2      1.000000        1.000000           0.750000  \n",
       "3      0.772727        1.000000           1.000000  \n",
       "4      0.666667        0.000000           0.000000  \n",
       "5      0.111111        0.250000           1.000000  \n",
       "6      0.500000        1.000000           0.866667  \n",
       "7      0.350000        0.181818           1.000000  \n",
       "8      0.400000        0.800000           0.250000  "
      ]
     },
     "execution_count": 21,
     "metadata": {},
     "output_type": "execute_result"
    }
   ],
   "source": [
    "df = result.to_pandas()\n",
    "df"
   ]
  },
  {
   "cell_type": "code",
   "execution_count": 22,
   "metadata": {},
   "outputs": [],
   "source": [
    "file_name = \"eval_result_test_dataset_it_gpt_compressor.csv\"\n",
    "file_path = os.path.join(from_root(),\"data-test/eval-result/\", file_name)\n",
    "df.to_csv(file_path, index=False)"
   ]
  },
  {
   "cell_type": "markdown",
   "metadata": {},
   "source": [
    "### Cohere rerank"
   ]
  },
  {
   "cell_type": "code",
   "execution_count": 28,
   "metadata": {},
   "outputs": [],
   "source": [
    "# Generate all the answers for the questions in the dataset\n",
    "cohere_answers = []\n",
    "cohere_contexts = []\n",
    "for question in data_to_test['question']:\n",
    "    question_dict = {'question': question}\n",
    "    answer = call_co_rerank(question_dict)\n",
    "    cohere_contexts.append(answer['contexts'])\n",
    "    cohere_answers.append(answer['answer'])"
   ]
  },
  {
   "cell_type": "code",
   "execution_count": 29,
   "metadata": {},
   "outputs": [],
   "source": [
    "# update the dataset with answers\n",
    "data_to_test['answers'] = cohere_answers\n",
    "data_to_test['contexts'] = cohere_contexts"
   ]
  },
  {
   "cell_type": "code",
   "execution_count": 30,
   "metadata": {},
   "outputs": [],
   "source": [
    "# Replace empty list context with ['No context'] if there are any\n",
    "def is_empty_list(lst):\n",
    "    return len(lst) == 0\n",
    "data_to_test['contexts'] = data_to_test['contexts'].apply(lambda x: ['No context'] if is_empty_list(x) else x)"
   ]
  },
  {
   "cell_type": "code",
   "execution_count": 31,
   "metadata": {},
   "outputs": [],
   "source": [
    "from datasets import Dataset\n",
    "\n",
    "question = list(data_to_test['question'])\n",
    "answer = list(data_to_test['answers'])\n",
    "contexts = list(data_to_test['contexts'].apply(extract_page_content))\n",
    "ground_truth = list(data_to_test['ground_truth'])\n",
    "\n",
    "data_cohere_rerank= {\n",
    "    'question': question,\n",
    "    'answer': answer,\n",
    "    'contexts': contexts,\n",
    "    'ground_truth': ground_truth\n",
    "}\n",
    "\n",
    "dataset_cohere_rerank = Dataset.from_dict(data_cohere_rerank)"
   ]
  },
  {
   "cell_type": "code",
   "execution_count": null,
   "metadata": {},
   "outputs": [],
   "source": [
    "# Optional, uncomment to trace runs with LangSmith. Sign up here: https://smith.langchain.com.\n",
    "# from langsmith import Client\n",
    "# os.environ[\"LANGCHAIN_ENDPOINT\"] = \"https://api.smith.langchain.com\"\n",
    "# os.environ[\"LANGCHAIN_TRACING_V2\"] = \"true\"\n",
    "# os.environ[\"LANGSMITH_API_KEY\"] = os.getenv(\"LANGSMITH_API_KEY\")\n",
    "# client = Client()"
   ]
  },
  {
   "cell_type": "code",
   "execution_count": 32,
   "metadata": {},
   "outputs": [
    {
     "data": {
      "application/vnd.jupyter.widget-view+json": {
       "model_id": "c84df2a1018d476a867d9d472f8c4cc6",
       "version_major": 2,
       "version_minor": 0
      },
      "text/plain": [
       "Evaluating:   0%|          | 0/36 [00:00<?, ?it/s]"
      ]
     },
     "metadata": {},
     "output_type": "display_data"
    },
    {
     "data": {
      "text/plain": [
       "{'answer_relevancy': 0.7481, 'faithfulness': 0.2869, 'context_recall': 0.2969, 'context_precision': 0.7778}"
      ]
     },
     "execution_count": 32,
     "metadata": {},
     "output_type": "execute_result"
    }
   ],
   "source": [
    "from ragas import evaluate\n",
    "# from ragas.integrations.langsmith import evaluate\n",
    "from ragas.metrics import (\n",
    "    answer_relevancy,\n",
    "    faithfulness,\n",
    "    context_recall,\n",
    "    context_precision,\n",
    ")\n",
    "result = evaluate(\n",
    "    dataset_cohere_rerank,\n",
    "    metrics=[\n",
    "        answer_relevancy,\n",
    "        faithfulness,\n",
    "        context_recall,\n",
    "        context_precision,\n",
    "    ],\n",
    ")\n",
    "\n",
    "result"
   ]
  },
  {
   "cell_type": "code",
   "execution_count": 33,
   "metadata": {},
   "outputs": [
    {
     "data": {
      "text/html": [
       "<div>\n",
       "<style scoped>\n",
       "    .dataframe tbody tr th:only-of-type {\n",
       "        vertical-align: middle;\n",
       "    }\n",
       "\n",
       "    .dataframe tbody tr th {\n",
       "        vertical-align: top;\n",
       "    }\n",
       "\n",
       "    .dataframe thead th {\n",
       "        text-align: right;\n",
       "    }\n",
       "</style>\n",
       "<table border=\"1\" class=\"dataframe\">\n",
       "  <thead>\n",
       "    <tr style=\"text-align: right;\">\n",
       "      <th></th>\n",
       "      <th>question</th>\n",
       "      <th>answer</th>\n",
       "      <th>contexts</th>\n",
       "      <th>ground_truth</th>\n",
       "      <th>answer_relevancy</th>\n",
       "      <th>faithfulness</th>\n",
       "      <th>context_recall</th>\n",
       "      <th>context_precision</th>\n",
       "    </tr>\n",
       "  </thead>\n",
       "  <tbody>\n",
       "    <tr>\n",
       "      <th>0</th>\n",
       "      <td>How does the role of the Senior Director respo...</td>\n",
       "      <td>The role of the Senior Director responsible fo...</td>\n",
       "      <td>[the Senior Director responsible for Analytics...</td>\n",
       "      <td>The role of the Senior Director responsible fo...</td>\n",
       "      <td>0.925206</td>\n",
       "      <td>0.450000</td>\n",
       "      <td>0.222222</td>\n",
       "      <td>1.0</td>\n",
       "    </tr>\n",
       "    <tr>\n",
       "      <th>1</th>\n",
       "      <td>What is the importance of identifying and addr...</td>\n",
       "      <td>Identifying and addressing growth areas in sel...</td>\n",
       "      <td>[to identify strengths and areas for improveme...</td>\n",
       "      <td>Identifying and addressing growth areas in sel...</td>\n",
       "      <td>0.990183</td>\n",
       "      <td>0.400000</td>\n",
       "      <td>0.333333</td>\n",
       "      <td>0.0</td>\n",
       "    </tr>\n",
       "    <tr>\n",
       "      <th>2</th>\n",
       "      <td>What forms of unethical behavior are strictly ...</td>\n",
       "      <td>I don't know.</td>\n",
       "      <td>[Inc. upholds the highest ethical standards in...</td>\n",
       "      <td>Favoritism or nepotism</td>\n",
       "      <td>0.000000</td>\n",
       "      <td>0.000000</td>\n",
       "      <td>0.000000</td>\n",
       "      <td>1.0</td>\n",
       "    </tr>\n",
       "    <tr>\n",
       "      <th>3</th>\n",
       "      <td>What is the significance of emotional and aest...</td>\n",
       "      <td>Emotional and aesthetic labor are significant ...</td>\n",
       "      <td>[LabourEmotional and aesthetic labor involves ...</td>\n",
       "      <td>Emotional and aesthetic labor in the workplace...</td>\n",
       "      <td>0.968129</td>\n",
       "      <td>0.565217</td>\n",
       "      <td>0.666667</td>\n",
       "      <td>1.0</td>\n",
       "    </tr>\n",
       "    <tr>\n",
       "      <th>4</th>\n",
       "      <td>What is the purpose of the orientation session...</td>\n",
       "      <td>I don't know.</td>\n",
       "      <td>[IntroductionWelcome to Tech Innovators Inc. T...</td>\n",
       "      <td>The purpose of the orientation session at Tech...</td>\n",
       "      <td>0.000000</td>\n",
       "      <td>0.000000</td>\n",
       "      <td>0.000000</td>\n",
       "      <td>0.0</td>\n",
       "    </tr>\n",
       "    <tr>\n",
       "      <th>5</th>\n",
       "      <td>What mechanisms are in place for reporting vio...</td>\n",
       "      <td>At Tech Innovators Inc., employees can report ...</td>\n",
       "      <td>[and identify areas for improvement.5.3 Report...</td>\n",
       "      <td>Employees can report violations of labor laws ...</td>\n",
       "      <td>0.951613</td>\n",
       "      <td>0.111111</td>\n",
       "      <td>0.250000</td>\n",
       "      <td>1.0</td>\n",
       "    </tr>\n",
       "    <tr>\n",
       "      <th>6</th>\n",
       "      <td>How do employee engagement and disengagement d...</td>\n",
       "      <td>Employee engagement and disengagement differ s...</td>\n",
       "      <td>[are motivated and committed, disengaged emplo...</td>\n",
       "      <td>Employee engagement and disengagement differ i...</td>\n",
       "      <td>0.920337</td>\n",
       "      <td>0.814815</td>\n",
       "      <td>0.400000</td>\n",
       "      <td>1.0</td>\n",
       "    </tr>\n",
       "    <tr>\n",
       "      <th>7</th>\n",
       "      <td>What steps are needed to extract data from Con...</td>\n",
       "      <td>To extract data from Confluence and create a R...</td>\n",
       "      <td>[IntroductionThis guide provides a step-by-ste...</td>\n",
       "      <td>To extract data from Confluence and create a R...</td>\n",
       "      <td>0.996660</td>\n",
       "      <td>0.074074</td>\n",
       "      <td>0.000000</td>\n",
       "      <td>1.0</td>\n",
       "    </tr>\n",
       "    <tr>\n",
       "      <th>8</th>\n",
       "      <td>How does Tech Innovators Inc. promote employee...</td>\n",
       "      <td>Tech Innovators Inc. promotes employee engagem...</td>\n",
       "      <td>[concept that requires a holistic approach. At...</td>\n",
       "      <td>Tech Innovators Inc. promotes employee engagem...</td>\n",
       "      <td>0.980843</td>\n",
       "      <td>0.166667</td>\n",
       "      <td>0.800000</td>\n",
       "      <td>1.0</td>\n",
       "    </tr>\n",
       "  </tbody>\n",
       "</table>\n",
       "</div>"
      ],
      "text/plain": [
       "                                            question  \\\n",
       "0  How does the role of the Senior Director respo...   \n",
       "1  What is the importance of identifying and addr...   \n",
       "2  What forms of unethical behavior are strictly ...   \n",
       "3  What is the significance of emotional and aest...   \n",
       "4  What is the purpose of the orientation session...   \n",
       "5  What mechanisms are in place for reporting vio...   \n",
       "6  How do employee engagement and disengagement d...   \n",
       "7  What steps are needed to extract data from Con...   \n",
       "8  How does Tech Innovators Inc. promote employee...   \n",
       "\n",
       "                                              answer  \\\n",
       "0  The role of the Senior Director responsible fo...   \n",
       "1  Identifying and addressing growth areas in sel...   \n",
       "2                                      I don't know.   \n",
       "3  Emotional and aesthetic labor are significant ...   \n",
       "4                                      I don't know.   \n",
       "5  At Tech Innovators Inc., employees can report ...   \n",
       "6  Employee engagement and disengagement differ s...   \n",
       "7  To extract data from Confluence and create a R...   \n",
       "8  Tech Innovators Inc. promotes employee engagem...   \n",
       "\n",
       "                                            contexts  \\\n",
       "0  [the Senior Director responsible for Analytics...   \n",
       "1  [to identify strengths and areas for improveme...   \n",
       "2  [Inc. upholds the highest ethical standards in...   \n",
       "3  [LabourEmotional and aesthetic labor involves ...   \n",
       "4  [IntroductionWelcome to Tech Innovators Inc. T...   \n",
       "5  [and identify areas for improvement.5.3 Report...   \n",
       "6  [are motivated and committed, disengaged emplo...   \n",
       "7  [IntroductionThis guide provides a step-by-ste...   \n",
       "8  [concept that requires a holistic approach. At...   \n",
       "\n",
       "                                        ground_truth  answer_relevancy  \\\n",
       "0  The role of the Senior Director responsible fo...          0.925206   \n",
       "1  Identifying and addressing growth areas in sel...          0.990183   \n",
       "2                             Favoritism or nepotism          0.000000   \n",
       "3  Emotional and aesthetic labor in the workplace...          0.968129   \n",
       "4  The purpose of the orientation session at Tech...          0.000000   \n",
       "5  Employees can report violations of labor laws ...          0.951613   \n",
       "6  Employee engagement and disengagement differ i...          0.920337   \n",
       "7  To extract data from Confluence and create a R...          0.996660   \n",
       "8  Tech Innovators Inc. promotes employee engagem...          0.980843   \n",
       "\n",
       "   faithfulness  context_recall  context_precision  \n",
       "0      0.450000        0.222222                1.0  \n",
       "1      0.400000        0.333333                0.0  \n",
       "2      0.000000        0.000000                1.0  \n",
       "3      0.565217        0.666667                1.0  \n",
       "4      0.000000        0.000000                0.0  \n",
       "5      0.111111        0.250000                1.0  \n",
       "6      0.814815        0.400000                1.0  \n",
       "7      0.074074        0.000000                1.0  \n",
       "8      0.166667        0.800000                1.0  "
      ]
     },
     "execution_count": 33,
     "metadata": {},
     "output_type": "execute_result"
    }
   ],
   "source": [
    "df = result.to_pandas()\n",
    "df"
   ]
  },
  {
   "cell_type": "code",
   "execution_count": 34,
   "metadata": {},
   "outputs": [],
   "source": [
    "file_name = \"eval_result_test_dataset_it_cohere_rerank.csv\"\n",
    "file_path = os.path.join(from_root(),\"data-test/eval-result/\", file_name)\n",
    "df.to_csv(file_path, index=False)"
   ]
  },
  {
   "cell_type": "markdown",
   "metadata": {},
   "source": [
    "### crossEncoderReranker"
   ]
  },
  {
   "cell_type": "code",
   "execution_count": 41,
   "metadata": {},
   "outputs": [],
   "source": [
    "# Generate all the answers for the questions in the dataset\n",
    "cer_answers = []\n",
    "cer_contexts = []\n",
    "for question in data_to_test['question']:\n",
    "    question_dict = {'question': question}\n",
    "    answer = call_cross_encoder(question_dict)\n",
    "    cer_contexts.append(answer['contexts'])\n",
    "    cer_answers.append(answer['answer'])"
   ]
  },
  {
   "cell_type": "code",
   "execution_count": 49,
   "metadata": {},
   "outputs": [],
   "source": [
    "# update the dataset with answers\n",
    "data_to_test['answer'] = cer_answers\n",
    "data_to_test['contexts'] = cer_contexts"
   ]
  },
  {
   "cell_type": "code",
   "execution_count": null,
   "metadata": {},
   "outputs": [],
   "source": [
    "# Replace empty list context with ['No context'] if there are any\n",
    "def is_empty_list(lst):\n",
    "    return len(lst) == 0\n",
    "data_to_test['contexts'] = data_to_test['contexts'].apply(lambda x: ['No context'] if is_empty_list(x) else x)"
   ]
  },
  {
   "cell_type": "code",
   "execution_count": 52,
   "metadata": {},
   "outputs": [],
   "source": [
    "from datasets import Dataset\n",
    "\n",
    "question = list(data_to_test['question'])\n",
    "answer = list(data_to_test['answer'])\n",
    "contexts = list(data_to_test['contexts'].apply(extract_page_content))\n",
    "ground_truth = list(data_to_test['ground_truth'])\n",
    "\n",
    "data_cer= {\n",
    "    'question': question,\n",
    "    'answer': answer,\n",
    "    'contexts': contexts,\n",
    "    'ground_truth': ground_truth\n",
    "}\n",
    "\n",
    "dataset_cer = Dataset.from_dict(data_cer)"
   ]
  },
  {
   "cell_type": "code",
   "execution_count": null,
   "metadata": {},
   "outputs": [],
   "source": [
    "# Optional, uncomment to trace runs with LangSmith. Sign up here: https://smith.langchain.com.\n",
    "# from langsmith import Client\n",
    "# os.environ[\"LANGCHAIN_ENDPOINT\"] = \"https://api.smith.langchain.com\"\n",
    "# os.environ[\"LANGCHAIN_TRACING_V2\"] = \"true\"\n",
    "# os.environ[\"LANGSMITH_API_KEY\"] = os.getenv(\"LANGSMITH_API_KEY\")\n",
    "# client = Client()"
   ]
  },
  {
   "cell_type": "code",
   "execution_count": 54,
   "metadata": {},
   "outputs": [
    {
     "data": {
      "application/vnd.jupyter.widget-view+json": {
       "model_id": "cafc1e49a88541eb8494fce9d618b47e",
       "version_major": 2,
       "version_minor": 0
      },
      "text/plain": [
       "Evaluating:   0%|          | 0/36 [00:00<?, ?it/s]"
      ]
     },
     "metadata": {},
     "output_type": "display_data"
    },
    {
     "data": {
      "text/plain": [
       "{'answer_relevancy': 0.9664, 'faithfulness': 0.2256, 'context_recall': 0.4040, 'context_precision': 0.7778}"
      ]
     },
     "execution_count": 54,
     "metadata": {},
     "output_type": "execute_result"
    }
   ],
   "source": [
    "from ragas import evaluate\n",
    "# from ragas.integrations.langsmith import evaluate\n",
    "from ragas.metrics import (\n",
    "    answer_relevancy,\n",
    "    faithfulness,\n",
    "    context_recall,\n",
    "    context_precision,\n",
    ")\n",
    "result = evaluate(\n",
    "    dataset_cer,\n",
    "    metrics=[\n",
    "        answer_relevancy,\n",
    "        faithfulness,\n",
    "        context_recall,\n",
    "        context_precision,\n",
    "    ],\n",
    ")\n",
    "\n",
    "result"
   ]
  },
  {
   "cell_type": "code",
   "execution_count": 55,
   "metadata": {},
   "outputs": [
    {
     "data": {
      "text/html": [
       "<div>\n",
       "<style scoped>\n",
       "    .dataframe tbody tr th:only-of-type {\n",
       "        vertical-align: middle;\n",
       "    }\n",
       "\n",
       "    .dataframe tbody tr th {\n",
       "        vertical-align: top;\n",
       "    }\n",
       "\n",
       "    .dataframe thead th {\n",
       "        text-align: right;\n",
       "    }\n",
       "</style>\n",
       "<table border=\"1\" class=\"dataframe\">\n",
       "  <thead>\n",
       "    <tr style=\"text-align: right;\">\n",
       "      <th></th>\n",
       "      <th>question</th>\n",
       "      <th>answer</th>\n",
       "      <th>contexts</th>\n",
       "      <th>ground_truth</th>\n",
       "      <th>answer_relevancy</th>\n",
       "      <th>faithfulness</th>\n",
       "      <th>context_recall</th>\n",
       "      <th>context_precision</th>\n",
       "    </tr>\n",
       "  </thead>\n",
       "  <tbody>\n",
       "    <tr>\n",
       "      <th>0</th>\n",
       "      <td>How does the role of the Senior Director respo...</td>\n",
       "      <td>The role of the Senior Director responsible fo...</td>\n",
       "      <td>[the Senior Director responsible for Analytics...</td>\n",
       "      <td>The role of the Senior Director responsible fo...</td>\n",
       "      <td>0.925206</td>\n",
       "      <td>0.090909</td>\n",
       "      <td>0.222222</td>\n",
       "      <td>1.0</td>\n",
       "    </tr>\n",
       "    <tr>\n",
       "      <th>1</th>\n",
       "      <td>What is the importance of identifying and addr...</td>\n",
       "      <td>Identifying and addressing growth areas in sel...</td>\n",
       "      <td>[to identify strengths and areas for improveme...</td>\n",
       "      <td>Identifying and addressing growth areas in sel...</td>\n",
       "      <td>0.991927</td>\n",
       "      <td>0.166667</td>\n",
       "      <td>0.333333</td>\n",
       "      <td>0.0</td>\n",
       "    </tr>\n",
       "    <tr>\n",
       "      <th>2</th>\n",
       "      <td>What forms of unethical behavior are strictly ...</td>\n",
       "      <td>In the recruitment process of Inc., unethical ...</td>\n",
       "      <td>[unethical behavior, such as favoritism or nep...</td>\n",
       "      <td>Favoritism or nepotism</td>\n",
       "      <td>0.936252</td>\n",
       "      <td>0.166667</td>\n",
       "      <td>1.000000</td>\n",
       "      <td>1.0</td>\n",
       "    </tr>\n",
       "    <tr>\n",
       "      <th>3</th>\n",
       "      <td>What is the significance of emotional and aest...</td>\n",
       "      <td>Emotional and aesthetic labor are significant ...</td>\n",
       "      <td>[LabourEmotional and aesthetic labor involves ...</td>\n",
       "      <td>Emotional and aesthetic labor in the workplace...</td>\n",
       "      <td>0.970923</td>\n",
       "      <td>0.352941</td>\n",
       "      <td>0.666667</td>\n",
       "      <td>1.0</td>\n",
       "    </tr>\n",
       "    <tr>\n",
       "      <th>4</th>\n",
       "      <td>What is the purpose of the orientation session...</td>\n",
       "      <td>The purpose of the orientation session at Tech...</td>\n",
       "      <td>[to help you get started. Company OverviewTech...</td>\n",
       "      <td>The purpose of the orientation session at Tech...</td>\n",
       "      <td>1.000000</td>\n",
       "      <td>0.000000</td>\n",
       "      <td>0.000000</td>\n",
       "      <td>0.0</td>\n",
       "    </tr>\n",
       "    <tr>\n",
       "      <th>5</th>\n",
       "      <td>What mechanisms are in place for reporting vio...</td>\n",
       "      <td>At Tech Innovators Inc., employees can report ...</td>\n",
       "      <td>[and identify areas for improvement.5.3 Report...</td>\n",
       "      <td>Employees can report violations of labor laws ...</td>\n",
       "      <td>0.942706</td>\n",
       "      <td>0.076923</td>\n",
       "      <td>0.250000</td>\n",
       "      <td>1.0</td>\n",
       "    </tr>\n",
       "    <tr>\n",
       "      <th>6</th>\n",
       "      <td>How do employee engagement and disengagement d...</td>\n",
       "      <td>Employee engagement and disengagement differ s...</td>\n",
       "      <td>[are motivated and committed, disengaged emplo...</td>\n",
       "      <td>Employee engagement and disengagement differ i...</td>\n",
       "      <td>0.960525</td>\n",
       "      <td>1.000000</td>\n",
       "      <td>0.363636</td>\n",
       "      <td>1.0</td>\n",
       "    </tr>\n",
       "    <tr>\n",
       "      <th>7</th>\n",
       "      <td>What steps are needed to extract data from Con...</td>\n",
       "      <td>To extract data from Confluence and create a R...</td>\n",
       "      <td>[IntroductionThis guide provides a step-by-ste...</td>\n",
       "      <td>To extract data from Confluence and create a R...</td>\n",
       "      <td>0.989648</td>\n",
       "      <td>0.000000</td>\n",
       "      <td>0.000000</td>\n",
       "      <td>1.0</td>\n",
       "    </tr>\n",
       "    <tr>\n",
       "      <th>8</th>\n",
       "      <td>How does Tech Innovators Inc. promote employee...</td>\n",
       "      <td>Tech Innovators Inc. promotes employee engagem...</td>\n",
       "      <td>[concept that requires a holistic approach. At...</td>\n",
       "      <td>Tech Innovators Inc. promotes employee engagem...</td>\n",
       "      <td>0.980843</td>\n",
       "      <td>0.176471</td>\n",
       "      <td>0.800000</td>\n",
       "      <td>1.0</td>\n",
       "    </tr>\n",
       "  </tbody>\n",
       "</table>\n",
       "</div>"
      ],
      "text/plain": [
       "                                            question  \\\n",
       "0  How does the role of the Senior Director respo...   \n",
       "1  What is the importance of identifying and addr...   \n",
       "2  What forms of unethical behavior are strictly ...   \n",
       "3  What is the significance of emotional and aest...   \n",
       "4  What is the purpose of the orientation session...   \n",
       "5  What mechanisms are in place for reporting vio...   \n",
       "6  How do employee engagement and disengagement d...   \n",
       "7  What steps are needed to extract data from Con...   \n",
       "8  How does Tech Innovators Inc. promote employee...   \n",
       "\n",
       "                                              answer  \\\n",
       "0  The role of the Senior Director responsible fo...   \n",
       "1  Identifying and addressing growth areas in sel...   \n",
       "2  In the recruitment process of Inc., unethical ...   \n",
       "3  Emotional and aesthetic labor are significant ...   \n",
       "4  The purpose of the orientation session at Tech...   \n",
       "5  At Tech Innovators Inc., employees can report ...   \n",
       "6  Employee engagement and disengagement differ s...   \n",
       "7  To extract data from Confluence and create a R...   \n",
       "8  Tech Innovators Inc. promotes employee engagem...   \n",
       "\n",
       "                                            contexts  \\\n",
       "0  [the Senior Director responsible for Analytics...   \n",
       "1  [to identify strengths and areas for improveme...   \n",
       "2  [unethical behavior, such as favoritism or nep...   \n",
       "3  [LabourEmotional and aesthetic labor involves ...   \n",
       "4  [to help you get started. Company OverviewTech...   \n",
       "5  [and identify areas for improvement.5.3 Report...   \n",
       "6  [are motivated and committed, disengaged emplo...   \n",
       "7  [IntroductionThis guide provides a step-by-ste...   \n",
       "8  [concept that requires a holistic approach. At...   \n",
       "\n",
       "                                        ground_truth  answer_relevancy  \\\n",
       "0  The role of the Senior Director responsible fo...          0.925206   \n",
       "1  Identifying and addressing growth areas in sel...          0.991927   \n",
       "2                             Favoritism or nepotism          0.936252   \n",
       "3  Emotional and aesthetic labor in the workplace...          0.970923   \n",
       "4  The purpose of the orientation session at Tech...          1.000000   \n",
       "5  Employees can report violations of labor laws ...          0.942706   \n",
       "6  Employee engagement and disengagement differ i...          0.960525   \n",
       "7  To extract data from Confluence and create a R...          0.989648   \n",
       "8  Tech Innovators Inc. promotes employee engagem...          0.980843   \n",
       "\n",
       "   faithfulness  context_recall  context_precision  \n",
       "0      0.090909        0.222222                1.0  \n",
       "1      0.166667        0.333333                0.0  \n",
       "2      0.166667        1.000000                1.0  \n",
       "3      0.352941        0.666667                1.0  \n",
       "4      0.000000        0.000000                0.0  \n",
       "5      0.076923        0.250000                1.0  \n",
       "6      1.000000        0.363636                1.0  \n",
       "7      0.000000        0.000000                1.0  \n",
       "8      0.176471        0.800000                1.0  "
      ]
     },
     "execution_count": 55,
     "metadata": {},
     "output_type": "execute_result"
    }
   ],
   "source": [
    "df = result.to_pandas()\n",
    "df"
   ]
  },
  {
   "cell_type": "code",
   "execution_count": 56,
   "metadata": {},
   "outputs": [],
   "source": [
    "file_name = \"eval_result_test_dataset_it_cer.csv\"\n",
    "file_path = os.path.join(from_root(),\"data-test/eval-result/\", file_name)\n",
    "df.to_csv(file_path, index=False)"
   ]
  }
 ],
 "metadata": {
  "kernelspec": {
   "display_name": "venv",
   "language": "python",
   "name": "python3"
  },
  "language_info": {
   "codemirror_mode": {
    "name": "ipython",
    "version": 3
   },
   "file_extension": ".py",
   "mimetype": "text/x-python",
   "name": "python",
   "nbconvert_exporter": "python",
   "pygments_lexer": "ipython3",
   "version": "3.11.9"
  }
 },
 "nbformat": 4,
 "nbformat_minor": 2
}
