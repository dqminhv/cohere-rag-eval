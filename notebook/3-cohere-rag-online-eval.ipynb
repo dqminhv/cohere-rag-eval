{
 "cells": [
  {
   "cell_type": "code",
   "execution_count": 1,
   "metadata": {},
   "outputs": [
    {
     "data": {
      "text/plain": [
       "True"
      ]
     },
     "execution_count": 1,
     "metadata": {},
     "output_type": "execute_result"
    }
   ],
   "source": [
    "# Load the .env file\n",
    "#pip install -U python-dotenv\n",
    "import os\n",
    "from dotenv import load_dotenv\n",
    "load_dotenv(encoding='utf-8')"
   ]
  },
  {
   "cell_type": "markdown",
   "metadata": {},
   "source": [
    "# Cohere RAG pipeline"
   ]
  },
  {
   "cell_type": "markdown",
   "metadata": {},
   "source": [
    "## Cohere container's backend"
   ]
  },
  {
   "cell_type": "code",
   "execution_count": 1,
   "metadata": {},
   "outputs": [
    {
     "name": "stderr",
     "output_type": "stream",
     "text": [
      "d:\\Document\\GitHub\\cohere-rag-eval\\venv\\Lib\\site-packages\\pydantic\\_internal\\_config.py:341: UserWarning: Valid config keys have changed in V2:\n",
      "* 'allow_population_by_field_name' has been renamed to 'populate_by_name'\n",
      "* 'smart_union' has been removed\n",
      "  warnings.warn(message, UserWarning)\n"
     ]
    },
    {
     "name": "stdout",
     "output_type": "stream",
     "text": [
      "{\"response_id\":\"e973535a-6f5f-4396-a010-82285e7d5379\",\"generation_id\":\"9c1e4f60-41a5-405d-9147-0ba61de3ea56\",\"chat_history\":[{\"role\":\"USER\",\"message\":\"What is Tech Innovators Inc.'s approach to workplace harassment?\",\"tool_plan\":null,\"tool_results\":null,\"tool_calls\":null},{\"role\":\"CHATBOT\",\"message\":\"Tech Innovators Inc. has a zero-tolerance policy towards any form of workplace harassment. We strive to foster a safe, respectful, and inclusive work environment, and any instance of harassment is taken very seriously. \\n\\nOur approach involves a detailed anti-harassment policy outlined in our employee handbook, which is accessible to all employees. This policy clearly defines what constitutes harassment, providing examples of different forms of harassment, including sexual harassment, and the consequences of such behavior. \\n\\nWe regularly conduct mandatory training sessions to educate employees on workplace harassment, ensuring everyone understands their rights and responsibilities. These sessions cover how to recognize harassment, the appropriate response, and the available resources for victims. \\n\\nAny employee who feels they have been subjected to harassment is encouraged to report the incident promptly. Victims can confidentially report harassment to their direct supervisor, the HR department, or through our whistleblower policy, ensuring their comfort and safety. \\n\\nUpon receiving a harassment complaint, Tech Innovators Inc. will promptly initiate an investigation, led by a designated investigator who is impartial to the situation. The investigation will be thorough, fair, and respect the privacy of all involved parties to the best extent possible. \\n\\nDepending on the findings, the company will take appropriate action, which may include disciplinary measures up to and including termination for the perpetrator. We also offer support and accommodations to the victim, respecting their wishes and providing any necessary assistance, which can involve collaboration with external counseling services. \\n\\nFurthermore, our policy also outlines the process for appealing any decisions or actions taken post-investigation, ensuring a transparent and fair approach. \\n\\nTech Innovators Inc. believes in creating a workplace free from harassment, and any form of inappropriate behavior is contrary to our core values. We encourage open communication and a culture where employees feel comfortable reporting any incidents, knowing they will be addressed promptly and appropriately. \\n\\nThis commitment is not just a policy but a cultural mindset ingrained within the company, regularly reinforced through our actions and leadership. We strive to ensure that every employee feels valued, respected, and safe in their workplace environment.\",\"tool_plan\":null,\"tool_results\":null,\"tool_calls\":null}],\"finish_reason\":\"COMPLETE\",\"text\":\"Tech Innovators Inc. has a zero-tolerance policy towards any form of workplace harassment. We strive to foster a safe, respectful, and inclusive work environment, and any instance of harassment is taken very seriously. \\n\\nOur approach involves a detailed anti-harassment policy outlined in our employee handbook, which is accessible to all employees. This policy clearly defines what constitutes harassment, providing examples of different forms of harassment, including sexual harassment, and the consequences of such behavior. \\n\\nWe regularly conduct mandatory training sessions to educate employees on workplace harassment, ensuring everyone understands their rights and responsibilities. These sessions cover how to recognize harassment, the appropriate response, and the available resources for victims. \\n\\nAny employee who feels they have been subjected to harassment is encouraged to report the incident promptly. Victims can confidentially report harassment to their direct supervisor, the HR department, or through our whistleblower policy, ensuring their comfort and safety. \\n\\nUpon receiving a harassment complaint, Tech Innovators Inc. will promptly initiate an investigation, led by a designated investigator who is impartial to the situation. The investigation will be thorough, fair, and respect the privacy of all involved parties to the best extent possible. \\n\\nDepending on the findings, the company will take appropriate action, which may include disciplinary measures up to and including termination for the perpetrator. We also offer support and accommodations to the victim, respecting their wishes and providing any necessary assistance, which can involve collaboration with external counseling services. \\n\\nFurthermore, our policy also outlines the process for appealing any decisions or actions taken post-investigation, ensuring a transparent and fair approach. \\n\\nTech Innovators Inc. believes in creating a workplace free from harassment, and any form of inappropriate behavior is contrary to our core values. We encourage open communication and a culture where employees feel comfortable reporting any incidents, knowing they will be addressed promptly and appropriately. \\n\\nThis commitment is not just a policy but a cultural mindset ingrained within the company, regularly reinforced through our actions and leadership. We strive to ensure that every employee feels valued, respected, and safe in their workplace environment.\",\"citations\":[],\"documents\":[],\"search_results\":[],\"search_queries\":[],\"conversation_id\":\"78c60fe1-afce-447a-859b-62d9248887bc\",\"tool_calls\":[]}\n"
     ]
    }
   ],
   "source": [
    "import requests\n",
    "import cohere\n",
    "import os\n",
    "os.environ['COHERE_API_KEY'] = os.getenv('COHERE_API_KEY')\n",
    "\n",
    "# Define the API endpoint for streaming\n",
    "url = \"http://localhost:8000/v1/chat\"\n",
    "bearer = os.getenv('BEARER_SECRET_KEY')\n",
    "\n",
    "# Set headers\n",
    "headers = {\n",
    "    \"User-Id\": \"me\",\n",
    "    \"Content-Type\": \"application/json\",\n",
    "    \"Authorization\": f\"Bearer {bearer}\",\n",
    "    \"Cohere-Stream\": \"true\",  # Enable streaming for chatbot responses\n",
    "}\n",
    "\n",
    "# Set the message to send\n",
    "message = \"What is Tech Innovators Inc.'s approach to workplace harassment?\"\n",
    "\n",
    "# Create the payload as a JSON dictionary\n",
    "data = {\"message\": message}\n",
    "\n",
    "# Send the POST request using requests\n",
    "response = requests.post(url, headers=headers, json=data)\n",
    "\n",
    "# Check for successful response\n",
    "if response.status_code == 200:\n",
    "  # Handle streaming response\n",
    "  for line in response.iter_lines():\n",
    "    # Decode the response (if necessary)\n",
    "    decoded_line = line.decode(\"utf-8\")\n",
    "    # Process the received data from the stream (print it here)\n",
    "    print(decoded_line)\n",
    "else:\n",
    "  print(f\"Error: {response.status_code}\")"
   ]
  },
  {
   "cell_type": "markdown",
   "metadata": {},
   "source": [
    "## Simple RAG pipeline (For test purpose only!)"
   ]
  },
  {
   "cell_type": "markdown",
   "metadata": {},
   "source": [
    "This RAG pipeline was created to test LangSmith evaluation tools. Do not use if you are able to access Cohere toolkit backend."
   ]
  }
 ],
 "metadata": {
  "kernelspec": {
   "display_name": "venv",
   "language": "python",
   "name": "python3"
  },
  "language_info": {
   "codemirror_mode": {
    "name": "ipython",
    "version": 3
   },
   "file_extension": ".py",
   "mimetype": "text/x-python",
   "name": "python",
   "nbconvert_exporter": "python",
   "pygments_lexer": "ipython3",
   "version": "3.11.9"
  }
 },
 "nbformat": 4,
 "nbformat_minor": 2
}
