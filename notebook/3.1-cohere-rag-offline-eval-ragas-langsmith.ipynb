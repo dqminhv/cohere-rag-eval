{
 "cells": [
  {
   "cell_type": "code",
   "execution_count": 19,
   "metadata": {},
   "outputs": [
    {
     "data": {
      "text/plain": [
       "True"
      ]
     },
     "execution_count": 19,
     "metadata": {},
     "output_type": "execute_result"
    }
   ],
   "source": [
    "import os\n",
    "from dotenv import load_dotenv\n",
    "load_dotenv(encoding='utf-8')"
   ]
  },
  {
   "cell_type": "markdown",
   "metadata": {},
   "source": [
    "# Reading test data from json files"
   ]
  },
  {
   "cell_type": "code",
   "execution_count": 2,
   "metadata": {},
   "outputs": [],
   "source": [
    "import pandas as pd\n",
    "import json\n",
    "def json_to_dataframe(json_file_path):\n",
    "  \"\"\"Reads a JSON file and converts it to a pandas DataFrame.\n",
    "\n",
    "  Args:\n",
    "    json_file_path (str): The path to the JSON file.\n",
    "\n",
    "  Returns:\n",
    "    pandas.DataFrame: The DataFrame created from the JSON data.\n",
    "  \"\"\"\n",
    "\n",
    "  with open(json_file_path, 'r') as f:\n",
    "    data = json.load(f)\n",
    "\n",
    "  # Handle different JSON structures\n",
    "  if isinstance(data, list):\n",
    "    # If the JSON data is a list of dictionaries, create a DataFrame directly\n",
    "    df = pd.DataFrame(data)\n",
    "  elif isinstance(data, dict):\n",
    "    # If the JSON data is a single dictionary, convert it to a list of dictionaries\n",
    "    df = pd.DataFrame([data])\n",
    "  else:\n",
    "    raise ValueError(\"Unsupported JSON structure\")\n",
    "\n",
    "  return df"
   ]
  },
  {
   "cell_type": "code",
   "execution_count": 5,
   "metadata": {},
   "outputs": [
    {
     "data": {
      "text/html": [
       "<div>\n",
       "<style scoped>\n",
       "    .dataframe tbody tr th:only-of-type {\n",
       "        vertical-align: middle;\n",
       "    }\n",
       "\n",
       "    .dataframe tbody tr th {\n",
       "        vertical-align: top;\n",
       "    }\n",
       "\n",
       "    .dataframe thead th {\n",
       "        text-align: right;\n",
       "    }\n",
       "</style>\n",
       "<table border=\"1\" class=\"dataframe\">\n",
       "  <thead>\n",
       "    <tr style=\"text-align: right;\">\n",
       "      <th></th>\n",
       "      <th>question</th>\n",
       "      <th>contexts</th>\n",
       "      <th>ground_truth</th>\n",
       "      <th>response</th>\n",
       "    </tr>\n",
       "  </thead>\n",
       "  <tbody>\n",
       "    <tr>\n",
       "      <th>0</th>\n",
       "      <td>What is Tech Innovators Inc.'s approach to wor...</td>\n",
       "      <td>[Q12: What is the process for handling workpla...</td>\n",
       "      <td>Tech Innovators Inc. has a zero-tolerance poli...</td>\n",
       "      <td>Tech Innovators Inc. has a zero-tolerance poli...</td>\n",
       "    </tr>\n",
       "    <tr>\n",
       "      <th>1</th>\n",
       "      <td>What resources should be added for new hires i...</td>\n",
       "      <td>[:check_mark:\\natlassian-check_mark\\n#FFFAE6\\n...</td>\n",
       "      <td>Add resources for new hires in the onboarding ...</td>\n",
       "      <td>Onboarding new hires is a critical process in ...</td>\n",
       "    </tr>\n",
       "    <tr>\n",
       "      <th>2</th>\n",
       "      <td>What training programs are offered in data sci...</td>\n",
       "      <td>[ learn about SEO, social media marketing, and...</td>\n",
       "      <td>Courses covering financial analysis, budgeting...</td>\n",
       "      <td>Tech Innovators Inc. offers several training p...</td>\n",
       "    </tr>\n",
       "    <tr>\n",
       "      <th>3</th>\n",
       "      <td>What services does the Employee Assistance Pro...</td>\n",
       "      <td>[Q12: What is the process for handling workpla...</td>\n",
       "      <td>Employees can contact the Employee Assistance ...</td>\n",
       "      <td>The Employee Assistance Program (EAP) provides...</td>\n",
       "    </tr>\n",
       "    <tr>\n",
       "      <th>4</th>\n",
       "      <td>What is the significance of identifying growth...</td>\n",
       "      <td>[ Self-assessment\\nStart by thinking through y...</td>\n",
       "      <td>Identifying growth areas in self-assessment is...</td>\n",
       "      <td>Identifying growth areas through self-assessme...</td>\n",
       "    </tr>\n",
       "    <tr>\n",
       "      <th>5</th>\n",
       "      <td>How do employee engagement and disengagement d...</td>\n",
       "      <td>[Introduction\\nAt Tech Innovators Inc., we bel...</td>\n",
       "      <td>Employee engagement and disengagement differ i...</td>\n",
       "      <td>Employee engagement and disengagement represen...</td>\n",
       "    </tr>\n",
       "    <tr>\n",
       "      <th>6</th>\n",
       "      <td>What is the purpose of adding a header image t...</td>\n",
       "      <td>[Create a stellar overview\\nThe overview is th...</td>\n",
       "      <td>Adding a header image to a Confluence space en...</td>\n",
       "      <td>Adding a header image to a Confluence space se...</td>\n",
       "    </tr>\n",
       "  </tbody>\n",
       "</table>\n",
       "</div>"
      ],
      "text/plain": [
       "                                            question  \\\n",
       "0  What is Tech Innovators Inc.'s approach to wor...   \n",
       "1  What resources should be added for new hires i...   \n",
       "2  What training programs are offered in data sci...   \n",
       "3  What services does the Employee Assistance Pro...   \n",
       "4  What is the significance of identifying growth...   \n",
       "5  How do employee engagement and disengagement d...   \n",
       "6  What is the purpose of adding a header image t...   \n",
       "\n",
       "                                            contexts  \\\n",
       "0  [Q12: What is the process for handling workpla...   \n",
       "1  [:check_mark:\\natlassian-check_mark\\n#FFFAE6\\n...   \n",
       "2  [ learn about SEO, social media marketing, and...   \n",
       "3  [Q12: What is the process for handling workpla...   \n",
       "4  [ Self-assessment\\nStart by thinking through y...   \n",
       "5  [Introduction\\nAt Tech Innovators Inc., we bel...   \n",
       "6  [Create a stellar overview\\nThe overview is th...   \n",
       "\n",
       "                                        ground_truth  \\\n",
       "0  Tech Innovators Inc. has a zero-tolerance poli...   \n",
       "1  Add resources for new hires in the onboarding ...   \n",
       "2  Courses covering financial analysis, budgeting...   \n",
       "3  Employees can contact the Employee Assistance ...   \n",
       "4  Identifying growth areas in self-assessment is...   \n",
       "5  Employee engagement and disengagement differ i...   \n",
       "6  Adding a header image to a Confluence space en...   \n",
       "\n",
       "                                            response  \n",
       "0  Tech Innovators Inc. has a zero-tolerance poli...  \n",
       "1  Onboarding new hires is a critical process in ...  \n",
       "2  Tech Innovators Inc. offers several training p...  \n",
       "3  The Employee Assistance Program (EAP) provides...  \n",
       "4  Identifying growth areas through self-assessme...  \n",
       "5  Employee engagement and disengagement represen...  \n",
       "6  Adding a header image to a Confluence space se...  "
      ]
     },
     "execution_count": 5,
     "metadata": {},
     "output_type": "execute_result"
    }
   ],
   "source": [
    "from from_root import from_root\n",
    "test_file = \"data/test_dataset/test_dataset_hr.json\"\n",
    "test_data_path = os.path.join(from_root(), test_file)\n",
    "data_to_upload = json_to_dataframe(test_data_path)\n",
    "data_to_upload"
   ]
  },
  {
   "cell_type": "markdown",
   "metadata": {},
   "source": [
    "# Upload test dataset to LangSmith"
   ]
  },
  {
   "cell_type": "code",
   "execution_count": 11,
   "metadata": {},
   "outputs": [],
   "source": [
    "from langsmith import Client\n",
    "os.environ[\"LANGCHAIN_ENDPOINT\"] = \"https://api.smith.langchain.com\"\n",
    "os.environ[\"LANGCHAIN_TRACING_V2\"] = \"true\"\n",
    "os.environ[\"LANGSMITH_API_KEY\"] = os.getenv(\"LANGSMITH_API_KEY\")\n",
    "client = Client()"
   ]
  },
  {
   "cell_type": "code",
   "execution_count": 12,
   "metadata": {},
   "outputs": [],
   "source": [
    "from datasets import Dataset\n",
    "\n",
    "question = list(data_to_upload['question'])\n",
    "answer = list(data_to_upload['response'])\n",
    "contexts = list(data_to_upload['contexts'])\n",
    "ground_truth = list(data_to_upload['ground_truth'])\n",
    "\n",
    "data_samples = {\n",
    "    'question': question,\n",
    "    'answer': answer,\n",
    "    'contexts': contexts,\n",
    "    'ground_truth': ground_truth\n",
    "}\n",
    "\n",
    "dataset = Dataset.from_dict(data_samples)"
   ]
  },
  {
   "cell_type": "code",
   "execution_count": 13,
   "metadata": {},
   "outputs": [
    {
     "name": "stdout",
     "output_type": "stream",
     "text": [
      "Created a new dataset 'hr test'. Dataset is accessible at https://smith.langchain.com/o/08bc9556-81b3-56d7-98aa-4f87d6cdfca5/datasets/e67c3bea-1852-4ea0-8793-e8fc10fe7fa8\n"
     ]
    }
   ],
   "source": [
    "from ragas.integrations.langsmith import upload_dataset\n",
    "dataset_name = \"hr test\"\n",
    "dataset_desc = \"HR department test dataset\"\n",
    "\n",
    "dataset_uploaded = upload_dataset(dataset, dataset_name, dataset_desc)"
   ]
  },
  {
   "cell_type": "markdown",
   "metadata": {},
   "source": [
    "# Evaluation"
   ]
  },
  {
   "cell_type": "markdown",
   "metadata": {},
   "source": [
    "## With RAGAS"
   ]
  },
  {
   "cell_type": "code",
   "execution_count": 14,
   "metadata": {},
   "outputs": [
    {
     "data": {
      "application/vnd.jupyter.widget-view+json": {
       "model_id": "134862837e0144efba16bb20d95a8b9b",
       "version_major": 2,
       "version_minor": 0
      },
      "text/plain": [
       "Evaluating:   0%|          | 0/28 [00:00<?, ?it/s]"
      ]
     },
     "metadata": {},
     "output_type": "display_data"
    },
    {
     "data": {
      "text/plain": [
       "{'answer_relevancy': 0.9666, 'faithfulness': 0.5693, 'context_recall': 0.7619, 'context_precision': 0.8571}"
      ]
     },
     "execution_count": 14,
     "metadata": {},
     "output_type": "execute_result"
    }
   ],
   "source": [
    "from ragas import evaluate\n",
    "# from ragas.integrations.langsmith import evaluate\n",
    "from ragas.metrics import (\n",
    "    answer_relevancy,\n",
    "    faithfulness,\n",
    "    context_recall,\n",
    "    context_precision,\n",
    ")\n",
    "result = evaluate(\n",
    "    dataset,\n",
    "    metrics=[\n",
    "        answer_relevancy,\n",
    "        faithfulness,\n",
    "        context_recall,\n",
    "        context_precision,\n",
    "    ],\n",
    ")\n",
    "\n",
    "result"
   ]
  },
  {
   "cell_type": "code",
   "execution_count": 15,
   "metadata": {},
   "outputs": [
    {
     "data": {
      "text/html": [
       "<div>\n",
       "<style scoped>\n",
       "    .dataframe tbody tr th:only-of-type {\n",
       "        vertical-align: middle;\n",
       "    }\n",
       "\n",
       "    .dataframe tbody tr th {\n",
       "        vertical-align: top;\n",
       "    }\n",
       "\n",
       "    .dataframe thead th {\n",
       "        text-align: right;\n",
       "    }\n",
       "</style>\n",
       "<table border=\"1\" class=\"dataframe\">\n",
       "  <thead>\n",
       "    <tr style=\"text-align: right;\">\n",
       "      <th></th>\n",
       "      <th>question</th>\n",
       "      <th>answer</th>\n",
       "      <th>contexts</th>\n",
       "      <th>ground_truth</th>\n",
       "      <th>answer_relevancy</th>\n",
       "      <th>faithfulness</th>\n",
       "      <th>context_recall</th>\n",
       "      <th>context_precision</th>\n",
       "    </tr>\n",
       "  </thead>\n",
       "  <tbody>\n",
       "    <tr>\n",
       "      <th>0</th>\n",
       "      <td>What is Tech Innovators Inc.'s approach to wor...</td>\n",
       "      <td>Tech Innovators Inc. has a zero-tolerance poli...</td>\n",
       "      <td>[Q12: What is the process for handling workpla...</td>\n",
       "      <td>Tech Innovators Inc. has a zero-tolerance poli...</td>\n",
       "      <td>0.974083</td>\n",
       "      <td>0.318182</td>\n",
       "      <td>1.0</td>\n",
       "      <td>1.0</td>\n",
       "    </tr>\n",
       "    <tr>\n",
       "      <th>1</th>\n",
       "      <td>What resources should be added for new hires i...</td>\n",
       "      <td>Onboarding new hires is a critical process in ...</td>\n",
       "      <td>[:check_mark:\\natlassian-check_mark\\n#FFFAE6\\n...</td>\n",
       "      <td>Add resources for new hires in the onboarding ...</td>\n",
       "      <td>0.971124</td>\n",
       "      <td>0.794118</td>\n",
       "      <td>1.0</td>\n",
       "      <td>1.0</td>\n",
       "    </tr>\n",
       "    <tr>\n",
       "      <th>2</th>\n",
       "      <td>What training programs are offered in data sci...</td>\n",
       "      <td>Tech Innovators Inc. offers several training p...</td>\n",
       "      <td>[ learn about SEO, social media marketing, and...</td>\n",
       "      <td>Courses covering financial analysis, budgeting...</td>\n",
       "      <td>0.987744</td>\n",
       "      <td>0.040000</td>\n",
       "      <td>0.0</td>\n",
       "      <td>0.0</td>\n",
       "    </tr>\n",
       "    <tr>\n",
       "      <th>3</th>\n",
       "      <td>What services does the Employee Assistance Pro...</td>\n",
       "      <td>The Employee Assistance Program (EAP) provides...</td>\n",
       "      <td>[Q12: What is the process for handling workpla...</td>\n",
       "      <td>Employees can contact the Employee Assistance ...</td>\n",
       "      <td>0.994292</td>\n",
       "      <td>0.256410</td>\n",
       "      <td>1.0</td>\n",
       "      <td>1.0</td>\n",
       "    </tr>\n",
       "    <tr>\n",
       "      <th>4</th>\n",
       "      <td>What is the significance of identifying growth...</td>\n",
       "      <td>Identifying growth areas through self-assessme...</td>\n",
       "      <td>[ Self-assessment\\nStart by thinking through y...</td>\n",
       "      <td>Identifying growth areas in self-assessment is...</td>\n",
       "      <td>0.980172</td>\n",
       "      <td>1.000000</td>\n",
       "      <td>1.0</td>\n",
       "      <td>1.0</td>\n",
       "    </tr>\n",
       "  </tbody>\n",
       "</table>\n",
       "</div>"
      ],
      "text/plain": [
       "                                            question  \\\n",
       "0  What is Tech Innovators Inc.'s approach to wor...   \n",
       "1  What resources should be added for new hires i...   \n",
       "2  What training programs are offered in data sci...   \n",
       "3  What services does the Employee Assistance Pro...   \n",
       "4  What is the significance of identifying growth...   \n",
       "\n",
       "                                              answer  \\\n",
       "0  Tech Innovators Inc. has a zero-tolerance poli...   \n",
       "1  Onboarding new hires is a critical process in ...   \n",
       "2  Tech Innovators Inc. offers several training p...   \n",
       "3  The Employee Assistance Program (EAP) provides...   \n",
       "4  Identifying growth areas through self-assessme...   \n",
       "\n",
       "                                            contexts  \\\n",
       "0  [Q12: What is the process for handling workpla...   \n",
       "1  [:check_mark:\\natlassian-check_mark\\n#FFFAE6\\n...   \n",
       "2  [ learn about SEO, social media marketing, and...   \n",
       "3  [Q12: What is the process for handling workpla...   \n",
       "4  [ Self-assessment\\nStart by thinking through y...   \n",
       "\n",
       "                                        ground_truth  answer_relevancy  \\\n",
       "0  Tech Innovators Inc. has a zero-tolerance poli...          0.974083   \n",
       "1  Add resources for new hires in the onboarding ...          0.971124   \n",
       "2  Courses covering financial analysis, budgeting...          0.987744   \n",
       "3  Employees can contact the Employee Assistance ...          0.994292   \n",
       "4  Identifying growth areas in self-assessment is...          0.980172   \n",
       "\n",
       "   faithfulness  context_recall  context_precision  \n",
       "0      0.318182             1.0                1.0  \n",
       "1      0.794118             1.0                1.0  \n",
       "2      0.040000             0.0                0.0  \n",
       "3      0.256410             1.0                1.0  \n",
       "4      1.000000             1.0                1.0  "
      ]
     },
     "execution_count": 15,
     "metadata": {},
     "output_type": "execute_result"
    }
   ],
   "source": [
    "df = result.to_pandas()\n",
    "df.head()"
   ]
  }
 ],
 "metadata": {
  "kernelspec": {
   "display_name": "venv",
   "language": "python",
   "name": "python3"
  },
  "language_info": {
   "codemirror_mode": {
    "name": "ipython",
    "version": 3
   },
   "file_extension": ".py",
   "mimetype": "text/x-python",
   "name": "python",
   "nbconvert_exporter": "python",
   "pygments_lexer": "ipython3",
   "version": "3.11.9"
  }
 },
 "nbformat": 4,
 "nbformat_minor": 2
}
