{
 "cells": [
  {
   "cell_type": "code",
   "execution_count": 1,
   "metadata": {},
   "outputs": [
    {
     "data": {
      "text/plain": [
       "True"
      ]
     },
     "execution_count": 1,
     "metadata": {},
     "output_type": "execute_result"
    }
   ],
   "source": [
    "import os\n",
    "from dotenv import load_dotenv\n",
    "load_dotenv(encoding='utf-8')"
   ]
  },
  {
   "cell_type": "markdown",
   "metadata": {},
   "source": [
    "# RAG pipeline"
   ]
  },
  {
   "cell_type": "markdown",
   "metadata": {},
   "source": [
    "## Vector Store and Retriever"
   ]
  },
  {
   "cell_type": "code",
   "execution_count": 2,
   "metadata": {},
   "outputs": [],
   "source": [
    "from langchain_core.output_parsers import StrOutputParser\n",
    "from langchain_core.runnables import RunnablePassthrough\n",
    "from langchain_mongodb import MongoDBAtlasVectorSearch\n",
    "from langchain_openai import ChatOpenAI, OpenAIEmbeddings\n",
    "from langchain.prompts import PromptTemplate\n",
    "from pymongo import MongoClient\n",
    "import os"
   ]
  },
  {
   "cell_type": "code",
   "execution_count": 3,
   "metadata": {},
   "outputs": [],
   "source": [
    "os.environ[\"OPENAI_API_KEY\"] = os.getenv(\"OPENAI_API_KEY\")\n",
    "\n",
    "llm = ChatOpenAI(model=os.getenv(\"DEFAULT_OPENAI_MODEL\")) # DEFAULT_OPENAI_MODEL='gpt-4o-mini-2024-07-18'\n",
    "\n",
    "embedding_model=OpenAIEmbeddings(disallowed_special=())"
   ]
  },
  {
   "cell_type": "code",
   "execution_count": 4,
   "metadata": {},
   "outputs": [],
   "source": [
    "# Define MongoDB vector database\n",
    "client = MongoClient(os.getenv(\"ATLAS_CONNECTION_STRING\"))\n",
    "db_name = os.getenv(\"db_name\")\n",
    "collection_name=\"enterprise_data\"\n",
    "atlas_collection = client[db_name][collection_name]\n",
    "index_name = \"vector_index_erp\"\n",
    "\n",
    "vector_store = MongoDBAtlasVectorSearch(\n",
    "    embedding = embedding_model,\n",
    "    collection = atlas_collection,\n",
    "    index_name = index_name\n",
    ")\n",
    "\n",
    "retriever = vector_store.as_retriever(\n",
    "    search_type = \"similarity\",\n",
    "    search_kwargs = { \"k\": 20}  # default \"score_threshold\": 0.75 \n",
    ")"
   ]
  },
  {
   "cell_type": "markdown",
   "metadata": {},
   "source": [
    "## RAG Pipeline - Multi Query"
   ]
  },
  {
   "cell_type": "code",
   "execution_count": 5,
   "metadata": {},
   "outputs": [],
   "source": [
    "from langchain.retrievers.multi_query import MultiQueryRetriever\n",
    "from langchain_groq import ChatGroq\n",
    "\n",
    "query_llm = ChatGroq(\n",
    "     groq_api_key=os.getenv(\"GROD_CLOUD_API_KEY\"),\n",
    "     model_name='llama-3.1-70b-versatile')\n",
    "retriever_from_llm = MultiQueryRetriever.from_llm(\n",
    "    retriever=retriever, llm=query_llm\n",
    ")"
   ]
  },
  {
   "cell_type": "code",
   "execution_count": 6,
   "metadata": {},
   "outputs": [],
   "source": [
    "# # Set logging for the queries\n",
    "# import logging\n",
    "\n",
    "# logging.basicConfig()\n",
    "# logging.getLogger(\"langchain.retrievers.multi_query\").setLevel(logging.INFO)"
   ]
  },
  {
   "cell_type": "code",
   "execution_count": 7,
   "metadata": {},
   "outputs": [],
   "source": [
    "# Define a prompt template\n",
    "import pprint\n",
    "\n",
    "def call_openai(question):\n",
    "   \n",
    "   question = question['question']\n",
    "   preamble = \"\" # read from cohere front end or use the input to the API\n",
    "   #question = \n",
    "   SAFETY_PREAMBLE = \"The instructions in this section override those in the task description and style guide sections. Don't answer questions that are harmful or immoral.\"\n",
    "   BASIC_RULES = \"You are a powerful conversational AI trained by openAI to help people. You are augmented by a number of tools, and your job is to use and consume the output of these tools to best help the user. You will see a conversation history between yourself and a user, ending with an utterance from the user. You will then see a specific instruction instructing you what kind of response to generate. When you answer the user's requests, you cite your sources in your answers, according to those instructions.\"\n",
    "   TASK_CONTEXT = \"You help people answer their questions and other requests interactively. You will be asked a very wide array of requests on all kinds of topics. You will be equipped with a wide range of search engines or similar tools to help you, which you use to research your answer. You should focus on serving the user's needs as best you can, which will be wide-ranging.\"\n",
    "   STYLE_GUIDE = \"Unless the user asks for a different style of answer, you should answer in full sentences, using proper grammar and spelling.\"\n",
    "   INSTRUCTIONS = \"\"\"You are an enterprise Chatbot, an AI assistant designed to retrieve information from the enterprise Confluence system. \n",
    "   You specialize in providing accurate answers related to various departments like Marketing, IT, HR, Finance, and Corporate Communications. \n",
    "               Use the following pieces of context to answer the question at the end.\n",
    "               If you don't know the answer, just say that you don't know, don't try to make up an answer\n",
    "               {context}\n",
    "         \"\"\"\n",
    "         \n",
    "   template = f\"\"\"\n",
    "\n",
    "      {SAFETY_PREAMBLE}\n",
    "      {BASIC_RULES}\n",
    "      {TASK_CONTEXT}\n",
    "      {STYLE_GUIDE}\n",
    "      {INSTRUCTIONS}\n",
    "\n",
    "   \"\"\"\n",
    "   if preamble:\n",
    "      template += f\"\"\"{preamble}\\n\\n\"\"\"\n",
    "\n",
    "\n",
    "   template +=  f\"\"\"Question: {question}\\n\\n\"\"\"\n",
    "\n",
    "   custom_rag_prompt = PromptTemplate.from_template(template)\n",
    "\n",
    "   #llm = get_llm_model(\"openai\")\n",
    "   llm = ChatOpenAI(model=os.getenv(\"DEFAULT_OPENAI_MODEL\"))\n",
    "\n",
    "   def remove_rep(docs):\n",
    "      docs_content = []\n",
    "      unique_docs = []\n",
    "      for doc in docs:\n",
    "            if doc.page_content not in docs_content:\n",
    "                  docs_content.append(doc.page_content)\n",
    "                  unique_docs.append(doc)\n",
    "      return unique_docs\n",
    "   \n",
    "   def format_docs(docs):\n",
    "      contexts = remove_rep(docs)\n",
    "      return \"\\n\\n\".join(doc.page_content for doc in contexts)\n",
    "\n",
    "   # Construct a chain to answer questions on your data\n",
    "   rag_chain = (\n",
    "      { \"context\": retriever_from_llm | format_docs, \"question\": RunnablePassthrough()}\n",
    "      | custom_rag_prompt\n",
    "      | llm\n",
    "      | StrOutputParser()\n",
    "   )\n",
    "\n",
    "   # Prompt the chain\n",
    "   answer = rag_chain.invoke(question)\n",
    "   retrieved_docs = remove_rep(retriever_from_llm.invoke(question))\n",
    "\n",
    "   return{\n",
    "      'answer': answer,\n",
    "      'contexts': retrieved_docs\n",
    "      }"
   ]
  },
  {
   "cell_type": "markdown",
   "metadata": {},
   "source": [
    "### Test the RAG pipeline"
   ]
  },
  {
   "cell_type": "code",
   "execution_count": 8,
   "metadata": {},
   "outputs": [
    {
     "name": "stdout",
     "output_type": "stream",
     "text": [
      "A supportive culture significantly impacts employee engagement by fostering an environment where employees feel valued, respected, and connected to th\n"
     ]
    }
   ],
   "source": [
    "# Test sample\n",
    "question = {'question': \"How does a supportive culture impact employee engagement and align with Tech Innovators Inc.'s approach to employment relations and engagement?\"}\n",
    "answer = call_openai(question)\n",
    "print(answer['answer'][:150])"
   ]
  },
  {
   "cell_type": "code",
   "execution_count": 9,
   "metadata": {},
   "outputs": [
    {
     "data": {
      "text/plain": [
       "[Document(metadata={'_id': '66d816910533e009aa2d5192', 'pageid': '524348', 'department': 'HR', 'title': 'Step-by-Step Guide to Creating an RAG Application Using LangChain Framework with Custom Data from Enterprise Confluence Pages'}, page_content='or another vector database for retrievalConfluence API library (e.g., atlassian-python-api)Setting Up the Environment3.1 Install Required LibrariesbashCopy codepip install langchain openai'),\n",
       " Document(metadata={'_id': '66d8165a0533e009aa2d4d44', 'pageid': '524348', 'department': 'HR', 'title': 'Step-by-Step Guide to Creating an RAG Application Using LangChain Framework with Custom Data from Enterprise Confluence Pages'}, page_content='IntroductionThis guide provides a step-by-step process for creating a Retrieval-Augmented Generation (RAG) application using the LangChain framework. The application will be trained on custom data'),\n",
       " Document(metadata={'_id': '66d816760533e009aa2d4f6c', 'pageid': '524348', 'department': 'HR', 'title': 'Step-by-Step Guide to Creating an RAG Application Using LangChain Framework with Custom Data from Enterprise Confluence Pages'}, page_content='to the enterprise Confluence API or export files containing the Confluence data.Installation of necessary libraries and tools:LangChainOpenAI or Hugging Face TransformersPinecone or another vector'),\n",
       " Document(metadata={'_id': '66d8166a0533e009aa2d4ea1', 'pageid': '884737', 'department': 'Marketing', 'title': 'Brand Guidelines'}, page_content='Logo FilesDocument and Presentation TemplatesSocial Media Graphic TemplatesEmail Signature Template'),\n",
       " Document(metadata={'_id': '66d8163a0533e009aa2d4abd', 'pageid': '819215', 'department': 'IT', 'title': 'Tech Innovator Vector Database Installation Guide'}, page_content='a client tool to ensure it is functioning correctly.TroubleshootingIf you encounter any issues, refer to the Tech Innovator Vector Database documentation for detailed troubleshooting steps.Check the'),\n",
       " Document(metadata={'_id': '66d8163d0533e009aa2d4b0f', 'pageid': '491566', 'department': 'HR', 'title': 'Employee Relations and Engagement at Tech Innovators Inc.'}, page_content='employees and management.Employee Involvement: Involving employees in decision-making processes and seeking their input on matters that affect them.Supportive Culture: Creating a supportive culture'),\n",
       " Document(metadata={'_id': '66d8163d0533e009aa2d4b1c', 'pageid': '491566', 'department': 'HR', 'title': 'Employee Relations and Engagement at Tech Innovators Inc.'}, page_content='concept that requires a holistic approach. At Tech Innovators Inc., we are committed to fostering an engaging work environment through open communication, recognition, and support. By understanding'),\n",
       " Document(metadata={'_id': '66d8163d0533e009aa2d4b06', 'pageid': '491566', 'department': 'HR', 'title': 'Employee Relations and Engagement at Tech Innovators Inc.'}, page_content='IntroductionAt Tech Innovators Inc., we believe that employee engagement is crucial to our success. This document provides a comprehensive overview of employee engagement, its critical aspects, and'),\n",
       " Document(metadata={'_id': '66d8163d0533e009aa2d4b07', 'pageid': '491566', 'department': 'HR', 'title': 'Employee Relations and Engagement at Tech Innovators Inc.'}, page_content='aspects, and how we foster a collaborative and engaging work environment.\\xa0What is Employee Engagement?Employee engagement refers to the emotional commitment an employee has towards their organization'),\n",
       " Document(metadata={'_id': '66d8163d0533e009aa2d4b1a', 'pageid': '491566', 'department': 'HR', 'title': 'Employee Relations and Engagement at Tech Innovators Inc.'}, page_content='engagement is critical. This involves:Clear Communication: Providing clear and consistent communication about changes and their impact.Support Systems: Offering support systems to help employees'),\n",
       " Document(metadata={'_id': '66d8167c0533e009aa2d5015', 'pageid': '884753', 'department': 'HR', 'title': 'Tech Innovators Inc. Employee Frequently Asked Questions (FAQs)'}, page_content='PoliciesWhat is the company’s policy on remote work?How do I access the employee handbook?What is the dress code policy?Training and DevelopmentQ1: How does Tech Innovators Inc. support employee'),\n",
       " Document(metadata={'_id': '66d816600533e009aa2d4df1', 'pageid': '884753', 'department': 'HR', 'title': 'Tech Innovators Inc. Employee Frequently Asked Questions (FAQs)'}, page_content='support employee training and development?A1: Tech Innovators Inc. is committed to continuous learning and development. We offer a range of training programs, workshops, and seminars to help'),\n",
       " Document(metadata={'_id': '66d816400533e009aa2d4b3e', 'pageid': '655683', 'department': 'HR', 'title': 'Tech Innovators Inc. Recruitment Policies Guidelines'}, page_content='IntroductionTech Innovators Inc. is committed to fostering a diverse and inclusive workplace. Our recruitment policies are designed to ensure equal opportunities for all candidates, including those'),\n",
       " Document(metadata={'_id': '66d8163d0533e009aa2d4b18', 'pageid': '491566', 'department': 'HR', 'title': 'Employee Relations and Engagement at Tech Innovators Inc.'}, page_content='and Employee EngagementThe organizational climate significantly impacts employee engagement. A positive climate characterized by trust, respect, and support fosters higher engagement levels.')]"
      ]
     },
     "execution_count": 9,
     "metadata": {},
     "output_type": "execute_result"
    }
   ],
   "source": [
    "answer['contexts']"
   ]
  },
  {
   "cell_type": "markdown",
   "metadata": {},
   "source": [
    "# RAG pipeline evaluation"
   ]
  },
  {
   "cell_type": "markdown",
   "metadata": {},
   "source": [
    "## Test data set prep"
   ]
  },
  {
   "cell_type": "code",
   "execution_count": 10,
   "metadata": {},
   "outputs": [],
   "source": [
    "import pandas as pd\n",
    "import json\n",
    "\n",
    "def json_to_dataframe(json_file_path):\n",
    "  \"\"\"Reads a JSON file and converts it to a pandas DataFrame.\n",
    "\n",
    "  Args:\n",
    "    json_file_path (str): The path to the JSON file.\n",
    "\n",
    "  Returns:\n",
    "    pandas.DataFrame: The DataFrame created from the JSON data.\n",
    "  \"\"\"\n",
    "\n",
    "  with open(json_file_path, 'r') as f:\n",
    "    data = json.load(f)\n",
    "\n",
    "  # Handle different JSON structures\n",
    "  if isinstance(data, list):\n",
    "    # If the JSON data is a list of dictionaries, create a DataFrame directly\n",
    "    df = pd.DataFrame(data)\n",
    "  elif isinstance(data, dict):\n",
    "    # If the JSON data is a single dictionary, convert it to a list of dictionaries\n",
    "    df = pd.DataFrame([data])\n",
    "  else:\n",
    "    raise ValueError(\"Unsupported JSON structure\")\n",
    "\n",
    "  return df"
   ]
  },
  {
   "cell_type": "code",
   "execution_count": 11,
   "metadata": {},
   "outputs": [],
   "source": [
    "def extract_page_content(documents):\n",
    "    return [doc.page_content for doc in documents]"
   ]
  },
  {
   "cell_type": "code",
   "execution_count": 12,
   "metadata": {},
   "outputs": [],
   "source": [
    "from from_root import from_root\n",
    "import os\n",
    "file_name = \"test_dataset_it.json\"\n",
    "json_file_path = os.path.join(from_root(), \"data-test/test-dataset/\",file_name)\n",
    "data_to_test = json_to_dataframe(json_file_path)"
   ]
  },
  {
   "cell_type": "markdown",
   "metadata": {},
   "source": [
    "## RAGAS evaluation"
   ]
  },
  {
   "cell_type": "code",
   "execution_count": 13,
   "metadata": {},
   "outputs": [],
   "source": [
    "# Generate all the answers for the questions in the dataset\n",
    "answers = []\n",
    "contexts = []\n",
    "for question in data_to_test['question']:\n",
    "    question_dict = {'question': question}\n",
    "    answer = call_openai(question_dict)\n",
    "    contexts.append(answer['contexts'])\n",
    "    answers.append(answer['answer'])"
   ]
  },
  {
   "cell_type": "code",
   "execution_count": 14,
   "metadata": {},
   "outputs": [],
   "source": [
    "# update the dataset with answers\n",
    "data_to_test['answers'] = answers\n",
    "data_to_test['contexts'] = contexts"
   ]
  },
  {
   "cell_type": "code",
   "execution_count": 15,
   "metadata": {},
   "outputs": [],
   "source": [
    "# Replace empty list context with ['No context'] if there are any\n",
    "def is_empty_list(lst):\n",
    "    return len(lst) == 0\n",
    "data_to_test['contexts'] = data_to_test['contexts'].apply(lambda x: ['No context'] if is_empty_list(x) else x)"
   ]
  },
  {
   "cell_type": "code",
   "execution_count": 16,
   "metadata": {},
   "outputs": [],
   "source": [
    "from datasets import Dataset\n",
    "\n",
    "question = list(data_to_test['question'])\n",
    "answer = list(data_to_test['answers'])\n",
    "contexts = list(data_to_test['contexts'].apply(extract_page_content))\n",
    "ground_truth = list(data_to_test['ground_truth'])\n",
    "\n",
    "data_multi_query = {\n",
    "    'question': question,\n",
    "    'answer': answer,\n",
    "    'contexts': contexts,\n",
    "    'ground_truth': ground_truth\n",
    "}\n",
    "\n",
    "dataset_multi_query= Dataset.from_dict(data_multi_query)"
   ]
  },
  {
   "cell_type": "code",
   "execution_count": 18,
   "metadata": {},
   "outputs": [],
   "source": [
    "# Optional, uncomment to trace runs with LangSmith. Sign up here: https://smith.langchain.com.\n",
    "# from langsmith import Client\n",
    "# os.environ[\"LANGCHAIN_ENDPOINT\"] = \"https://api.smith.langchain.com\"\n",
    "# os.environ[\"LANGCHAIN_TRACING_V2\"] = \"true\"\n",
    "# os.environ[\"LANGSMITH_API_KEY\"] = os.getenv(\"LANGSMITH_API_KEY\")\n",
    "# client = Client()"
   ]
  },
  {
   "cell_type": "code",
   "execution_count": 29,
   "metadata": {},
   "outputs": [
    {
     "data": {
      "application/vnd.jupyter.widget-view+json": {
       "model_id": "ae5b063d31d24a7aae650f7279ecb6f2",
       "version_major": 2,
       "version_minor": 0
      },
      "text/plain": [
       "Evaluating:   0%|          | 0/36 [00:00<?, ?it/s]"
      ]
     },
     "metadata": {},
     "output_type": "display_data"
    },
    {
     "data": {
      "text/plain": [
       "{'answer_relevancy': 0.9626, 'faithfulness': 0.5368, 'context_recall': 0.4517, 'context_precision': 0.3602}"
      ]
     },
     "execution_count": 29,
     "metadata": {},
     "output_type": "execute_result"
    }
   ],
   "source": [
    "from ragas import evaluate\n",
    "# from ragas.integrations.langsmith import evaluate\n",
    "from ragas.metrics import (\n",
    "    answer_relevancy,\n",
    "    faithfulness,\n",
    "    context_recall,\n",
    "    context_precision,\n",
    ")\n",
    "result = evaluate(\n",
    "    dataset_multi_query,\n",
    "    metrics=[\n",
    "        answer_relevancy,\n",
    "        faithfulness,\n",
    "        context_recall,\n",
    "        context_precision,\n",
    "    ],\n",
    ")\n",
    "\n",
    "result"
   ]
  },
  {
   "cell_type": "code",
   "execution_count": 30,
   "metadata": {},
   "outputs": [
    {
     "data": {
      "text/html": [
       "<div>\n",
       "<style scoped>\n",
       "    .dataframe tbody tr th:only-of-type {\n",
       "        vertical-align: middle;\n",
       "    }\n",
       "\n",
       "    .dataframe tbody tr th {\n",
       "        vertical-align: top;\n",
       "    }\n",
       "\n",
       "    .dataframe thead th {\n",
       "        text-align: right;\n",
       "    }\n",
       "</style>\n",
       "<table border=\"1\" class=\"dataframe\">\n",
       "  <thead>\n",
       "    <tr style=\"text-align: right;\">\n",
       "      <th></th>\n",
       "      <th>question</th>\n",
       "      <th>answer</th>\n",
       "      <th>contexts</th>\n",
       "      <th>ground_truth</th>\n",
       "      <th>answer_relevancy</th>\n",
       "      <th>faithfulness</th>\n",
       "      <th>context_recall</th>\n",
       "      <th>context_precision</th>\n",
       "    </tr>\n",
       "  </thead>\n",
       "  <tbody>\n",
       "    <tr>\n",
       "      <th>0</th>\n",
       "      <td>How does the role of the Senior Director respo...</td>\n",
       "      <td>The role of the Senior Director responsible fo...</td>\n",
       "      <td>[the Senior Director responsible for Analytics...</td>\n",
       "      <td>The role of the Senior Director responsible fo...</td>\n",
       "      <td>0.925206</td>\n",
       "      <td>0.320000</td>\n",
       "      <td>0.444444</td>\n",
       "      <td>0.876667</td>\n",
       "    </tr>\n",
       "    <tr>\n",
       "      <th>1</th>\n",
       "      <td>What is the importance of identifying and addr...</td>\n",
       "      <td>Identifying and addressing growth areas in sel...</td>\n",
       "      <td>[for guidance and support.Feedback: Provide an...</td>\n",
       "      <td>Identifying and addressing growth areas in sel...</td>\n",
       "      <td>0.990183</td>\n",
       "      <td>0.750000</td>\n",
       "      <td>0.000000</td>\n",
       "      <td>0.000000</td>\n",
       "    </tr>\n",
       "    <tr>\n",
       "      <th>2</th>\n",
       "      <td>What forms of unethical behavior are strictly ...</td>\n",
       "      <td>At Tech Innovators Inc., the following forms o...</td>\n",
       "      <td>[websitePain points or questionse.g., I need t...</td>\n",
       "      <td>Favoritism or nepotism</td>\n",
       "      <td>0.949541</td>\n",
       "      <td>1.000000</td>\n",
       "      <td>0.000000</td>\n",
       "      <td>0.166667</td>\n",
       "    </tr>\n",
       "    <tr>\n",
       "      <th>3</th>\n",
       "      <td>What is the significance of emotional and aest...</td>\n",
       "      <td>Emotional and aesthetic labor in the workplace...</td>\n",
       "      <td>[LabourEmotional and aesthetic labor involves ...</td>\n",
       "      <td>Emotional and aesthetic labor in the workplace...</td>\n",
       "      <td>0.966041</td>\n",
       "      <td>0.916667</td>\n",
       "      <td>0.666667</td>\n",
       "      <td>0.700000</td>\n",
       "    </tr>\n",
       "    <tr>\n",
       "      <th>4</th>\n",
       "      <td>What is the purpose of the orientation session...</td>\n",
       "      <td>The purpose of the orientation session at Tech...</td>\n",
       "      <td>[websitePain points or questionse.g., I need t...</td>\n",
       "      <td>The purpose of the orientation session at Tech...</td>\n",
       "      <td>1.000000</td>\n",
       "      <td>0.000000</td>\n",
       "      <td>0.000000</td>\n",
       "      <td>0.000000</td>\n",
       "    </tr>\n",
       "    <tr>\n",
       "      <th>5</th>\n",
       "      <td>What mechanisms are in place for reporting vio...</td>\n",
       "      <td>At Tech Innovators Inc., there are several mec...</td>\n",
       "      <td>[or another vector database for retrievalConfl...</td>\n",
       "      <td>Employees can report violations of labor laws ...</td>\n",
       "      <td>0.980979</td>\n",
       "      <td>0.153846</td>\n",
       "      <td>0.500000</td>\n",
       "      <td>0.166667</td>\n",
       "    </tr>\n",
       "    <tr>\n",
       "      <th>6</th>\n",
       "      <td>How do employee engagement and disengagement d...</td>\n",
       "      <td>Employee engagement and disengagement differ s...</td>\n",
       "      <td>[websitePain points or questionse.g., I need t...</td>\n",
       "      <td>Employee engagement and disengagement differ i...</td>\n",
       "      <td>0.920337</td>\n",
       "      <td>0.655172</td>\n",
       "      <td>1.000000</td>\n",
       "      <td>0.227717</td>\n",
       "    </tr>\n",
       "    <tr>\n",
       "      <th>7</th>\n",
       "      <td>What steps are needed to extract data from Con...</td>\n",
       "      <td>To extract data from Confluence and create a R...</td>\n",
       "      <td>[websitePain points or questionse.g., I need t...</td>\n",
       "      <td>To extract data from Confluence and create a R...</td>\n",
       "      <td>0.950647</td>\n",
       "      <td>0.647059</td>\n",
       "      <td>0.454545</td>\n",
       "      <td>0.354365</td>\n",
       "    </tr>\n",
       "    <tr>\n",
       "      <th>8</th>\n",
       "      <td>How does Tech Innovators Inc. promote employee...</td>\n",
       "      <td>Tech Innovators Inc. promotes employee engagem...</td>\n",
       "      <td>[concept that requires a holistic approach. At...</td>\n",
       "      <td>Tech Innovators Inc. promotes employee engagem...</td>\n",
       "      <td>0.980843</td>\n",
       "      <td>0.388889</td>\n",
       "      <td>1.000000</td>\n",
       "      <td>0.750000</td>\n",
       "    </tr>\n",
       "  </tbody>\n",
       "</table>\n",
       "</div>"
      ],
      "text/plain": [
       "                                            question  \\\n",
       "0  How does the role of the Senior Director respo...   \n",
       "1  What is the importance of identifying and addr...   \n",
       "2  What forms of unethical behavior are strictly ...   \n",
       "3  What is the significance of emotional and aest...   \n",
       "4  What is the purpose of the orientation session...   \n",
       "5  What mechanisms are in place for reporting vio...   \n",
       "6  How do employee engagement and disengagement d...   \n",
       "7  What steps are needed to extract data from Con...   \n",
       "8  How does Tech Innovators Inc. promote employee...   \n",
       "\n",
       "                                              answer  \\\n",
       "0  The role of the Senior Director responsible fo...   \n",
       "1  Identifying and addressing growth areas in sel...   \n",
       "2  At Tech Innovators Inc., the following forms o...   \n",
       "3  Emotional and aesthetic labor in the workplace...   \n",
       "4  The purpose of the orientation session at Tech...   \n",
       "5  At Tech Innovators Inc., there are several mec...   \n",
       "6  Employee engagement and disengagement differ s...   \n",
       "7  To extract data from Confluence and create a R...   \n",
       "8  Tech Innovators Inc. promotes employee engagem...   \n",
       "\n",
       "                                            contexts  \\\n",
       "0  [the Senior Director responsible for Analytics...   \n",
       "1  [for guidance and support.Feedback: Provide an...   \n",
       "2  [websitePain points or questionse.g., I need t...   \n",
       "3  [LabourEmotional and aesthetic labor involves ...   \n",
       "4  [websitePain points or questionse.g., I need t...   \n",
       "5  [or another vector database for retrievalConfl...   \n",
       "6  [websitePain points or questionse.g., I need t...   \n",
       "7  [websitePain points or questionse.g., I need t...   \n",
       "8  [concept that requires a holistic approach. At...   \n",
       "\n",
       "                                        ground_truth  answer_relevancy  \\\n",
       "0  The role of the Senior Director responsible fo...          0.925206   \n",
       "1  Identifying and addressing growth areas in sel...          0.990183   \n",
       "2                             Favoritism or nepotism          0.949541   \n",
       "3  Emotional and aesthetic labor in the workplace...          0.966041   \n",
       "4  The purpose of the orientation session at Tech...          1.000000   \n",
       "5  Employees can report violations of labor laws ...          0.980979   \n",
       "6  Employee engagement and disengagement differ i...          0.920337   \n",
       "7  To extract data from Confluence and create a R...          0.950647   \n",
       "8  Tech Innovators Inc. promotes employee engagem...          0.980843   \n",
       "\n",
       "   faithfulness  context_recall  context_precision  \n",
       "0      0.320000        0.444444           0.876667  \n",
       "1      0.750000        0.000000           0.000000  \n",
       "2      1.000000        0.000000           0.166667  \n",
       "3      0.916667        0.666667           0.700000  \n",
       "4      0.000000        0.000000           0.000000  \n",
       "5      0.153846        0.500000           0.166667  \n",
       "6      0.655172        1.000000           0.227717  \n",
       "7      0.647059        0.454545           0.354365  \n",
       "8      0.388889        1.000000           0.750000  "
      ]
     },
     "execution_count": 30,
     "metadata": {},
     "output_type": "execute_result"
    }
   ],
   "source": [
    "df = result.to_pandas()\n",
    "df"
   ]
  },
  {
   "cell_type": "code",
   "execution_count": 31,
   "metadata": {},
   "outputs": [],
   "source": [
    "file_name = \"eval_result_test_dataset_it_multi_query.csv\"\n",
    "file_path = os.path.join(from_root(),\"data-test/eval-result/\", file_name)\n",
    "df.to_csv(file_path, index=False)"
   ]
  }
 ],
 "metadata": {
  "kernelspec": {
   "display_name": "venv",
   "language": "python",
   "name": "python3"
  },
  "language_info": {
   "codemirror_mode": {
    "name": "ipython",
    "version": 3
   },
   "file_extension": ".py",
   "mimetype": "text/x-python",
   "name": "python",
   "nbconvert_exporter": "python",
   "pygments_lexer": "ipython3",
   "version": "3.11.9"
  }
 },
 "nbformat": 4,
 "nbformat_minor": 2
}
