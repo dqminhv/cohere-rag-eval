{
 "cells": [
  {
   "cell_type": "code",
   "execution_count": 1,
   "metadata": {},
   "outputs": [
    {
     "data": {
      "text/plain": [
       "True"
      ]
     },
     "execution_count": 1,
     "metadata": {},
     "output_type": "execute_result"
    }
   ],
   "source": [
    "import os\n",
    "from dotenv import load_dotenv\n",
    "load_dotenv(encoding='utf-8')"
   ]
  },
  {
   "cell_type": "markdown",
   "metadata": {},
   "source": [
    "# RAG pipeline"
   ]
  },
  {
   "cell_type": "markdown",
   "metadata": {},
   "source": [
    "## Vector Store and Retriever"
   ]
  },
  {
   "cell_type": "code",
   "execution_count": 33,
   "metadata": {},
   "outputs": [],
   "source": [
    "from langchain_core.output_parsers import StrOutputParser\n",
    "from langchain_core.runnables import RunnablePassthrough\n",
    "from langchain_mongodb import MongoDBAtlasVectorSearch\n",
    "from langchain_openai import ChatOpenAI, OpenAIEmbeddings\n",
    "from langchain.prompts import PromptTemplate\n",
    "from pymongo import MongoClient\n",
    "import os"
   ]
  },
  {
   "cell_type": "code",
   "execution_count": 34,
   "metadata": {},
   "outputs": [],
   "source": [
    "os.environ[\"OPENAI_API_KEY\"] = os.getenv(\"OPENAI_API_KEY\")\n",
    "\n",
    "llm = ChatOpenAI(model=os.getenv(\"DEFAULT_OPENAI_MODEL\")) # DEFAULT_OPENAI_MODEL='gpt-4o-mini-2024-07-18'\n",
    "\n",
    "# embedding_model=OpenAIEmbeddings(model=os.getenv(\"DEFAULT_OPENAI_EMBEDDING\"), disallowed_special=())\n",
    "embedding_model=OpenAIEmbeddings(disallowed_special=())"
   ]
  },
  {
   "cell_type": "code",
   "execution_count": 35,
   "metadata": {},
   "outputs": [],
   "source": [
    "# Define MongoDB vector database\n",
    "client = MongoClient(os.getenv(\"ATLAS_CONNECTION_STRING\"))\n",
    "db_name = os.getenv(\"db_name\")\n",
    "collection_name = os.getenv(\"collection_name\")\n",
    "atlas_collection = client[db_name][collection_name]\n",
    "index_name = os.getenv(\"index_name\")\n",
    "\n",
    "vector_store = MongoDBAtlasVectorSearch(\n",
    "    embedding = embedding_model,\n",
    "    collection = atlas_collection,\n",
    "    index_name = index_name\n",
    ")\n",
    "\n",
    "retriever = vector_store.as_retriever(\n",
    "    search_type = \"similarity\",\n",
    "    search_kwargs = { \"k\": 10}  # \"score_threshold\": 0.75 \n",
    ")"
   ]
  },
  {
   "cell_type": "markdown",
   "metadata": {},
   "source": [
    "## RAG Pipeline - Multi Query"
   ]
  },
  {
   "cell_type": "code",
   "execution_count": 36,
   "metadata": {},
   "outputs": [],
   "source": [
    "from langchain.retrievers.multi_query import MultiQueryRetriever\n",
    "from langchain_groq import ChatGroq\n",
    "\n",
    "query_llm = ChatGroq(\n",
    "     groq_api_key=os.getenv(\"GROD_CLOUD_API_KEY\"),\n",
    "     model_name='llama-3.1-8b-instant')\n",
    "retriever_from_llm = MultiQueryRetriever.from_llm(\n",
    "    retriever=retriever, llm=query_llm\n",
    ")"
   ]
  },
  {
   "cell_type": "code",
   "execution_count": 37,
   "metadata": {},
   "outputs": [],
   "source": [
    "# Set logging for the queries\n",
    "import logging\n",
    "\n",
    "logging.basicConfig()\n",
    "logging.getLogger(\"langchain.retrievers.multi_query\").setLevel(logging.INFO)"
   ]
  },
  {
   "cell_type": "code",
   "execution_count": 41,
   "metadata": {},
   "outputs": [],
   "source": [
    "# Define a prompt template\n",
    "import pprint\n",
    "\n",
    "def call_openai(question):\n",
    "   \n",
    "   question = question['question']\n",
    "   preamble = \"\" # read from cohere front end or use the input to the API\n",
    "   #question = \n",
    "   SAFETY_PREAMBLE = \"The instructions in this section override those in the task description and style guide sections. Don't answer questions that are harmful or immoral.\"\n",
    "   BASIC_RULES = \"You are a powerful conversational AI trained by openAI to help people. You are augmented by a number of tools, and your job is to use and consume the output of these tools to best help the user. You will see a conversation history between yourself and a user, ending with an utterance from the user. You will then see a specific instruction instructing you what kind of response to generate. When you answer the user's requests, you cite your sources in your answers, according to those instructions.\"\n",
    "   TASK_CONTEXT = \"You help people answer their questions and other requests interactively. You will be asked a very wide array of requests on all kinds of topics. You will be equipped with a wide range of search engines or similar tools to help you, which you use to research your answer. You should focus on serving the user's needs as best you can, which will be wide-ranging.\"\n",
    "   STYLE_GUIDE = \"Unless the user asks for a different style of answer, you should answer in full sentences, using proper grammar and spelling.\"\n",
    "   INSTRUCTIONS = \"\"\"You are an enterprise Chatbot, an AI assistant designed to retrieve information from the enterprise Confluence system. \n",
    "   You specialize in providing accurate answers related to various departments like Marketing, IT, HR, Finance, and Corporate Communications. \n",
    "               Use the following pieces of context to answer the question at the end.\n",
    "               If you don't know the answer, just say that you don't know, don't try to make up an answer\n",
    "               {context}\n",
    "         \"\"\"\n",
    "         \n",
    "   template = f\"\"\"\n",
    "\n",
    "      {SAFETY_PREAMBLE}\n",
    "      {BASIC_RULES}\n",
    "      {TASK_CONTEXT}\n",
    "      {STYLE_GUIDE}\n",
    "      {INSTRUCTIONS}\n",
    "\n",
    "   \"\"\"\n",
    "   if preamble:\n",
    "      template += f\"\"\"{preamble}\\n\\n\"\"\"\n",
    "\n",
    "\n",
    "   template +=  f\"\"\"Question: {question}\\n\\n\"\"\"\n",
    "\n",
    "   custom_rag_prompt = PromptTemplate.from_template(template)\n",
    "\n",
    "   #llm = get_llm_model(\"openai\")\n",
    "   llm = ChatOpenAI(model=os.getenv(\"DEFAULT_OPENAI_MODEL\"))\n",
    "\n",
    "   def format_docs(docs):\n",
    "      return \"\\n\\n\".join(doc.page_content for doc in docs)\n",
    "\n",
    "   # Construct a chain to answer questions on your data\n",
    "   rag_chain = (\n",
    "      { \"context\": retriever_from_llm | format_docs, \"question\": RunnablePassthrough()}\n",
    "      | custom_rag_prompt\n",
    "      | llm\n",
    "      | StrOutputParser()\n",
    "   )\n",
    "\n",
    "   # Prompt the chain\n",
    "   answer = rag_chain.invoke(question)\n",
    "   similar = retriever.invoke(question)\n",
    "\n",
    "   return{\n",
    "      'answer': answer,\n",
    "      'contexts': [str(doc) for doc in similar]\n",
    "      }"
   ]
  },
  {
   "cell_type": "markdown",
   "metadata": {},
   "source": [
    "### Test the RAG pipeline"
   ]
  },
  {
   "cell_type": "code",
   "execution_count": 42,
   "metadata": {},
   "outputs": [
    {
     "name": "stderr",
     "output_type": "stream",
     "text": [
      "INFO:langchain.retrievers.multi_query:Generated queries: ['Here are three different versions of the user question to retrieve relevant documents from a vector database:', 'What are the correlations between organizational culture and employee engagement, and how do these correlations manifest in the context of Tech Innovators Inc.?', 'How does a culture that supports employee well-being and growth influence the level of engagement among employees at Tech Innovators Inc. compared to other companies?', 'What are the key factors that contribute to a supportive culture, and how do these factors impact employee engagement, job satisfaction, and turnover rates at Tech Innovators Inc., as well as in similar organizations?']\n"
     ]
    },
    {
     "name": "stdout",
     "output_type": "stream",
     "text": [
      "A supportive culture plays a significant role in enhancing employee engagement at Tech Innovators Inc. It fosters an environment where employees feel \n"
     ]
    }
   ],
   "source": [
    "# Test sample\n",
    "question = {'question': \"How does a supportive culture impact employee engagement and align with Tech Innovators Inc.'s approach to employment relations and engagement?\"}\n",
    "answer = call_openai(question)\n",
    "print(answer['answer'][:150])"
   ]
  },
  {
   "cell_type": "code",
   "execution_count": 43,
   "metadata": {},
   "outputs": [
    {
     "name": "stdout",
     "output_type": "stream",
     "text": [
      "A supportive culture plays a significant role in enhancing employee engagement at Tech Innovators Inc. It fosters an environment where employees feel valued, respected, and included in the decision-making processes. By creating a culture that emphasizes open communication, recognition, and support, employees are more likely to feel motivated and connected to their work and the organization.\n",
      "\n",
      "At Tech Innovators Inc., the commitment to a supportive culture aligns closely with its approach to employment relations and engagement. When employees perceive that their contributions are acknowledged and that they have a voice in matters that affect them, it leads to higher levels of job satisfaction and loyalty. This, in turn, contributes to a positive organizational climate characterized by trust and respect, which is essential for fostering high engagement levels.\n",
      "\n",
      "In summary, a supportive culture not only enhances employee engagement but also aligns with Tech Innovators Inc.'s philosophy of involving employees in decision-making and creating an overall positive workplace environment.\n"
     ]
    }
   ],
   "source": [
    "print(answer['answer'])"
   ]
  },
  {
   "cell_type": "code",
   "execution_count": 28,
   "metadata": {},
   "outputs": [
    {
     "name": "stdout",
     "output_type": "stream",
     "text": [
      "[\"page_content='employees and management.Employee Involvement: Involving employees in decision-making processes and seeking their input on matters that affect them.Supportive Culture: Creating a supportive culture' metadata={'_id': '66d8163d0533e009aa2d4b0f', 'pageid': '491566', 'department': 'HR', 'title': 'Employee Relations and Engagement at Tech Innovators Inc.'}\", \"page_content='employees and management.Employee Involvement: Involving employees in decision-making processes and seeking their input on matters that affect them.Supportive Culture: Creating a supportive culture' metadata={'_id': '66d816590533e009aa2d4d34', 'pageid': '491566', 'department': 'HR', 'title': 'Employee Relations and Engagement at Tech Innovators Inc.'}\", \"page_content='employees and management.Employee Involvement: Involving employees in decision-making processes and seeking their input on matters that affect them.Supportive Culture: Creating a supportive culture' metadata={'_id': '66d816750533e009aa2d4f59', 'pageid': '491566', 'department': 'HR', 'title': 'Employee Relations and Engagement at Tech Innovators Inc.'}\", \"page_content='employees and management.Employee Involvement: Involving employees in decision-making processes and seeking their input on matters that affect them.Supportive Culture: Creating a supportive culture' metadata={'_id': '66d816900533e009aa2d517e', 'pageid': '491566', 'department': 'HR', 'title': 'Employee Relations and Engagement at Tech Innovators Inc.'}\", \"page_content='concept that requires a holistic approach. At Tech Innovators Inc., we are committed to fostering an engaging work environment through open communication, recognition, and support. By understanding' metadata={'_id': '66d8163d0533e009aa2d4b1c', 'pageid': '491566', 'department': 'HR', 'title': 'Employee Relations and Engagement at Tech Innovators Inc.'}\", \"page_content='concept that requires a holistic approach. At Tech Innovators Inc., we are committed to fostering an engaging work environment through open communication, recognition, and support. By understanding' metadata={'_id': '66d816590533e009aa2d4d41', 'pageid': '491566', 'department': 'HR', 'title': 'Employee Relations and Engagement at Tech Innovators Inc.'}\", \"page_content='concept that requires a holistic approach. At Tech Innovators Inc., we are committed to fostering an engaging work environment through open communication, recognition, and support. By understanding' metadata={'_id': '66d816750533e009aa2d4f66', 'pageid': '491566', 'department': 'HR', 'title': 'Employee Relations and Engagement at Tech Innovators Inc.'}\", \"page_content='concept that requires a holistic approach. At Tech Innovators Inc., we are committed to fostering an engaging work environment through open communication, recognition, and support. By understanding' metadata={'_id': '66d816900533e009aa2d518b', 'pageid': '491566', 'department': 'HR', 'title': 'Employee Relations and Engagement at Tech Innovators Inc.'}\", \"page_content='supportive culture where employees feel valued and respected.\\xa0Engagement and DisengagementEngagement and disengagement are two sides of the same coin. While engaged employees are motivated and' metadata={'_id': '66d8163d0533e009aa2d4b10', 'pageid': '491566', 'department': 'HR', 'title': 'Employee Relations and Engagement at Tech Innovators Inc.'}\", \"page_content='supportive culture where employees feel valued and respected.\\xa0Engagement and DisengagementEngagement and disengagement are two sides of the same coin. While engaged employees are motivated and' metadata={'_id': '66d816590533e009aa2d4d35', 'pageid': '491566', 'department': 'HR', 'title': 'Employee Relations and Engagement at Tech Innovators Inc.'}\"]\n"
     ]
    }
   ],
   "source": [
    "print(answer.get('contexts'))"
   ]
  },
  {
   "cell_type": "markdown",
   "metadata": {},
   "source": [
    "# RAG pipeline evaluation"
   ]
  },
  {
   "cell_type": "markdown",
   "metadata": {},
   "source": [
    "## Test data set prep"
   ]
  },
  {
   "cell_type": "code",
   "execution_count": 44,
   "metadata": {},
   "outputs": [],
   "source": [
    "import pandas as pd\n",
    "import json\n",
    "\n",
    "def json_to_dataframe(json_file_path):\n",
    "  \"\"\"Reads a JSON file and converts it to a pandas DataFrame.\n",
    "\n",
    "  Args:\n",
    "    json_file_path (str): The path to the JSON file.\n",
    "\n",
    "  Returns:\n",
    "    pandas.DataFrame: The DataFrame created from the JSON data.\n",
    "  \"\"\"\n",
    "\n",
    "  with open(json_file_path, 'r') as f:\n",
    "    data = json.load(f)\n",
    "\n",
    "  # Handle different JSON structures\n",
    "  if isinstance(data, list):\n",
    "    # If the JSON data is a list of dictionaries, create a DataFrame directly\n",
    "    df = pd.DataFrame(data)\n",
    "  elif isinstance(data, dict):\n",
    "    # If the JSON data is a single dictionary, convert it to a list of dictionaries\n",
    "    df = pd.DataFrame([data])\n",
    "  else:\n",
    "    raise ValueError(\"Unsupported JSON structure\")\n",
    "\n",
    "  return df"
   ]
  },
  {
   "cell_type": "code",
   "execution_count": 45,
   "metadata": {},
   "outputs": [],
   "source": [
    "# Example usage:\n",
    "from from_root import from_root\n",
    "import os\n",
    "folder = \"data-test/test_dataset/test_dataset_it.json\"\n",
    "json_file_path = os.path.join(from_root(), folder)\n",
    "data_to_upload = json_to_dataframe(json_file_path)"
   ]
  },
  {
   "cell_type": "markdown",
   "metadata": {},
   "source": [
    "## RAGAS evaluation"
   ]
  },
  {
   "cell_type": "code",
   "execution_count": 47,
   "metadata": {},
   "outputs": [
    {
     "name": "stderr",
     "output_type": "stream",
     "text": [
      "INFO:langchain.retrievers.multi_query:Generated queries: ['Here are three different versions of the user question to retrieve relevant documents from a vector database:', 'What are the key responsibilities and tasks associated with the Senior Director responsible for Analytics Delivery that enable data-driven decision-making?', 'What characteristics, skills, and qualifications are typically found in the Senior Director responsible for Analytics Delivery that make them effective in facilitating data-driven decision-making?', 'How do the job duties and expectations of the Senior Director responsible for Analytics Delivery influence the ability of an organization to make informed, data-driven decisions?']\n",
      "INFO:langchain.retrievers.multi_query:Generated queries: ['Here are three alternative versions of the given user question to retrieve relevant documents from a vector database:', 'What are the key benefits of recognizing and mitigating self-assessment gaps to improve overall performance?', 'How can identifying and addressing areas of underdevelopment in self-assessment contribute to enhanced individual and team success?', 'What strategies can be employed to prioritize and rectify self-assessment shortcomings, resulting in improved productivity and growth?']\n",
      "INFO:langchain.retrievers.multi_query:Generated queries: [\"To overcome the limitations of distance-based similarity search, I'll generate three alternative versions of the given user question.\", 'What forms of unethical behavior are strictly prohibited in the recruitment process of Inc. as described in official company policies and guidelines?', 'What unethical behaviors are explicitly mentioned in the Inc. code of conduct or any other relevant documents related to the recruitment process?', 'What types of misconduct are strictly prohibited in the Inc. recruitment process as outlined in any applicable laws, regulations, or industry standards?']\n",
      "INFO:langchain.retrievers.multi_query:Generated queries: ['Here are three alternative versions of the user question:', 'The significance of emotional and aesthetic labor in the workplace can be explored through various lenses, such as the impact on employee burnout and well-being. ', 'What are the consequences of neglecting the emotional and aesthetic dimensions of labor in organizational settings, and how do they affect employee satisfaction and productivity?', 'How do various sectors, including hospitality, service, and healthcare, utilize emotional and aesthetic labor to create customer experiences and distinguish themselves from competitors?']\n",
      "INFO:langchain.retrievers.multi_query:Generated queries: ['Version 1: ', 'What is the main objective of the orientation session at Tech Innovators Inc.?', 'This version rephrases the original question to make it more focused on the main objective, which may lead to more relevant results in the vector database.', 'Version 2: ', 'What do employees typically learn or accomplish during the orientation session at Tech Innovators Inc.?', \"This version shifts the focus from the purpose to the outcome or the learning experience, which may help to retrieve documents that describe the session's content and goals.\", 'Version 3: ', 'What are the key takeaways or essential information provided during the orientation session at Tech Innovators Inc.?', 'This version emphasizes the essential information that employees would take away from the session, which may lead to results that highlight the most important aspects of the orientation process.']\n",
      "INFO:langchain.retrievers.multi_query:Generated queries: ['Here are three different versions of the given user question to retrieve relevant documents from a vector database:', 'What mechanisms are in place for reporting violations of labor laws or company policies at Tech Innovators Inc., and what is the process for submitting and tracking these reports?', 'What procedures does Tech Innovators Inc. have in place for investigating reports of labor law violations or policy infractions, and how does the company ensure compliance with relevant regulations and internal policies?', 'Can you provide documentation or policies related to reporting and investigating labor law violations or company policy infractions at Tech Innovators Inc., including any relevant procedures for submitting, tracking, and resolving these types of reports?']\n",
      "INFO:langchain.retrievers.multi_query:Generated queries: ['Here are three alternative versions of the user question:', 'What are the key emotional and motivational differences between engaged and disengaged employees, and how do these differences intersect with labor laws and regulations?', 'How do employees who are committed to their work (emotionally engaged) compare to those who are not (emotionally disengaged) in terms of motivation, and what implications do these differences have for labor law compliance?', 'What are the distinct motivational and emotional characteristics of engaged and disengaged employees, and how do these characteristics interact with labor laws and regulations to influence workplace outcomes?']\n",
      "INFO:langchain.retrievers.multi_query:Generated queries: ['Here are three alternative perspectives on the user question:', 'What steps are needed to integrate Confluence with RAG application using LangChain, specifically focusing on data extraction?', 'How can I leverage LangChain to create a RAG application that utilizes data from Confluence, including any necessary data preprocessing steps?', 'What is the process for building a RAG application using LangChain that incorporates Confluence data, including any required data extraction and integration techniques?']\n",
      "INFO:langchain.retrievers.multi_query:Generated queries: ['Here are three alternative versions of the user question to help overcome some of the limitations of distance-based similarity search:', 'What are the key strategies and practices employed by Tech Innovators Inc. to foster a collaborative and engaging work environment that promotes employee engagement?', 'What specific initiatives and programs does Tech Innovators Inc. implement to encourage collaboration and boost employee morale, leading to increased engagement?', 'Can you provide examples of company-wide policies and cultural norms that Tech Innovators Inc. has established to promote collaboration, employee engagement, and a positive work environment?', 'These alternative questions can help to:', '- Retrieve relevant documents that may not match the original question due to differences in terminology or phrasing.', '- Capture a broader range of relevant information by using different keywords and concepts.', '- Uncover more nuanced and context-specific information by asking more targeted and specific questions.']\n"
     ]
    }
   ],
   "source": [
    "# Generate all the answers for the questions in the dataset\n",
    "# examples = client.list_examples(dataset_name=\"hr test\")\n",
    "answers = []\n",
    "for question in data_to_upload['question']:\n",
    "    question_dict = {'question': question}\n",
    "    answer = call_openai(question_dict)\n",
    "    answers.append(answer['answer'])"
   ]
  },
  {
   "cell_type": "code",
   "execution_count": 48,
   "metadata": {},
   "outputs": [],
   "source": [
    "# update the dataset with answers\n",
    "data_to_upload['answers'] = answers"
   ]
  },
  {
   "cell_type": "code",
   "execution_count": 49,
   "metadata": {},
   "outputs": [],
   "source": [
    "from datasets import Dataset\n",
    "\n",
    "question = list(data_to_upload['question'])\n",
    "answer = list(data_to_upload['answers'])\n",
    "contexts = list(data_to_upload['contexts'])\n",
    "ground_truth = list(data_to_upload['ground_truth'])\n",
    "\n",
    "data_samples = {\n",
    "    'question': question,\n",
    "    'answer': answer,\n",
    "    'contexts': contexts,\n",
    "    'ground_truth': ground_truth\n",
    "}\n",
    "\n",
    "dataset = Dataset.from_dict(data_samples)"
   ]
  },
  {
   "cell_type": "code",
   "execution_count": null,
   "metadata": {},
   "outputs": [],
   "source": [
    "# Optional, uncomment to trace runs with LangSmith. Sign up here: https://smith.langchain.com.\n",
    "# from langsmith import Client\n",
    "# os.environ[\"LANGCHAIN_ENDPOINT\"] = \"https://api.smith.langchain.com\"\n",
    "# os.environ[\"LANGCHAIN_TRACING_V2\"] = \"true\"\n",
    "# os.environ[\"LANGSMITH_API_KEY\"] = os.getenv(\"LANGSMITH_API_KEY\")\n",
    "# client = Client()"
   ]
  },
  {
   "cell_type": "code",
   "execution_count": 50,
   "metadata": {},
   "outputs": [
    {
     "data": {
      "application/vnd.jupyter.widget-view+json": {
       "model_id": "c50c263529874a7382f112bd4866656f",
       "version_major": 2,
       "version_minor": 0
      },
      "text/plain": [
       "Evaluating:   0%|          | 0/36 [00:00<?, ?it/s]"
      ]
     },
     "metadata": {},
     "output_type": "display_data"
    },
    {
     "data": {
      "text/plain": [
       "{'answer_relevancy': 0.9694, 'faithfulness': 0.7144, 'context_recall': 0.9899, 'context_precision': 1.0000}"
      ]
     },
     "execution_count": 50,
     "metadata": {},
     "output_type": "execute_result"
    }
   ],
   "source": [
    "from ragas import evaluate\n",
    "# from ragas.integrations.langsmith import evaluate\n",
    "from ragas.metrics import (\n",
    "    answer_relevancy,\n",
    "    faithfulness,\n",
    "    context_recall,\n",
    "    context_precision,\n",
    ")\n",
    "result = evaluate(\n",
    "    dataset,\n",
    "    metrics=[\n",
    "        answer_relevancy,\n",
    "        faithfulness,\n",
    "        context_recall,\n",
    "        context_precision,\n",
    "    ],\n",
    ")\n",
    "\n",
    "result"
   ]
  },
  {
   "cell_type": "code",
   "execution_count": 51,
   "metadata": {},
   "outputs": [
    {
     "data": {
      "text/html": [
       "<div>\n",
       "<style scoped>\n",
       "    .dataframe tbody tr th:only-of-type {\n",
       "        vertical-align: middle;\n",
       "    }\n",
       "\n",
       "    .dataframe tbody tr th {\n",
       "        vertical-align: top;\n",
       "    }\n",
       "\n",
       "    .dataframe thead th {\n",
       "        text-align: right;\n",
       "    }\n",
       "</style>\n",
       "<table border=\"1\" class=\"dataframe\">\n",
       "  <thead>\n",
       "    <tr style=\"text-align: right;\">\n",
       "      <th></th>\n",
       "      <th>question</th>\n",
       "      <th>answer</th>\n",
       "      <th>contexts</th>\n",
       "      <th>ground_truth</th>\n",
       "      <th>answer_relevancy</th>\n",
       "      <th>faithfulness</th>\n",
       "      <th>context_recall</th>\n",
       "      <th>context_precision</th>\n",
       "    </tr>\n",
       "  </thead>\n",
       "  <tbody>\n",
       "    <tr>\n",
       "      <th>0</th>\n",
       "      <td>How does the role of the Senior Director respo...</td>\n",
       "      <td>The Senior Director responsible for Analytics ...</td>\n",
       "      <td>[Introduction\\nWelcome to Tech Innovators Inc....</td>\n",
       "      <td>The role of the Senior Director responsible fo...</td>\n",
       "      <td>0.921495</td>\n",
       "      <td>0.631579</td>\n",
       "      <td>1.000000</td>\n",
       "      <td>1.0</td>\n",
       "    </tr>\n",
       "    <tr>\n",
       "      <th>1</th>\n",
       "      <td>What is the importance of identifying and addr...</td>\n",
       "      <td>Identifying and addressing growth areas in sel...</td>\n",
       "      <td>[ Self-assessment\\nStart by thinking through y...</td>\n",
       "      <td>Identifying and addressing growth areas in sel...</td>\n",
       "      <td>0.990183</td>\n",
       "      <td>0.600000</td>\n",
       "      <td>1.000000</td>\n",
       "      <td>1.0</td>\n",
       "    </tr>\n",
       "    <tr>\n",
       "      <th>2</th>\n",
       "      <td>What forms of unethical behavior are strictly ...</td>\n",
       "      <td>In the recruitment process of Inc., unethical ...</td>\n",
       "      <td>[ Inc. upholds the highest ethical standards i...</td>\n",
       "      <td>Favoritism or nepotism</td>\n",
       "      <td>0.979409</td>\n",
       "      <td>0.857143</td>\n",
       "      <td>1.000000</td>\n",
       "      <td>1.0</td>\n",
       "    </tr>\n",
       "    <tr>\n",
       "      <th>3</th>\n",
       "      <td>What is the significance of emotional and aest...</td>\n",
       "      <td>Emotional and aesthetic labor are significant ...</td>\n",
       "      <td>[Introduction\\nAt Tech Innovators Inc., we bel...</td>\n",
       "      <td>Emotional and aesthetic labor in the workplace...</td>\n",
       "      <td>0.984360</td>\n",
       "      <td>0.863636</td>\n",
       "      <td>1.000000</td>\n",
       "      <td>1.0</td>\n",
       "    </tr>\n",
       "    <tr>\n",
       "      <th>4</th>\n",
       "      <td>What is the purpose of the orientation session...</td>\n",
       "      <td>The purpose of the orientation session at Tech...</td>\n",
       "      <td>[Welcome to Tech Innovators Inc.\\n \\nWe are th...</td>\n",
       "      <td>The purpose of the orientation session at Tech...</td>\n",
       "      <td>1.000000</td>\n",
       "      <td>0.200000</td>\n",
       "      <td>1.000000</td>\n",
       "      <td>1.0</td>\n",
       "    </tr>\n",
       "    <tr>\n",
       "      <th>5</th>\n",
       "      <td>What mechanisms are in place for reporting vio...</td>\n",
       "      <td>At Tech Innovators Inc., employees can report ...</td>\n",
       "      <td>[5.2 Monitoring and Auditing\\nInternal Audits\\...</td>\n",
       "      <td>Employees can report violations of labor laws ...</td>\n",
       "      <td>0.962563</td>\n",
       "      <td>1.000000</td>\n",
       "      <td>1.000000</td>\n",
       "      <td>1.0</td>\n",
       "    </tr>\n",
       "    <tr>\n",
       "      <th>6</th>\n",
       "      <td>How do employee engagement and disengagement d...</td>\n",
       "      <td>Employee engagement and disengagement differ s...</td>\n",
       "      <td>[Introduction\\nAt Tech Innovators Inc., we bel...</td>\n",
       "      <td>Employee engagement and disengagement differ i...</td>\n",
       "      <td>0.960525</td>\n",
       "      <td>0.976190</td>\n",
       "      <td>1.000000</td>\n",
       "      <td>1.0</td>\n",
       "    </tr>\n",
       "    <tr>\n",
       "      <th>7</th>\n",
       "      <td>What steps are needed to extract data from Con...</td>\n",
       "      <td>To extract data from Confluence and create a R...</td>\n",
       "      <td>[Introduction\\nThis guide provides a step-by-s...</td>\n",
       "      <td>To extract data from Confluence and create a R...</td>\n",
       "      <td>0.945388</td>\n",
       "      <td>0.937500</td>\n",
       "      <td>0.909091</td>\n",
       "      <td>1.0</td>\n",
       "    </tr>\n",
       "    <tr>\n",
       "      <th>8</th>\n",
       "      <td>How does Tech Innovators Inc. promote employee...</td>\n",
       "      <td>Tech Innovators Inc. promotes employee engagem...</td>\n",
       "      <td>[Introduction\\nAt Tech Innovators Inc., we bel...</td>\n",
       "      <td>Tech Innovators Inc. promotes employee engagem...</td>\n",
       "      <td>0.980843</td>\n",
       "      <td>0.363636</td>\n",
       "      <td>1.000000</td>\n",
       "      <td>1.0</td>\n",
       "    </tr>\n",
       "  </tbody>\n",
       "</table>\n",
       "</div>"
      ],
      "text/plain": [
       "                                            question  \\\n",
       "0  How does the role of the Senior Director respo...   \n",
       "1  What is the importance of identifying and addr...   \n",
       "2  What forms of unethical behavior are strictly ...   \n",
       "3  What is the significance of emotional and aest...   \n",
       "4  What is the purpose of the orientation session...   \n",
       "5  What mechanisms are in place for reporting vio...   \n",
       "6  How do employee engagement and disengagement d...   \n",
       "7  What steps are needed to extract data from Con...   \n",
       "8  How does Tech Innovators Inc. promote employee...   \n",
       "\n",
       "                                              answer  \\\n",
       "0  The Senior Director responsible for Analytics ...   \n",
       "1  Identifying and addressing growth areas in sel...   \n",
       "2  In the recruitment process of Inc., unethical ...   \n",
       "3  Emotional and aesthetic labor are significant ...   \n",
       "4  The purpose of the orientation session at Tech...   \n",
       "5  At Tech Innovators Inc., employees can report ...   \n",
       "6  Employee engagement and disengagement differ s...   \n",
       "7  To extract data from Confluence and create a R...   \n",
       "8  Tech Innovators Inc. promotes employee engagem...   \n",
       "\n",
       "                                            contexts  \\\n",
       "0  [Introduction\\nWelcome to Tech Innovators Inc....   \n",
       "1  [ Self-assessment\\nStart by thinking through y...   \n",
       "2  [ Inc. upholds the highest ethical standards i...   \n",
       "3  [Introduction\\nAt Tech Innovators Inc., we bel...   \n",
       "4  [Welcome to Tech Innovators Inc.\\n \\nWe are th...   \n",
       "5  [5.2 Monitoring and Auditing\\nInternal Audits\\...   \n",
       "6  [Introduction\\nAt Tech Innovators Inc., we bel...   \n",
       "7  [Introduction\\nThis guide provides a step-by-s...   \n",
       "8  [Introduction\\nAt Tech Innovators Inc., we bel...   \n",
       "\n",
       "                                        ground_truth  answer_relevancy  \\\n",
       "0  The role of the Senior Director responsible fo...          0.921495   \n",
       "1  Identifying and addressing growth areas in sel...          0.990183   \n",
       "2                             Favoritism or nepotism          0.979409   \n",
       "3  Emotional and aesthetic labor in the workplace...          0.984360   \n",
       "4  The purpose of the orientation session at Tech...          1.000000   \n",
       "5  Employees can report violations of labor laws ...          0.962563   \n",
       "6  Employee engagement and disengagement differ i...          0.960525   \n",
       "7  To extract data from Confluence and create a R...          0.945388   \n",
       "8  Tech Innovators Inc. promotes employee engagem...          0.980843   \n",
       "\n",
       "   faithfulness  context_recall  context_precision  \n",
       "0      0.631579        1.000000                1.0  \n",
       "1      0.600000        1.000000                1.0  \n",
       "2      0.857143        1.000000                1.0  \n",
       "3      0.863636        1.000000                1.0  \n",
       "4      0.200000        1.000000                1.0  \n",
       "5      1.000000        1.000000                1.0  \n",
       "6      0.976190        1.000000                1.0  \n",
       "7      0.937500        0.909091                1.0  \n",
       "8      0.363636        1.000000                1.0  "
      ]
     },
     "execution_count": 51,
     "metadata": {},
     "output_type": "execute_result"
    }
   ],
   "source": [
    "df = result.to_pandas()\n",
    "df"
   ]
  },
  {
   "cell_type": "code",
   "execution_count": 52,
   "metadata": {},
   "outputs": [],
   "source": [
    "folder = \"data-test/test_dataset/test_dataset_it_multi_query.csv\"\n",
    "json_file_path = os.path.join(from_root(), folder)\n",
    "df.to_csv(json_file_path, index=False)"
   ]
  }
 ],
 "metadata": {
  "kernelspec": {
   "display_name": "venv",
   "language": "python",
   "name": "python3"
  },
  "language_info": {
   "codemirror_mode": {
    "name": "ipython",
    "version": 3
   },
   "file_extension": ".py",
   "mimetype": "text/x-python",
   "name": "python",
   "nbconvert_exporter": "python",
   "pygments_lexer": "ipython3",
   "version": "3.11.9"
  }
 },
 "nbformat": 4,
 "nbformat_minor": 2
}
