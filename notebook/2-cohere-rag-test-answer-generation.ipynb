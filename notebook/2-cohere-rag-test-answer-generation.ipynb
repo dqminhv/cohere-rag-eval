{
 "cells": [
  {
   "cell_type": "code",
   "execution_count": 1,
   "metadata": {},
   "outputs": [
    {
     "data": {
      "text/plain": [
       "True"
      ]
     },
     "execution_count": 1,
     "metadata": {},
     "output_type": "execute_result"
    }
   ],
   "source": [
    "# Load the .env file\n",
    "#pip install -U python-dotenv\n",
    "import os\n",
    "from dotenv import load_dotenv\n",
    "load_dotenv(encoding='utf-8')"
   ]
  },
  {
   "cell_type": "markdown",
   "metadata": {},
   "source": [
    "# Cohere RAG pipeline"
   ]
  },
  {
   "cell_type": "code",
   "execution_count": 2,
   "metadata": {},
   "outputs": [],
   "source": [
    "# def cohere_rag_get_answers(message):\n",
    "#    import requests\n",
    "#    import cohere\n",
    "#    import json\n",
    "#    import os\n",
    "#    os.environ['COHERE_API_KEY'] = os.getenv('COHERE_API_KEY')\n",
    "\n",
    "#    # Define the API endpoint for streaming\n",
    "#    url = \"http://localhost:8000/v1/chat\"\n",
    "#    bearer = os.getenv('BEARER_SECRET_KEY')\n",
    "\n",
    "#    # Set headers\n",
    "#    headers = {\n",
    "#        \"User-Id\": \"me\",\n",
    "#        \"Content-Type\": \"application/json\",\n",
    "#        \"Authorization\": f\"Bearer {bearer}\",\n",
    "#        \"Cohere-Stream\": \"true\",  # Enable streaming for chatbot responses\n",
    "#    }\n",
    "\n",
    "#    # Create the payload as a JSON dictionary\n",
    "#    data = {\"message\": message}\n",
    "\n",
    "#    # Send the POST request using requests\n",
    "#    response = requests.post(url, headers=headers, json=data)\n",
    "\n",
    "#    # Check for successful response\n",
    "#    if response.status_code == 200:\n",
    "#      # Handle streaming response\n",
    "#      for line in response.iter_lines():\n",
    "#        # Decode the response (if necessary)\n",
    "#        decoded_line = line.decode(\"utf-8\")\n",
    "#        # Process the received data from the stream (print it here)\n",
    "#        response_data = json.loads(decoded_line)  # Parse the JSON string\n",
    "#        #print(decoded_line)\n",
    "#        return response_data.get(\"text\")#, response_data.get(\"documents\")\n",
    "#    else:\n",
    "#      print(f\"Error: {response.status_code}\")\n",
    "#      return \"\""
   ]
  },
  {
   "cell_type": "code",
   "execution_count": 3,
   "metadata": {},
   "outputs": [
    {
     "name": "stderr",
     "output_type": "stream",
     "text": [
      "d:\\Document\\GitHub\\cohere-rag-eval\\venv\\Lib\\site-packages\\pydantic\\_internal\\_config.py:341: UserWarning: Valid config keys have changed in V2:\n",
      "* 'allow_population_by_field_name' has been renamed to 'populate_by_name'\n",
      "* 'smart_union' has been removed\n",
      "  warnings.warn(message, UserWarning)\n"
     ]
    },
    {
     "name": "stdout",
     "output_type": "stream",
     "text": [
      "Error: 500\n"
     ]
    },
    {
     "data": {
      "text/plain": [
       "''"
      ]
     },
     "execution_count": 3,
     "metadata": {},
     "output_type": "execute_result"
    }
   ],
   "source": [
    "cohere_rag_get_answers(\"What steps are needed to extract data from Confluence and create a RAG application using LangChain?\")"
   ]
  },
  {
   "cell_type": "code",
   "execution_count": 2,
   "metadata": {},
   "outputs": [],
   "source": [
    "def cohere_rag_get_answers(message):\n",
    "   import requests\n",
    "   import cohere\n",
    "   import json\n",
    "   import os\n",
    "   os.environ['COHERE_API_KEY'] = os.getenv('COHERE_API_KEY')\n",
    "\n",
    "   # Define the API endpoint for streaming\n",
    "   url = \"http://localhost:8000/v1/chat\"\n",
    "   bearer = os.getenv('BEARER_SECRET_KEY')\n",
    "\n",
    "   # Set headers\n",
    "   headers = {\n",
    "       \"User-Id\": \"me\",\n",
    "       \"Content-Type\": \"application/json\",\n",
    "       \"Authorization\": f\"Bearer {bearer}\",\n",
    "       \"Cohere-Stream\": \"true\",  # Enable streaming for chatbot responses\n",
    "   }\n",
    "\n",
    "   # Create the payload as a JSON dictionary\n",
    "   data = {\"message\": message}\n",
    "\n",
    "   # Send the POST request using requests\n",
    "   response = requests.post(url, headers=headers, json=data)\n",
    "\n",
    "   # Check for successful response\n",
    "   if response.status_code == 200:\n",
    "     # Handle streaming response\n",
    "     for line in response.iter_lines():\n",
    "       # Decode the response (if necessary)\n",
    "       decoded_line = line.decode(\"utf-8\")\n",
    "       # Process the received data from the stream (print it here)\n",
    "       response_data = json.loads(decoded_line)  # Parse the JSON string\n",
    "       #print(decoded_line)\n",
    "       return {\n",
    "      'answer': response_data.get(\"text\"),\n",
    "      'contexts': response_data.get(\"documents\")\n",
    "      }\n",
    "   else:\n",
    "     print(f\"Error: {response.status_code}\")\n",
    "     return {\n",
    "       'answer': \"Error: {response.status_code}\",\n",
    "      'contexts': []\n",
    "     }"
   ]
  },
  {
   "cell_type": "code",
   "execution_count": 3,
   "metadata": {},
   "outputs": [
    {
     "name": "stderr",
     "output_type": "stream",
     "text": [
      "d:\\Document\\GitHub\\cohere-rag-eval\\venv\\Lib\\site-packages\\pydantic\\_internal\\_config.py:341: UserWarning: Valid config keys have changed in V2:\n",
      "* 'allow_population_by_field_name' has been renamed to 'populate_by_name'\n",
      "* 'smart_union' has been removed\n",
      "  warnings.warn(message, UserWarning)\n"
     ]
    },
    {
     "name": "stdout",
     "output_type": "stream",
     "text": [
      "Error: 500\n"
     ]
    },
    {
     "data": {
      "text/plain": [
       "{'answer': 'Error: {response.status_code}', 'contexts': []}"
      ]
     },
     "execution_count": 3,
     "metadata": {},
     "output_type": "execute_result"
    }
   ],
   "source": [
    "cohere_rag_get_answers(\"What steps are needed to extract data from Confluence and create a RAG application using LangChain?\")"
   ]
  },
  {
   "cell_type": "markdown",
   "metadata": {},
   "source": [
    "# RAG answer generation"
   ]
  },
  {
   "cell_type": "code",
   "execution_count": 17,
   "metadata": {},
   "outputs": [],
   "source": [
    "import json\n",
    "\n",
    "def test_answer_generation(json_file_path):\n",
    "    \"\"\"Appends generated text based on questions in a JSON file.\n",
    "\n",
    "    Args:\n",
    "        json_file_path (str): The path to the JSON file.\n",
    "\n",
    "    Raises:\n",
    "        FileNotFoundError: If the JSON file is not found.\n",
    "    \"\"\"\n",
    "\n",
    "    try:\n",
    "        with open(json_file_path, 'r') as f:\n",
    "            data = json.load(f)\n",
    "\n",
    "        for item in data:\n",
    "            question = item['question']\n",
    "            generated_text = cohere_rag_get_answers(question)  # Assuming generate_text returns a string\n",
    "            item['response'] = generated_text\n",
    "\n",
    "        with open(json_file_path, 'w') as f:\n",
    "            json.dump(data, f, indent=4)\n",
    "\n",
    "    except FileNotFoundError:\n",
    "        print(f\"Error: JSON file not found at {json_file_path}\")\n"
   ]
  },
  {
   "cell_type": "code",
   "execution_count": 19,
   "metadata": {},
   "outputs": [],
   "source": [
    "# Example usage:\n",
    "from from_root import from_root\n",
    "import os\n",
    "folder = \"data-test/test_dataset/test_dataset_hr.json\"\n",
    "json_file_path = os.path.join(from_root(), folder)\n",
    "test_answer_generation(json_file_path)"
   ]
  }
 ],
 "metadata": {
  "kernelspec": {
   "display_name": "venv",
   "language": "python",
   "name": "python3"
  },
  "language_info": {
   "codemirror_mode": {
    "name": "ipython",
    "version": 3
   },
   "file_extension": ".py",
   "mimetype": "text/x-python",
   "name": "python",
   "nbconvert_exporter": "python",
   "pygments_lexer": "ipython3",
   "version": "3.11.9"
  }
 },
 "nbformat": 4,
 "nbformat_minor": 2
}
